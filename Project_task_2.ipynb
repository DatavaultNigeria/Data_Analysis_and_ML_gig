{
  "nbformat": 4,
  "nbformat_minor": 0,
  "metadata": {
    "colab": {
      "provenance": [],
      "collapsed_sections": []
    },
    "kernelspec": {
      "name": "python3",
      "display_name": "Python 3"
    },
    "language_info": {
      "name": "python"
    },
    "gpuClass": "standard"
  },
  "cells": [
    {
      "cell_type": "code",
      "execution_count": 1,
      "metadata": {
        "id": "iobW1nU3YW7i"
      },
      "outputs": [],
      "source": [
        "from google.colab import drive"
      ]
    },
    {
      "cell_type": "code",
      "source": [
        "drive.mount('/content/drive')"
      ],
      "metadata": {
        "colab": {
          "base_uri": "https://localhost:8080/"
        },
        "id": "UebO4KjHYkoU",
        "outputId": "be6635ef-a260-4f18-cf36-121fab069589"
      },
      "execution_count": 2,
      "outputs": [
        {
          "output_type": "stream",
          "name": "stdout",
          "text": [
            "Mounted at /content/drive\n"
          ]
        }
      ]
    },
    {
      "cell_type": "code",
      "source": [
        "path = '/content/drive/My Drive/PROJECT/processed_data_2.csv'"
      ],
      "metadata": {
        "id": "csdI2BCnYzKK"
      },
      "execution_count": 7,
      "outputs": []
    },
    {
      "cell_type": "code",
      "source": [
        "import tensorflow as tf\n",
        "dn = tf.test.gpu_device_name()\n",
        "if dn != '/device:GPU:0':\n",
        "  raise SystemError ('gpu not found')\n",
        "print('gpu found ar : {}'.format(dn))"
      ],
      "metadata": {
        "id": "-25lJvNCZKyc",
        "colab": {
          "base_uri": "https://localhost:8080/"
        },
        "outputId": "b4347c43-3635-41af-948f-afdd3bd0bc6a"
      },
      "execution_count": 4,
      "outputs": [
        {
          "output_type": "stream",
          "name": "stdout",
          "text": [
            "gpu found ar : /device:GPU:0\n"
          ]
        }
      ]
    },
    {
      "cell_type": "code",
      "source": [
        "import pandas as pd\n",
        "from sklearn import preprocessing\n",
        "import sklearn.model_selection as ms\n",
        "from sklearn import linear_model\n",
        "import sklearn.metrics as sklm\n",
        "import numpy as np\n",
        "import numpy.random as nr\n",
        "import matplotlib.pyplot as plt\n",
        "import seaborn as sns\n",
        "import scipy.stats as ss\n",
        "import math\n",
        "from tabulate import tabulate\n",
        "import random\n",
        "\n",
        "%matplotlib inline"
      ],
      "metadata": {
        "id": "WEcxO-bEZLnQ"
      },
      "execution_count": 5,
      "outputs": []
    },
    {
      "cell_type": "code",
      "source": [
        "new_data = pd.read_csv(path) #load data"
      ],
      "metadata": {
        "id": "jGbp2uh6ZPdz"
      },
      "execution_count": 8,
      "outputs": []
    },
    {
      "cell_type": "code",
      "source": [
        "new_data.head()"
      ],
      "metadata": {
        "colab": {
          "base_uri": "https://localhost:8080/",
          "height": 317
        },
        "id": "IhgS2qcIZUay",
        "outputId": "073868c5-1fea-437d-b1d7-2250f9d37a7e"
      },
      "execution_count": null,
      "outputs": [
        {
          "output_type": "execute_result",
          "data": {
            "text/plain": [
              "   Unnamed: 0   UserId  IsCorrect  CorrectAnswer  AnswerValue  Gender  \\\n",
              "0           0  65967.0        0.0            4.0          2.0     1.0   \n",
              "1           1  50013.0        0.0            3.0          1.0     1.0   \n",
              "2           2  87935.0        1.0            4.0          4.0     1.0   \n",
              "3           3  77530.0        0.0            2.0          3.0     1.0   \n",
              "4           4  99529.0        0.0            3.0          4.0     2.0   \n",
              "\n",
              "   PremiumPupil  HourAnswered  MonthAnswered  YearAnswered  ...  \\\n",
              "0           0.0          13.0            4.0        2019.0  ...   \n",
              "1           1.0          18.0           11.0        2018.0  ...   \n",
              "2           1.0          22.0            5.0        2019.0  ...   \n",
              "3           1.0          21.0           11.0        2018.0  ...   \n",
              "4           0.0          21.0           12.0        2018.0  ...   \n",
              "\n",
              "   Year_Month_int  l_QuestionId  l_AnswerId  l_GroupId  l_QiuzId  \\\n",
              "0             0.0      9.740792   16.337489   8.522380  9.641538   \n",
              "1             1.0      9.674766   16.425492   8.512181  9.754175   \n",
              "2             2.0      9.978966   16.677026   8.296547  8.607948   \n",
              "3             1.0      9.677966   16.252204   9.006141  9.216521   \n",
              "4             3.0      9.934986   16.318109   8.115521  6.369901   \n",
              "\n",
              "   l_SchemeOfWorkId  poly1_0  poly1_1  poly1_2  Perfect_Correct  \n",
              "0          9.036939      0.0      4.0      0.0              4.0  \n",
              "1         10.248070      0.0      3.0      0.0              3.0  \n",
              "2         10.248070      1.0      4.0      4.0              5.0  \n",
              "3          9.037533      0.0      2.0      0.0              2.0  \n",
              "4          9.038959      0.0      3.0      0.0              3.0  \n",
              "\n",
              "[5 rows x 35 columns]"
            ],
            "text/html": [
              "\n",
              "  <div id=\"df-ece3414f-a314-4124-873b-61fb482fefc4\">\n",
              "    <div class=\"colab-df-container\">\n",
              "      <div>\n",
              "<style scoped>\n",
              "    .dataframe tbody tr th:only-of-type {\n",
              "        vertical-align: middle;\n",
              "    }\n",
              "\n",
              "    .dataframe tbody tr th {\n",
              "        vertical-align: top;\n",
              "    }\n",
              "\n",
              "    .dataframe thead th {\n",
              "        text-align: right;\n",
              "    }\n",
              "</style>\n",
              "<table border=\"1\" class=\"dataframe\">\n",
              "  <thead>\n",
              "    <tr style=\"text-align: right;\">\n",
              "      <th></th>\n",
              "      <th>Unnamed: 0</th>\n",
              "      <th>UserId</th>\n",
              "      <th>IsCorrect</th>\n",
              "      <th>CorrectAnswer</th>\n",
              "      <th>AnswerValue</th>\n",
              "      <th>Gender</th>\n",
              "      <th>PremiumPupil</th>\n",
              "      <th>HourAnswered</th>\n",
              "      <th>MonthAnswered</th>\n",
              "      <th>YearAnswered</th>\n",
              "      <th>...</th>\n",
              "      <th>Year_Month_int</th>\n",
              "      <th>l_QuestionId</th>\n",
              "      <th>l_AnswerId</th>\n",
              "      <th>l_GroupId</th>\n",
              "      <th>l_QiuzId</th>\n",
              "      <th>l_SchemeOfWorkId</th>\n",
              "      <th>poly1_0</th>\n",
              "      <th>poly1_1</th>\n",
              "      <th>poly1_2</th>\n",
              "      <th>Perfect_Correct</th>\n",
              "    </tr>\n",
              "  </thead>\n",
              "  <tbody>\n",
              "    <tr>\n",
              "      <th>0</th>\n",
              "      <td>0</td>\n",
              "      <td>65967.0</td>\n",
              "      <td>0.0</td>\n",
              "      <td>4.0</td>\n",
              "      <td>2.0</td>\n",
              "      <td>1.0</td>\n",
              "      <td>0.0</td>\n",
              "      <td>13.0</td>\n",
              "      <td>4.0</td>\n",
              "      <td>2019.0</td>\n",
              "      <td>...</td>\n",
              "      <td>0.0</td>\n",
              "      <td>9.740792</td>\n",
              "      <td>16.337489</td>\n",
              "      <td>8.522380</td>\n",
              "      <td>9.641538</td>\n",
              "      <td>9.036939</td>\n",
              "      <td>0.0</td>\n",
              "      <td>4.0</td>\n",
              "      <td>0.0</td>\n",
              "      <td>4.0</td>\n",
              "    </tr>\n",
              "    <tr>\n",
              "      <th>1</th>\n",
              "      <td>1</td>\n",
              "      <td>50013.0</td>\n",
              "      <td>0.0</td>\n",
              "      <td>3.0</td>\n",
              "      <td>1.0</td>\n",
              "      <td>1.0</td>\n",
              "      <td>1.0</td>\n",
              "      <td>18.0</td>\n",
              "      <td>11.0</td>\n",
              "      <td>2018.0</td>\n",
              "      <td>...</td>\n",
              "      <td>1.0</td>\n",
              "      <td>9.674766</td>\n",
              "      <td>16.425492</td>\n",
              "      <td>8.512181</td>\n",
              "      <td>9.754175</td>\n",
              "      <td>10.248070</td>\n",
              "      <td>0.0</td>\n",
              "      <td>3.0</td>\n",
              "      <td>0.0</td>\n",
              "      <td>3.0</td>\n",
              "    </tr>\n",
              "    <tr>\n",
              "      <th>2</th>\n",
              "      <td>2</td>\n",
              "      <td>87935.0</td>\n",
              "      <td>1.0</td>\n",
              "      <td>4.0</td>\n",
              "      <td>4.0</td>\n",
              "      <td>1.0</td>\n",
              "      <td>1.0</td>\n",
              "      <td>22.0</td>\n",
              "      <td>5.0</td>\n",
              "      <td>2019.0</td>\n",
              "      <td>...</td>\n",
              "      <td>2.0</td>\n",
              "      <td>9.978966</td>\n",
              "      <td>16.677026</td>\n",
              "      <td>8.296547</td>\n",
              "      <td>8.607948</td>\n",
              "      <td>10.248070</td>\n",
              "      <td>1.0</td>\n",
              "      <td>4.0</td>\n",
              "      <td>4.0</td>\n",
              "      <td>5.0</td>\n",
              "    </tr>\n",
              "    <tr>\n",
              "      <th>3</th>\n",
              "      <td>3</td>\n",
              "      <td>77530.0</td>\n",
              "      <td>0.0</td>\n",
              "      <td>2.0</td>\n",
              "      <td>3.0</td>\n",
              "      <td>1.0</td>\n",
              "      <td>1.0</td>\n",
              "      <td>21.0</td>\n",
              "      <td>11.0</td>\n",
              "      <td>2018.0</td>\n",
              "      <td>...</td>\n",
              "      <td>1.0</td>\n",
              "      <td>9.677966</td>\n",
              "      <td>16.252204</td>\n",
              "      <td>9.006141</td>\n",
              "      <td>9.216521</td>\n",
              "      <td>9.037533</td>\n",
              "      <td>0.0</td>\n",
              "      <td>2.0</td>\n",
              "      <td>0.0</td>\n",
              "      <td>2.0</td>\n",
              "    </tr>\n",
              "    <tr>\n",
              "      <th>4</th>\n",
              "      <td>4</td>\n",
              "      <td>99529.0</td>\n",
              "      <td>0.0</td>\n",
              "      <td>3.0</td>\n",
              "      <td>4.0</td>\n",
              "      <td>2.0</td>\n",
              "      <td>0.0</td>\n",
              "      <td>21.0</td>\n",
              "      <td>12.0</td>\n",
              "      <td>2018.0</td>\n",
              "      <td>...</td>\n",
              "      <td>3.0</td>\n",
              "      <td>9.934986</td>\n",
              "      <td>16.318109</td>\n",
              "      <td>8.115521</td>\n",
              "      <td>6.369901</td>\n",
              "      <td>9.038959</td>\n",
              "      <td>0.0</td>\n",
              "      <td>3.0</td>\n",
              "      <td>0.0</td>\n",
              "      <td>3.0</td>\n",
              "    </tr>\n",
              "  </tbody>\n",
              "</table>\n",
              "<p>5 rows × 35 columns</p>\n",
              "</div>\n",
              "      <button class=\"colab-df-convert\" onclick=\"convertToInteractive('df-ece3414f-a314-4124-873b-61fb482fefc4')\"\n",
              "              title=\"Convert this dataframe to an interactive table.\"\n",
              "              style=\"display:none;\">\n",
              "        \n",
              "  <svg xmlns=\"http://www.w3.org/2000/svg\" height=\"24px\"viewBox=\"0 0 24 24\"\n",
              "       width=\"24px\">\n",
              "    <path d=\"M0 0h24v24H0V0z\" fill=\"none\"/>\n",
              "    <path d=\"M18.56 5.44l.94 2.06.94-2.06 2.06-.94-2.06-.94-.94-2.06-.94 2.06-2.06.94zm-11 1L8.5 8.5l.94-2.06 2.06-.94-2.06-.94L8.5 2.5l-.94 2.06-2.06.94zm10 10l.94 2.06.94-2.06 2.06-.94-2.06-.94-.94-2.06-.94 2.06-2.06.94z\"/><path d=\"M17.41 7.96l-1.37-1.37c-.4-.4-.92-.59-1.43-.59-.52 0-1.04.2-1.43.59L10.3 9.45l-7.72 7.72c-.78.78-.78 2.05 0 2.83L4 21.41c.39.39.9.59 1.41.59.51 0 1.02-.2 1.41-.59l7.78-7.78 2.81-2.81c.8-.78.8-2.07 0-2.86zM5.41 20L4 18.59l7.72-7.72 1.47 1.35L5.41 20z\"/>\n",
              "  </svg>\n",
              "      </button>\n",
              "      \n",
              "  <style>\n",
              "    .colab-df-container {\n",
              "      display:flex;\n",
              "      flex-wrap:wrap;\n",
              "      gap: 12px;\n",
              "    }\n",
              "\n",
              "    .colab-df-convert {\n",
              "      background-color: #E8F0FE;\n",
              "      border: none;\n",
              "      border-radius: 50%;\n",
              "      cursor: pointer;\n",
              "      display: none;\n",
              "      fill: #1967D2;\n",
              "      height: 32px;\n",
              "      padding: 0 0 0 0;\n",
              "      width: 32px;\n",
              "    }\n",
              "\n",
              "    .colab-df-convert:hover {\n",
              "      background-color: #E2EBFA;\n",
              "      box-shadow: 0px 1px 2px rgba(60, 64, 67, 0.3), 0px 1px 3px 1px rgba(60, 64, 67, 0.15);\n",
              "      fill: #174EA6;\n",
              "    }\n",
              "\n",
              "    [theme=dark] .colab-df-convert {\n",
              "      background-color: #3B4455;\n",
              "      fill: #D2E3FC;\n",
              "    }\n",
              "\n",
              "    [theme=dark] .colab-df-convert:hover {\n",
              "      background-color: #434B5C;\n",
              "      box-shadow: 0px 1px 3px 1px rgba(0, 0, 0, 0.15);\n",
              "      filter: drop-shadow(0px 1px 2px rgba(0, 0, 0, 0.3));\n",
              "      fill: #FFFFFF;\n",
              "    }\n",
              "  </style>\n",
              "\n",
              "      <script>\n",
              "        const buttonEl =\n",
              "          document.querySelector('#df-ece3414f-a314-4124-873b-61fb482fefc4 button.colab-df-convert');\n",
              "        buttonEl.style.display =\n",
              "          google.colab.kernel.accessAllowed ? 'block' : 'none';\n",
              "\n",
              "        async function convertToInteractive(key) {\n",
              "          const element = document.querySelector('#df-ece3414f-a314-4124-873b-61fb482fefc4');\n",
              "          const dataTable =\n",
              "            await google.colab.kernel.invokeFunction('convertToInteractive',\n",
              "                                                     [key], {});\n",
              "          if (!dataTable) return;\n",
              "\n",
              "          const docLinkHtml = 'Like what you see? Visit the ' +\n",
              "            '<a target=\"_blank\" href=https://colab.research.google.com/notebooks/data_table.ipynb>data table notebook</a>'\n",
              "            + ' to learn more about interactive tables.';\n",
              "          element.innerHTML = '';\n",
              "          dataTable['output_type'] = 'display_data';\n",
              "          await google.colab.output.renderOutput(dataTable, element);\n",
              "          const docLink = document.createElement('div');\n",
              "          docLink.innerHTML = docLinkHtml;\n",
              "          element.appendChild(docLink);\n",
              "        }\n",
              "      </script>\n",
              "    </div>\n",
              "  </div>\n",
              "  "
            ]
          },
          "metadata": {},
          "execution_count": 9
        }
      ]
    },
    {
      "cell_type": "code",
      "source": [
        "new_data.drop('Unnamed: 0', axis = 1, inplace= True) # This unnamed 0 column was created when saving the prerocessed data csv file so we need to remove it"
      ],
      "metadata": {
        "id": "niPjr82Bax0V"
      },
      "execution_count": 9,
      "outputs": []
    },
    {
      "cell_type": "markdown",
      "source": [
        "Selecting 100k i.e 24% of the data sets\n",
        "\n",
        "```\n",
        "\n",
        "```\n",
        "\n"
      ],
      "metadata": {
        "id": "Xb1GW2Sna2Ys"
      }
    },
    {
      "cell_type": "code",
      "source": [
        "def frac(dataframe, fraction, other_info=None):\n",
        "  \"\"\"Returns Fractions of the Data\"\"\"\n",
        "  return dataframe.sample(frac = fraction)"
      ],
      "metadata": {
        "id": "Brtvtpmza6HU"
      },
      "execution_count": 10,
      "outputs": []
    },
    {
      "cell_type": "code",
      "source": [
        "random.seed(1000)\n",
        "df = frac(new_data, 0.02392) # Taking 1000k rows of the datasets "
      ],
      "metadata": {
        "id": "IzDnVT0KbDOB"
      },
      "execution_count": 11,
      "outputs": []
    },
    {
      "cell_type": "code",
      "source": [
        "df.shape"
      ],
      "metadata": {
        "colab": {
          "base_uri": "https://localhost:8080/"
        },
        "id": "c106XN3zbEZF",
        "outputId": "1244eedf-7be9-4f54-f1b5-e6bd0493673d"
      },
      "execution_count": 12,
      "outputs": [
        {
          "output_type": "execute_result",
          "data": {
            "text/plain": [
              "(100032, 34)"
            ]
          },
          "metadata": {},
          "execution_count": 12
        }
      ]
    },
    {
      "cell_type": "code",
      "source": [
        "\n",
        "df.info()"
      ],
      "metadata": {
        "colab": {
          "base_uri": "https://localhost:8080/"
        },
        "id": "TLbxDt1zbIl9",
        "outputId": "e901f59a-f516-46a0-f206-aa74ed695421"
      },
      "execution_count": null,
      "outputs": [
        {
          "output_type": "stream",
          "name": "stdout",
          "text": [
            "<class 'pandas.core.frame.DataFrame'>\n",
            "Int64Index: 100032 entries, 2063879 to 4120106\n",
            "Data columns (total 34 columns):\n",
            " #   Column                Non-Null Count   Dtype  \n",
            "---  ------                --------------   -----  \n",
            " 0   UserId                100032 non-null  float64\n",
            " 1   IsCorrect             100032 non-null  float64\n",
            " 2   CorrectAnswer         100032 non-null  float64\n",
            " 3   AnswerValue           100032 non-null  float64\n",
            " 4   Gender                100032 non-null  float64\n",
            " 5   PremiumPupil          100032 non-null  float64\n",
            " 6   HourAnswered          100032 non-null  float64\n",
            " 7   MonthAnswered         100032 non-null  float64\n",
            " 8   YearAnswered          100032 non-null  float64\n",
            " 9   Day of Week Answered  100032 non-null  float64\n",
            " 10  YearBirth             100032 non-null  float64\n",
            " 11  Age                   100032 non-null  float64\n",
            " 12  poly2_0               100032 non-null  float64\n",
            " 13  poly2_1               100032 non-null  float64\n",
            " 14  poly2_2               100032 non-null  float64\n",
            " 15  poly2_3               100032 non-null  float64\n",
            " 16  poly2_4               100032 non-null  float64\n",
            " 17  poly2_5               100032 non-null  float64\n",
            " 18  Perfect_Date          100032 non-null  float64\n",
            " 19  Age_bin               100032 non-null  float64\n",
            " 20  Age_mean_on_yr_mth    100032 non-null  float64\n",
            " 21  Age_std_on_yr_mth     100032 non-null  float64\n",
            " 22  Age_max_on_yr_mth     100032 non-null  float64\n",
            " 23  Age_min_on_yr_mth     100032 non-null  float64\n",
            " 24  Year_Month_int        100032 non-null  float64\n",
            " 25  l_QuestionId          100032 non-null  float64\n",
            " 26  l_AnswerId            100032 non-null  float64\n",
            " 27  l_GroupId             100032 non-null  float64\n",
            " 28  l_QiuzId              100032 non-null  float64\n",
            " 29  l_SchemeOfWorkId      100032 non-null  float64\n",
            " 30  poly1_0               100032 non-null  float64\n",
            " 31  poly1_1               100032 non-null  float64\n",
            " 32  poly1_2               100032 non-null  float64\n",
            " 33  Perfect_Correct       100032 non-null  float64\n",
            "dtypes: float64(34)\n",
            "memory usage: 26.7 MB\n"
          ]
        }
      ]
    },
    {
      "cell_type": "code",
      "source": [
        "df['AnswerValue'].value_counts()"
      ],
      "metadata": {
        "colab": {
          "base_uri": "https://localhost:8080/"
        },
        "id": "JhVtV8XFbLyR",
        "outputId": "c68889e4-84a6-4ebc-b0ed-99a409b8eee9"
      },
      "execution_count": 13,
      "outputs": [
        {
          "output_type": "execute_result",
          "data": {
            "text/plain": [
              "2.0    26199\n",
              "3.0    26021\n",
              "1.0    24430\n",
              "4.0    23382\n",
              "Name: AnswerValue, dtype: int64"
            ]
          },
          "metadata": {},
          "execution_count": 13
        }
      ]
    },
    {
      "cell_type": "code",
      "source": [],
      "metadata": {
        "id": "x9oC51CtbPHD"
      },
      "execution_count": null,
      "outputs": []
    },
    {
      "cell_type": "markdown",
      "source": [
        "# Splitting Datasets And Performing Standard Scaler"
      ],
      "metadata": {
        "id": "2RVQEWoCbUEA"
      }
    },
    {
      "cell_type": "code",
      "source": [
        "X = df.drop(['UserId','AnswerValue'],axis=1)\n",
        "y = df['AnswerValue']"
      ],
      "metadata": {
        "id": "d3ixojpqbU2E"
      },
      "execution_count": 15,
      "outputs": []
    },
    {
      "cell_type": "code",
      "source": [
        "from sklearn.preprocessing import StandardScaler\n",
        "scaler = StandardScaler()"
      ],
      "metadata": {
        "id": "_bFNvR2ybYn5"
      },
      "execution_count": 16,
      "outputs": []
    },
    {
      "cell_type": "code",
      "source": [
        "#normalization of my features \n",
        "x_scaled= scaler.fit_transform(X)\n",
        "from sklearn.model_selection import train_test_split,cross_val_score\n",
        "X_train, X_test, y_train, y_test = train_test_split(x_scaled, y, test_size=0.45, random_state = 10)"
      ],
      "metadata": {
        "id": "k6hGT-OQbbKc"
      },
      "execution_count": 17,
      "outputs": []
    },
    {
      "cell_type": "code",
      "source": [],
      "metadata": {
        "id": "LDZJMAXWbdm-"
      },
      "execution_count": null,
      "outputs": []
    },
    {
      "cell_type": "markdown",
      "source": [
        " ## MODELLING"
      ],
      "metadata": {
        "id": "nhWAuoO9bjwY"
      }
    },
    {
      "cell_type": "code",
      "source": [
        "from sklearn.model_selection import StratifiedKFold\n",
        "from sklearn.metrics import log_loss, f1_score\n",
        "from sklearn.metrics import classification_report,confusion_matrix, accuracy_score,f1_score\n",
        "from sklearn.multiclass import OneVsRestClassifier\n",
        "from sklearn.svm import SVC\n",
        "from sklearn import svm\n",
        "from sklearn.linear_model import LogisticRegression\n",
        "from sklearn.tree import DecisionTreeClassifier\n",
        "from sklearn.ensemble import GradientBoostingClassifier\n",
        "from sklearn.ensemble import BaggingClassifier\n",
        "from sklearn.ensemble import AdaBoostClassifier\n",
        "from sklearn.naive_bayes import GaussianNB\n",
        "from sklearn.naive_bayes import BernoulliNB\n",
        "\n",
        "# from sklearn.grid_search import GridSearchCV\n",
        "\n",
        "NB_mod = GaussianNB() #for continuous or numerical features.\n",
        "NB_mod = BernoulliNB() #for features with binary values\n",
        "dt= DecisionTreeClassifier()\n",
        "# logreg = LogisticRegression()"
      ],
      "metadata": {
        "id": "Ejwl_Im1bkQq"
      },
      "execution_count": 18,
      "outputs": []
    },
    {
      "cell_type": "markdown",
      "source": [
        "# LINEAR SVM\n",
        "\n",
        "SVM is unable to classify several classes. Our target is a multiclass problem, thus in order to utilize SVM, we must divide the target into numerous binary classification cases. To accomplish this, there are various ways; among them, I used a one-vs-rest classifier in conjunction with SVM."
      ],
      "metadata": {
        "id": "nj9ZA2YxW3Z8"
      }
    },
    {
      "cell_type": "code",
      "source": [
        "Classifier = OneVsRestClassifier(svm.SVC(kernel='linear', probability = True, random_state=1000))"
      ],
      "metadata": {
        "id": "fyurqgHIbda1"
      },
      "execution_count": null,
      "outputs": []
    },
    {
      "cell_type": "code",
      "source": [
        "classifier = Classifier.fit(X_train, y_train)"
      ],
      "metadata": {
        "id": "vilgyU97bdcx"
      },
      "execution_count": null,
      "outputs": []
    },
    {
      "cell_type": "code",
      "source": [
        "#predicting X_test\n",
        "y_pred_lin = classifier.predict(X_test)"
      ],
      "metadata": {
        "id": "afbdLBqbbdg8"
      },
      "execution_count": null,
      "outputs": []
    },
    {
      "cell_type": "code",
      "source": [
        "# printing model probabilities so as to help us plot the auc and as well see our model performances\n",
        "probs = classifier.predict_proba(X_test)\n",
        "print(probs[:5,:])"
      ],
      "metadata": {
        "colab": {
          "base_uri": "https://localhost:8080/"
        },
        "id": "lVmnjZ0_Is8G",
        "outputId": "d55dc106-ba1d-41bb-c231-3f526df4d3c7"
      },
      "execution_count": null,
      "outputs": [
        {
          "output_type": "stream",
          "name": "stdout",
          "text": [
            "[[6.63262667e-01 1.72841597e-01 1.63895670e-01 6.63262776e-08]\n",
            " [2.48698164e-04 4.84874800e-01 5.14876319e-01 1.82546871e-07]\n",
            " [6.45173530e-08 1.70168317e-01 1.84658200e-01 6.45173418e-01]\n",
            " [2.50358159e-04 4.89852589e-01 5.09896869e-01 1.83905461e-07]\n",
            " [6.58018260e-01 1.75217296e-01 1.66764378e-01 6.58018368e-08]]\n"
          ]
        }
      ]
    },
    {
      "cell_type": "code",
      "source": [
        "# Printing The Metric\n",
        "print(accuracy_score(y_test, y_pred_lin))\n",
        "print('Total accuracy: %.5f' % accuracy_score(y_test, y_pred_lin))\n",
        "print(classification_report(y_test, y_pred_lin))\n",
        "print(confusion_matrix(y_test, y_pred_lin))"
      ],
      "metadata": {
        "colab": {
          "base_uri": "https://localhost:8080/"
        },
        "id": "jq3flC8Cbdlj",
        "outputId": "06a80f5f-c9d2-406a-dde9-21eabf1b3f86"
      },
      "execution_count": null,
      "outputs": [
        {
          "output_type": "stream",
          "name": "stdout",
          "text": [
            "0.747528601577252\n",
            "Total accuracy: 0.74753\n",
            "              precision    recall  f1-score   support\n",
            "\n",
            "         1.0       0.94      1.00      0.97     10916\n",
            "         2.0       0.57      0.55      0.56     11809\n",
            "         3.0       0.56      0.50      0.53     11954\n",
            "         4.0       0.90      1.00      0.95     10336\n",
            "\n",
            "    accuracy                           0.75     45015\n",
            "   macro avg       0.74      0.76      0.75     45015\n",
            "weighted avg       0.73      0.75      0.74     45015\n",
            "\n",
            "[[10916     0     0     0]\n",
            " [  701  6443  4665     0]\n",
            " [    0  4877  5955  1122]\n",
            " [    0     0     0 10336]]\n"
          ]
        }
      ]
    },
    {
      "cell_type": "code",
      "source": [
        "def print_metrics_4(labels, scores):\n",
        "   \n",
        "    conf = sklm.confusion_matrix(labels, scores)\n",
        "    print('                 Confusion matrix')\n",
        "    print('                 AnswerValue 1   AnswerValue 2    AnswerValue 3    AnswerValue 4')\n",
        "    print('AnswerValue 1    %6d' % conf[0,0] + '            %5d' % conf[0,1] + '             %5d' % conf[0,2]+ '             %5d' % conf[0,3])\n",
        "    print('AnswerValue 2    %6d' % conf[1,0] + '            %5d' % conf[1,1] + '             %5d' % conf[1,2]+ '             %5d' % conf[1,3])\n",
        "    print('AnswerValue 3    %6d' % conf[2,0] + '            %5d' % conf[2,1] + '             %5d' % conf[2,2]+ '             %5d' % conf[2,3])\n",
        "    print('AnswerValue 4    %6d' % conf[3,0] + '            %5d' % conf[3,1] + '             %5d' % conf[3,2]+ '             %5d' % conf[3,3])\n",
        "    ## Now compute and display the accuracy and metrics\n",
        "    print('')\n",
        "    print('Accuracy        %0.2f' % sklm.accuracy_score(labels, scores))\n",
        "    print('F1 Score        %0.2f' % sklm.f1_score(labels, scores, average='micro'))\n",
        "    print('AUC             %0.2f' % sklm.roc_auc_score(labels, probs[:,:], multi_class='ovr'))\n",
        "    metrics = sklm.precision_recall_fscore_support(labels, scores)\n",
        "    print('Macro precision %0.2f' % float((float(metrics[0][0]) + float(metrics[0][1]))/2.0))\n",
        "    print('Macro recall    %0.2f' % float((float(metrics[1][0]) + float(metrics[1][1]))/2.0))\n",
        "\n",
        "    print(' ')\n",
        "    print('         AnswerValue 1  AnswerValue 2  AnswerValue 3  AnswerValue 4')\n",
        "    print('Num case   %0.2f' % metrics[3][0] + '         %0.2f' % metrics[3][1] + '         %0.2f' % metrics[3][2]+ '        %0.2f' % metrics[3][3])\n",
        "    print('Precision   %0.2f' % metrics[0][0] + '          %0.2f' % metrics[0][1] + '            %0.2f' % metrics[0][2]+ '        %0.2f' % metrics[0][3])\n",
        "    print('Recall      %0.2f' % metrics[1][0] + '          %0.2f' % metrics[1][1] + '            %0.2f' % metrics[1][2]+ '        %0.2f' % metrics[1][3])\n",
        "    print('F1          %0.2f' % metrics[2][0] + '          %0.2f' % metrics[2][1] + '            %0.2f' % metrics[2][2]+ '        %0.2f' % metrics[2][3])\n",
        "    \n",
        "print_metrics_4(y_test, y_pred_lin)   "
      ],
      "metadata": {
        "colab": {
          "base_uri": "https://localhost:8080/"
        },
        "id": "mCY0dTCNe5LZ",
        "outputId": "3d6206dd-763f-492f-aff8-269049c65954"
      },
      "execution_count": null,
      "outputs": [
        {
          "output_type": "stream",
          "name": "stdout",
          "text": [
            "                 Confusion matrix\n",
            "                 AnswerValue 1   AnswerValue 2    AnswerValue 3    AnswerValue 4\n",
            "AnswerValue 1     10916                0                 0                 0\n",
            "AnswerValue 2       701             6443              4665                 0\n",
            "AnswerValue 3         0             4877              5955              1122\n",
            "AnswerValue 4         0                0                 0             10336\n",
            "\n",
            "Accuracy        0.75\n",
            "F1 Score        0.75\n",
            "AUC             0.92\n",
            "Macro precision 0.75\n",
            "Macro recall    0.77\n",
            " \n",
            "         AnswerValue 1  AnswerValue 2  AnswerValue 3  AnswerValue 4\n",
            "Num case   10916.00         11809.00         11954.00        10336.00\n",
            "Precision   0.94          0.57            0.56        0.90\n",
            "Recall      1.00          0.55            0.50        1.00\n",
            "F1          0.97          0.56            0.53        0.95\n"
          ]
        }
      ]
    },
    {
      "cell_type": "code",
      "source": [
        "# This absolutely gave a fairly good performance with an accuracy of 75% and AUC close to 1. This performed much more better than Svm with rbf and poly kernel  "
      ],
      "metadata": {
        "id": "Hq4HmCJTbdrV"
      },
      "execution_count": null,
      "outputs": []
    },
    {
      "cell_type": "markdown",
      "source": [
        "# RBF KERNEL SVM USING FEATURE SELECTION and HYPERPARAMETER"
      ],
      "metadata": {
        "id": "SvKykuEiXCMp"
      }
    },
    {
      "cell_type": "markdown",
      "source": [
        "### FEATURE IMPORTANCE USING CORRELATION"
      ],
      "metadata": {
        "id": "vdieycjgz82R"
      }
    },
    {
      "cell_type": "code",
      "source": [
        "# SVM WITH FEATURE SELECTION USING CORRELATION \n",
        "correlations = df.corr().unstack().sort_values(ascending=False) # Build correlation matrix\n",
        "correlations = pd.DataFrame(correlations).reset_index() # Convert to dataframe\n",
        "correlations.columns = ['col1', 'col2', 'correlation'] # Label it\n",
        "correlations.query(\"col1 == 'AnswerValue' & col2 != 'AnsweValue'\") # Filter by variable\n",
        "# output of this code will give correlation of column v2 with all the other columns"
      ],
      "metadata": {
        "colab": {
          "base_uri": "https://localhost:8080/",
          "height": 1000
        },
        "id": "jAu3Laz4z7ns",
        "outputId": "826972cc-584e-44ab-9e2b-020e46720a8c"
      },
      "execution_count": null,
      "outputs": [
        {
          "output_type": "execute_result",
          "data": {
            "text/plain": [
              "            col1                  col2  correlation\n",
              "18   AnswerValue           AnswerValue     1.000000\n",
              "101  AnswerValue               poly1_1     0.423121\n",
              "103  AnswerValue         CorrectAnswer     0.423121\n",
              "104  AnswerValue               poly1_2     0.415551\n",
              "118  AnswerValue       Perfect_Correct     0.386805\n",
              "371  AnswerValue                Gender     0.013293\n",
              "438  AnswerValue             YearBirth     0.007898\n",
              "475  AnswerValue             l_GroupId     0.005034\n",
              "503  AnswerValue          l_QuestionId     0.004170\n",
              "541  AnswerValue              l_QiuzId     0.003141\n",
              "542  AnswerValue          PremiumPupil     0.003108\n",
              "572  AnswerValue         MonthAnswered     0.001868\n",
              "573  AnswerValue               poly2_1     0.001868\n",
              "575  AnswerValue               poly2_3     0.001866\n",
              "576  AnswerValue    Age_mean_on_yr_mth     0.001406\n",
              "621  AnswerValue               poly1_0     0.000142\n",
              "623  AnswerValue             IsCorrect     0.000142\n",
              "650  AnswerValue               poly2_5    -0.000734\n",
              "663  AnswerValue          HourAnswered    -0.001047\n",
              "664  AnswerValue               poly2_0    -0.001047\n",
              "671  AnswerValue     Age_std_on_yr_mth    -0.001124\n",
              "672  AnswerValue     Age_max_on_yr_mth    -0.001194\n",
              "683  AnswerValue          Perfect_Date    -0.001457\n",
              "691  AnswerValue        Year_Month_int    -0.001788\n",
              "701  AnswerValue                UserId    -0.002065\n",
              "730  AnswerValue            l_AnswerId    -0.003387\n",
              "751  AnswerValue          YearAnswered    -0.004213\n",
              "804  AnswerValue               Age_bin    -0.006341\n",
              "806  AnswerValue               poly2_2    -0.006372\n",
              "807  AnswerValue  Day of Week Answered    -0.006372\n",
              "812  AnswerValue     Age_min_on_yr_mth    -0.006495\n",
              "817  AnswerValue               poly2_4    -0.006681\n",
              "846  AnswerValue                   Age    -0.009610\n",
              "850  AnswerValue      l_SchemeOfWorkId    -0.009632"
            ],
            "text/html": [
              "\n",
              "  <div id=\"df-0a699aa0-01b8-4da8-8833-f4032af08158\">\n",
              "    <div class=\"colab-df-container\">\n",
              "      <div>\n",
              "<style scoped>\n",
              "    .dataframe tbody tr th:only-of-type {\n",
              "        vertical-align: middle;\n",
              "    }\n",
              "\n",
              "    .dataframe tbody tr th {\n",
              "        vertical-align: top;\n",
              "    }\n",
              "\n",
              "    .dataframe thead th {\n",
              "        text-align: right;\n",
              "    }\n",
              "</style>\n",
              "<table border=\"1\" class=\"dataframe\">\n",
              "  <thead>\n",
              "    <tr style=\"text-align: right;\">\n",
              "      <th></th>\n",
              "      <th>col1</th>\n",
              "      <th>col2</th>\n",
              "      <th>correlation</th>\n",
              "    </tr>\n",
              "  </thead>\n",
              "  <tbody>\n",
              "    <tr>\n",
              "      <th>18</th>\n",
              "      <td>AnswerValue</td>\n",
              "      <td>AnswerValue</td>\n",
              "      <td>1.000000</td>\n",
              "    </tr>\n",
              "    <tr>\n",
              "      <th>101</th>\n",
              "      <td>AnswerValue</td>\n",
              "      <td>poly1_1</td>\n",
              "      <td>0.423121</td>\n",
              "    </tr>\n",
              "    <tr>\n",
              "      <th>103</th>\n",
              "      <td>AnswerValue</td>\n",
              "      <td>CorrectAnswer</td>\n",
              "      <td>0.423121</td>\n",
              "    </tr>\n",
              "    <tr>\n",
              "      <th>104</th>\n",
              "      <td>AnswerValue</td>\n",
              "      <td>poly1_2</td>\n",
              "      <td>0.415551</td>\n",
              "    </tr>\n",
              "    <tr>\n",
              "      <th>118</th>\n",
              "      <td>AnswerValue</td>\n",
              "      <td>Perfect_Correct</td>\n",
              "      <td>0.386805</td>\n",
              "    </tr>\n",
              "    <tr>\n",
              "      <th>371</th>\n",
              "      <td>AnswerValue</td>\n",
              "      <td>Gender</td>\n",
              "      <td>0.013293</td>\n",
              "    </tr>\n",
              "    <tr>\n",
              "      <th>438</th>\n",
              "      <td>AnswerValue</td>\n",
              "      <td>YearBirth</td>\n",
              "      <td>0.007898</td>\n",
              "    </tr>\n",
              "    <tr>\n",
              "      <th>475</th>\n",
              "      <td>AnswerValue</td>\n",
              "      <td>l_GroupId</td>\n",
              "      <td>0.005034</td>\n",
              "    </tr>\n",
              "    <tr>\n",
              "      <th>503</th>\n",
              "      <td>AnswerValue</td>\n",
              "      <td>l_QuestionId</td>\n",
              "      <td>0.004170</td>\n",
              "    </tr>\n",
              "    <tr>\n",
              "      <th>541</th>\n",
              "      <td>AnswerValue</td>\n",
              "      <td>l_QiuzId</td>\n",
              "      <td>0.003141</td>\n",
              "    </tr>\n",
              "    <tr>\n",
              "      <th>542</th>\n",
              "      <td>AnswerValue</td>\n",
              "      <td>PremiumPupil</td>\n",
              "      <td>0.003108</td>\n",
              "    </tr>\n",
              "    <tr>\n",
              "      <th>572</th>\n",
              "      <td>AnswerValue</td>\n",
              "      <td>MonthAnswered</td>\n",
              "      <td>0.001868</td>\n",
              "    </tr>\n",
              "    <tr>\n",
              "      <th>573</th>\n",
              "      <td>AnswerValue</td>\n",
              "      <td>poly2_1</td>\n",
              "      <td>0.001868</td>\n",
              "    </tr>\n",
              "    <tr>\n",
              "      <th>575</th>\n",
              "      <td>AnswerValue</td>\n",
              "      <td>poly2_3</td>\n",
              "      <td>0.001866</td>\n",
              "    </tr>\n",
              "    <tr>\n",
              "      <th>576</th>\n",
              "      <td>AnswerValue</td>\n",
              "      <td>Age_mean_on_yr_mth</td>\n",
              "      <td>0.001406</td>\n",
              "    </tr>\n",
              "    <tr>\n",
              "      <th>621</th>\n",
              "      <td>AnswerValue</td>\n",
              "      <td>poly1_0</td>\n",
              "      <td>0.000142</td>\n",
              "    </tr>\n",
              "    <tr>\n",
              "      <th>623</th>\n",
              "      <td>AnswerValue</td>\n",
              "      <td>IsCorrect</td>\n",
              "      <td>0.000142</td>\n",
              "    </tr>\n",
              "    <tr>\n",
              "      <th>650</th>\n",
              "      <td>AnswerValue</td>\n",
              "      <td>poly2_5</td>\n",
              "      <td>-0.000734</td>\n",
              "    </tr>\n",
              "    <tr>\n",
              "      <th>663</th>\n",
              "      <td>AnswerValue</td>\n",
              "      <td>HourAnswered</td>\n",
              "      <td>-0.001047</td>\n",
              "    </tr>\n",
              "    <tr>\n",
              "      <th>664</th>\n",
              "      <td>AnswerValue</td>\n",
              "      <td>poly2_0</td>\n",
              "      <td>-0.001047</td>\n",
              "    </tr>\n",
              "    <tr>\n",
              "      <th>671</th>\n",
              "      <td>AnswerValue</td>\n",
              "      <td>Age_std_on_yr_mth</td>\n",
              "      <td>-0.001124</td>\n",
              "    </tr>\n",
              "    <tr>\n",
              "      <th>672</th>\n",
              "      <td>AnswerValue</td>\n",
              "      <td>Age_max_on_yr_mth</td>\n",
              "      <td>-0.001194</td>\n",
              "    </tr>\n",
              "    <tr>\n",
              "      <th>683</th>\n",
              "      <td>AnswerValue</td>\n",
              "      <td>Perfect_Date</td>\n",
              "      <td>-0.001457</td>\n",
              "    </tr>\n",
              "    <tr>\n",
              "      <th>691</th>\n",
              "      <td>AnswerValue</td>\n",
              "      <td>Year_Month_int</td>\n",
              "      <td>-0.001788</td>\n",
              "    </tr>\n",
              "    <tr>\n",
              "      <th>701</th>\n",
              "      <td>AnswerValue</td>\n",
              "      <td>UserId</td>\n",
              "      <td>-0.002065</td>\n",
              "    </tr>\n",
              "    <tr>\n",
              "      <th>730</th>\n",
              "      <td>AnswerValue</td>\n",
              "      <td>l_AnswerId</td>\n",
              "      <td>-0.003387</td>\n",
              "    </tr>\n",
              "    <tr>\n",
              "      <th>751</th>\n",
              "      <td>AnswerValue</td>\n",
              "      <td>YearAnswered</td>\n",
              "      <td>-0.004213</td>\n",
              "    </tr>\n",
              "    <tr>\n",
              "      <th>804</th>\n",
              "      <td>AnswerValue</td>\n",
              "      <td>Age_bin</td>\n",
              "      <td>-0.006341</td>\n",
              "    </tr>\n",
              "    <tr>\n",
              "      <th>806</th>\n",
              "      <td>AnswerValue</td>\n",
              "      <td>poly2_2</td>\n",
              "      <td>-0.006372</td>\n",
              "    </tr>\n",
              "    <tr>\n",
              "      <th>807</th>\n",
              "      <td>AnswerValue</td>\n",
              "      <td>Day of Week Answered</td>\n",
              "      <td>-0.006372</td>\n",
              "    </tr>\n",
              "    <tr>\n",
              "      <th>812</th>\n",
              "      <td>AnswerValue</td>\n",
              "      <td>Age_min_on_yr_mth</td>\n",
              "      <td>-0.006495</td>\n",
              "    </tr>\n",
              "    <tr>\n",
              "      <th>817</th>\n",
              "      <td>AnswerValue</td>\n",
              "      <td>poly2_4</td>\n",
              "      <td>-0.006681</td>\n",
              "    </tr>\n",
              "    <tr>\n",
              "      <th>846</th>\n",
              "      <td>AnswerValue</td>\n",
              "      <td>Age</td>\n",
              "      <td>-0.009610</td>\n",
              "    </tr>\n",
              "    <tr>\n",
              "      <th>850</th>\n",
              "      <td>AnswerValue</td>\n",
              "      <td>l_SchemeOfWorkId</td>\n",
              "      <td>-0.009632</td>\n",
              "    </tr>\n",
              "  </tbody>\n",
              "</table>\n",
              "</div>\n",
              "      <button class=\"colab-df-convert\" onclick=\"convertToInteractive('df-0a699aa0-01b8-4da8-8833-f4032af08158')\"\n",
              "              title=\"Convert this dataframe to an interactive table.\"\n",
              "              style=\"display:none;\">\n",
              "        \n",
              "  <svg xmlns=\"http://www.w3.org/2000/svg\" height=\"24px\"viewBox=\"0 0 24 24\"\n",
              "       width=\"24px\">\n",
              "    <path d=\"M0 0h24v24H0V0z\" fill=\"none\"/>\n",
              "    <path d=\"M18.56 5.44l.94 2.06.94-2.06 2.06-.94-2.06-.94-.94-2.06-.94 2.06-2.06.94zm-11 1L8.5 8.5l.94-2.06 2.06-.94-2.06-.94L8.5 2.5l-.94 2.06-2.06.94zm10 10l.94 2.06.94-2.06 2.06-.94-2.06-.94-.94-2.06-.94 2.06-2.06.94z\"/><path d=\"M17.41 7.96l-1.37-1.37c-.4-.4-.92-.59-1.43-.59-.52 0-1.04.2-1.43.59L10.3 9.45l-7.72 7.72c-.78.78-.78 2.05 0 2.83L4 21.41c.39.39.9.59 1.41.59.51 0 1.02-.2 1.41-.59l7.78-7.78 2.81-2.81c.8-.78.8-2.07 0-2.86zM5.41 20L4 18.59l7.72-7.72 1.47 1.35L5.41 20z\"/>\n",
              "  </svg>\n",
              "      </button>\n",
              "      \n",
              "  <style>\n",
              "    .colab-df-container {\n",
              "      display:flex;\n",
              "      flex-wrap:wrap;\n",
              "      gap: 12px;\n",
              "    }\n",
              "\n",
              "    .colab-df-convert {\n",
              "      background-color: #E8F0FE;\n",
              "      border: none;\n",
              "      border-radius: 50%;\n",
              "      cursor: pointer;\n",
              "      display: none;\n",
              "      fill: #1967D2;\n",
              "      height: 32px;\n",
              "      padding: 0 0 0 0;\n",
              "      width: 32px;\n",
              "    }\n",
              "\n",
              "    .colab-df-convert:hover {\n",
              "      background-color: #E2EBFA;\n",
              "      box-shadow: 0px 1px 2px rgba(60, 64, 67, 0.3), 0px 1px 3px 1px rgba(60, 64, 67, 0.15);\n",
              "      fill: #174EA6;\n",
              "    }\n",
              "\n",
              "    [theme=dark] .colab-df-convert {\n",
              "      background-color: #3B4455;\n",
              "      fill: #D2E3FC;\n",
              "    }\n",
              "\n",
              "    [theme=dark] .colab-df-convert:hover {\n",
              "      background-color: #434B5C;\n",
              "      box-shadow: 0px 1px 3px 1px rgba(0, 0, 0, 0.15);\n",
              "      filter: drop-shadow(0px 1px 2px rgba(0, 0, 0, 0.3));\n",
              "      fill: #FFFFFF;\n",
              "    }\n",
              "  </style>\n",
              "\n",
              "      <script>\n",
              "        const buttonEl =\n",
              "          document.querySelector('#df-0a699aa0-01b8-4da8-8833-f4032af08158 button.colab-df-convert');\n",
              "        buttonEl.style.display =\n",
              "          google.colab.kernel.accessAllowed ? 'block' : 'none';\n",
              "\n",
              "        async function convertToInteractive(key) {\n",
              "          const element = document.querySelector('#df-0a699aa0-01b8-4da8-8833-f4032af08158');\n",
              "          const dataTable =\n",
              "            await google.colab.kernel.invokeFunction('convertToInteractive',\n",
              "                                                     [key], {});\n",
              "          if (!dataTable) return;\n",
              "\n",
              "          const docLinkHtml = 'Like what you see? Visit the ' +\n",
              "            '<a target=\"_blank\" href=https://colab.research.google.com/notebooks/data_table.ipynb>data table notebook</a>'\n",
              "            + ' to learn more about interactive tables.';\n",
              "          element.innerHTML = '';\n",
              "          dataTable['output_type'] = 'display_data';\n",
              "          await google.colab.output.renderOutput(dataTable, element);\n",
              "          const docLink = document.createElement('div');\n",
              "          docLink.innerHTML = docLinkHtml;\n",
              "          element.appendChild(docLink);\n",
              "        }\n",
              "      </script>\n",
              "    </div>\n",
              "  </div>\n",
              "  "
            ]
          },
          "metadata": {},
          "execution_count": 17
        }
      ]
    },
    {
      "cell_type": "markdown",
      "source": [
        "MOST CORRELATED FEATURES (FEATURE SELECTION) with the Target Variable (AnswerValue)"
      ],
      "metadata": {
        "id": "QpUJrlVX0kBE"
      }
    },
    {
      "cell_type": "code",
      "source": [
        "new_fea = df[['poly1_1','CorrectAnswer','poly1_2','Perfect_Correct','Gender','l_QuestionId', 'YearBirth','Age_std_on_yr_mth','Age_min_on_yr_mth','l_QiuzId','Year_Month_int',\n",
        "              'poly2_1','MonthAnswered','l_AnswerId','poly2_5','poly2_3']]\n",
        "              # ,'Age_min_on_yr_mth']]\n",
        "              "
      ],
      "metadata": {
        "id": "F4OlVj90z7pI"
      },
      "execution_count": null,
      "outputs": []
    },
    {
      "cell_type": "code",
      "source": [
        "x_new= scaler.fit_transform(new_fea)"
      ],
      "metadata": {
        "id": "H72-wvTnz7sR"
      },
      "execution_count": null,
      "outputs": []
    },
    {
      "cell_type": "code",
      "source": [
        "X_train, X_test, y_train, y_test = train_test_split(x_new, y, test_size=0.45, random_state = 10)"
      ],
      "metadata": {
        "id": "PVZ3-wauz7tz"
      },
      "execution_count": null,
      "outputs": []
    },
    {
      "cell_type": "code",
      "source": [],
      "metadata": {
        "id": "oHgERJ_6z7xX"
      },
      "execution_count": null,
      "outputs": []
    },
    {
      "cell_type": "code",
      "source": [
        "# nr.seed(3456)\n",
        "## Define the dictionary for the grid search and the model object to search on\n",
        "param_grid = {\"C\": [0.1, 0.5]}\n",
        "## Define the SVM model\n",
        "svc_clf = svm.SVC(kernel='rbf') \n",
        "\n",
        "## Perform the grid search over the parameters\n",
        "clf = ms.GridSearchCV(estimator = svc_clf, param_grid = param_grid, \n",
        "                      scoring = 'accuracy',\n",
        "                      return_train_score = True)\n",
        "clf.fit(x_new, y)\n",
        "print(clf.best_estimator_.C)\n",
        "# print(clf.best_estimator_.gamma"
      ],
      "metadata": {
        "id": "4eZV51uDz7zP",
        "colab": {
          "base_uri": "https://localhost:8080/"
        },
        "outputId": "ea267f7b-5c0b-40c0-871c-8f78095e49af"
      },
      "execution_count": null,
      "outputs": [
        {
          "output_type": "stream",
          "name": "stdout",
          "text": [
            "0.5\n"
          ]
        }
      ]
    },
    {
      "cell_type": "code",
      "source": [
        "random.seed(1115)\n",
        "Classifier = OneVsRestClassifier(svm.SVC(kernel='rbf',C = clf.best_estimator_.C,\n",
        "                                         probability=True, random_state=1000))"
      ],
      "metadata": {
        "id": "N-Xa1wP0oo_Y"
      },
      "execution_count": null,
      "outputs": []
    },
    {
      "cell_type": "code",
      "source": [
        "classifier = Classifier.fit(X_train, y_train)"
      ],
      "metadata": {
        "id": "zsdDG9oInfmP"
      },
      "execution_count": null,
      "outputs": []
    },
    {
      "cell_type": "code",
      "source": [
        "#predicting X_test\n",
        "y_pred_rbf = classifier.predict(X_test)"
      ],
      "metadata": {
        "id": "TbqTu5DK2D4l"
      },
      "execution_count": null,
      "outputs": []
    },
    {
      "cell_type": "code",
      "source": [
        "#printing probability\n",
        "probs = classifier.predict_proba(X_test)\n",
        "print(probs[:5,:])"
      ],
      "metadata": {
        "colab": {
          "base_uri": "https://localhost:8080/"
        },
        "id": "g-iUh8lskJbY",
        "outputId": "67f3492d-903b-4489-e8b9-7d9c3d8b5868"
      },
      "execution_count": null,
      "outputs": [
        {
          "output_type": "stream",
          "name": "stdout",
          "text": [
            "[[2.47616200e-01 2.10354643e-01 2.60787605e-01 2.81241553e-01]\n",
            " [9.69661881e-08 9.69661881e-08 3.03380218e-02 9.69661784e-01]\n",
            " [9.17116715e-02 2.05511984e-01 3.03320413e-01 3.99455931e-01]\n",
            " [1.27068201e-01 2.76419286e-01 2.65360002e-01 3.31152511e-01]\n",
            " [2.81158260e-01 3.10449005e-01 2.08739658e-01 1.99653077e-01]]\n"
          ]
        }
      ]
    },
    {
      "cell_type": "code",
      "source": [
        "#printing model metrics\n",
        "def print_metrics_4(labels, scores):\n",
        "   \n",
        "    conf = sklm.confusion_matrix(labels, scores)\n",
        "    print('                 Confusion matrix')\n",
        "    print('                 AnswerValue 1   AnswerValue 2    AnswerValue 3    AnswerValue 4')\n",
        "    print('AnswerValue 1    %6d' % conf[0,0] + '            %5d' % conf[0,1] + '             %5d' % conf[0,2]+ '             %5d' % conf[0,3])\n",
        "    print('AnswerValue 2    %6d' % conf[1,0] + '            %5d' % conf[1,1] + '             %5d' % conf[1,2]+ '             %5d' % conf[1,3])\n",
        "    print('AnswerValue 3    %6d' % conf[2,0] + '            %5d' % conf[2,1] + '             %5d' % conf[2,2]+ '             %5d' % conf[2,3])\n",
        "    print('AnswerValue 4    %6d' % conf[3,0] + '            %5d' % conf[3,1] + '             %5d' % conf[3,2]+ '             %5d' % conf[3,3])\n",
        "    ## Now compute and display the accuracy and metrics\n",
        "    print('')\n",
        "    print('Accuracy        %0.2f' % sklm.accuracy_score(labels, scores))\n",
        "    print('F1 Score        %0.2f' % sklm.f1_score(labels, scores, average='macro'))\n",
        "    print('AUC             %0.2f' % sklm.roc_auc_score(labels, probs[:,:], multi_class='ovr'))\n",
        "    metrics = sklm.precision_recall_fscore_support(labels, scores)\n",
        "    print('Macro precision %0.2f' % float((float(metrics[0][0]) + float(metrics[0][1]))/2.0))\n",
        "    print('Macro recall    %0.2f' % float((float(metrics[1][0]) + float(metrics[1][1]))/2.0))\n",
        "    print(' ')\n",
        "    print('         AnswerValue 1  AnswerValue 2  AnswerValue 3  AnswerValue 4')\n",
        "    print('Num case   %0.2f' % metrics[3][0] + '         %0.2f' % metrics[3][1] + '         %0.2f' % metrics[3][2]+ '        %0.2f' % metrics[3][3])\n",
        "    print('Precision   %0.2f' % metrics[0][0] + '          %0.2f' % metrics[0][1] + '            %0.2f' % metrics[0][2]+ '        %0.2f' % metrics[0][3])\n",
        "    print('Recall      %0.2f' % metrics[1][0] + '          %0.2f' % metrics[1][1] + '            %0.2f' % metrics[1][2]+ '        %0.2f' % metrics[1][3])\n",
        "    print('F1          %0.2f' % metrics[2][0] + '          %0.2f' % metrics[2][1] + '            %0.2f' % metrics[2][2]+ '        %0.2f' % metrics[2][3])\n",
        "    \n",
        "print_metrics_4(y_test, y_pred_rbf)   \n"
      ],
      "metadata": {
        "colab": {
          "base_uri": "https://localhost:8080/"
        },
        "id": "aUaHO0IxkJdI",
        "outputId": "7dfd3d1f-3f8c-4562-a8c9-bf4fb88f88cf"
      },
      "execution_count": null,
      "outputs": [
        {
          "output_type": "stream",
          "name": "stdout",
          "text": [
            "                 Confusion matrix\n",
            "                 AnswerValue 1   AnswerValue 2    AnswerValue 3    AnswerValue 4\n",
            "AnswerValue 1      7432             1515               972               831\n",
            "AnswerValue 2       927             8743              1367               812\n",
            "AnswerValue 3      1173             1390              8467               923\n",
            "AnswerValue 4       989             1503              1063              6908\n",
            "\n",
            "Accuracy        0.70\n",
            "F1 Score        0.70\n",
            "AUC             0.92\n",
            "Macro precision 0.69\n",
            "Macro recall    0.71\n",
            " \n",
            "         AnswerValue 1  AnswerValue 2  AnswerValue 3  AnswerValue 4\n",
            "Num case   10750.00         11849.00         11953.00        10463.00\n",
            "Precision   0.71          0.66            0.71        0.73\n",
            "Recall      0.69          0.74            0.71        0.66\n",
            "F1          0.70          0.70            0.71        0.69\n"
          ]
        }
      ]
    },
    {
      "cell_type": "code",
      "source": [],
      "metadata": {
        "id": "5eUv8AXC2D6e"
      },
      "execution_count": null,
      "outputs": []
    },
    {
      "cell_type": "markdown",
      "source": [
        "# 3 USING POLY KERNEL SVM"
      ],
      "metadata": {
        "id": "H7K0uRasqyO6"
      }
    },
    {
      "cell_type": "code",
      "source": [
        "X_train, X_test, y_train, y_test = train_test_split(x_new, y, test_size=0.45, random_state = 10)"
      ],
      "metadata": {
        "id": "Lwl13dLv2D-S"
      },
      "execution_count": null,
      "outputs": []
    },
    {
      "cell_type": "code",
      "source": [
        "Classifier = OneVsRestClassifier(svm.SVC(kernel='poly',C= 2, gamma = 1.0/50.0, \n",
        "                                         probability = True, decision_function_shape = \"ovr\" ,random_state=1000))"
      ],
      "metadata": {
        "id": "1BxgugWVq9Ld"
      },
      "execution_count": null,
      "outputs": []
    },
    {
      "cell_type": "code",
      "source": [
        "classifier = Classifier.fit(X_train, y_train)"
      ],
      "metadata": {
        "id": "TrYfzIuyq9NU"
      },
      "execution_count": null,
      "outputs": []
    },
    {
      "cell_type": "code",
      "source": [
        "#predicting X_text\n",
        "y_pred_poly = classifier.predict(X_test)"
      ],
      "metadata": {
        "id": "z00Haqctq9Qp"
      },
      "execution_count": null,
      "outputs": []
    },
    {
      "cell_type": "code",
      "source": [
        "#Printing model probavbilities\n",
        "probs = classifier.predict_proba(X_test)\n",
        "print(probs[:5,:])"
      ],
      "metadata": {
        "colab": {
          "base_uri": "https://localhost:8080/"
        },
        "id": "OADab5JXsYvh",
        "outputId": "3f25098e-83e6-45fd-bdc2-e1130cd46aec"
      },
      "execution_count": null,
      "outputs": [
        {
          "output_type": "stream",
          "name": "stdout",
          "text": [
            "[[4.91050017e-02 1.98236610e-01 6.26107643e-01 1.26550744e-01]\n",
            " [6.99574157e-01 3.98839989e-02 1.56179806e-01 1.04362038e-01]\n",
            " [3.21270795e-01 9.23918964e-02 3.38193615e-01 2.48143694e-01]\n",
            " [2.68857723e-01 2.43912890e-01 2.19409256e-01 2.67820130e-01]\n",
            " [2.20036905e-03 2.68194024e-04 1.11418984e-01 8.86112453e-01]]\n"
          ]
        }
      ]
    },
    {
      "cell_type": "code",
      "source": [
        "#printing model metrics\n",
        "def print_metrics_4(labels, scores):\n",
        "   \n",
        "    conf = sklm.confusion_matrix(labels, scores)\n",
        "    print('                 Confusion matrix')\n",
        "    print('                 AnswerValue 1   AnswerValue 2    AnswerValue 3    AnswerValue 4')\n",
        "    print('AnswerValue 1    %6d' % conf[0,0] + '            %5d' % conf[0,1] + '             %5d' % conf[0,2]+ '             %5d' % conf[0,3])\n",
        "    print('AnswerValue 2    %6d' % conf[1,0] + '            %5d' % conf[1,1] + '             %5d' % conf[1,2]+ '             %5d' % conf[1,3])\n",
        "    print('AnswerValue 3    %6d' % conf[2,0] + '            %5d' % conf[2,1] + '             %5d' % conf[2,2]+ '             %5d' % conf[2,3])\n",
        "    print('AnswerValue 4    %6d' % conf[3,0] + '            %5d' % conf[3,1] + '             %5d' % conf[3,2]+ '             %5d' % conf[3,3])\n",
        "    ## Now compute and display the accuracy and metrics\n",
        "    print('')\n",
        "    print('Accuracy        %0.2f' % sklm.accuracy_score(labels, scores))\n",
        "    print('F1 Score        %0.2f' % sklm.f1_score(labels, scores, average='macro'))\n",
        "    print('AUC             %0.2f' % sklm.roc_auc_score(labels, probs[:,:], multi_class='ovr'))\n",
        "    metrics = sklm.precision_recall_fscore_support(labels, scores)\n",
        "    print('Macro precision %0.2f' % float((float(metrics[0][0]) + float(metrics[0][1]))/2.0))\n",
        "    print('Macro recall    %0.2f' % float((float(metrics[1][0]) + float(metrics[1][1]))/2.0))\n",
        "\n",
        "    print(' ')\n",
        "    print('         AnswerValue 1  AnswerValue 2  AnswerValue 3  AnswerValue 4')\n",
        "    print('Num case   %0.2f' % metrics[3][0] + '         %0.2f' % metrics[3][1] + '         %0.2f' % metrics[3][2]+ '        %0.2f' % metrics[3][3])\n",
        "    print('Precision   %0.2f' % metrics[0][0] + '          %0.2f' % metrics[0][1] + '            %0.2f' % metrics[0][2]+ '        %0.2f' % metrics[0][3])\n",
        "    print('Recall      %0.2f' % metrics[1][0] + '          %0.2f' % metrics[1][1] + '            %0.2f' % metrics[1][2]+ '        %0.2f' % metrics[1][3])\n",
        "    print('F1          %0.2f' % metrics[2][0] + '          %0.2f' % metrics[2][1] + '            %0.2f' % metrics[2][2]+ '        %0.2f' % metrics[2][3])\n",
        "    \n",
        "print_metrics_4(y_test, y_pred_poly)   \n"
      ],
      "metadata": {
        "colab": {
          "base_uri": "https://localhost:8080/"
        },
        "id": "whVV40o8sYzA",
        "outputId": "e40ead31-02b8-4e51-bc8e-faa3ca74b168"
      },
      "execution_count": null,
      "outputs": [
        {
          "output_type": "stream",
          "name": "stdout",
          "text": [
            "                 Confusion matrix\n",
            "                 AnswerValue 1   AnswerValue 2    AnswerValue 3    AnswerValue 4\n",
            "AnswerValue 1      7766             1456               904               608\n",
            "AnswerValue 2      1972             7158              2497               347\n",
            "AnswerValue 3       503             1778              8917               648\n",
            "AnswerValue 4      1757              963              1111              6630\n",
            "\n",
            "Accuracy        0.68\n",
            "F1 Score        0.68\n",
            "AUC             0.87\n",
            "Macro precision 0.64\n",
            "Macro recall    0.66\n",
            " \n",
            "         AnswerValue 1  AnswerValue 2  AnswerValue 3  AnswerValue 4\n",
            "Num case   10734.00         11974.00         11846.00        10461.00\n",
            "Precision   0.65          0.63            0.66        0.81\n",
            "Recall      0.72          0.60            0.75        0.63\n",
            "F1          0.68          0.61            0.71        0.71\n"
          ]
        }
      ]
    },
    {
      "cell_type": "code",
      "source": [],
      "metadata": {
        "id": "eBT3KovDuoPA"
      },
      "execution_count": null,
      "outputs": []
    },
    {
      "cell_type": "markdown",
      "source": [
        "Using SVM with linear, rbf, and poly kernel, the results presented above. Despite employing hyperparameter adjustment, it is evident that Linear SVM outperforms the other kernels. This demonstrates the linear separability of our target data (linear frontier between the two classes of hyper-plane areas). Therefore, it makes sense that the linear kernel would perform the best. We can see that using One-Vs-Rest Classifier was able to help us in the linear seperation using svm"
      ],
      "metadata": {
        "id": "cAdeFyYlERSR"
      }
    },
    {
      "cell_type": "markdown",
      "source": [
        "# LOGISTIC REGRESSION with Feature slection"
      ],
      "metadata": {
        "id": "gQeAvSESd4RA"
      }
    },
    {
      "cell_type": "code",
      "source": [
        "# LOGISTICS WITH FEATURE SELECTION USING CORRELATION \n",
        "correlations = df.corr().unstack().sort_values(ascending=False) # Build correlation matrix\n",
        "correlations = pd.DataFrame(correlations).reset_index() # Convert to dataframe\n",
        "correlations.columns = ['col1', 'col2', 'correlation'] # Label it\n",
        "correlations.query(\"col1 == 'AnswerValue' & col2 != 'AnsweValue'\") # Filter by variable\n",
        "# output of this code will give correlation of column AnsweValue with all the other columns"
      ],
      "metadata": {
        "colab": {
          "base_uri": "https://localhost:8080/",
          "height": 1000
        },
        "id": "Vcpy1_fIKFli",
        "outputId": "cd7dcb36-47fc-4391-c22b-ca827d7d460a"
      },
      "execution_count": 19,
      "outputs": [
        {
          "output_type": "execute_result",
          "data": {
            "text/plain": [
              "            col1                  col2  correlation\n",
              "18   AnswerValue           AnswerValue     1.000000\n",
              "100  AnswerValue               poly1_1     0.424490\n",
              "102  AnswerValue         CorrectAnswer     0.424490\n",
              "105  AnswerValue               poly1_2     0.415705\n",
              "119  AnswerValue       Perfect_Correct     0.387424\n",
              "424  AnswerValue             YearBirth     0.008657\n",
              "465  AnswerValue          l_QuestionId     0.006343\n",
              "466  AnswerValue          PremiumPupil     0.006342\n",
              "485  AnswerValue                Gender     0.005743\n",
              "490  AnswerValue    Age_mean_on_yr_mth     0.005321\n",
              "611  AnswerValue            l_AnswerId     0.000234\n",
              "617  AnswerValue     Age_std_on_yr_mth    -0.000077\n",
              "626  AnswerValue        Year_Month_int    -0.000499\n",
              "629  AnswerValue     Age_max_on_yr_mth    -0.000502\n",
              "631  AnswerValue              l_QiuzId    -0.000506\n",
              "632  AnswerValue     Age_min_on_yr_mth    -0.000533\n",
              "651  AnswerValue               poly2_2    -0.000910\n",
              "652  AnswerValue  Day of Week Answered    -0.000910\n",
              "663  AnswerValue               poly2_1    -0.001094\n",
              "664  AnswerValue         MonthAnswered    -0.001094\n",
              "668  AnswerValue          YearAnswered    -0.001164\n",
              "688  AnswerValue               poly2_3    -0.001786\n",
              "700  AnswerValue               poly2_5    -0.002469\n",
              "738  AnswerValue             l_GroupId    -0.004056\n",
              "742  AnswerValue               poly2_4    -0.004187\n",
              "761  AnswerValue             IsCorrect    -0.004619\n",
              "763  AnswerValue               poly1_0    -0.004619\n",
              "776  AnswerValue          Perfect_Date    -0.005075\n",
              "792  AnswerValue      l_SchemeOfWorkId    -0.005848\n",
              "797  AnswerValue               poly2_0    -0.005899\n",
              "799  AnswerValue          HourAnswered    -0.005899\n",
              "805  AnswerValue                UserId    -0.006198\n",
              "827  AnswerValue               Age_bin    -0.008036\n",
              "840  AnswerValue                   Age    -0.009321"
            ],
            "text/html": [
              "\n",
              "  <div id=\"df-52291c14-2e25-4edc-8916-b60fb6a9a996\">\n",
              "    <div class=\"colab-df-container\">\n",
              "      <div>\n",
              "<style scoped>\n",
              "    .dataframe tbody tr th:only-of-type {\n",
              "        vertical-align: middle;\n",
              "    }\n",
              "\n",
              "    .dataframe tbody tr th {\n",
              "        vertical-align: top;\n",
              "    }\n",
              "\n",
              "    .dataframe thead th {\n",
              "        text-align: right;\n",
              "    }\n",
              "</style>\n",
              "<table border=\"1\" class=\"dataframe\">\n",
              "  <thead>\n",
              "    <tr style=\"text-align: right;\">\n",
              "      <th></th>\n",
              "      <th>col1</th>\n",
              "      <th>col2</th>\n",
              "      <th>correlation</th>\n",
              "    </tr>\n",
              "  </thead>\n",
              "  <tbody>\n",
              "    <tr>\n",
              "      <th>18</th>\n",
              "      <td>AnswerValue</td>\n",
              "      <td>AnswerValue</td>\n",
              "      <td>1.000000</td>\n",
              "    </tr>\n",
              "    <tr>\n",
              "      <th>100</th>\n",
              "      <td>AnswerValue</td>\n",
              "      <td>poly1_1</td>\n",
              "      <td>0.424490</td>\n",
              "    </tr>\n",
              "    <tr>\n",
              "      <th>102</th>\n",
              "      <td>AnswerValue</td>\n",
              "      <td>CorrectAnswer</td>\n",
              "      <td>0.424490</td>\n",
              "    </tr>\n",
              "    <tr>\n",
              "      <th>105</th>\n",
              "      <td>AnswerValue</td>\n",
              "      <td>poly1_2</td>\n",
              "      <td>0.415705</td>\n",
              "    </tr>\n",
              "    <tr>\n",
              "      <th>119</th>\n",
              "      <td>AnswerValue</td>\n",
              "      <td>Perfect_Correct</td>\n",
              "      <td>0.387424</td>\n",
              "    </tr>\n",
              "    <tr>\n",
              "      <th>424</th>\n",
              "      <td>AnswerValue</td>\n",
              "      <td>YearBirth</td>\n",
              "      <td>0.008657</td>\n",
              "    </tr>\n",
              "    <tr>\n",
              "      <th>465</th>\n",
              "      <td>AnswerValue</td>\n",
              "      <td>l_QuestionId</td>\n",
              "      <td>0.006343</td>\n",
              "    </tr>\n",
              "    <tr>\n",
              "      <th>466</th>\n",
              "      <td>AnswerValue</td>\n",
              "      <td>PremiumPupil</td>\n",
              "      <td>0.006342</td>\n",
              "    </tr>\n",
              "    <tr>\n",
              "      <th>485</th>\n",
              "      <td>AnswerValue</td>\n",
              "      <td>Gender</td>\n",
              "      <td>0.005743</td>\n",
              "    </tr>\n",
              "    <tr>\n",
              "      <th>490</th>\n",
              "      <td>AnswerValue</td>\n",
              "      <td>Age_mean_on_yr_mth</td>\n",
              "      <td>0.005321</td>\n",
              "    </tr>\n",
              "    <tr>\n",
              "      <th>611</th>\n",
              "      <td>AnswerValue</td>\n",
              "      <td>l_AnswerId</td>\n",
              "      <td>0.000234</td>\n",
              "    </tr>\n",
              "    <tr>\n",
              "      <th>617</th>\n",
              "      <td>AnswerValue</td>\n",
              "      <td>Age_std_on_yr_mth</td>\n",
              "      <td>-0.000077</td>\n",
              "    </tr>\n",
              "    <tr>\n",
              "      <th>626</th>\n",
              "      <td>AnswerValue</td>\n",
              "      <td>Year_Month_int</td>\n",
              "      <td>-0.000499</td>\n",
              "    </tr>\n",
              "    <tr>\n",
              "      <th>629</th>\n",
              "      <td>AnswerValue</td>\n",
              "      <td>Age_max_on_yr_mth</td>\n",
              "      <td>-0.000502</td>\n",
              "    </tr>\n",
              "    <tr>\n",
              "      <th>631</th>\n",
              "      <td>AnswerValue</td>\n",
              "      <td>l_QiuzId</td>\n",
              "      <td>-0.000506</td>\n",
              "    </tr>\n",
              "    <tr>\n",
              "      <th>632</th>\n",
              "      <td>AnswerValue</td>\n",
              "      <td>Age_min_on_yr_mth</td>\n",
              "      <td>-0.000533</td>\n",
              "    </tr>\n",
              "    <tr>\n",
              "      <th>651</th>\n",
              "      <td>AnswerValue</td>\n",
              "      <td>poly2_2</td>\n",
              "      <td>-0.000910</td>\n",
              "    </tr>\n",
              "    <tr>\n",
              "      <th>652</th>\n",
              "      <td>AnswerValue</td>\n",
              "      <td>Day of Week Answered</td>\n",
              "      <td>-0.000910</td>\n",
              "    </tr>\n",
              "    <tr>\n",
              "      <th>663</th>\n",
              "      <td>AnswerValue</td>\n",
              "      <td>poly2_1</td>\n",
              "      <td>-0.001094</td>\n",
              "    </tr>\n",
              "    <tr>\n",
              "      <th>664</th>\n",
              "      <td>AnswerValue</td>\n",
              "      <td>MonthAnswered</td>\n",
              "      <td>-0.001094</td>\n",
              "    </tr>\n",
              "    <tr>\n",
              "      <th>668</th>\n",
              "      <td>AnswerValue</td>\n",
              "      <td>YearAnswered</td>\n",
              "      <td>-0.001164</td>\n",
              "    </tr>\n",
              "    <tr>\n",
              "      <th>688</th>\n",
              "      <td>AnswerValue</td>\n",
              "      <td>poly2_3</td>\n",
              "      <td>-0.001786</td>\n",
              "    </tr>\n",
              "    <tr>\n",
              "      <th>700</th>\n",
              "      <td>AnswerValue</td>\n",
              "      <td>poly2_5</td>\n",
              "      <td>-0.002469</td>\n",
              "    </tr>\n",
              "    <tr>\n",
              "      <th>738</th>\n",
              "      <td>AnswerValue</td>\n",
              "      <td>l_GroupId</td>\n",
              "      <td>-0.004056</td>\n",
              "    </tr>\n",
              "    <tr>\n",
              "      <th>742</th>\n",
              "      <td>AnswerValue</td>\n",
              "      <td>poly2_4</td>\n",
              "      <td>-0.004187</td>\n",
              "    </tr>\n",
              "    <tr>\n",
              "      <th>761</th>\n",
              "      <td>AnswerValue</td>\n",
              "      <td>IsCorrect</td>\n",
              "      <td>-0.004619</td>\n",
              "    </tr>\n",
              "    <tr>\n",
              "      <th>763</th>\n",
              "      <td>AnswerValue</td>\n",
              "      <td>poly1_0</td>\n",
              "      <td>-0.004619</td>\n",
              "    </tr>\n",
              "    <tr>\n",
              "      <th>776</th>\n",
              "      <td>AnswerValue</td>\n",
              "      <td>Perfect_Date</td>\n",
              "      <td>-0.005075</td>\n",
              "    </tr>\n",
              "    <tr>\n",
              "      <th>792</th>\n",
              "      <td>AnswerValue</td>\n",
              "      <td>l_SchemeOfWorkId</td>\n",
              "      <td>-0.005848</td>\n",
              "    </tr>\n",
              "    <tr>\n",
              "      <th>797</th>\n",
              "      <td>AnswerValue</td>\n",
              "      <td>poly2_0</td>\n",
              "      <td>-0.005899</td>\n",
              "    </tr>\n",
              "    <tr>\n",
              "      <th>799</th>\n",
              "      <td>AnswerValue</td>\n",
              "      <td>HourAnswered</td>\n",
              "      <td>-0.005899</td>\n",
              "    </tr>\n",
              "    <tr>\n",
              "      <th>805</th>\n",
              "      <td>AnswerValue</td>\n",
              "      <td>UserId</td>\n",
              "      <td>-0.006198</td>\n",
              "    </tr>\n",
              "    <tr>\n",
              "      <th>827</th>\n",
              "      <td>AnswerValue</td>\n",
              "      <td>Age_bin</td>\n",
              "      <td>-0.008036</td>\n",
              "    </tr>\n",
              "    <tr>\n",
              "      <th>840</th>\n",
              "      <td>AnswerValue</td>\n",
              "      <td>Age</td>\n",
              "      <td>-0.009321</td>\n",
              "    </tr>\n",
              "  </tbody>\n",
              "</table>\n",
              "</div>\n",
              "      <button class=\"colab-df-convert\" onclick=\"convertToInteractive('df-52291c14-2e25-4edc-8916-b60fb6a9a996')\"\n",
              "              title=\"Convert this dataframe to an interactive table.\"\n",
              "              style=\"display:none;\">\n",
              "        \n",
              "  <svg xmlns=\"http://www.w3.org/2000/svg\" height=\"24px\"viewBox=\"0 0 24 24\"\n",
              "       width=\"24px\">\n",
              "    <path d=\"M0 0h24v24H0V0z\" fill=\"none\"/>\n",
              "    <path d=\"M18.56 5.44l.94 2.06.94-2.06 2.06-.94-2.06-.94-.94-2.06-.94 2.06-2.06.94zm-11 1L8.5 8.5l.94-2.06 2.06-.94-2.06-.94L8.5 2.5l-.94 2.06-2.06.94zm10 10l.94 2.06.94-2.06 2.06-.94-2.06-.94-.94-2.06-.94 2.06-2.06.94z\"/><path d=\"M17.41 7.96l-1.37-1.37c-.4-.4-.92-.59-1.43-.59-.52 0-1.04.2-1.43.59L10.3 9.45l-7.72 7.72c-.78.78-.78 2.05 0 2.83L4 21.41c.39.39.9.59 1.41.59.51 0 1.02-.2 1.41-.59l7.78-7.78 2.81-2.81c.8-.78.8-2.07 0-2.86zM5.41 20L4 18.59l7.72-7.72 1.47 1.35L5.41 20z\"/>\n",
              "  </svg>\n",
              "      </button>\n",
              "      \n",
              "  <style>\n",
              "    .colab-df-container {\n",
              "      display:flex;\n",
              "      flex-wrap:wrap;\n",
              "      gap: 12px;\n",
              "    }\n",
              "\n",
              "    .colab-df-convert {\n",
              "      background-color: #E8F0FE;\n",
              "      border: none;\n",
              "      border-radius: 50%;\n",
              "      cursor: pointer;\n",
              "      display: none;\n",
              "      fill: #1967D2;\n",
              "      height: 32px;\n",
              "      padding: 0 0 0 0;\n",
              "      width: 32px;\n",
              "    }\n",
              "\n",
              "    .colab-df-convert:hover {\n",
              "      background-color: #E2EBFA;\n",
              "      box-shadow: 0px 1px 2px rgba(60, 64, 67, 0.3), 0px 1px 3px 1px rgba(60, 64, 67, 0.15);\n",
              "      fill: #174EA6;\n",
              "    }\n",
              "\n",
              "    [theme=dark] .colab-df-convert {\n",
              "      background-color: #3B4455;\n",
              "      fill: #D2E3FC;\n",
              "    }\n",
              "\n",
              "    [theme=dark] .colab-df-convert:hover {\n",
              "      background-color: #434B5C;\n",
              "      box-shadow: 0px 1px 3px 1px rgba(0, 0, 0, 0.15);\n",
              "      filter: drop-shadow(0px 1px 2px rgba(0, 0, 0, 0.3));\n",
              "      fill: #FFFFFF;\n",
              "    }\n",
              "  </style>\n",
              "\n",
              "      <script>\n",
              "        const buttonEl =\n",
              "          document.querySelector('#df-52291c14-2e25-4edc-8916-b60fb6a9a996 button.colab-df-convert');\n",
              "        buttonEl.style.display =\n",
              "          google.colab.kernel.accessAllowed ? 'block' : 'none';\n",
              "\n",
              "        async function convertToInteractive(key) {\n",
              "          const element = document.querySelector('#df-52291c14-2e25-4edc-8916-b60fb6a9a996');\n",
              "          const dataTable =\n",
              "            await google.colab.kernel.invokeFunction('convertToInteractive',\n",
              "                                                     [key], {});\n",
              "          if (!dataTable) return;\n",
              "\n",
              "          const docLinkHtml = 'Like what you see? Visit the ' +\n",
              "            '<a target=\"_blank\" href=https://colab.research.google.com/notebooks/data_table.ipynb>data table notebook</a>'\n",
              "            + ' to learn more about interactive tables.';\n",
              "          element.innerHTML = '';\n",
              "          dataTable['output_type'] = 'display_data';\n",
              "          await google.colab.output.renderOutput(dataTable, element);\n",
              "          const docLink = document.createElement('div');\n",
              "          docLink.innerHTML = docLinkHtml;\n",
              "          element.appendChild(docLink);\n",
              "        }\n",
              "      </script>\n",
              "    </div>\n",
              "  </div>\n",
              "  "
            ]
          },
          "metadata": {},
          "execution_count": 19
        }
      ]
    },
    {
      "cell_type": "code",
      "source": [],
      "metadata": {
        "id": "qT3DQfjrKZcq"
      },
      "execution_count": null,
      "outputs": []
    },
    {
      "cell_type": "code",
      "source": [],
      "metadata": {
        "id": "0C2NiH0lQfmu"
      },
      "execution_count": null,
      "outputs": []
    },
    {
      "cell_type": "markdown",
      "source": [
        "Most Corrrelated features with the target column (AnswerValue)"
      ],
      "metadata": {
        "id": "hS6ge9k-TrvA"
      }
    },
    {
      "cell_type": "code",
      "source": [
        "new_fea = df[['poly1_1','CorrectAnswer','poly1_2','Perfect_Correct','Gender','l_QuestionId', 'YearBirth','Age_std_on_yr_mth','Age_min_on_yr_mth','l_QiuzId','Year_Month_int',\n",
        "              'poly2_1','MonthAnswered','l_AnswerId','poly2_5','poly2_3']]\n",
        "              # ,'Age_min_on_yr_mth']]\n",
        "              "
      ],
      "metadata": {
        "id": "ndGYcg-fM04I"
      },
      "execution_count": 20,
      "outputs": []
    },
    {
      "cell_type": "code",
      "source": [
        "x_new= scaler.fit_transform(new_fea)"
      ],
      "metadata": {
        "id": "eXvicDV7ONiS"
      },
      "execution_count": 21,
      "outputs": []
    },
    {
      "cell_type": "code",
      "source": [
        "X_train, X_test, y_train, y_test = train_test_split(x_new, y, test_size=0.45, random_state = 100)"
      ],
      "metadata": {
        "id": "wVbV-TTed4yy"
      },
      "execution_count": 22,
      "outputs": []
    },
    {
      "cell_type": "code",
      "source": [
        "logistic_model = LogisticRegression(solver = 'newton-cg',multi_class ='multinomial', class_weight= 'balanced',C=1e5, random_state=1000) \n"
      ],
      "metadata": {
        "id": "jER2pDHId7m8"
      },
      "execution_count": 25,
      "outputs": []
    },
    {
      "cell_type": "code",
      "source": [
        "Classifier = OneVsRestClassifier(logistic_model)"
      ],
      "metadata": {
        "id": "xOtuLWNNxGx0"
      },
      "execution_count": 27,
      "outputs": []
    },
    {
      "cell_type": "code",
      "source": [
        "classifier = Classifier.fit(X_train, y_train)"
      ],
      "metadata": {
        "id": "t9P64cSWx9e-"
      },
      "execution_count": 28,
      "outputs": []
    },
    {
      "cell_type": "code",
      "source": [
        "#printing model coefficient and intercept to see my model performances\n",
        "print(classifier.intercept_)\n",
        "print(classifier.coef_)"
      ],
      "metadata": {
        "id": "tVfhefyNd92J",
        "colab": {
          "base_uri": "https://localhost:8080/"
        },
        "outputId": "b3a87013-03b2-47ff-e518-a1fdd1568a74"
      },
      "execution_count": 29,
      "outputs": [
        {
          "output_type": "stream",
          "name": "stdout",
          "text": [
            "[[-8.66586682]\n",
            " [-0.04191177]\n",
            " [-0.05083744]\n",
            " [-8.19113266]]\n",
            "[[-1.36482947e+01 -1.36482947e+01 -2.40309567e+01  3.01280265e+01\n",
            "   1.89565089e-03 -4.31945779e-03  2.36334916e-02 -1.29946094e-02\n",
            "  -5.20797195e-03 -6.16819532e-03  1.08270749e-02  1.72134644e-03\n",
            "   1.72134644e-03  7.31351410e-04 -9.34403580e-03  4.95562008e-03]\n",
            " [-5.38320468e-01 -5.38320468e-01 -6.96150224e-01  1.26076694e+00\n",
            "   5.80301739e-03 -9.73834046e-03 -6.44656851e-03  1.42885729e-02\n",
            "  -1.69171137e-03  1.48705168e-03  3.25450828e-03  4.22106001e-03\n",
            "   4.22106001e-03  1.18854336e-03 -5.24354328e-03  4.98133994e-03]\n",
            " [ 7.39160170e-01  7.39160170e-01  7.98031725e-01 -1.71845011e+00\n",
            "  -5.93377995e-03 -7.31520926e-03 -2.48668192e-03  1.98369357e-03\n",
            "   1.01970692e-04  7.91747157e-03 -4.39699601e-04 -3.01374682e-03\n",
            "  -3.01374682e-03  6.72131576e-03  9.99576814e-03  8.95263583e-03]\n",
            " [ 2.84365977e+01  2.84365977e+01  2.20808090e+01 -6.23502991e+01\n",
            "   2.61593722e-03 -1.45303841e-02  3.06913632e-03 -6.99760499e-03\n",
            "  -1.64367778e-02 -6.82767734e-03 -7.17298740e-03 -1.48818356e-02\n",
            "  -1.48818356e-02 -2.02176202e-02  1.36562617e-02 -1.67420643e-02]]\n"
          ]
        },
        {
          "output_type": "stream",
          "name": "stderr",
          "text": [
            "/usr/local/lib/python3.7/dist-packages/sklearn/utils/deprecation.py:103: FutureWarning: Attribute `intercept_` was deprecated in version 0.24 and will be removed in 1.1 (renaming of 0.26). If you observe this warning while using RFE or SelectFromModel, use the importance_getter parameter instead.\n",
            "  warnings.warn(msg, category=FutureWarning)\n",
            "/usr/local/lib/python3.7/dist-packages/sklearn/utils/deprecation.py:103: FutureWarning: Attribute `coef_` was deprecated in version 0.24 and will be removed in 1.1 (renaming of 0.26). If you observe this warning while using RFE or SelectFromModel, use the importance_getter parameter instead.\n",
            "  warnings.warn(msg, category=FutureWarning)\n"
          ]
        }
      ]
    },
    {
      "cell_type": "code",
      "source": [],
      "metadata": {
        "id": "_nh3CKVoeAjB"
      },
      "execution_count": null,
      "outputs": []
    },
    {
      "cell_type": "code",
      "source": [
        "probabilities = classifier.predict_proba(X_test)\n",
        "print(probabilities[:15,:])"
      ],
      "metadata": {
        "id": "uDkK8TT6eJ0Z",
        "colab": {
          "base_uri": "https://localhost:8080/"
        },
        "outputId": "cb5b782c-e4d3-4141-ecc0-d828dc46bc7c"
      },
      "execution_count": 30,
      "outputs": [
        {
          "output_type": "stream",
          "name": "stdout",
          "text": [
            "[[1.95011347e-01 2.43654573e-01 2.72355808e-01 2.88978272e-01]\n",
            " [2.74447172e-01 2.77139613e-01 2.34645563e-01 2.13767652e-01]\n",
            " [5.24366633e-01 3.79859480e-01 9.57738872e-02 1.65152741e-32]\n",
            " [1.88133228e-07 6.14086879e-01 3.85912933e-01 1.75507918e-19]\n",
            " [2.92007032e-21 3.80983498e-01 6.19015438e-01 1.06356470e-06]\n",
            " [2.83446039e-01 2.73559689e-01 2.42291167e-01 2.00703106e-01]\n",
            " [3.07592797e-21 3.80446446e-01 6.19552600e-01 9.54628055e-07]\n",
            " [1.81711111e-07 6.09366751e-01 3.90633067e-01 2.21564833e-19]\n",
            " [2.10931871e-07 6.19163206e-01 3.80836583e-01 2.12274826e-19]\n",
            " [2.74843749e-01 2.77727284e-01 2.43716346e-01 2.03712620e-01]\n",
            " [2.68820102e-21 3.73788447e-01 6.26210622e-01 9.31091059e-07]\n",
            " [2.97486952e-21 3.80209794e-01 6.19789309e-01 8.97490152e-07]\n",
            " [1.76200207e-07 6.06854558e-01 3.93145266e-01 1.98905173e-19]\n",
            " [1.25340589e-01 2.36426420e-01 2.92085384e-01 3.46147607e-01]\n",
            " [2.63989944e-01 2.76171777e-01 2.40259171e-01 2.19579108e-01]]\n"
          ]
        }
      ]
    },
    {
      "cell_type": "code",
      "source": [
        "def score_model(probs, threshold):\n",
        "    return np.array([1 if x > threshold else 0 for x in probs[:,1]])\n",
        "scores = score_model(probabilities, 0.5)\n",
        "print(np.array(scores[:15])) #printing the top 15 heads\n",
        "print(y_test[:15])"
      ],
      "metadata": {
        "id": "HVajAT9BeNeC",
        "colab": {
          "base_uri": "https://localhost:8080/"
        },
        "outputId": "7feb0382-b9cd-4fe2-99c8-aa00cce2ff5a"
      },
      "execution_count": 31,
      "outputs": [
        {
          "output_type": "stream",
          "name": "stdout",
          "text": [
            "[0 0 0 1 0 0 0 1 1 0 0 0 1 0 0]\n",
            "1047123    1.0\n",
            "3321908    1.0\n",
            "2678084    1.0\n",
            "133923     2.0\n",
            "135196     3.0\n",
            "1306194    2.0\n",
            "3797880    3.0\n",
            "278130     2.0\n",
            "1591842    2.0\n",
            "2599391    2.0\n",
            "1304726    3.0\n",
            "2406644    3.0\n",
            "1613868    2.0\n",
            "689993     4.0\n",
            "1700253    2.0\n",
            "Name: AnswerValue, dtype: float64\n"
          ]
        }
      ]
    },
    {
      "cell_type": "code",
      "source": [
        "y_pred_log = (classifier.predict_proba(X_test)[:, 1] > 0.5).astype(\"int32\")"
      ],
      "metadata": {
        "id": "hn72lWExU7x_"
      },
      "execution_count": 32,
      "outputs": []
    },
    {
      "cell_type": "code",
      "source": [
        "scores = score_model(probabilities, 0.5)"
      ],
      "metadata": {
        "id": "YN_hEyE2VzYx"
      },
      "execution_count": 33,
      "outputs": []
    },
    {
      "cell_type": "code",
      "source": [
        "#printing probabilities\n",
        "probs = classifier.predict_proba(X_test)\n",
        "print(probs[:5,:])"
      ],
      "metadata": {
        "colab": {
          "base_uri": "https://localhost:8080/"
        },
        "id": "sLRmFUxmPlu-",
        "outputId": "93817ccf-d186-4998-b188-4e0eb1d971a0"
      },
      "execution_count": 34,
      "outputs": [
        {
          "output_type": "stream",
          "name": "stdout",
          "text": [
            "[[1.95011347e-01 2.43654573e-01 2.72355808e-01 2.88978272e-01]\n",
            " [2.74447172e-01 2.77139613e-01 2.34645563e-01 2.13767652e-01]\n",
            " [5.24366633e-01 3.79859480e-01 9.57738872e-02 1.65152741e-32]\n",
            " [1.88133228e-07 6.14086879e-01 3.85912933e-01 1.75507918e-19]\n",
            " [2.92007032e-21 3.80983498e-01 6.19015438e-01 1.06356470e-06]]\n"
          ]
        }
      ]
    },
    {
      "cell_type": "code",
      "source": [
        "#printing model metrics\n",
        "def print_metrics_4(labels, scores):\n",
        "   \n",
        "    conf = sklm.confusion_matrix(labels, scores)\n",
        "    print('                 Confusion matrix')\n",
        "    print('                 AnswerValue 1   AnswerValue 2    AnswerValue 3    AnswerValue 4')\n",
        "    print('AnswerValue 1    %6d' % conf[0,0] + '            %5d' % conf[0,1] + '             %5d' % conf[0,2]+ '             %5d' % conf[0,3])\n",
        "    print('AnswerValue 2    %6d' % conf[1,0] + '            %5d' % conf[1,1] + '             %5d' % conf[1,2]+ '             %5d' % conf[1,3])\n",
        "    print('AnswerValue 3    %6d' % conf[2,0] + '            %5d' % conf[2,1] + '             %5d' % conf[2,2]+ '             %5d' % conf[2,3])\n",
        "    print('AnswerValue 4    %6d' % conf[3,0] + '            %5d' % conf[3,1] + '             %5d' % conf[3,2]+ '             %5d' % conf[3,3])\n",
        "    ## Now compute and display the accuracy and metrics\n",
        "    print('')\n",
        "    print('Accuracy        %0.2f' % sklm.accuracy_score(labels, scores))\n",
        "    print('F1 Score        %0.2f' % sklm.f1_score(labels, scores, average='macro'))\n",
        "    print('AUC             %0.2f' % sklm.roc_auc_score(labels, probs[:,:], multi_class='ovr'))\n",
        "    metrics = sklm.precision_recall_fscore_support(labels, scores)\n",
        "    print('Macro precision %0.2f' % float((float(metrics[0][0]) + float(metrics[0][1]))/2.0))\n",
        "    print('Macro recall    %0.2f' % float((float(metrics[1][0]) + float(metrics[1][1]))/2.0))\n",
        "\n",
        "    print(' ')\n",
        "    print('         AnswerValue 1  AnswerValue 2  AnswerValue 3  AnswerValue 4')\n",
        "    print('Num case   %0.2f' % metrics[3][0] + '         %0.2f' % metrics[3][1] + '         %0.2f' % metrics[3][2]+ '        %0.2f' % metrics[3][3])\n",
        "    print('Precision   %0.2f' % metrics[0][0] + '          %0.2f' % metrics[0][1] + '            %0.2f' % metrics[0][2]+ '        %0.2f' % metrics[0][3])\n",
        "    print('Recall      %0.2f' % metrics[1][0] + '          %0.2f' % metrics[1][1] + '            %0.2f' % metrics[1][2]+ '        %0.2f' % metrics[1][3])\n",
        "    print('F1          %0.2f' % metrics[2][0] + '          %0.2f' % metrics[2][1] + '            %0.2f' % metrics[2][2]+ '        %0.2f' % metrics[2][3])\n",
        "    \n",
        "print_metrics_4(y_test, y_pred_log)  \n",
        "# plot_auc(y_test, probabilities)"
      ],
      "metadata": {
        "id": "4GjsoHLseNfP",
        "colab": {
          "base_uri": "https://localhost:8080/"
        },
        "outputId": "9feff7e4-48f5-44b3-d6d9-9877ec261414"
      },
      "execution_count": 35,
      "outputs": [
        {
          "output_type": "stream",
          "name": "stdout",
          "text": [
            "                 Confusion matrix\n",
            "                 AnswerValue 1   AnswerValue 2    AnswerValue 3    AnswerValue 4\n",
            "AnswerValue 1         0                0                 0                 0\n",
            "AnswerValue 2     10991                0                 0                 0\n",
            "AnswerValue 3      5382             6517                 0                 0\n",
            "AnswerValue 4     11663                0                 0                 0\n",
            "\n",
            "Accuracy        0.00\n",
            "F1 Score        0.00\n",
            "AUC             0.84\n",
            "Macro precision 0.00\n",
            "Macro recall    0.00\n",
            " \n",
            "         AnswerValue 1  AnswerValue 2  AnswerValue 3  AnswerValue 4\n",
            "Num case   0.00         10991.00         11899.00        11663.00\n",
            "Precision   0.00          0.00            0.00        0.00\n",
            "Recall      0.00          0.00            0.00        0.00\n",
            "F1          0.00          0.00            0.00        0.00\n"
          ]
        },
        {
          "output_type": "stream",
          "name": "stderr",
          "text": [
            "/usr/local/lib/python3.7/dist-packages/sklearn/metrics/_classification.py:1318: UndefinedMetricWarning: Precision and F-score are ill-defined and being set to 0.0 in labels with no predicted samples. Use `zero_division` parameter to control this behavior.\n",
            "  _warn_prf(average, modifier, msg_start, len(result))\n",
            "/usr/local/lib/python3.7/dist-packages/sklearn/metrics/_classification.py:1318: UndefinedMetricWarning: Recall and F-score are ill-defined and being set to 0.0 in labels with no true samples. Use `zero_division` parameter to control this behavior.\n",
            "  _warn_prf(average, modifier, msg_start, len(result))\n"
          ]
        }
      ]
    },
    {
      "cell_type": "code",
      "source": [
        "#The Logistic model has a poor accuracy with a poor AUC since any AUC close to 0.5 isnt performing well. i.e Its performing poorly"
      ],
      "metadata": {
        "id": "Of1RWCiRcEVH"
      },
      "execution_count": null,
      "outputs": []
    },
    {
      "cell_type": "markdown",
      "source": [
        "We had poor performance with logistic regression since it is not suitable for multiclass classification. The reason is that there is no linear link between the target label and the features. Instead of numerous classes as in our scenario, the fit model is always sufficient to estimate the likelihood that an example belongs to class 1. Logistic regression, often known as multi-class classification, by default cannot be applied to classification tasks with more than two class labels. Even after changing the logistic regression with OVR to support the multi-class classification problem, the accuracy was still subpar."
      ],
      "metadata": {
        "id": "K17ubxmvG1bf"
      }
    },
    {
      "cell_type": "markdown",
      "source": [
        "# NAIVE BAYES CLASSIFIER with highly correlated features\n",
        "\n",
        "NB_mod = GaussianNB() #for continuous or numerical features.\n"
      ],
      "metadata": {
        "id": "3VmCDRd2ejNA"
      }
    },
    {
      "cell_type": "code",
      "source": [
        "X_train, X_test, y_train, y_test = train_test_split(x_new, y, test_size=0.45, random_state = 10)"
      ],
      "metadata": {
        "id": "iEMdgb0SekDY"
      },
      "execution_count": null,
      "outputs": []
    },
    {
      "cell_type": "code",
      "source": [
        "from sklearn.naive_bayes import GaussianNB"
      ],
      "metadata": {
        "id": "1IksxrKlWfGh"
      },
      "execution_count": null,
      "outputs": []
    },
    {
      "cell_type": "code",
      "source": [
        "NB_mod = GaussianNB(var_smoothing = 2e-9)\n",
        "NB_mod.fit(X_train, y_train)"
      ],
      "metadata": {
        "id": "kaY3aAvyekEm",
        "colab": {
          "base_uri": "https://localhost:8080/"
        },
        "outputId": "ebdd27d2-c42e-4649-86bf-7f212d2af7b9"
      },
      "execution_count": null,
      "outputs": [
        {
          "output_type": "execute_result",
          "data": {
            "text/plain": [
              "GaussianNB(var_smoothing=2e-09)"
            ]
          },
          "metadata": {},
          "execution_count": 38
        }
      ]
    },
    {
      "cell_type": "markdown",
      "source": [
        "Notice that the Gaussian naive Bayes model object has only one hyperparameter."
      ],
      "metadata": {
        "id": "JsLEY0-GetEm"
      }
    },
    {
      "cell_type": "code",
      "source": [
        "#predicting the X_test\n",
        "scores = NB_mod.predict(X_test)"
      ],
      "metadata": {
        "id": "MMqdxj7kekH8"
      },
      "execution_count": null,
      "outputs": []
    },
    {
      "cell_type": "code",
      "source": [
        "#getting the probabilities\n",
        "probs = NB_mod.predict_proba(X_test)"
      ],
      "metadata": {
        "id": "bj9DSw-QekJc"
      },
      "execution_count": null,
      "outputs": []
    },
    {
      "cell_type": "code",
      "source": [],
      "metadata": {
        "id": "PjSbBShyekNX"
      },
      "execution_count": null,
      "outputs": []
    },
    {
      "cell_type": "code",
      "source": [
        "#printing model metrics\n",
        "def print_metrics_4(labels, scores):\n",
        "   \n",
        "    conf = sklm.confusion_matrix(labels, scores)\n",
        "    print('                 Confusion matrix')\n",
        "    print('                 AnswerValue 1   AnswerValue 2    AnswerValue 3    AnswerValue 4')\n",
        "    print('AnswerValue 1    %6d' % conf[0,0] + '            %5d' % conf[0,1] + '             %5d' % conf[0,2]+ '             %5d' % conf[0,3])\n",
        "    print('AnswerValue 2    %6d' % conf[1,0] + '            %5d' % conf[1,1] + '             %5d' % conf[1,2]+ '             %5d' % conf[1,3])\n",
        "    print('AnswerValue 3    %6d' % conf[2,0] + '            %5d' % conf[2,1] + '             %5d' % conf[2,2]+ '             %5d' % conf[2,3])\n",
        "    print('AnswerValue 4    %6d' % conf[3,0] + '            %5d' % conf[3,1] + '             %5d' % conf[3,2]+ '             %5d' % conf[3,3])\n",
        "    ## Now compute and display the accuracy and metrics\n",
        "    print('')\n",
        "    print('Accuracy        %0.2f' % sklm.accuracy_score(labels, scores))\n",
        "    print('F1 Score        %0.2f' % sklm.f1_score(labels, scores, average='macro'))\n",
        "    print('AUC             %0.2f' % sklm.roc_auc_score(labels, probs[:,:], multi_class='ovr'))\n",
        "    metrics = sklm.precision_recall_fscore_support(labels, scores)\n",
        "    print('Macro precision %0.2f' % float((float(metrics[0][0]) + float(metrics[0][1]))/2.0))\n",
        "    print('Macro recall    %0.2f' % float((float(metrics[1][0]) + float(metrics[1][1]))/2.0))\n",
        "\n",
        "    print(' ')\n",
        "    print('         AnswerValue 1  AnswerValue 2  AnswerValue 3  AnswerValue 4')\n",
        "    print('Num case   %0.2f' % metrics[3][0] + '         %0.2f' % metrics[3][1] + '         %0.2f' % metrics[3][2]+ '        %0.2f' % metrics[3][3])\n",
        "    print('Precision   %0.2f' % metrics[0][0] + '          %0.2f' % metrics[0][1] + '            %0.2f' % metrics[0][2]+ '        %0.2f' % metrics[0][3])\n",
        "    print('Recall      %0.2f' % metrics[1][0] + '          %0.2f' % metrics[1][1] + '            %0.2f' % metrics[1][2]+ '        %0.2f' % metrics[1][3])\n",
        "    print('F1          %0.2f' % metrics[2][0] + '          %0.2f' % metrics[2][1] + '            %0.2f' % metrics[2][2]+ '        %0.2f' % metrics[2][3])\n",
        "    \n",
        "print_metrics_4(y_test, scores)   \n"
      ],
      "metadata": {
        "id": "NBqw7pbjbayK",
        "colab": {
          "base_uri": "https://localhost:8080/"
        },
        "outputId": "5332ed7a-ffe7-40f2-94dc-70b8f40b431d"
      },
      "execution_count": null,
      "outputs": [
        {
          "output_type": "stream",
          "name": "stdout",
          "text": [
            "                 Confusion matrix\n",
            "                 AnswerValue 1   AnswerValue 2    AnswerValue 3    AnswerValue 4\n",
            "AnswerValue 1      7802             1668                12              1404\n",
            "AnswerValue 2      1770             8319                12              1724\n",
            "AnswerValue 3      3427                0              6748              1812\n",
            "AnswerValue 4      2875             1579                 4              5859\n",
            "\n",
            "Accuracy        0.64\n",
            "F1 Score        0.64\n",
            "AUC             0.79\n",
            "Macro precision 0.61\n",
            "Macro recall    0.71\n",
            " \n",
            "         AnswerValue 1  AnswerValue 2  AnswerValue 3  AnswerValue 4\n",
            "Num case   10886.00         11825.00         11987.00        10317.00\n",
            "Precision   0.49          0.72            1.00        0.54\n",
            "Recall      0.72          0.70            0.56        0.57\n",
            "F1          0.58          0.71            0.72        0.55\n"
          ]
        }
      ]
    },
    {
      "cell_type": "code",
      "source": [
        "# The GaussianNB() outperform that of the logistic model with an accuracy of 62% and AUC of 0.66. This isnt a good model for our prediction"
      ],
      "metadata": {
        "id": "dY_fJ4EPcnro"
      },
      "execution_count": null,
      "outputs": []
    },
    {
      "cell_type": "markdown",
      "source": [
        "# Bernoulli's NAIVE BAYES with correlated features\n",
        "NB_mod = BernoulliNB() #for features with binary values"
      ],
      "metadata": {
        "id": "Vawvy0uOe7WF"
      }
    },
    {
      "cell_type": "code",
      "source": [
        "X_train, X_test, y_train, y_test = train_test_split(x_new, y, test_size=0.45, random_state = 10)"
      ],
      "metadata": {
        "id": "4EVAngvze8EJ"
      },
      "execution_count": null,
      "outputs": []
    },
    {
      "cell_type": "code",
      "source": [
        "from sklearn.naive_bayes import BernoulliNB"
      ],
      "metadata": {
        "id": "bdJCwS1nYCaI"
      },
      "execution_count": null,
      "outputs": []
    },
    {
      "cell_type": "code",
      "source": [
        "NB_mod = BernoulliNB(binarize=0.0)"
      ],
      "metadata": {
        "id": "YpNBFEo_e8FU"
      },
      "execution_count": null,
      "outputs": []
    },
    {
      "cell_type": "code",
      "source": [
        "NB_mod.fit(X_train, y_train)"
      ],
      "metadata": {
        "id": "Pp9Eknxxe8JC",
        "colab": {
          "base_uri": "https://localhost:8080/"
        },
        "outputId": "1109f226-f539-4946-fc7d-4c7f4393795e"
      },
      "execution_count": null,
      "outputs": [
        {
          "output_type": "execute_result",
          "data": {
            "text/plain": [
              "BernoulliNB()"
            ]
          },
          "metadata": {},
          "execution_count": 109
        }
      ]
    },
    {
      "cell_type": "code",
      "source": [
        "scores = NB_mod.predict(X_test)\n"
      ],
      "metadata": {
        "id": "tj5RznRye8Kg"
      },
      "execution_count": null,
      "outputs": []
    },
    {
      "cell_type": "code",
      "source": [
        "prob = NB_mod.predict_proba(X_test)"
      ],
      "metadata": {
        "id": "ZS6eQ6dwe8TA"
      },
      "execution_count": null,
      "outputs": []
    },
    {
      "cell_type": "code",
      "source": [
        "# random.seed= 122\n",
        "#printing model metrics\n",
        "def print_metrics_4(labels, scores):\n",
        "   \n",
        "    conf = sklm.confusion_matrix(labels, scores)\n",
        "    print('                 Confusion matrix')\n",
        "    print('                 AnswerValue 1   AnswerValue 2    AnswerValue 3    AnswerValue 4')\n",
        "    print('AnswerValue 1    %6d' % conf[0,0] + '            %5d' % conf[0,1] + '             %5d' % conf[0,2]+ '             %5d' % conf[0,3])\n",
        "    print('AnswerValue 2    %6d' % conf[1,0] + '            %5d' % conf[1,1] + '             %5d' % conf[1,2]+ '             %5d' % conf[1,3])\n",
        "    print('AnswerValue 3    %6d' % conf[2,0] + '            %5d' % conf[2,1] + '             %5d' % conf[2,2]+ '             %5d' % conf[2,3])\n",
        "    print('AnswerValue 4    %6d' % conf[3,0] + '            %5d' % conf[3,1] + '             %5d' % conf[3,2]+ '             %5d' % conf[3,3])\n",
        "    ## Now compute and display the accuracy and metrics\n",
        "    print('')\n",
        "    print('Accuracy        %0.2f' % sklm.accuracy_score(labels, scores))\n",
        "    print('F1 Score        %0.2f' % sklm.f1_score(labels, scores, average='macro'))\n",
        "    print('AUC             %0.2f' % sklm.roc_auc_score(labels, probs[:,:], multi_class='ovr'))\n",
        "    metrics = sklm.precision_recall_fscore_support(labels, scores)\n",
        "    print('Macro precision %0.2f' % float((float(metrics[0][0]) + float(metrics[0][1]))/2.0))\n",
        "    print('Macro recall    %0.2f' % float((float(metrics[1][0]) + float(metrics[1][1]))/2.0))\n",
        "\n",
        "    print(' ')\n",
        "    print('         AnswerValue 1  AnswerValue 2  AnswerValue 3  AnswerValue 4')\n",
        "    print('Num case   %0.2f' % metrics[3][0] + '         %0.2f' % metrics[3][1] + '         %0.2f' % metrics[3][2]+ '        %0.2f' % metrics[3][3])\n",
        "    print('Precision   %0.2f' % metrics[0][0] + '          %0.2f' % metrics[0][1] + '            %0.2f' % metrics[0][2]+ '        %0.2f' % metrics[0][3])\n",
        "    print('Recall      %0.2f' % metrics[1][0] + '          %0.2f' % metrics[1][1] + '            %0.2f' % metrics[1][2]+ '        %0.2f' % metrics[1][3])\n",
        "    print('F1          %0.2f' % metrics[2][0] + '          %0.2f' % metrics[2][1] + '            %0.2f' % metrics[2][2]+ '        %0.2f' % metrics[2][3])\n",
        "    \n",
        "print_metrics_4(y_test, scores)   \n"
      ],
      "metadata": {
        "id": "hU5m4RFge8UZ",
        "colab": {
          "base_uri": "https://localhost:8080/"
        },
        "outputId": "cff3fb88-d9b6-4493-efb0-576932a133db"
      },
      "execution_count": null,
      "outputs": [
        {
          "output_type": "stream",
          "name": "stdout",
          "text": [
            "                 Confusion matrix\n",
            "                 AnswerValue 1   AnswerValue 2    AnswerValue 3    AnswerValue 4\n",
            "AnswerValue 1      7770                0              1367              1597\n",
            "AnswerValue 2      1921             6467              1736              1850\n",
            "AnswerValue 3      3479                0              8367                 0\n",
            "AnswerValue 4      2996                0              5906              1559\n",
            "\n",
            "Accuracy        0.54\n",
            "F1 Score        0.51\n",
            "AUC             0.78\n",
            "Macro precision 0.74\n",
            "Macro recall    0.63\n",
            " \n",
            "         AnswerValue 1  AnswerValue 2  AnswerValue 3  AnswerValue 4\n",
            "Num case   10734.00         11974.00         11846.00        10461.00\n",
            "Precision   0.48          1.00            0.48        0.31\n",
            "Recall      0.72          0.54            0.71        0.15\n",
            "F1          0.58          0.70            0.57        0.20\n"
          ]
        }
      ]
    },
    {
      "cell_type": "code",
      "source": [
        "# The Bernoulli's() under perform that of the GaussianNB with an accuracy of 58% and AUC of 0.60"
      ],
      "metadata": {
        "id": "Gpi0gy8HeNpG"
      },
      "execution_count": null,
      "outputs": []
    },
    {
      "cell_type": "markdown",
      "source": [
        "# DECISION TREE"
      ],
      "metadata": {
        "id": "uWXuPoc9ui7q"
      }
    },
    {
      "cell_type": "code",
      "source": [
        "X_train, X_test, y_train, y_test = train_test_split(x_new, y, test_size=0.45, random_state = 10)"
      ],
      "metadata": {
        "id": "F29ORzjoeNs9"
      },
      "execution_count": null,
      "outputs": []
    },
    {
      "cell_type": "code",
      "source": [
        "from sklearn.tree import DecisionTreeClassifier\n",
        "from sklearn import tree, preprocessing"
      ],
      "metadata": {
        "id": "KJftv1K8ue71"
      },
      "execution_count": null,
      "outputs": []
    },
    {
      "cell_type": "code",
      "source": [
        "import sklearn.model_selection as ms\n",
        "inside = ms.KFold(n_splits=2, shuffle = True)\n",
        "# outside = ms.KFold(n_splits=2, shuffle = True)"
      ],
      "metadata": {
        "id": "loUwWlloz9hp"
      },
      "execution_count": null,
      "outputs": []
    },
    {
      "cell_type": "code",
      "source": [
        "\n",
        "dtree= DecisionTreeClassifier(class_weight = 'balanced')\n",
        "\n",
        "## Define the dictionary for the grid search and the model object to search on\n",
        "param_grid = [{\"max_depth\": [2,3,4,5,6], \"min_samples_leaf\": [3,4,5,6,7]}]\n",
        "## Define the DecisionTree model\n",
        "\n",
        "#clf = DecisionTreeClassifier(random_state=0)\n",
        "clf = ms.GridSearchCV(estimator = dtree, param_grid = param_grid, \n",
        "                      cv = inside, # Use the inside folds\n",
        "                      scoring = 'accuracy',\n",
        "                      return_train_score = True)\n",
        "\n",
        "clf.fit(x_new, y)"
      ],
      "metadata": {
        "id": "j2tQYVHjzfAg",
        "colab": {
          "base_uri": "https://localhost:8080/"
        },
        "outputId": "0ea18c63-74c3-44e8-8198-40979a5a86a1"
      },
      "execution_count": null,
      "outputs": [
        {
          "output_type": "execute_result",
          "data": {
            "text/plain": [
              "GridSearchCV(cv=KFold(n_splits=2, random_state=None, shuffle=True),\n",
              "             estimator=DecisionTreeClassifier(class_weight='balanced'),\n",
              "             param_grid=[{'max_depth': [2, 3, 4, 5, 6],\n",
              "                          'min_samples_leaf': [3, 4, 5, 6, 7]}],\n",
              "             return_train_score=True, scoring='accuracy')"
            ]
          },
          "metadata": {},
          "execution_count": 45
        }
      ]
    },
    {
      "cell_type": "markdown",
      "source": [
        "# Print Best Parameter"
      ],
      "metadata": {
        "id": "ogvynB230fel"
      }
    },
    {
      "cell_type": "code",
      "source": [
        "print(clf.best_estimator_.max_depth)\n",
        "#print(clf.best_estimator_.min_samples_split)\n",
        "print(clf.best_estimator_.min_samples_leaf)"
      ],
      "metadata": {
        "id": "QWJLoZKKzfB1",
        "colab": {
          "base_uri": "https://localhost:8080/"
        },
        "outputId": "98ce588d-c5b2-42ce-e07e-3d5c62b4a0ce"
      },
      "execution_count": null,
      "outputs": [
        {
          "output_type": "stream",
          "name": "stdout",
          "text": [
            "5\n",
            "3\n"
          ]
        }
      ]
    },
    {
      "cell_type": "code",
      "source": [
        "print(clf.best_score_)"
      ],
      "metadata": {
        "id": "6GH8kakgzfFW",
        "colab": {
          "base_uri": "https://localhost:8080/"
        },
        "outputId": "95feb419-1e51-4369-d867-1fc3dc712c49"
      },
      "execution_count": null,
      "outputs": [
        {
          "output_type": "stream",
          "name": "stdout",
          "text": [
            "0.7176803422904671\n"
          ]
        }
      ]
    },
    {
      "cell_type": "code",
      "source": [
        "cv_estimate = ms.cross_val_score(clf, x_new, y) \n",
        "\n",
        "print('Mean performance metric = %4.3f' % np.mean(cv_estimate))\n",
        "print('SDT of the metric       = %4.3f' % np.std(cv_estimate))\n",
        "print('Outcomes by cv fold')\n",
        "for i, x in enumerate(cv_estimate):\n",
        "    print('Fold %2d    %4.3f' % (i+1, x))"
      ],
      "metadata": {
        "id": "QCuuaIhEzfGd",
        "colab": {
          "base_uri": "https://localhost:8080/"
        },
        "outputId": "a1b749b0-f5a3-4e70-f8dd-35376953fe4b"
      },
      "execution_count": null,
      "outputs": [
        {
          "output_type": "stream",
          "name": "stdout",
          "text": [
            "Mean performance metric = 0.715\n",
            "SDT of the metric       = 0.003\n",
            "Outcomes by cv fold\n",
            "Fold  1    0.719\n",
            "Fold  2    0.720\n",
            "Fold  3    0.714\n",
            "Fold  4    0.713\n",
            "Fold  5    0.712\n"
          ]
        }
      ]
    },
    {
      "cell_type": "markdown",
      "source": [
        "Use best estimator from grid search and calculate accuracy on the training set"
      ],
      "metadata": {
        "id": "0PliNcw61jsr"
      }
    },
    {
      "cell_type": "code",
      "source": [
        "dtree = tree.DecisionTreeClassifier(max_depth = clf.best_estimator_.max_depth,\n",
        "                  min_samples_leaf = clf.best_estimator_.min_samples_leaf,\n",
        "                  class_weight = 'balanced') \n",
        "dtree.fit(X_train, y_train)"
      ],
      "metadata": {
        "id": "a73fmHk5zfKk",
        "colab": {
          "base_uri": "https://localhost:8080/"
        },
        "outputId": "8e5b7cfd-6241-4780-8e69-135b2e56e8a2"
      },
      "execution_count": null,
      "outputs": [
        {
          "output_type": "execute_result",
          "data": {
            "text/plain": [
              "DecisionTreeClassifier(class_weight='balanced', max_depth=5, min_samples_leaf=3)"
            ]
          },
          "metadata": {},
          "execution_count": 49
        }
      ]
    },
    {
      "cell_type": "code",
      "source": [
        "pred =dtree.predict(X_test)"
      ],
      "metadata": {
        "id": "Cl_ESn4_eNuV"
      },
      "execution_count": null,
      "outputs": []
    },
    {
      "cell_type": "code",
      "source": [
        "#printing probabilities\n",
        "probs = dtree.predict_proba(X_test)"
      ],
      "metadata": {
        "id": "6ZQH2148fpxL"
      },
      "execution_count": null,
      "outputs": []
    },
    {
      "cell_type": "code",
      "source": [
        "#printing model metrics\n",
        "def print_metrics_4(labels, scores):\n",
        "   \n",
        "    conf = sklm.confusion_matrix(labels, scores)\n",
        "    print('                 Confusion matrix')\n",
        "    print('                 AnswerValue 1   AnswerValue 2    AnswerValue 3    AnswerValue 4')\n",
        "    print('AnswerValue 1    %6d' % conf[0,0] + '            %5d' % conf[0,1] + '             %5d' % conf[0,2]+ '             %5d' % conf[0,3])\n",
        "    print('AnswerValue 2    %6d' % conf[1,0] + '            %5d' % conf[1,1] + '             %5d' % conf[1,2]+ '             %5d' % conf[1,3])\n",
        "    print('AnswerValue 3    %6d' % conf[2,0] + '            %5d' % conf[2,1] + '             %5d' % conf[2,2]+ '             %5d' % conf[2,3])\n",
        "    print('AnswerValue 4    %6d' % conf[3,0] + '            %5d' % conf[3,1] + '             %5d' % conf[3,2]+ '             %5d' % conf[3,3])\n",
        "    ## Now compute and display the accuracy and metrics\n",
        "    print('')\n",
        "    print('Accuracy        %0.2f' % sklm.accuracy_score(labels, scores))\n",
        "    print('F1 Score        %0.2f' % sklm.f1_score(labels, scores, average='macro'))\n",
        "    print('AUC             %0.2f' % sklm.roc_auc_score(labels, probs[:,:], multi_class='ovr'))\n",
        "    metrics = sklm.precision_recall_fscore_support(labels, scores)\n",
        "    print('Macro precision %0.2f' % float((float(metrics[0][0]) + float(metrics[0][1]))/2.0))\n",
        "    print('Macro recall    %0.2f' % float((float(metrics[1][0]) + float(metrics[1][1]))/2.0))\n",
        "\n",
        "    print(' ')\n",
        "    print('         AnswerValue 1  AnswerValue 2  AnswerValue 3  AnswerValue 4')\n",
        "    print('Num case   %0.2f' % metrics[3][0] + '         %0.2f' % metrics[3][1] + '         %0.2f' % metrics[3][2]+ '        %0.2f' % metrics[3][3])\n",
        "    print('Precision   %0.2f' % metrics[0][0] + '          %0.2f' % metrics[0][1] + '            %0.2f' % metrics[0][2]+ '        %0.2f' % metrics[0][3])\n",
        "    print('Recall      %0.2f' % metrics[1][0] + '          %0.2f' % metrics[1][1] + '            %0.2f' % metrics[1][2]+ '        %0.2f' % metrics[1][3])\n",
        "    print('F1          %0.2f' % metrics[2][0] + '          %0.2f' % metrics[2][1] + '            %0.2f' % metrics[2][2]+ '        %0.2f' % metrics[2][3])\n",
        "    \n",
        "print_metrics_4(y_test, pred)   \n"
      ],
      "metadata": {
        "id": "etsDGqrt1z1B",
        "colab": {
          "base_uri": "https://localhost:8080/"
        },
        "outputId": "af9057da-ea82-41ff-dc87-982c35fc3918"
      },
      "execution_count": null,
      "outputs": [
        {
          "output_type": "stream",
          "name": "stdout",
          "text": [
            "                 Confusion matrix\n",
            "                 AnswerValue 1   AnswerValue 2    AnswerValue 3    AnswerValue 4\n",
            "AnswerValue 1      6223             3084              1579                 0\n",
            "AnswerValue 2         0            10055              1770                 0\n",
            "AnswerValue 3         0             1760             10227                 0\n",
            "AnswerValue 4         0             1583              2875              5859\n",
            "\n",
            "Accuracy        0.72\n",
            "F1 Score        0.72\n",
            "AUC             0.92\n",
            "Macro precision 0.81\n",
            "Macro recall    0.71\n",
            " \n",
            "         AnswerValue 1  AnswerValue 2  AnswerValue 3  AnswerValue 4\n",
            "Num case   10886.00         11825.00         11987.00        10317.00\n",
            "Precision   1.00          0.61            0.62        1.00\n",
            "Recall      0.57          0.85            0.85        0.57\n",
            "F1          0.73          0.71            0.72        0.72\n"
          ]
        }
      ]
    },
    {
      "cell_type": "code",
      "source": [],
      "metadata": {
        "id": "yxjYg19BbrhI"
      },
      "execution_count": null,
      "outputs": []
    },
    {
      "cell_type": "code",
      "source": [
        "# Let us examine these results. We should notice the following:\n",
        "\n",
        "# The confusion matrix has dimension 4X4 and most cases are correctly classified.\n",
        "# The overall accuracy is 0.72. Since the classes are roughly balanced, this metric indicates relatively good performance of the classifier, particularly since we use hyperparameter tunning and cross validation.\n",
        "# The precision, recall and F1 for each of the classes is relatively good.\n",
        "# THE AUC IS CLOSE TO 1 which indicate good results.This Out prform others previously model fairly except the linear SVM kernel"
      ],
      "metadata": {
        "id": "FdmCilst3Drl"
      },
      "execution_count": null,
      "outputs": []
    },
    {
      "cell_type": "markdown",
      "source": [
        "# RANDOM FOREST"
      ],
      "metadata": {
        "id": "mzegbmHoB9-v"
      }
    },
    {
      "cell_type": "code",
      "source": [
        "X_train, X_test, y_train, y_test = train_test_split(x_scaled, y, test_size=0.45, random_state = 10)"
      ],
      "metadata": {
        "id": "rX38GyI41z-M"
      },
      "execution_count": null,
      "outputs": []
    },
    {
      "cell_type": "code",
      "source": [
        "inside = ms.KFold(n_splits=2, shuffle = True)"
      ],
      "metadata": {
        "id": "jzOoRUVOCcCQ"
      },
      "execution_count": null,
      "outputs": []
    },
    {
      "cell_type": "code",
      "source": [
        "from sklearn.ensemble import RandomForestClassifier\n",
        "rf_clf = RandomForestClassifier(n_estimators=10)\n",
        "## Define the dictionary for the grid search and the model object to search on\n",
        "param_grid = {'n_estimators': [51,100,200,],\n",
        "          'max_features': ['auto', 'sqrt', 'log2'],\n",
        "          'max_depth' : ['None',4,5,6,7,8],\n",
        "          'criterion' : ['gini']}\n",
        "\n",
        "clf = ms.GridSearchCV(estimator = rf_clf, param_grid = param_grid, \n",
        "                      scoring = 'accuracy',\n",
        "                      return_train_score = True)\n",
        "\n",
        "clf.fit(x_scaled, y)"
      ],
      "metadata": {
        "id": "tpgQqAbkCcDl",
        "colab": {
          "base_uri": "https://localhost:8080/"
        },
        "outputId": "46026199-c638-479c-af00-41bd1ae83dfa"
      },
      "execution_count": null,
      "outputs": [
        {
          "output_type": "stream",
          "name": "stderr",
          "text": [
            "/usr/local/lib/python3.7/dist-packages/sklearn/model_selection/_validation.py:372: FitFailedWarning: \n",
            "45 fits failed out of a total of 270.\n",
            "The score on these train-test partitions for these parameters will be set to nan.\n",
            "If these failures are not expected, you can try to debug them by setting error_score='raise'.\n",
            "\n",
            "Below are more details about the failures:\n",
            "--------------------------------------------------------------------------------\n",
            "45 fits failed with the following error:\n",
            "Traceback (most recent call last):\n",
            "  File \"/usr/local/lib/python3.7/dist-packages/sklearn/model_selection/_validation.py\", line 680, in _fit_and_score\n",
            "    estimator.fit(X_train, y_train, **fit_params)\n",
            "  File \"/usr/local/lib/python3.7/dist-packages/sklearn/ensemble/_forest.py\", line 467, in fit\n",
            "    for i, t in enumerate(trees)\n",
            "  File \"/usr/local/lib/python3.7/dist-packages/joblib/parallel.py\", line 1085, in __call__\n",
            "    if self.dispatch_one_batch(iterator):\n",
            "  File \"/usr/local/lib/python3.7/dist-packages/joblib/parallel.py\", line 901, in dispatch_one_batch\n",
            "    self._dispatch(tasks)\n",
            "  File \"/usr/local/lib/python3.7/dist-packages/joblib/parallel.py\", line 819, in _dispatch\n",
            "    job = self._backend.apply_async(batch, callback=cb)\n",
            "  File \"/usr/local/lib/python3.7/dist-packages/joblib/_parallel_backends.py\", line 208, in apply_async\n",
            "    result = ImmediateResult(func)\n",
            "  File \"/usr/local/lib/python3.7/dist-packages/joblib/_parallel_backends.py\", line 597, in __init__\n",
            "    self.results = batch()\n",
            "  File \"/usr/local/lib/python3.7/dist-packages/joblib/parallel.py\", line 289, in __call__\n",
            "    for func, args, kwargs in self.items]\n",
            "  File \"/usr/local/lib/python3.7/dist-packages/joblib/parallel.py\", line 289, in <listcomp>\n",
            "    for func, args, kwargs in self.items]\n",
            "  File \"/usr/local/lib/python3.7/dist-packages/sklearn/utils/fixes.py\", line 216, in __call__\n",
            "    return self.function(*args, **kwargs)\n",
            "  File \"/usr/local/lib/python3.7/dist-packages/sklearn/ensemble/_forest.py\", line 185, in _parallel_build_trees\n",
            "    tree.fit(X, y, sample_weight=curr_sample_weight, check_input=False)\n",
            "  File \"/usr/local/lib/python3.7/dist-packages/sklearn/tree/_classes.py\", line 942, in fit\n",
            "    X_idx_sorted=X_idx_sorted,\n",
            "  File \"/usr/local/lib/python3.7/dist-packages/sklearn/tree/_classes.py\", line 305, in fit\n",
            "    if max_depth <= 0:\n",
            "TypeError: '<=' not supported between instances of 'str' and 'int'\n",
            "\n",
            "  warnings.warn(some_fits_failed_message, FitFailedWarning)\n",
            "/usr/local/lib/python3.7/dist-packages/sklearn/model_selection/_search.py:972: UserWarning: One or more of the test scores are non-finite: [       nan        nan        nan        nan        nan        nan\n",
            "        nan        nan        nan 0.98949315 0.99998001 0.99710087\n",
            " 0.99923026 0.99961012 0.9991403  0.99582128 0.99039336 0.99613116\n",
            " 0.99972008 1.         1.         1.         1.         1.\n",
            " 0.99597141 1.         1.         1.         1.         1.\n",
            " 1.         1.         1.         1.         1.         1.\n",
            " 1.         1.         1.         1.         1.         1.\n",
            " 1.         1.         1.         1.         1.         1.\n",
            " 1.         1.         1.         1.         1.         1.        ]\n",
            "  category=UserWarning,\n",
            "/usr/local/lib/python3.7/dist-packages/sklearn/model_selection/_search.py:972: UserWarning: One or more of the train scores are non-finite: [       nan        nan        nan        nan        nan        nan\n",
            "        nan        nan        nan 0.98926349 0.99998001 0.99716092\n",
            " 0.99915277 0.99944518 0.99924524 0.99639617 0.990413   0.99618124\n",
            " 0.99973759 1.         1.         1.         1.         1.\n",
            " 0.99611122 1.         1.         1.         1.         1.\n",
            " 1.         1.         1.         1.         1.         1.\n",
            " 1.         1.         1.         1.         1.         1.\n",
            " 1.         1.         1.         1.         1.         1.\n",
            " 1.         1.         1.         1.         1.         1.        ]\n",
            "  category=UserWarning,\n"
          ]
        },
        {
          "output_type": "execute_result",
          "data": {
            "text/plain": [
              "GridSearchCV(estimator=RandomForestClassifier(n_estimators=10),\n",
              "             param_grid={'criterion': ['gini'],\n",
              "                         'max_depth': ['None', 4, 5, 6, 7, 8],\n",
              "                         'max_features': ['auto', 'sqrt', 'log2'],\n",
              "                         'n_estimators': [51, 100, 200]},\n",
              "             return_train_score=True, scoring='accuracy')"
            ]
          },
          "metadata": {},
          "execution_count": 154
        }
      ]
    },
    {
      "cell_type": "markdown",
      "source": [
        "# Print Best Parameter"
      ],
      "metadata": {
        "id": "bGs4W6cYENiS"
      }
    },
    {
      "cell_type": "code",
      "source": [
        "print(clf.best_estimator_.n_estimators)\n",
        "print(clf.best_estimator_.max_features)\n",
        "print(clf.best_estimator_.max_depth)\n",
        "# print(clf.best_estimator_.criterion)"
      ],
      "metadata": {
        "id": "zlVUtMItEHo3",
        "colab": {
          "base_uri": "https://localhost:8080/"
        },
        "outputId": "784b9cfd-eb99-4e12-a078-26a88208f6a6"
      },
      "execution_count": null,
      "outputs": [
        {
          "output_type": "stream",
          "name": "stdout",
          "text": [
            "100\n",
            "auto\n",
            "5\n"
          ]
        }
      ]
    },
    {
      "cell_type": "code",
      "source": [
        "print(clf.best_score_)"
      ],
      "metadata": {
        "id": "gqjQ1E1NEHyR",
        "colab": {
          "base_uri": "https://localhost:8080/"
        },
        "outputId": "dd701bd0-d4b5-4e59-deb0-077116e1f35e"
      },
      "execution_count": null,
      "outputs": [
        {
          "output_type": "stream",
          "name": "stdout",
          "text": [
            "1.0\n"
          ]
        }
      ]
    },
    {
      "cell_type": "code",
      "source": [
        "# cv_estimate = ms.cross_val_score(clf, x_scaled, y) \n",
        "\n",
        "# print('Mean performance metric = %4.3f' % np.mean(cv_estimate))\n",
        "# print('SDT of the metric       = %4.3f' % np.std(cv_estimate))\n",
        "# print('Outcomes by cv fold')\n",
        "# for i, x in enumerate(cv_estimate):\n",
        "#     print('Fold %2d    %4.3f' % (i+1, x))"
      ],
      "metadata": {
        "id": "6f0mBmQ_EHzv",
        "colab": {
          "base_uri": "https://localhost:8080/"
        },
        "outputId": "a68162d3-3ef9-4c42-9375-5bbb058e7371"
      },
      "execution_count": null,
      "outputs": [
        {
          "output_type": "stream",
          "name": "stderr",
          "text": [
            "/usr/local/lib/python3.7/dist-packages/sklearn/model_selection/_validation.py:372: FitFailedWarning: \n",
            "45 fits failed out of a total of 270.\n",
            "The score on these train-test partitions for these parameters will be set to nan.\n",
            "If these failures are not expected, you can try to debug them by setting error_score='raise'.\n",
            "\n",
            "Below are more details about the failures:\n",
            "--------------------------------------------------------------------------------\n",
            "45 fits failed with the following error:\n",
            "Traceback (most recent call last):\n",
            "  File \"/usr/local/lib/python3.7/dist-packages/sklearn/model_selection/_validation.py\", line 680, in _fit_and_score\n",
            "    estimator.fit(X_train, y_train, **fit_params)\n",
            "  File \"/usr/local/lib/python3.7/dist-packages/sklearn/ensemble/_forest.py\", line 467, in fit\n",
            "    for i, t in enumerate(trees)\n",
            "  File \"/usr/local/lib/python3.7/dist-packages/joblib/parallel.py\", line 1085, in __call__\n",
            "    if self.dispatch_one_batch(iterator):\n",
            "  File \"/usr/local/lib/python3.7/dist-packages/joblib/parallel.py\", line 901, in dispatch_one_batch\n",
            "    self._dispatch(tasks)\n",
            "  File \"/usr/local/lib/python3.7/dist-packages/joblib/parallel.py\", line 819, in _dispatch\n",
            "    job = self._backend.apply_async(batch, callback=cb)\n",
            "  File \"/usr/local/lib/python3.7/dist-packages/joblib/_parallel_backends.py\", line 208, in apply_async\n",
            "    result = ImmediateResult(func)\n",
            "  File \"/usr/local/lib/python3.7/dist-packages/joblib/_parallel_backends.py\", line 597, in __init__\n",
            "    self.results = batch()\n",
            "  File \"/usr/local/lib/python3.7/dist-packages/joblib/parallel.py\", line 289, in __call__\n",
            "    for func, args, kwargs in self.items]\n",
            "  File \"/usr/local/lib/python3.7/dist-packages/joblib/parallel.py\", line 289, in <listcomp>\n",
            "    for func, args, kwargs in self.items]\n",
            "  File \"/usr/local/lib/python3.7/dist-packages/sklearn/utils/fixes.py\", line 216, in __call__\n",
            "    return self.function(*args, **kwargs)\n",
            "  File \"/usr/local/lib/python3.7/dist-packages/sklearn/ensemble/_forest.py\", line 185, in _parallel_build_trees\n",
            "    tree.fit(X, y, sample_weight=curr_sample_weight, check_input=False)\n",
            "  File \"/usr/local/lib/python3.7/dist-packages/sklearn/tree/_classes.py\", line 942, in fit\n",
            "    X_idx_sorted=X_idx_sorted,\n",
            "  File \"/usr/local/lib/python3.7/dist-packages/sklearn/tree/_classes.py\", line 305, in fit\n",
            "    if max_depth <= 0:\n",
            "TypeError: '<=' not supported between instances of 'str' and 'int'\n",
            "\n",
            "  warnings.warn(some_fits_failed_message, FitFailedWarning)\n",
            "/usr/local/lib/python3.7/dist-packages/sklearn/model_selection/_search.py:972: UserWarning: One or more of the test scores are non-finite: [nan nan nan nan nan nan nan nan nan  1.  1.  1.  1.  1.  1.  1.  1.  1.\n",
            "  1.  1.  1.  1.  1.  1.  1.  1.  1.  1.  1.  1.  1.  1.  1.  1.  1.  1.\n",
            "  1.  1.  1.  1.  1.  1.  1.  1.  1.  1.  1.  1.  1.  1.  1.  1.  1.  1.]\n",
            "  category=UserWarning,\n",
            "/usr/local/lib/python3.7/dist-packages/sklearn/model_selection/_search.py:972: UserWarning: One or more of the train scores are non-finite: [nan nan nan nan nan nan nan nan nan  1.  1.  1.  1.  1.  1.  1.  1.  1.\n",
            "  1.  1.  1.  1.  1.  1.  1.  1.  1.  1.  1.  1.  1.  1.  1.  1.  1.  1.\n",
            "  1.  1.  1.  1.  1.  1.  1.  1.  1.  1.  1.  1.  1.  1.  1.  1.  1.  1.]\n",
            "  category=UserWarning,\n",
            "/usr/local/lib/python3.7/dist-packages/sklearn/model_selection/_validation.py:372: FitFailedWarning: \n",
            "45 fits failed out of a total of 270.\n",
            "The score on these train-test partitions for these parameters will be set to nan.\n",
            "If these failures are not expected, you can try to debug them by setting error_score='raise'.\n",
            "\n",
            "Below are more details about the failures:\n",
            "--------------------------------------------------------------------------------\n",
            "45 fits failed with the following error:\n",
            "Traceback (most recent call last):\n",
            "  File \"/usr/local/lib/python3.7/dist-packages/sklearn/model_selection/_validation.py\", line 680, in _fit_and_score\n",
            "    estimator.fit(X_train, y_train, **fit_params)\n",
            "  File \"/usr/local/lib/python3.7/dist-packages/sklearn/ensemble/_forest.py\", line 467, in fit\n",
            "    for i, t in enumerate(trees)\n",
            "  File \"/usr/local/lib/python3.7/dist-packages/joblib/parallel.py\", line 1085, in __call__\n",
            "    if self.dispatch_one_batch(iterator):\n",
            "  File \"/usr/local/lib/python3.7/dist-packages/joblib/parallel.py\", line 901, in dispatch_one_batch\n",
            "    self._dispatch(tasks)\n",
            "  File \"/usr/local/lib/python3.7/dist-packages/joblib/parallel.py\", line 819, in _dispatch\n",
            "    job = self._backend.apply_async(batch, callback=cb)\n",
            "  File \"/usr/local/lib/python3.7/dist-packages/joblib/_parallel_backends.py\", line 208, in apply_async\n",
            "    result = ImmediateResult(func)\n",
            "  File \"/usr/local/lib/python3.7/dist-packages/joblib/_parallel_backends.py\", line 597, in __init__\n",
            "    self.results = batch()\n",
            "  File \"/usr/local/lib/python3.7/dist-packages/joblib/parallel.py\", line 289, in __call__\n",
            "    for func, args, kwargs in self.items]\n",
            "  File \"/usr/local/lib/python3.7/dist-packages/joblib/parallel.py\", line 289, in <listcomp>\n",
            "    for func, args, kwargs in self.items]\n",
            "  File \"/usr/local/lib/python3.7/dist-packages/sklearn/utils/fixes.py\", line 216, in __call__\n",
            "    return self.function(*args, **kwargs)\n",
            "  File \"/usr/local/lib/python3.7/dist-packages/sklearn/ensemble/_forest.py\", line 185, in _parallel_build_trees\n",
            "    tree.fit(X, y, sample_weight=curr_sample_weight, check_input=False)\n",
            "  File \"/usr/local/lib/python3.7/dist-packages/sklearn/tree/_classes.py\", line 942, in fit\n",
            "    X_idx_sorted=X_idx_sorted,\n",
            "  File \"/usr/local/lib/python3.7/dist-packages/sklearn/tree/_classes.py\", line 305, in fit\n",
            "    if max_depth <= 0:\n",
            "TypeError: '<=' not supported between instances of 'str' and 'int'\n",
            "\n",
            "  warnings.warn(some_fits_failed_message, FitFailedWarning)\n",
            "/usr/local/lib/python3.7/dist-packages/sklearn/model_selection/_search.py:972: UserWarning: One or more of the test scores are non-finite: [nan nan nan nan nan nan nan nan nan  1.  1.  1.  1.  1.  1.  1.  1.  1.\n",
            "  1.  1.  1.  1.  1.  1.  1.  1.  1.  1.  1.  1.  1.  1.  1.  1.  1.  1.\n",
            "  1.  1.  1.  1.  1.  1.  1.  1.  1.  1.  1.  1.  1.  1.  1.  1.  1.  1.]\n",
            "  category=UserWarning,\n",
            "/usr/local/lib/python3.7/dist-packages/sklearn/model_selection/_search.py:972: UserWarning: One or more of the train scores are non-finite: [nan nan nan nan nan nan nan nan nan  1.  1.  1.  1.  1.  1.  1.  1.  1.\n",
            "  1.  1.  1.  1.  1.  1.  1.  1.  1.  1.  1.  1.  1.  1.  1.  1.  1.  1.\n",
            "  1.  1.  1.  1.  1.  1.  1.  1.  1.  1.  1.  1.  1.  1.  1.  1.  1.  1.]\n",
            "  category=UserWarning,\n",
            "/usr/local/lib/python3.7/dist-packages/sklearn/model_selection/_validation.py:372: FitFailedWarning: \n",
            "45 fits failed out of a total of 270.\n",
            "The score on these train-test partitions for these parameters will be set to nan.\n",
            "If these failures are not expected, you can try to debug them by setting error_score='raise'.\n",
            "\n",
            "Below are more details about the failures:\n",
            "--------------------------------------------------------------------------------\n",
            "45 fits failed with the following error:\n",
            "Traceback (most recent call last):\n",
            "  File \"/usr/local/lib/python3.7/dist-packages/sklearn/model_selection/_validation.py\", line 680, in _fit_and_score\n",
            "    estimator.fit(X_train, y_train, **fit_params)\n",
            "  File \"/usr/local/lib/python3.7/dist-packages/sklearn/ensemble/_forest.py\", line 467, in fit\n",
            "    for i, t in enumerate(trees)\n",
            "  File \"/usr/local/lib/python3.7/dist-packages/joblib/parallel.py\", line 1085, in __call__\n",
            "    if self.dispatch_one_batch(iterator):\n",
            "  File \"/usr/local/lib/python3.7/dist-packages/joblib/parallel.py\", line 901, in dispatch_one_batch\n",
            "    self._dispatch(tasks)\n",
            "  File \"/usr/local/lib/python3.7/dist-packages/joblib/parallel.py\", line 819, in _dispatch\n",
            "    job = self._backend.apply_async(batch, callback=cb)\n",
            "  File \"/usr/local/lib/python3.7/dist-packages/joblib/_parallel_backends.py\", line 208, in apply_async\n",
            "    result = ImmediateResult(func)\n",
            "  File \"/usr/local/lib/python3.7/dist-packages/joblib/_parallel_backends.py\", line 597, in __init__\n",
            "    self.results = batch()\n",
            "  File \"/usr/local/lib/python3.7/dist-packages/joblib/parallel.py\", line 289, in __call__\n",
            "    for func, args, kwargs in self.items]\n",
            "  File \"/usr/local/lib/python3.7/dist-packages/joblib/parallel.py\", line 289, in <listcomp>\n",
            "    for func, args, kwargs in self.items]\n",
            "  File \"/usr/local/lib/python3.7/dist-packages/sklearn/utils/fixes.py\", line 216, in __call__\n",
            "    return self.function(*args, **kwargs)\n",
            "  File \"/usr/local/lib/python3.7/dist-packages/sklearn/ensemble/_forest.py\", line 185, in _parallel_build_trees\n",
            "    tree.fit(X, y, sample_weight=curr_sample_weight, check_input=False)\n",
            "  File \"/usr/local/lib/python3.7/dist-packages/sklearn/tree/_classes.py\", line 942, in fit\n",
            "    X_idx_sorted=X_idx_sorted,\n",
            "  File \"/usr/local/lib/python3.7/dist-packages/sklearn/tree/_classes.py\", line 305, in fit\n",
            "    if max_depth <= 0:\n",
            "TypeError: '<=' not supported between instances of 'str' and 'int'\n",
            "\n",
            "  warnings.warn(some_fits_failed_message, FitFailedWarning)\n",
            "/usr/local/lib/python3.7/dist-packages/sklearn/model_selection/_search.py:972: UserWarning: One or more of the test scores are non-finite: [nan nan nan nan nan nan nan nan nan  1.  1.  1.  1.  1.  1.  1.  1.  1.\n",
            "  1.  1.  1.  1.  1.  1.  1.  1.  1.  1.  1.  1.  1.  1.  1.  1.  1.  1.\n",
            "  1.  1.  1.  1.  1.  1.  1.  1.  1.  1.  1.  1.  1.  1.  1.  1.  1.  1.]\n",
            "  category=UserWarning,\n",
            "/usr/local/lib/python3.7/dist-packages/sklearn/model_selection/_search.py:972: UserWarning: One or more of the train scores are non-finite: [nan nan nan nan nan nan nan nan nan  1.  1.  1.  1.  1.  1.  1.  1.  1.\n",
            "  1.  1.  1.  1.  1.  1.  1.  1.  1.  1.  1.  1.  1.  1.  1.  1.  1.  1.\n",
            "  1.  1.  1.  1.  1.  1.  1.  1.  1.  1.  1.  1.  1.  1.  1.  1.  1.  1.]\n",
            "  category=UserWarning,\n",
            "/usr/local/lib/python3.7/dist-packages/sklearn/model_selection/_validation.py:372: FitFailedWarning: \n",
            "45 fits failed out of a total of 270.\n",
            "The score on these train-test partitions for these parameters will be set to nan.\n",
            "If these failures are not expected, you can try to debug them by setting error_score='raise'.\n",
            "\n",
            "Below are more details about the failures:\n",
            "--------------------------------------------------------------------------------\n",
            "45 fits failed with the following error:\n",
            "Traceback (most recent call last):\n",
            "  File \"/usr/local/lib/python3.7/dist-packages/sklearn/model_selection/_validation.py\", line 680, in _fit_and_score\n",
            "    estimator.fit(X_train, y_train, **fit_params)\n",
            "  File \"/usr/local/lib/python3.7/dist-packages/sklearn/ensemble/_forest.py\", line 467, in fit\n",
            "    for i, t in enumerate(trees)\n",
            "  File \"/usr/local/lib/python3.7/dist-packages/joblib/parallel.py\", line 1085, in __call__\n",
            "    if self.dispatch_one_batch(iterator):\n",
            "  File \"/usr/local/lib/python3.7/dist-packages/joblib/parallel.py\", line 901, in dispatch_one_batch\n",
            "    self._dispatch(tasks)\n",
            "  File \"/usr/local/lib/python3.7/dist-packages/joblib/parallel.py\", line 819, in _dispatch\n",
            "    job = self._backend.apply_async(batch, callback=cb)\n",
            "  File \"/usr/local/lib/python3.7/dist-packages/joblib/_parallel_backends.py\", line 208, in apply_async\n",
            "    result = ImmediateResult(func)\n",
            "  File \"/usr/local/lib/python3.7/dist-packages/joblib/_parallel_backends.py\", line 597, in __init__\n",
            "    self.results = batch()\n",
            "  File \"/usr/local/lib/python3.7/dist-packages/joblib/parallel.py\", line 289, in __call__\n",
            "    for func, args, kwargs in self.items]\n",
            "  File \"/usr/local/lib/python3.7/dist-packages/joblib/parallel.py\", line 289, in <listcomp>\n",
            "    for func, args, kwargs in self.items]\n",
            "  File \"/usr/local/lib/python3.7/dist-packages/sklearn/utils/fixes.py\", line 216, in __call__\n",
            "    return self.function(*args, **kwargs)\n",
            "  File \"/usr/local/lib/python3.7/dist-packages/sklearn/ensemble/_forest.py\", line 185, in _parallel_build_trees\n",
            "    tree.fit(X, y, sample_weight=curr_sample_weight, check_input=False)\n",
            "  File \"/usr/local/lib/python3.7/dist-packages/sklearn/tree/_classes.py\", line 942, in fit\n",
            "    X_idx_sorted=X_idx_sorted,\n",
            "  File \"/usr/local/lib/python3.7/dist-packages/sklearn/tree/_classes.py\", line 305, in fit\n",
            "    if max_depth <= 0:\n",
            "TypeError: '<=' not supported between instances of 'str' and 'int'\n",
            "\n",
            "  warnings.warn(some_fits_failed_message, FitFailedWarning)\n",
            "/usr/local/lib/python3.7/dist-packages/sklearn/model_selection/_search.py:972: UserWarning: One or more of the test scores are non-finite: [nan nan nan nan nan nan nan nan nan  1.  1.  1.  1.  1.  1.  1.  1.  1.\n",
            "  1.  1.  1.  1.  1.  1.  1.  1.  1.  1.  1.  1.  1.  1.  1.  1.  1.  1.\n",
            "  1.  1.  1.  1.  1.  1.  1.  1.  1.  1.  1.  1.  1.  1.  1.  1.  1.  1.]\n",
            "  category=UserWarning,\n",
            "/usr/local/lib/python3.7/dist-packages/sklearn/model_selection/_search.py:972: UserWarning: One or more of the train scores are non-finite: [nan nan nan nan nan nan nan nan nan  1.  1.  1.  1.  1.  1.  1.  1.  1.\n",
            "  1.  1.  1.  1.  1.  1.  1.  1.  1.  1.  1.  1.  1.  1.  1.  1.  1.  1.\n",
            "  1.  1.  1.  1.  1.  1.  1.  1.  1.  1.  1.  1.  1.  1.  1.  1.  1.  1.]\n",
            "  category=UserWarning,\n",
            "/usr/local/lib/python3.7/dist-packages/sklearn/model_selection/_validation.py:372: FitFailedWarning: \n",
            "45 fits failed out of a total of 270.\n",
            "The score on these train-test partitions for these parameters will be set to nan.\n",
            "If these failures are not expected, you can try to debug them by setting error_score='raise'.\n",
            "\n",
            "Below are more details about the failures:\n",
            "--------------------------------------------------------------------------------\n",
            "45 fits failed with the following error:\n",
            "Traceback (most recent call last):\n",
            "  File \"/usr/local/lib/python3.7/dist-packages/sklearn/model_selection/_validation.py\", line 680, in _fit_and_score\n",
            "    estimator.fit(X_train, y_train, **fit_params)\n",
            "  File \"/usr/local/lib/python3.7/dist-packages/sklearn/ensemble/_forest.py\", line 467, in fit\n",
            "    for i, t in enumerate(trees)\n",
            "  File \"/usr/local/lib/python3.7/dist-packages/joblib/parallel.py\", line 1085, in __call__\n",
            "    if self.dispatch_one_batch(iterator):\n",
            "  File \"/usr/local/lib/python3.7/dist-packages/joblib/parallel.py\", line 901, in dispatch_one_batch\n",
            "    self._dispatch(tasks)\n",
            "  File \"/usr/local/lib/python3.7/dist-packages/joblib/parallel.py\", line 819, in _dispatch\n",
            "    job = self._backend.apply_async(batch, callback=cb)\n",
            "  File \"/usr/local/lib/python3.7/dist-packages/joblib/_parallel_backends.py\", line 208, in apply_async\n",
            "    result = ImmediateResult(func)\n",
            "  File \"/usr/local/lib/python3.7/dist-packages/joblib/_parallel_backends.py\", line 597, in __init__\n",
            "    self.results = batch()\n",
            "  File \"/usr/local/lib/python3.7/dist-packages/joblib/parallel.py\", line 289, in __call__\n",
            "    for func, args, kwargs in self.items]\n",
            "  File \"/usr/local/lib/python3.7/dist-packages/joblib/parallel.py\", line 289, in <listcomp>\n",
            "    for func, args, kwargs in self.items]\n",
            "  File \"/usr/local/lib/python3.7/dist-packages/sklearn/utils/fixes.py\", line 216, in __call__\n",
            "    return self.function(*args, **kwargs)\n",
            "  File \"/usr/local/lib/python3.7/dist-packages/sklearn/ensemble/_forest.py\", line 185, in _parallel_build_trees\n",
            "    tree.fit(X, y, sample_weight=curr_sample_weight, check_input=False)\n",
            "  File \"/usr/local/lib/python3.7/dist-packages/sklearn/tree/_classes.py\", line 942, in fit\n",
            "    X_idx_sorted=X_idx_sorted,\n",
            "  File \"/usr/local/lib/python3.7/dist-packages/sklearn/tree/_classes.py\", line 305, in fit\n",
            "    if max_depth <= 0:\n",
            "TypeError: '<=' not supported between instances of 'str' and 'int'\n",
            "\n",
            "  warnings.warn(some_fits_failed_message, FitFailedWarning)\n",
            "/usr/local/lib/python3.7/dist-packages/sklearn/model_selection/_search.py:972: UserWarning: One or more of the test scores are non-finite: [nan nan nan nan nan nan nan nan nan  1.  1.  1.  1.  1.  1.  1.  1.  1.\n",
            "  1.  1.  1.  1.  1.  1.  1.  1.  1.  1.  1.  1.  1.  1.  1.  1.  1.  1.\n",
            "  1.  1.  1.  1.  1.  1.  1.  1.  1.  1.  1.  1.  1.  1.  1.  1.  1.  1.]\n",
            "  category=UserWarning,\n",
            "/usr/local/lib/python3.7/dist-packages/sklearn/model_selection/_search.py:972: UserWarning: One or more of the train scores are non-finite: [nan nan nan nan nan nan nan nan nan  1.  1.  1.  1.  1.  1.  1.  1.  1.\n",
            "  1.  1.  1.  1.  1.  1.  1.  1.  1.  1.  1.  1.  1.  1.  1.  1.  1.  1.\n",
            "  1.  1.  1.  1.  1.  1.  1.  1.  1.  1.  1.  1.  1.  1.  1.  1.  1.  1.]\n",
            "  category=UserWarning,\n"
          ]
        },
        {
          "output_type": "stream",
          "name": "stdout",
          "text": [
            "Mean performance metric = 1.000\n",
            "SDT of the metric       = 0.000\n",
            "Outcomes by cv fold\n",
            "Fold  1    1.000\n",
            "Fold  2    1.000\n",
            "Fold  3    1.000\n",
            "Fold  4    1.000\n",
            "Fold  5    1.000\n"
          ]
        }
      ]
    },
    {
      "cell_type": "code",
      "source": [
        "rf_clf = RandomForestClassifier(max_features = clf.best_estimator_.max_features,\n",
        "                  max_depth = clf.best_estimator_.max_depth, criterion='gini',\n",
        "                  class_weight = 'balanced') \n",
        "rf_clf.fit(X_train, y_train)"
      ],
      "metadata": {
        "id": "M0AwPrAIEzE2",
        "colab": {
          "base_uri": "https://localhost:8080/"
        },
        "outputId": "25205c79-d81f-4e81-fc0b-74e5e93584d4"
      },
      "execution_count": null,
      "outputs": [
        {
          "output_type": "execute_result",
          "data": {
            "text/plain": [
              "RandomForestClassifier(class_weight='balanced', max_depth=5)"
            ]
          },
          "metadata": {},
          "execution_count": 157
        }
      ]
    },
    {
      "cell_type": "code",
      "source": [
        "pred =rf_clf.predict(X_test)"
      ],
      "metadata": {
        "id": "hkSh-_4iEzHp"
      },
      "execution_count": null,
      "outputs": []
    },
    {
      "cell_type": "code",
      "source": [
        "def print_metrics_4(labels, scores):\n",
        "   \n",
        "    conf = sklm.confusion_matrix(labels, scores)\n",
        "    print('                 Confusion matrix')\n",
        "    print('                 AnswerValue 1   AnswerValue 2    AnswerValue 3    AnswerValue 4')\n",
        "    print('AnswerValue 1    %6d' % conf[0,0] + '            %5d' % conf[0,1] + '             %5d' % conf[0,2]+ '             %5d' % conf[0,3])\n",
        "    print('AnswerValue 2    %6d' % conf[1,0] + '            %5d' % conf[1,1] + '             %5d' % conf[1,2]+ '             %5d' % conf[1,3])\n",
        "    print('AnswerValue 3    %6d' % conf[2,0] + '            %5d' % conf[2,1] + '             %5d' % conf[2,2]+ '             %5d' % conf[2,3])\n",
        "    print('AnswerValue 4    %6d' % conf[3,0] + '            %5d' % conf[3,1] + '             %5d' % conf[3,2]+ '             %5d' % conf[3,3])\n",
        "    ## Now compute and display the accuracy and metrics\n",
        "    print('')\n",
        "    print('Accuracy        %0.2f' % sklm.accuracy_score(labels, scores))\n",
        "    print('F1 Score        %0.2f' % sklm.f1_score(labels, scores, average='macro'))\n",
        "    print('AUC             %0.2f' % sklm.roc_auc_score(labels, probs[:,:], multi_class='ovr'))\n",
        "    metrics = sklm.precision_recall_fscore_support(labels, scores)\n",
        "    print('Macro precision %0.2f' % float((float(metrics[0][0]) + float(metrics[0][1]))/2.0))\n",
        "    print('Macro recall    %0.2f' % float((float(metrics[1][0]) + float(metrics[1][1]))/2.0))\n",
        "\n",
        "    print(' ')\n",
        "    print('         AnswerValue 1  AnswerValue 2  AnswerValue 3  AnswerValue 4')\n",
        "    print('Num case   %0.2f' % metrics[3][0] + '         %0.2f' % metrics[3][1] + '         %0.2f' % metrics[3][2]+ '        %0.2f' % metrics[3][3])\n",
        "    print('Precision   %0.2f' % metrics[0][0] + '          %0.2f' % metrics[0][1] + '            %0.2f' % metrics[0][2]+ '        %0.2f' % metrics[0][3])\n",
        "    print('Recall      %0.2f' % metrics[1][0] + '          %0.2f' % metrics[1][1] + '            %0.2f' % metrics[1][2]+ '        %0.2f' % metrics[1][3])\n",
        "    print('F1          %0.2f' % metrics[2][0] + '          %0.2f' % metrics[2][1] + '            %0.2f' % metrics[2][2]+ '        %0.2f' % metrics[2][3])\n",
        "    \n",
        "print_metrics_4(y_test, pred)   \n"
      ],
      "metadata": {
        "id": "Mm0xkddfEzJQ",
        "colab": {
          "base_uri": "https://localhost:8080/"
        },
        "outputId": "e448ae59-74f6-43c9-86c6-e9502999d9c5"
      },
      "execution_count": null,
      "outputs": [
        {
          "output_type": "stream",
          "name": "stdout",
          "text": [
            "                 Confusion matrix\n",
            "                 AnswerValue 1   AnswerValue 2    AnswerValue 3    AnswerValue 4\n",
            "AnswerValue 1     10734                0                 0                 0\n",
            "AnswerValue 2         0            11974                 0                 0\n",
            "AnswerValue 3         0                0             11846                 0\n",
            "AnswerValue 4         0                0                 0             10461\n",
            "\n",
            "Accuracy        1.00\n",
            "F1 Score        1.00\n",
            "AUC             0.93\n",
            "Macro precision 1.00\n",
            "Macro recall    1.00\n",
            " \n",
            "         AnswerValue 1  AnswerValue 2  AnswerValue 3  AnswerValue 4\n",
            "Num case   10734.00         11974.00         11846.00        10461.00\n",
            "Precision   1.00          1.00            1.00        1.00\n",
            "Recall      1.00          1.00            1.00        1.00\n",
            "F1          1.00          1.00            1.00        1.00\n"
          ]
        }
      ]
    },
    {
      "cell_type": "code",
      "source": [
        "#probabilities\n",
        "probs = rf_clf.predict_proba(X_test)"
      ],
      "metadata": {
        "id": "mnFxxR1QEzKw"
      },
      "execution_count": null,
      "outputs": []
    },
    {
      "cell_type": "code",
      "source": [
        "#There is an overfiitting in this model hence we need to do feature Importance and selection"
      ],
      "metadata": {
        "id": "GAJTKm3tEzPP"
      },
      "execution_count": null,
      "outputs": []
    },
    {
      "cell_type": "markdown",
      "source": [
        "# FEATURE SELECTION WITH RANDOM FOREST"
      ],
      "metadata": {
        "id": "gdijZqnuptpX"
      }
    },
    {
      "cell_type": "code",
      "source": [
        "df_ = df.drop('UserId', axis= 1)"
      ],
      "metadata": {
        "id": "BtT1ocJM9N50"
      },
      "execution_count": null,
      "outputs": []
    },
    {
      "cell_type": "code",
      "source": [
        "df_.columns"
      ],
      "metadata": {
        "colab": {
          "base_uri": "https://localhost:8080/"
        },
        "id": "6QoDICC-9Pl_",
        "outputId": "9f9f9ca5-ce47-4306-e2af-c391f005e358"
      },
      "execution_count": null,
      "outputs": [
        {
          "output_type": "execute_result",
          "data": {
            "text/plain": [
              "Index(['IsCorrect', 'CorrectAnswer', 'AnswerValue', 'Gender', 'PremiumPupil',\n",
              "       'HourAnswered', 'MonthAnswered', 'YearAnswered', 'Day of Week Answered',\n",
              "       'YearBirth', 'Age', 'poly2_0', 'poly2_1', 'poly2_2', 'poly2_3',\n",
              "       'poly2_4', 'poly2_5', 'Perfect_Date', 'Age_bin', 'Age_mean_on_yr_mth',\n",
              "       'Age_std_on_yr_mth', 'Age_max_on_yr_mth', 'Age_min_on_yr_mth',\n",
              "       'Year_Month_int', 'l_QuestionId', 'l_AnswerId', 'l_GroupId', 'l_QiuzId',\n",
              "       'l_SchemeOfWorkId', 'poly1_0', 'poly1_1', 'poly1_2', 'Perfect_Correct'],\n",
              "      dtype='object')"
            ]
          },
          "metadata": {},
          "execution_count": 161
        }
      ]
    },
    {
      "cell_type": "code",
      "source": [
        "feature_importance_df = pd.DataFrame(rf_clf.feature_importances_, columns=['importance'])\n",
        "feature_importance_df['feature'] = df_.columns\n",
        "\n",
        "plt.figure(figsize=(20, 12));\n",
        "sns.barplot(x=\"importance\", y=\"feature\", data=feature_importance_df.sort_values(by = ['importance'], ascending = False).head(10))\n",
        "plt.title('Model features importance:')"
      ],
      "metadata": {
        "colab": {
          "base_uri": "https://localhost:8080/",
          "height": 748
        },
        "id": "7Jj57-zQp1OE",
        "outputId": "8afa2aa1-73a3-4c5f-9445-91b23732be77"
      },
      "execution_count": null,
      "outputs": [
        {
          "output_type": "execute_result",
          "data": {
            "text/plain": [
              "Text(0.5, 1.0, 'Model features importance:')"
            ]
          },
          "metadata": {},
          "execution_count": 162
        },
        {
          "output_type": "display_data",
          "data": {
            "text/plain": [
              "<Figure size 1440x864 with 1 Axes>"
            ],
            "image/png": "[encoded data removed]"
          },
          "metadata": {
            "needs_background": "light"
          }
        }
      ]
    },
    {
      "cell_type": "code",
      "source": [],
      "metadata": {
        "id": "Ow_VLHLD_ThZ"
      },
      "execution_count": null,
      "outputs": []
    },
    {
      "cell_type": "markdown",
      "source": [
        "# FEATURE SELECTION"
      ],
      "metadata": {
        "id": "bVh_GNsQ9nSF"
      }
    },
    {
      "cell_type": "code",
      "source": [
        "new_feat = feature_importance_df.sort_values(by = ['importance'], ascending = False).head(10)['feature'].to_list()"
      ],
      "metadata": {
        "id": "nUvrlKa79mJD"
      },
      "execution_count": null,
      "outputs": []
    },
    {
      "cell_type": "code",
      "source": [
        "new_feat"
      ],
      "metadata": {
        "colab": {
          "base_uri": "https://localhost:8080/"
        },
        "id": "_ZCeEZh49vrF",
        "outputId": "2b1e3ebb-e110-4e5b-d393-febdabf62130"
      },
      "execution_count": null,
      "outputs": [
        {
          "output_type": "execute_result",
          "data": {
            "text/plain": [
              "['AnswerValue',\n",
              " 'poly1_2',\n",
              " 'Perfect_Correct',\n",
              " 'poly1_1',\n",
              " 'CorrectAnswer',\n",
              " 'poly1_0',\n",
              " 'IsCorrect',\n",
              " 'l_SchemeOfWorkId',\n",
              " 'l_QuestionId',\n",
              " 'l_GroupId']"
            ]
          },
          "metadata": {},
          "execution_count": 175
        }
      ]
    },
    {
      "cell_type": "code",
      "source": [
        "X_new = df[new_feat]"
      ],
      "metadata": {
        "id": "HkHO0boZ_ppW"
      },
      "execution_count": null,
      "outputs": []
    },
    {
      "cell_type": "code",
      "source": [
        "X_new = X_new.drop('AnswerValue', axis = 1)"
      ],
      "metadata": {
        "id": "E86ORNrY_zBT"
      },
      "execution_count": null,
      "outputs": []
    },
    {
      "cell_type": "code",
      "source": [
        "X_new"
      ],
      "metadata": {
        "colab": {
          "base_uri": "https://localhost:8080/",
          "height": 424
        },
        "id": "v8QYakgDADqK",
        "outputId": "dd33998e-a2ca-4bdb-bca6-851d5d433ac0"
      },
      "execution_count": null,
      "outputs": [
        {
          "output_type": "execute_result",
          "data": {
            "text/plain": [
              "         poly1_2  Perfect_Correct  poly1_1  CorrectAnswer  poly1_0  IsCorrect  \\\n",
              "1058649      0.0              1.0      1.0            1.0      0.0        0.0   \n",
              "2900917      2.0              3.0      2.0            2.0      1.0        1.0   \n",
              "3267372      0.0              2.0      2.0            2.0      0.0        0.0   \n",
              "1522435      0.0              3.0      3.0            3.0      0.0        0.0   \n",
              "1364692      0.0              2.0      2.0            2.0      0.0        0.0   \n",
              "...          ...              ...      ...            ...      ...        ...   \n",
              "3054988      2.0              3.0      2.0            2.0      1.0        1.0   \n",
              "3531913      4.0              5.0      4.0            4.0      1.0        1.0   \n",
              "2196529      2.0              3.0      2.0            2.0      1.0        1.0   \n",
              "1747813      0.0              2.0      2.0            2.0      0.0        0.0   \n",
              "1577859      3.0              4.0      3.0            3.0      1.0        1.0   \n",
              "\n",
              "         l_SchemeOfWorkId  l_QuestionId  l_GroupId  \n",
              "1058649          9.043577     10.168080   8.776939  \n",
              "2900917          9.034319      8.952347   9.244065  \n",
              "3267372          9.043813     10.203222   9.034319  \n",
              "1522435         10.248070      9.654834   9.174920  \n",
              "1364692          9.038365      9.383705   8.812099  \n",
              "...                   ...           ...        ...  \n",
              "3054988          9.043577      9.939289   9.233275  \n",
              "3531913          9.037415      9.645105   9.192584  \n",
              "2196529          9.034319     10.092288   9.179984  \n",
              "1747813          9.035987      9.385805   8.827908  \n",
              "1577859          9.038128      6.947937   8.141772  \n",
              "\n",
              "[100032 rows x 9 columns]"
            ],
            "text/html": [
              "\n",
              "  <div id=\"df-81e5d0a6-f305-4844-b952-e78a20bf962a\">\n",
              "    <div class=\"colab-df-container\">\n",
              "      <div>\n",
              "<style scoped>\n",
              "    .dataframe tbody tr th:only-of-type {\n",
              "        vertical-align: middle;\n",
              "    }\n",
              "\n",
              "    .dataframe tbody tr th {\n",
              "        vertical-align: top;\n",
              "    }\n",
              "\n",
              "    .dataframe thead th {\n",
              "        text-align: right;\n",
              "    }\n",
              "</style>\n",
              "<table border=\"1\" class=\"dataframe\">\n",
              "  <thead>\n",
              "    <tr style=\"text-align: right;\">\n",
              "      <th></th>\n",
              "      <th>poly1_2</th>\n",
              "      <th>Perfect_Correct</th>\n",
              "      <th>poly1_1</th>\n",
              "      <th>CorrectAnswer</th>\n",
              "      <th>poly1_0</th>\n",
              "      <th>IsCorrect</th>\n",
              "      <th>l_SchemeOfWorkId</th>\n",
              "      <th>l_QuestionId</th>\n",
              "      <th>l_GroupId</th>\n",
              "    </tr>\n",
              "  </thead>\n",
              "  <tbody>\n",
              "    <tr>\n",
              "      <th>1058649</th>\n",
              "      <td>0.0</td>\n",
              "      <td>1.0</td>\n",
              "      <td>1.0</td>\n",
              "      <td>1.0</td>\n",
              "      <td>0.0</td>\n",
              "      <td>0.0</td>\n",
              "      <td>9.043577</td>\n",
              "      <td>10.168080</td>\n",
              "      <td>8.776939</td>\n",
              "    </tr>\n",
              "    <tr>\n",
              "      <th>2900917</th>\n",
              "      <td>2.0</td>\n",
              "      <td>3.0</td>\n",
              "      <td>2.0</td>\n",
              "      <td>2.0</td>\n",
              "      <td>1.0</td>\n",
              "      <td>1.0</td>\n",
              "      <td>9.034319</td>\n",
              "      <td>8.952347</td>\n",
              "      <td>9.244065</td>\n",
              "    </tr>\n",
              "    <tr>\n",
              "      <th>3267372</th>\n",
              "      <td>0.0</td>\n",
              "      <td>2.0</td>\n",
              "      <td>2.0</td>\n",
              "      <td>2.0</td>\n",
              "      <td>0.0</td>\n",
              "      <td>0.0</td>\n",
              "      <td>9.043813</td>\n",
              "      <td>10.203222</td>\n",
              "      <td>9.034319</td>\n",
              "    </tr>\n",
              "    <tr>\n",
              "      <th>1522435</th>\n",
              "      <td>0.0</td>\n",
              "      <td>3.0</td>\n",
              "      <td>3.0</td>\n",
              "      <td>3.0</td>\n",
              "      <td>0.0</td>\n",
              "      <td>0.0</td>\n",
              "      <td>10.248070</td>\n",
              "      <td>9.654834</td>\n",
              "      <td>9.174920</td>\n",
              "    </tr>\n",
              "    <tr>\n",
              "      <th>1364692</th>\n",
              "      <td>0.0</td>\n",
              "      <td>2.0</td>\n",
              "      <td>2.0</td>\n",
              "      <td>2.0</td>\n",
              "      <td>0.0</td>\n",
              "      <td>0.0</td>\n",
              "      <td>9.038365</td>\n",
              "      <td>9.383705</td>\n",
              "      <td>8.812099</td>\n",
              "    </tr>\n",
              "    <tr>\n",
              "      <th>...</th>\n",
              "      <td>...</td>\n",
              "      <td>...</td>\n",
              "      <td>...</td>\n",
              "      <td>...</td>\n",
              "      <td>...</td>\n",
              "      <td>...</td>\n",
              "      <td>...</td>\n",
              "      <td>...</td>\n",
              "      <td>...</td>\n",
              "    </tr>\n",
              "    <tr>\n",
              "      <th>3054988</th>\n",
              "      <td>2.0</td>\n",
              "      <td>3.0</td>\n",
              "      <td>2.0</td>\n",
              "      <td>2.0</td>\n",
              "      <td>1.0</td>\n",
              "      <td>1.0</td>\n",
              "      <td>9.043577</td>\n",
              "      <td>9.939289</td>\n",
              "      <td>9.233275</td>\n",
              "    </tr>\n",
              "    <tr>\n",
              "      <th>3531913</th>\n",
              "      <td>4.0</td>\n",
              "      <td>5.0</td>\n",
              "      <td>4.0</td>\n",
              "      <td>4.0</td>\n",
              "      <td>1.0</td>\n",
              "      <td>1.0</td>\n",
              "      <td>9.037415</td>\n",
              "      <td>9.645105</td>\n",
              "      <td>9.192584</td>\n",
              "    </tr>\n",
              "    <tr>\n",
              "      <th>2196529</th>\n",
              "      <td>2.0</td>\n",
              "      <td>3.0</td>\n",
              "      <td>2.0</td>\n",
              "      <td>2.0</td>\n",
              "      <td>1.0</td>\n",
              "      <td>1.0</td>\n",
              "      <td>9.034319</td>\n",
              "      <td>10.092288</td>\n",
              "      <td>9.179984</td>\n",
              "    </tr>\n",
              "    <tr>\n",
              "      <th>1747813</th>\n",
              "      <td>0.0</td>\n",
              "      <td>2.0</td>\n",
              "      <td>2.0</td>\n",
              "      <td>2.0</td>\n",
              "      <td>0.0</td>\n",
              "      <td>0.0</td>\n",
              "      <td>9.035987</td>\n",
              "      <td>9.385805</td>\n",
              "      <td>8.827908</td>\n",
              "    </tr>\n",
              "    <tr>\n",
              "      <th>1577859</th>\n",
              "      <td>3.0</td>\n",
              "      <td>4.0</td>\n",
              "      <td>3.0</td>\n",
              "      <td>3.0</td>\n",
              "      <td>1.0</td>\n",
              "      <td>1.0</td>\n",
              "      <td>9.038128</td>\n",
              "      <td>6.947937</td>\n",
              "      <td>8.141772</td>\n",
              "    </tr>\n",
              "  </tbody>\n",
              "</table>\n",
              "<p>100032 rows × 9 columns</p>\n",
              "</div>\n",
              "      <button class=\"colab-df-convert\" onclick=\"convertToInteractive('df-81e5d0a6-f305-4844-b952-e78a20bf962a')\"\n",
              "              title=\"Convert this dataframe to an interactive table.\"\n",
              "              style=\"display:none;\">\n",
              "        \n",
              "  <svg xmlns=\"http://www.w3.org/2000/svg\" height=\"24px\"viewBox=\"0 0 24 24\"\n",
              "       width=\"24px\">\n",
              "    <path d=\"M0 0h24v24H0V0z\" fill=\"none\"/>\n",
              "    <path d=\"M18.56 5.44l.94 2.06.94-2.06 2.06-.94-2.06-.94-.94-2.06-.94 2.06-2.06.94zm-11 1L8.5 8.5l.94-2.06 2.06-.94-2.06-.94L8.5 2.5l-.94 2.06-2.06.94zm10 10l.94 2.06.94-2.06 2.06-.94-2.06-.94-.94-2.06-.94 2.06-2.06.94z\"/><path d=\"M17.41 7.96l-1.37-1.37c-.4-.4-.92-.59-1.43-.59-.52 0-1.04.2-1.43.59L10.3 9.45l-7.72 7.72c-.78.78-.78 2.05 0 2.83L4 21.41c.39.39.9.59 1.41.59.51 0 1.02-.2 1.41-.59l7.78-7.78 2.81-2.81c.8-.78.8-2.07 0-2.86zM5.41 20L4 18.59l7.72-7.72 1.47 1.35L5.41 20z\"/>\n",
              "  </svg>\n",
              "      </button>\n",
              "      \n",
              "  <style>\n",
              "    .colab-df-container {\n",
              "      display:flex;\n",
              "      flex-wrap:wrap;\n",
              "      gap: 12px;\n",
              "    }\n",
              "\n",
              "    .colab-df-convert {\n",
              "      background-color: #E8F0FE;\n",
              "      border: none;\n",
              "      border-radius: 50%;\n",
              "      cursor: pointer;\n",
              "      display: none;\n",
              "      fill: #1967D2;\n",
              "      height: 32px;\n",
              "      padding: 0 0 0 0;\n",
              "      width: 32px;\n",
              "    }\n",
              "\n",
              "    .colab-df-convert:hover {\n",
              "      background-color: #E2EBFA;\n",
              "      box-shadow: 0px 1px 2px rgba(60, 64, 67, 0.3), 0px 1px 3px 1px rgba(60, 64, 67, 0.15);\n",
              "      fill: #174EA6;\n",
              "    }\n",
              "\n",
              "    [theme=dark] .colab-df-convert {\n",
              "      background-color: #3B4455;\n",
              "      fill: #D2E3FC;\n",
              "    }\n",
              "\n",
              "    [theme=dark] .colab-df-convert:hover {\n",
              "      background-color: #434B5C;\n",
              "      box-shadow: 0px 1px 3px 1px rgba(0, 0, 0, 0.15);\n",
              "      filter: drop-shadow(0px 1px 2px rgba(0, 0, 0, 0.3));\n",
              "      fill: #FFFFFF;\n",
              "    }\n",
              "  </style>\n",
              "\n",
              "      <script>\n",
              "        const buttonEl =\n",
              "          document.querySelector('#df-81e5d0a6-f305-4844-b952-e78a20bf962a button.colab-df-convert');\n",
              "        buttonEl.style.display =\n",
              "          google.colab.kernel.accessAllowed ? 'block' : 'none';\n",
              "\n",
              "        async function convertToInteractive(key) {\n",
              "          const element = document.querySelector('#df-81e5d0a6-f305-4844-b952-e78a20bf962a');\n",
              "          const dataTable =\n",
              "            await google.colab.kernel.invokeFunction('convertToInteractive',\n",
              "                                                     [key], {});\n",
              "          if (!dataTable) return;\n",
              "\n",
              "          const docLinkHtml = 'Like what you see? Visit the ' +\n",
              "            '<a target=\"_blank\" href=https://colab.research.google.com/notebooks/data_table.ipynb>data table notebook</a>'\n",
              "            + ' to learn more about interactive tables.';\n",
              "          element.innerHTML = '';\n",
              "          dataTable['output_type'] = 'display_data';\n",
              "          await google.colab.output.renderOutput(dataTable, element);\n",
              "          const docLink = document.createElement('div');\n",
              "          docLink.innerHTML = docLinkHtml;\n",
              "          element.appendChild(docLink);\n",
              "        }\n",
              "      </script>\n",
              "    </div>\n",
              "  </div>\n",
              "  "
            ]
          },
          "metadata": {},
          "execution_count": 178
        }
      ]
    },
    {
      "cell_type": "code",
      "source": [],
      "metadata": {
        "id": "tSMte96i_uEj"
      },
      "execution_count": null,
      "outputs": []
    },
    {
      "cell_type": "code",
      "source": [
        "new_f= scaler.fit_transform(X_new)\n",
        "X_train, X_test, y_train, y_test = train_test_split(new_f, y, test_size=0.45, random_state = 10)"
      ],
      "metadata": {
        "id": "p45-gBgW-SCA"
      },
      "execution_count": null,
      "outputs": []
    },
    {
      "cell_type": "code",
      "source": [
        "from sklearn.ensemble import RandomForestClassifier\n",
        "rf_clf = RandomForestClassifier(n_estimators=4)\n",
        "## Define the dictionary for the grid search and the model object to search on\n",
        "param_grid = {'n_estimators': [51,100,200,],\n",
        "          'max_features': ['auto', 'sqrt', 'log2'],\n",
        "          'max_depth' : ['None',4,5,6,7,8],\n",
        "          'criterion' : ['gini']}\n",
        "\n",
        "clf = ms.GridSearchCV(estimator = rf_clf, param_grid = param_grid, \n",
        "                      scoring = 'accuracy',\n",
        "                      return_train_score = True)\n",
        "\n",
        "clf.fit(new_f, y)"
      ],
      "metadata": {
        "colab": {
          "base_uri": "https://localhost:8080/"
        },
        "id": "gW64Hgjx945i",
        "outputId": "2479bd6d-ca41-4320-eac8-1a8be7c1845d"
      },
      "execution_count": null,
      "outputs": [
        {
          "output_type": "stream",
          "name": "stderr",
          "text": [
            "/usr/local/lib/python3.7/dist-packages/sklearn/model_selection/_validation.py:372: FitFailedWarning: \n",
            "45 fits failed out of a total of 270.\n",
            "The score on these train-test partitions for these parameters will be set to nan.\n",
            "If these failures are not expected, you can try to debug them by setting error_score='raise'.\n",
            "\n",
            "Below are more details about the failures:\n",
            "--------------------------------------------------------------------------------\n",
            "45 fits failed with the following error:\n",
            "Traceback (most recent call last):\n",
            "  File \"/usr/local/lib/python3.7/dist-packages/sklearn/model_selection/_validation.py\", line 680, in _fit_and_score\n",
            "    estimator.fit(X_train, y_train, **fit_params)\n",
            "  File \"/usr/local/lib/python3.7/dist-packages/sklearn/ensemble/_forest.py\", line 467, in fit\n",
            "    for i, t in enumerate(trees)\n",
            "  File \"/usr/local/lib/python3.7/dist-packages/joblib/parallel.py\", line 1085, in __call__\n",
            "    if self.dispatch_one_batch(iterator):\n",
            "  File \"/usr/local/lib/python3.7/dist-packages/joblib/parallel.py\", line 901, in dispatch_one_batch\n",
            "    self._dispatch(tasks)\n",
            "  File \"/usr/local/lib/python3.7/dist-packages/joblib/parallel.py\", line 819, in _dispatch\n",
            "    job = self._backend.apply_async(batch, callback=cb)\n",
            "  File \"/usr/local/lib/python3.7/dist-packages/joblib/_parallel_backends.py\", line 208, in apply_async\n",
            "    result = ImmediateResult(func)\n",
            "  File \"/usr/local/lib/python3.7/dist-packages/joblib/_parallel_backends.py\", line 597, in __init__\n",
            "    self.results = batch()\n",
            "  File \"/usr/local/lib/python3.7/dist-packages/joblib/parallel.py\", line 289, in __call__\n",
            "    for func, args, kwargs in self.items]\n",
            "  File \"/usr/local/lib/python3.7/dist-packages/joblib/parallel.py\", line 289, in <listcomp>\n",
            "    for func, args, kwargs in self.items]\n",
            "  File \"/usr/local/lib/python3.7/dist-packages/sklearn/utils/fixes.py\", line 216, in __call__\n",
            "    return self.function(*args, **kwargs)\n",
            "  File \"/usr/local/lib/python3.7/dist-packages/sklearn/ensemble/_forest.py\", line 185, in _parallel_build_trees\n",
            "    tree.fit(X, y, sample_weight=curr_sample_weight, check_input=False)\n",
            "  File \"/usr/local/lib/python3.7/dist-packages/sklearn/tree/_classes.py\", line 942, in fit\n",
            "    X_idx_sorted=X_idx_sorted,\n",
            "  File \"/usr/local/lib/python3.7/dist-packages/sklearn/tree/_classes.py\", line 305, in fit\n",
            "    if max_depth <= 0:\n",
            "TypeError: '<=' not supported between instances of 'str' and 'int'\n",
            "\n",
            "  warnings.warn(some_fits_failed_message, FitFailedWarning)\n",
            "/usr/local/lib/python3.7/dist-packages/sklearn/model_selection/_search.py:972: UserWarning: One or more of the test scores are non-finite: [       nan        nan        nan        nan        nan        nan\n",
            "        nan        nan        nan 0.7171605  0.71691057 0.71742042\n",
            " 0.71721048 0.71761034 0.7171505  0.71779028 0.71724047 0.71702054\n",
            " 0.71852004 0.71925985 0.71823014 0.71876997 0.71859003 0.71899991\n",
            " 0.7189899  0.71853007 0.71915985 0.71991963 0.71934981 0.71952975\n",
            " 0.7199896  0.71951976 0.71964971 0.72015955 0.71967969 0.71937979\n",
            " 0.71943978 0.72058941 0.71987962 0.71968968 0.71990962 0.72043946\n",
            " 0.7199796  0.72020953 0.72017954 0.72041945 0.72070937 0.72044945\n",
            " 0.71977968 0.72039947 0.7202795  0.71940978 0.72041945 0.72020953]\n",
            "  category=UserWarning,\n",
            "/usr/local/lib/python3.7/dist-packages/sklearn/model_selection/_search.py:972: UserWarning: One or more of the train scores are non-finite: [       nan        nan        nan        nan        nan        nan\n",
            "        nan        nan        nan 0.71814519 0.71722549 0.71768034\n",
            " 0.71760786 0.71801524 0.71728547 0.71794276 0.71759787 0.71732046\n",
            " 0.71995962 0.72057191 0.72068438 0.72015705 0.7209593  0.7206169\n",
            " 0.72127419 0.72101677 0.72120671 0.72326606 0.72272873 0.72233385\n",
            " 0.72296115 0.72279121 0.72246381 0.72314609 0.72287118 0.72295615\n",
            " 0.72735474 0.7277871  0.72663248 0.7268724  0.72750469 0.72773962\n",
            " 0.72820697 0.72711732 0.72664997 0.73288797 0.7337277  0.73382517\n",
            " 0.73327784 0.73337782 0.73412508 0.7334478  0.73403761 0.73413258]\n",
            "  category=UserWarning,\n"
          ]
        },
        {
          "output_type": "execute_result",
          "data": {
            "text/plain": [
              "GridSearchCV(estimator=RandomForestClassifier(n_estimators=4),\n",
              "             param_grid={'criterion': ['gini'],\n",
              "                         'max_depth': ['None', 4, 5, 6, 7, 8],\n",
              "                         'max_features': ['auto', 'sqrt', 'log2'],\n",
              "                         'n_estimators': [51, 100, 200]},\n",
              "             return_train_score=True, scoring='accuracy')"
            ]
          },
          "metadata": {},
          "execution_count": 180
        }
      ]
    },
    {
      "cell_type": "markdown",
      "source": [
        "# Print Best Parameter"
      ],
      "metadata": {
        "id": "_ktO1dVyAeSg"
      }
    },
    {
      "cell_type": "code",
      "source": [
        "print(clf.best_estimator_.n_estimators)\n",
        "print(clf.best_estimator_.max_features)\n",
        "print(clf.best_estimator_.max_depth)\n",
        "# print(clf.best_estimator_.criterion)"
      ],
      "metadata": {
        "colab": {
          "base_uri": "https://localhost:8080/"
        },
        "id": "O6OQjtlX948F",
        "outputId": "6ea1af49-8224-4ecf-8264-9673aa24f0d6"
      },
      "execution_count": null,
      "outputs": [
        {
          "output_type": "stream",
          "name": "stdout",
          "text": [
            "100\n",
            "auto\n",
            "8\n"
          ]
        }
      ]
    },
    {
      "cell_type": "code",
      "source": [
        "print(clf.best_score_) # BEST SCORE"
      ],
      "metadata": {
        "colab": {
          "base_uri": "https://localhost:8080/"
        },
        "id": "jWVMgc0AAkaw",
        "outputId": "86d90adf-f190-4ef8-8bc8-85011a281bfa"
      },
      "execution_count": null,
      "outputs": [
        {
          "output_type": "stream",
          "name": "stdout",
          "text": [
            "0.7207093652381118\n"
          ]
        }
      ]
    },
    {
      "cell_type": "code",
      "source": [
        "rf_clf = RandomForestClassifier(max_features = clf.best_estimator_.max_features,\n",
        "                  max_depth = clf.best_estimator_.max_depth, criterion='gini',\n",
        "                  class_weight='balanced') \n",
        "rf_clf.fit(X_train, y_train)"
      ],
      "metadata": {
        "id": "UVAg2H4vAkh_",
        "colab": {
          "base_uri": "https://localhost:8080/"
        },
        "outputId": "5b5d503e-cbea-4d16-c85d-8176feb4cae2"
      },
      "execution_count": null,
      "outputs": [
        {
          "output_type": "execute_result",
          "data": {
            "text/plain": [
              "RandomForestClassifier(class_weight='balanced', max_depth=8)"
            ]
          },
          "metadata": {},
          "execution_count": 183
        }
      ]
    },
    {
      "cell_type": "code",
      "source": [
        "pred =rf_clf.predict(X_test)"
      ],
      "metadata": {
        "id": "RhDpqikXAklj"
      },
      "execution_count": null,
      "outputs": []
    },
    {
      "cell_type": "code",
      "source": [
        "#probabilities\n",
        "probs = rf_clf.predict_proba(X_test)"
      ],
      "metadata": {
        "id": "hDJ0gN9dBLBz"
      },
      "execution_count": null,
      "outputs": []
    },
    {
      "cell_type": "code",
      "source": [
        "print_metrics_4(y_test, pred)"
      ],
      "metadata": {
        "id": "L9_73uYdBPhC",
        "colab": {
          "base_uri": "https://localhost:8080/"
        },
        "outputId": "b79c803a-2d99-41b7-b510-d1574d666236"
      },
      "execution_count": null,
      "outputs": [
        {
          "output_type": "stream",
          "name": "stdout",
          "text": [
            "                 Confusion matrix\n",
            "                 AnswerValue 1   AnswerValue 2    AnswerValue 3    AnswerValue 4\n",
            "AnswerValue 1      6710             2046              1242               736\n",
            "AnswerValue 2       246            10139               831               758\n",
            "AnswerValue 3       356             2143              8488               859\n",
            "AnswerValue 4       364             1954              1152              6991\n",
            "\n",
            "Accuracy        0.72\n",
            "F1 Score        0.72\n",
            "AUC             0.94\n",
            "Macro precision 0.75\n",
            "Macro recall    0.74\n",
            " \n",
            "         AnswerValue 1  AnswerValue 2  AnswerValue 3  AnswerValue 4\n",
            "Num case   10734.00         11974.00         11846.00        10461.00\n",
            "Precision   0.87          0.62            0.72        0.75\n",
            "Recall      0.63          0.85            0.72        0.67\n",
            "F1          0.73          0.72            0.72        0.71\n"
          ]
        }
      ]
    },
    {
      "cell_type": "code",
      "source": [
        "# plot_auc(y_test, probs)"
      ],
      "metadata": {
        "id": "M4-pjt-rBPkX"
      },
      "execution_count": null,
      "outputs": []
    },
    {
      "cell_type": "code",
      "source": [
        "# With feature importance we are able to get a good model with an accuracy of 72%. But this isnt good enough for our predictions"
      ],
      "metadata": {
        "id": "-m84Yx5tQk6x"
      },
      "execution_count": null,
      "outputs": []
    },
    {
      "cell_type": "markdown",
      "source": [
        "# Gradient Boosting Classifier"
      ],
      "metadata": {
        "id": "j2wBpEV5KO5V"
      }
    },
    {
      "cell_type": "code",
      "source": [
        "#FEATURES MOST CORRELATED WITH AnswerValue target \n",
        "new_fea = df[['poly1_1','CorrectAnswer','poly1_2','Perfect_Correct','Gender','l_QuestionId', 'YearBirth','Age_std_on_yr_mth','Age_min_on_yr_mth','l_QiuzId','Year_Month_int',\n",
        "              'poly2_1','MonthAnswered','l_AnswerId','poly2_5','poly2_3']]\n",
        "              \n",
        "              "
      ],
      "metadata": {
        "id": "j8rBblhPLxpe"
      },
      "execution_count": null,
      "outputs": []
    },
    {
      "cell_type": "code",
      "source": [
        "x_new= scaler.fit_transform(new_fea)#Using highly correlated featues gooten through correlation\n",
        "X_train, X_test, y_train, y_test = train_test_split(x_new, y, test_size=0.45, random_state = 1000)"
      ],
      "metadata": {
        "id": "oDwOqnH2L3Y7"
      },
      "execution_count": null,
      "outputs": []
    },
    {
      "cell_type": "code",
      "source": [
        "# X_train, X_test, y_train, y_test = train_test_split(x_new, y, test_size=0.45, random_state = 10)"
      ],
      "metadata": {
        "id": "evlP6I7UKQbK"
      },
      "execution_count": null,
      "outputs": []
    },
    {
      "cell_type": "code",
      "source": [
        "from sklearn.model_selection import GridSearchCV"
      ],
      "metadata": {
        "id": "lYOOZJY4dQQr"
      },
      "execution_count": null,
      "outputs": []
    },
    {
      "cell_type": "code",
      "source": [
        "from sklearn.ensemble import GradientBoostingClassifier"
      ],
      "metadata": {
        "id": "hSLbCIP3qJ8w"
      },
      "execution_count": null,
      "outputs": []
    },
    {
      "cell_type": "code",
      "source": [
        "# A sample parameter\n",
        "\n",
        "parameters = {\n",
        "    \"loss\":[\"deviance\"],\n",
        "    \"learning_rate\": [0.01],\n",
        "    \"max_depth\":[3,5],\n",
        "    # \"max_features\":[\"log2\",\"sqrt\"],\n",
        "    # \"criterion\": [\"friedman_mse\",  \"mae\"]\n",
        "    }\n",
        "#passing the scoring function in the GridSearchCV\n",
        "gb_clf = GridSearchCV(GradientBoostingClassifier(), parameters,scoring='accuracy',refit=False, n_jobs=-1)\n",
        "\n",
        "gb_clf.fit(x_new, y)"
      ],
      "metadata": {
        "id": "B2mEw73-CcH0",
        "colab": {
          "base_uri": "https://localhost:8080/"
        },
        "outputId": "297904db-ed85-46f5-dd3a-c77773dc1b59"
      },
      "execution_count": null,
      "outputs": [
        {
          "output_type": "execute_result",
          "data": {
            "text/plain": [
              "GridSearchCV(estimator=GradientBoostingClassifier(), n_jobs=-1,\n",
              "             param_grid={'learning_rate': [0.01], 'loss': ['deviance'],\n",
              "                         'max_depth': [3, 5]},\n",
              "             refit=False, scoring='accuracy')"
            ]
          },
          "metadata": {},
          "execution_count": 187
        }
      ]
    },
    {
      "cell_type": "code",
      "source": [
        "gb_clf.best_params_ "
      ],
      "metadata": {
        "colab": {
          "base_uri": "https://localhost:8080/"
        },
        "id": "I6rPp21VvlRP",
        "outputId": "c03f701c-3cd2-4d82-f2f5-e3145e2472c6"
      },
      "execution_count": null,
      "outputs": [
        {
          "output_type": "execute_result",
          "data": {
            "text/plain": [
              "{'learning_rate': 0.01, 'loss': 'deviance', 'max_depth': 5}"
            ]
          },
          "metadata": {},
          "execution_count": 188
        }
      ]
    },
    {
      "cell_type": "code",
      "source": [
        "gb_clf.best_score_"
      ],
      "metadata": {
        "colab": {
          "base_uri": "https://localhost:8080/"
        },
        "id": "CkaPT470xxDp",
        "outputId": "eb68b05e-9108-4308-b18b-b2ce8daa1cda"
      },
      "execution_count": null,
      "outputs": [
        {
          "output_type": "execute_result",
          "data": {
            "text/plain": [
              "0.716210811270539"
            ]
          },
          "metadata": {},
          "execution_count": 189
        }
      ]
    },
    {
      "cell_type": "code",
      "source": [],
      "metadata": {
        "id": "mGVJjlWBxl1P"
      },
      "execution_count": null,
      "outputs": []
    },
    {
      "cell_type": "code",
      "source": [
        "g_clf = GradientBoostingClassifier(**gb_clf.best_params_)\n",
        "                                  # , criterion = 'mae', max_features= 'sqrt') \n",
        "g_clf.fit(X_train, y_train)"
      ],
      "metadata": {
        "colab": {
          "base_uri": "https://localhost:8080/"
        },
        "id": "1jDh5nyInNDi",
        "outputId": "a9b4b936-bbf8-41a7-9289-600988f1c695"
      },
      "execution_count": null,
      "outputs": [
        {
          "output_type": "execute_result",
          "data": {
            "text/plain": [
              "GradientBoostingClassifier(learning_rate=0.01, max_depth=5)"
            ]
          },
          "metadata": {},
          "execution_count": 190
        }
      ]
    },
    {
      "cell_type": "code",
      "source": [
        "pred =g_clf.predict(X_test)"
      ],
      "metadata": {
        "id": "MxnEH2vmIuR3"
      },
      "execution_count": null,
      "outputs": []
    },
    {
      "cell_type": "code",
      "source": [
        "#probabilities\n",
        "probs = g_clf.predict_proba(X_test)"
      ],
      "metadata": {
        "id": "Ts5LO0gBIuTP"
      },
      "execution_count": null,
      "outputs": []
    },
    {
      "cell_type": "code",
      "source": [
        "def print_metrics_4(labels, scores):\n",
        "   \n",
        "    conf = sklm.confusion_matrix(labels, scores)\n",
        "    print('                 Confusion matrix')\n",
        "    print('                 AnswerValue 1   AnswerValue 2    AnswerValue 3    AnswerValue 4')\n",
        "    print('AnswerValue 1    %6d' % conf[0,0] + '            %5d' % conf[0,1] + '             %5d' % conf[0,2]+ '             %5d' % conf[0,3])\n",
        "    print('AnswerValue 2    %6d' % conf[1,0] + '            %5d' % conf[1,1] + '             %5d' % conf[1,2]+ '             %5d' % conf[1,3])\n",
        "    print('AnswerValue 3    %6d' % conf[2,0] + '            %5d' % conf[2,1] + '             %5d' % conf[2,2]+ '             %5d' % conf[2,3])\n",
        "    print('AnswerValue 4    %6d' % conf[3,0] + '            %5d' % conf[3,1] + '             %5d' % conf[3,2]+ '             %5d' % conf[3,3])\n",
        "    ## Now compute and display the accuracy and metrics\n",
        "    print('')\n",
        "    print('Accuracy        %0.2f' % sklm.accuracy_score(labels, scores))\n",
        "    print('F1 Score        %0.2f' % sklm.f1_score(labels, scores, average='macro'))\n",
        "    print('AUC             %0.2f' % sklm.roc_auc_score(labels, probs[:,:], multi_class='ovr'))\n",
        "    metrics = sklm.precision_recall_fscore_support(labels, scores)\n",
        "    print('Macro precision %0.2f' % float((float(metrics[0][0]) + float(metrics[0][1]))/2.0))\n",
        "    print('Macro recall    %0.2f' % float((float(metrics[1][0]) + float(metrics[1][1]))/2.0))\n",
        "\n",
        "    print(' ')\n",
        "    print('         AnswerValue 1  AnswerValue 2  AnswerValue 3  AnswerValue 4')\n",
        "    print('Num case   %0.2f' % metrics[3][0] + '         %0.2f' % metrics[3][1] + '         %0.2f' % metrics[3][2]+ '        %0.2f' % metrics[3][3])\n",
        "    print('Precision   %0.2f' % metrics[0][0] + '          %0.2f' % metrics[0][1] + '            %0.2f' % metrics[0][2]+ '        %0.2f' % metrics[0][3])\n",
        "    print('Recall      %0.2f' % metrics[1][0] + '          %0.2f' % metrics[1][1] + '            %0.2f' % metrics[1][2]+ '        %0.2f' % metrics[1][3])\n",
        "    print('F1          %0.2f' % metrics[2][0] + '          %0.2f' % metrics[2][1] + '            %0.2f' % metrics[2][2]+ '        %0.2f' % metrics[2][3])\n",
        "    \n",
        "print_metrics_4(y_test, pred)   \n"
      ],
      "metadata": {
        "id": "1FHs-wN8IuWb",
        "colab": {
          "base_uri": "https://localhost:8080/"
        },
        "outputId": "6d8326ba-aeb7-4058-ed9c-92cac56697e0"
      },
      "execution_count": null,
      "outputs": [
        {
          "output_type": "stream",
          "name": "stdout",
          "text": [
            "                 Confusion matrix\n",
            "                 AnswerValue 1   AnswerValue 2    AnswerValue 3    AnswerValue 4\n",
            "AnswerValue 1      6322             2675              2001                10\n",
            "AnswerValue 2        22            10309              1377                11\n",
            "AnswerValue 3        56             2082              9597                 7\n",
            "AnswerValue 4        50             2331              2229              5936\n",
            "\n",
            "Accuracy        0.71\n",
            "F1 Score        0.72\n",
            "AUC             0.94\n",
            "Macro precision 0.79\n",
            "Macro recall    0.73\n",
            " \n",
            "         AnswerValue 1  AnswerValue 2  AnswerValue 3  AnswerValue 4\n",
            "Num case   11008.00         11719.00         11742.00        10546.00\n",
            "Precision   0.98          0.59            0.63        1.00\n",
            "Recall      0.57          0.88            0.82        0.56\n",
            "F1          0.72          0.71            0.71        0.72\n"
          ]
        }
      ]
    },
    {
      "cell_type": "code",
      "source": [
        "# Gradient boosting almost gave the same results with the decision tree and random forest. We need to look f or a model that will give us higher accuracy than the previous models"
      ],
      "metadata": {
        "id": "HlguAAFmIuYW"
      },
      "execution_count": null,
      "outputs": []
    },
    {
      "cell_type": "code",
      "source": [],
      "metadata": {
        "id": "eNXREA3_B8ta"
      },
      "execution_count": null,
      "outputs": []
    },
    {
      "cell_type": "markdown",
      "source": [
        "# BAGGING CLASSIFIER WITH DECISION TREEE"
      ],
      "metadata": {
        "id": "rr-of4CD4yMh"
      }
    },
    {
      "cell_type": "code",
      "source": [
        "#FEATURES MOST CORRELATED WITH AnswerValue target\n",
        "new_fea = df[['poly1_1','CorrectAnswer','poly1_2','Perfect_Correct','Gender','l_QuestionId', 'YearBirth','Age_std_on_yr_mth','Age_min_on_yr_mth','l_QiuzId','Year_Month_int',\n",
        "              'poly2_1','MonthAnswered','l_AnswerId','poly2_5','poly2_3']]\n",
        "            \n",
        "              "
      ],
      "metadata": {
        "id": "YHWvBYo3FO7e"
      },
      "execution_count": null,
      "outputs": []
    },
    {
      "cell_type": "code",
      "source": [
        "x_new= scaler.fit_transform(new_fea)#Using highly correlated featues gooten through correlation\n",
        "X_train, X_test, y_train, y_test = train_test_split(x_new, y, test_size=0.45, random_state = 1000)"
      ],
      "metadata": {
        "id": "Z7RC0Oxy5Zjg"
      },
      "execution_count": null,
      "outputs": []
    },
    {
      "cell_type": "code",
      "source": [
        "from sklearn.ensemble import BaggingClassifier\n",
        "from sklearn.tree import DecisionTreeClassifier\n",
        "from sklearn import tree"
      ],
      "metadata": {
        "id": "U5UBPaTC4xBo"
      },
      "execution_count": null,
      "outputs": []
    },
    {
      "cell_type": "code",
      "source": [
        "model = BaggingClassifier(tree.DecisionTreeClassifier(random_state=1))\n",
        "model.fit(X_train, y_train)\n"
      ],
      "metadata": {
        "id": "bGblQCjb4xDR",
        "colab": {
          "base_uri": "https://localhost:8080/"
        },
        "outputId": "12e4b0d0-99ff-4e23-a2f3-490bac11ec36"
      },
      "execution_count": null,
      "outputs": [
        {
          "output_type": "execute_result",
          "data": {
            "text/plain": [
              "BaggingClassifier(base_estimator=DecisionTreeClassifier(random_state=1))"
            ]
          },
          "metadata": {},
          "execution_count": 176
        }
      ]
    },
    {
      "cell_type": "code",
      "source": [
        "pred =model.predict(X_test)"
      ],
      "metadata": {
        "id": "-4urlbYG4xGX"
      },
      "execution_count": null,
      "outputs": []
    },
    {
      "cell_type": "code",
      "source": [
        "#probabilities\n",
        "probs = model.predict_proba(X_test)"
      ],
      "metadata": {
        "id": "vAo71Jye4xH4"
      },
      "execution_count": null,
      "outputs": []
    },
    {
      "cell_type": "code",
      "source": [
        "#printing model metrics\n",
        "def print_metrics_4(labels, scores):\n",
        "   \n",
        "    conf = sklm.confusion_matrix(labels, scores)\n",
        "    print('                 Confusion matrix')\n",
        "    print('                 AnswerValue 1   AnswerValue 2    AnswerValue 3    AnswerValue 4')\n",
        "    print('AnswerValue 1    %6d' % conf[0,0] + '            %5d' % conf[0,1] + '             %5d' % conf[0,2]+ '             %5d' % conf[0,3])\n",
        "    print('AnswerValue 2    %6d' % conf[1,0] + '            %5d' % conf[1,1] + '             %5d' % conf[1,2]+ '             %5d' % conf[1,3])\n",
        "    print('AnswerValue 3    %6d' % conf[2,0] + '            %5d' % conf[2,1] + '             %5d' % conf[2,2]+ '             %5d' % conf[2,3])\n",
        "    print('AnswerValue 4    %6d' % conf[3,0] + '            %5d' % conf[3,1] + '             %5d' % conf[3,2]+ '             %5d' % conf[3,3])\n",
        "    ## Now compute and display the accuracy and metrics\n",
        "    print('')\n",
        "    print('Accuracy        %0.2f' % sklm.accuracy_score(labels, scores))\n",
        "    print('F1 Score        %0.2f' % sklm.f1_score(labels, scores, average='macro'))\n",
        "    print('AUC             %0.2f' % sklm.roc_auc_score(labels, probs[:,:], multi_class='ovr'))\n",
        "    metrics = sklm.precision_recall_fscore_support(labels, scores)\n",
        "    print('Macro precision %0.2f' % float((float(metrics[0][0]) + float(metrics[0][1]))/2.0))\n",
        "    print('Macro recall    %0.2f' % float((float(metrics[1][0]) + float(metrics[1][1]))/2.0))\n",
        "\n",
        "    print(' ')\n",
        "    print('         AnswerValue 1  AnswerValue 2  AnswerValue 3  AnswerValue 4')\n",
        "    print('Num case   %0.2f' % metrics[3][0] + '         %0.2f' % metrics[3][1] + '         %0.2f' % metrics[3][2]+ '        %0.2f' % metrics[3][3])\n",
        "    print('Precision   %0.2f' % metrics[0][0] + '          %0.2f' % metrics[0][1] + '            %0.2f' % metrics[0][2]+ '        %0.2f' % metrics[0][3])\n",
        "    print('Recall      %0.2f' % metrics[1][0] + '          %0.2f' % metrics[1][1] + '            %0.2f' % metrics[1][2]+ '        %0.2f' % metrics[1][3])\n",
        "    print('F1          %0.2f' % metrics[2][0] + '          %0.2f' % metrics[2][1] + '            %0.2f' % metrics[2][2]+ '        %0.2f' % metrics[2][3])\n",
        "    \n",
        "print_metrics_4(y_test, pred)   \n"
      ],
      "metadata": {
        "id": "L5mWFy9E7EfA",
        "colab": {
          "base_uri": "https://localhost:8080/"
        },
        "outputId": "186e0f1b-7665-4581-a82f-16c6f2edd49d"
      },
      "execution_count": null,
      "outputs": [
        {
          "output_type": "stream",
          "name": "stdout",
          "text": [
            "                 Confusion matrix\n",
            "                 AnswerValue 1   AnswerValue 2    AnswerValue 3    AnswerValue 4\n",
            "AnswerValue 1      7950             1167              1064               774\n",
            "AnswerValue 2      1215             8552              1180               866\n",
            "AnswerValue 3      1158             1365              8530               757\n",
            "AnswerValue 4      1091             1274              1135              6937\n",
            "\n",
            "Accuracy        0.71\n",
            "F1 Score        0.71\n",
            "AUC             0.93\n",
            "Macro precision 0.69\n",
            "Macro recall    0.72\n",
            " \n",
            "         AnswerValue 1  AnswerValue 2  AnswerValue 3  AnswerValue 4\n",
            "Num case   10955.00         11813.00         11810.00        10437.00\n",
            "Precision   0.70          0.69            0.72        0.74\n",
            "Recall      0.73          0.72            0.72        0.66\n",
            "F1          0.71          0.71            0.72        0.70\n"
          ]
        }
      ]
    },
    {
      "cell_type": "code",
      "source": [
        "# This Model perform stiil gave us the same results with  the ordinary  decision tree classifierm results, there is no significant difference using bagging classifier with the decision tree classifer"
      ],
      "metadata": {
        "id": "smB3yM4RvMPd"
      },
      "execution_count": null,
      "outputs": []
    },
    {
      "cell_type": "code",
      "source": [],
      "metadata": {
        "id": "Ng83kAuqvM0E"
      },
      "execution_count": null,
      "outputs": []
    },
    {
      "cell_type": "markdown",
      "source": [
        "# BAGGING CLASSIFIER WITH NAIVE BAYES"
      ],
      "metadata": {
        "id": "FpJTx-K37Sbx"
      }
    },
    {
      "cell_type": "code",
      "source": [
        "#FEATURES MOST CORRELATED WITH AnswerValue target\n",
        "new_fea = df[['poly1_1','CorrectAnswer','poly1_2','Perfect_Correct','Gender','l_QuestionId', 'YearBirth','Age_std_on_yr_mth','Age_min_on_yr_mth','l_QiuzId','Year_Month_int',\n",
        "              'poly2_1','MonthAnswered','l_AnswerId','poly2_5','poly2_3']]          "
      ],
      "metadata": {
        "id": "QMtVqkHfBQ8D"
      },
      "execution_count": null,
      "outputs": []
    },
    {
      "cell_type": "code",
      "source": [
        "x_new= scaler.fit_transform(new_fea)\n",
        "X_train, X_test, y_train, y_test = train_test_split(x_new, y, test_size=0.45, random_state = 1000)"
      ],
      "metadata": {
        "id": "j1BNquYA7Ejb"
      },
      "execution_count": null,
      "outputs": []
    },
    {
      "cell_type": "code",
      "source": [
        "from sklearn.naive_bayes import GaussianNB"
      ],
      "metadata": {
        "id": "YRC9eIaNy8Qx"
      },
      "execution_count": null,
      "outputs": []
    },
    {
      "cell_type": "code",
      "source": [
        "model = BaggingClassifier(GaussianNB(var_smoothing=8e-9))\n",
        "model.fit(X_train, y_train)"
      ],
      "metadata": {
        "id": "0mFnfxWC7Ekz",
        "colab": {
          "base_uri": "https://localhost:8080/"
        },
        "outputId": "35c09c4f-7c7e-40b3-9656-3cfca86ccf58"
      },
      "execution_count": null,
      "outputs": [
        {
          "output_type": "execute_result",
          "data": {
            "text/plain": [
              "BaggingClassifier(base_estimator=GaussianNB(var_smoothing=8e-09))"
            ]
          },
          "metadata": {},
          "execution_count": 143
        }
      ]
    },
    {
      "cell_type": "code",
      "source": [
        "pred =model.predict(X_test)"
      ],
      "metadata": {
        "id": "_XXIV34X7EoT"
      },
      "execution_count": null,
      "outputs": []
    },
    {
      "cell_type": "code",
      "source": [
        "#probabilities\n",
        "probs = model.predict_proba(X_test)"
      ],
      "metadata": {
        "id": "SVXde34t7Ep6"
      },
      "execution_count": null,
      "outputs": []
    },
    {
      "cell_type": "code",
      "source": [
        "print_metrics_4(y_test, pred)"
      ],
      "metadata": {
        "id": "IdC9MwXw7EtV",
        "colab": {
          "base_uri": "https://localhost:8080/"
        },
        "outputId": "b2673472-4905-4ac3-fd87-315f9603b797"
      },
      "execution_count": null,
      "outputs": [
        {
          "output_type": "stream",
          "name": "stdout",
          "text": [
            "                 Confusion matrix\n",
            "                 AnswerValue 1   AnswerValue 2    AnswerValue 3    AnswerValue 4\n",
            "AnswerValue 1      7835             1593                15              1512\n",
            "AnswerValue 2      1815             8205                29              1764\n",
            "AnswerValue 3      3397                0              6671              1742\n",
            "AnswerValue 4      3016             1554                23              5844\n",
            "\n",
            "Accuracy        0.63\n",
            "F1 Score        0.64\n",
            "AUC             0.78\n",
            "Macro precision 0.61\n",
            "Macro recall    0.70\n",
            " \n",
            "         AnswerValue 1  AnswerValue 2  AnswerValue 3  AnswerValue 4\n",
            "Num case   10955.00         11813.00         11810.00        10437.00\n",
            "Precision   0.49          0.72            0.99        0.54\n",
            "Recall      0.72          0.69            0.56        0.56\n",
            "F1          0.58          0.71            0.72        0.55\n"
          ]
        }
      ]
    },
    {
      "cell_type": "code",
      "source": [
        "# This didnt perform like the bagging alorith with decision tree. Obviously Decision tree actually improved the performance of the bagging algorithm. However this isnt a good model considering previous algorith"
      ],
      "metadata": {
        "id": "EHS2nYjh7xuS"
      },
      "execution_count": null,
      "outputs": []
    },
    {
      "cell_type": "markdown",
      "source": [
        "# ADABOOST"
      ],
      "metadata": {
        "id": "V69xczUt71NO"
      }
    },
    {
      "cell_type": "code",
      "source": [
        "from sklearn.tree import DecisionTreeClassifier\n",
        "from sklearn.ensemble import AdaBoostClassifier\n",
        "from sklearn.model_selection import GridSearchCV"
      ],
      "metadata": {
        "id": "zaSDPgL47xv6"
      },
      "execution_count": null,
      "outputs": []
    },
    {
      "cell_type": "code",
      "source": [
        "x_new= scaler.fit_transform(new_fea)\n",
        "X_train, X_test, y_train, y_test = train_test_split(x_new, y, test_size=0.45, random_state = 1000)"
      ],
      "metadata": {
        "id": "VWmmUo2C0nLU"
      },
      "execution_count": null,
      "outputs": []
    },
    {
      "cell_type": "code",
      "source": [
        "# X_train, X_test, y_train, y_test = train_test_split(x_scaled, y, test_size=0.45, random_state = 1000)"
      ],
      "metadata": {
        "id": "lfmBcUq60sel"
      },
      "execution_count": null,
      "outputs": []
    },
    {
      "cell_type": "code",
      "source": [
        "param_grid = {\"base_estimator__criterion\" : [\"gini\", \"entropy\"],\n",
        "              \"base_estimator__splitter\" :   [\"best\", \"random\"],\n",
        "              \"n_estimators\": [1, 2,3,5]\n",
        "             }"
      ],
      "metadata": {
        "id": "3AjKA7U08IDw"
      },
      "execution_count": null,
      "outputs": []
    },
    {
      "cell_type": "code",
      "source": [
        "DTC = DecisionTreeClassifier(random_state = 1000, max_features = 'auto', class_weight = 'balanced', max_depth = 15)\n",
        "\n",
        "ABC = AdaBoostClassifier(base_estimator = DTC)\n",
        "\n",
        "# run grid search\n",
        "grid_search_ABC = GridSearchCV(ABC, param_grid=param_grid, scoring = 'accuracy')\n"
      ],
      "metadata": {
        "id": "pjJneGr28IFK"
      },
      "execution_count": null,
      "outputs": []
    },
    {
      "cell_type": "code",
      "source": [
        "grid_search_ABC.fit(x_new, y)"
      ],
      "metadata": {
        "id": "dadyCEvB8IIg",
        "colab": {
          "base_uri": "https://localhost:8080/"
        },
        "outputId": "7e15f70e-6f1d-4d84-c6b0-707574f41619"
      },
      "execution_count": null,
      "outputs": [
        {
          "output_type": "execute_result",
          "data": {
            "text/plain": [
              "GridSearchCV(estimator=AdaBoostClassifier(base_estimator=DecisionTreeClassifier(class_weight='balanced',\n",
              "                                                                                max_depth=15,\n",
              "                                                                                max_features='auto',\n",
              "                                                                                random_state=1000)),\n",
              "             param_grid={'base_estimator__criterion': ['gini', 'entropy'],\n",
              "                         'base_estimator__splitter': ['best', 'random'],\n",
              "                         'n_estimators': [1, 2, 3, 5]},\n",
              "             scoring='accuracy')"
            ]
          },
          "metadata": {},
          "execution_count": 153
        }
      ]
    },
    {
      "cell_type": "code",
      "source": [
        "pred =grid_search_ABC.predict(X_test)"
      ],
      "metadata": {
        "id": "paJmkny08IKC"
      },
      "execution_count": null,
      "outputs": []
    },
    {
      "cell_type": "code",
      "source": [
        "#probabilities\n",
        "probs =grid_search_ABC.predict_proba(X_test)"
      ],
      "metadata": {
        "id": "lHwN9x1B8INP"
      },
      "execution_count": null,
      "outputs": []
    },
    {
      "cell_type": "code",
      "source": [
        "print_metrics_4(y_test, pred)"
      ],
      "metadata": {
        "id": "bnOft3l18IOw",
        "colab": {
          "base_uri": "https://localhost:8080/"
        },
        "outputId": "16b5cf65-40cd-41c0-b328-19814f688ca6"
      },
      "execution_count": null,
      "outputs": [
        {
          "output_type": "stream",
          "name": "stdout",
          "text": [
            "                 Confusion matrix\n",
            "                 AnswerValue 1   AnswerValue 2    AnswerValue 3    AnswerValue 4\n",
            "AnswerValue 1      8993              791               542               629\n",
            "AnswerValue 2       566             9983               587               677\n",
            "AnswerValue 3       638              670              9915               587\n",
            "AnswerValue 4       558              712               549              8618\n",
            "\n",
            "Accuracy        0.83\n",
            "F1 Score        0.83\n",
            "AUC             0.98\n",
            "Macro precision 0.83\n",
            "Macro recall    0.83\n",
            " \n",
            "         AnswerValue 1  AnswerValue 2  AnswerValue 3  AnswerValue 4\n",
            "Num case   10955.00         11813.00         11810.00        10437.00\n",
            "Precision   0.84          0.82            0.86        0.82\n",
            "Recall      0.82          0.85            0.84        0.83\n",
            "F1          0.83          0.83            0.85        0.82\n"
          ]
        }
      ]
    },
    {
      "cell_type": "code",
      "source": [],
      "metadata": {
        "id": "uVuLUC2c8ISO"
      },
      "execution_count": null,
      "outputs": []
    },
    {
      "cell_type": "code",
      "source": [
        "# Among these classifiers, Adaboost perform very well than any of the models by doing feature selection and also doing grid search hyper parameters"
      ],
      "metadata": {
        "id": "EYxIM4w_8ITn"
      },
      "execution_count": null,
      "outputs": []
    },
    {
      "cell_type": "code",
      "source": [],
      "metadata": {
        "id": "KDJOeA6v7xzr"
      },
      "execution_count": null,
      "outputs": []
    },
    {
      "cell_type": "markdown",
      "source": [
        "# MY CHOSEN MODEL "
      ],
      "metadata": {
        "id": "l795gvY99lMW"
      }
    },
    {
      "cell_type": "markdown",
      "source": [
        "# KNN CLASSIFIER"
      ],
      "metadata": {
        "id": "qq4AwQ2osV2H"
      }
    },
    {
      "cell_type": "code",
      "source": [
        "x_scaled= scaler.fit_transform(X)\n",
        "from sklearn.model_selection import train_test_split,cross_val_score\n",
        "X_train, X_test, y_train, y_test = train_test_split(x_scaled, y, test_size=0.45, random_state = 10)"
      ],
      "metadata": {
        "id": "oYkdylkOsUm_"
      },
      "execution_count": null,
      "outputs": []
    },
    {
      "cell_type": "code",
      "source": [
        "from sklearn.neighbors import KNeighborsClassifier\n",
        "# Create KNN classifier\n",
        "knn = KNeighborsClassifier(n_neighbors = 5)\n",
        "# Fit the classifier to the data\n",
        "knn.fit(X_train,y_train)"
      ],
      "metadata": {
        "colab": {
          "base_uri": "https://localhost:8080/"
        },
        "id": "Hfec_FN_rn1z",
        "outputId": "ab40f930-6d3b-49d6-9c19-9de013b87bec"
      },
      "execution_count": null,
      "outputs": [
        {
          "output_type": "execute_result",
          "data": {
            "text/plain": [
              "KNeighborsClassifier()"
            ]
          },
          "metadata": {},
          "execution_count": 45
        }
      ]
    },
    {
      "cell_type": "code",
      "source": [
        "pred = knn.predict(X_test)"
      ],
      "metadata": {
        "id": "w0ceL3GCrn9m"
      },
      "execution_count": null,
      "outputs": []
    },
    {
      "cell_type": "code",
      "source": [
        "#probabilities\n",
        "probs =knn.predict_proba(X_test)"
      ],
      "metadata": {
        "id": "XddOLt58roA2"
      },
      "execution_count": null,
      "outputs": []
    },
    {
      "cell_type": "code",
      "source": [
        "print_metrics_4(y_test, pred)"
      ],
      "metadata": {
        "colab": {
          "base_uri": "https://localhost:8080/"
        },
        "id": "zS2INIWHssHm",
        "outputId": "30b7a2af-0651-4bb7-f8d0-1be4b0ffe1a6"
      },
      "execution_count": null,
      "outputs": [
        {
          "output_type": "stream",
          "name": "stdout",
          "text": [
            "                 Confusion matrix\n",
            "                 AnswerValue 1   AnswerValue 2    AnswerValue 3    AnswerValue 4\n",
            "AnswerValue 1      9824             1225                32                 1\n",
            "AnswerValue 2      1402             9413               878                37\n",
            "AnswerValue 3       140             1694              9268               668\n",
            "AnswerValue 4         2              198              1394              8839\n",
            "\n",
            "Accuracy        0.83\n",
            "F1 Score        0.83\n",
            "AUC             0.96\n",
            "Macro precision 0.81\n",
            "Macro recall    0.84\n",
            " \n",
            "         AnswerValue 1  AnswerValue 2  AnswerValue 3  AnswerValue 4\n",
            "Num case   11082.00         11730.00         11770.00        10433.00\n",
            "Precision   0.86          0.75            0.80        0.93\n",
            "Recall      0.89          0.80            0.79        0.85\n",
            "F1          0.88          0.78            0.79        0.88\n"
          ]
        }
      ]
    },
    {
      "cell_type": "code",
      "source": [
        "rate_of_error= []\n",
        "for i in range(1,40):\n",
        "    knn = KNeighborsClassifier(n_neighbors=i)\n",
        "    knn.fit(X_train,y_train)\n",
        "    pred_i = knn.predict(X_test)\n",
        "    rate_of_error.append(np.mean(pred_i != y_test))\n"
      ],
      "metadata": {
        "id": "ZyzoiEYQssMp"
      },
      "execution_count": null,
      "outputs": []
    },
    {
      "cell_type": "code",
      "source": [
        "from sklearn import neighbors\n"
      ],
      "metadata": {
        "id": "hXBhuW64zcWt"
      },
      "execution_count": null,
      "outputs": []
    },
    {
      "cell_type": "code",
      "source": [
        "plt.figure(figsize=(10,6))\n",
        "plt.plot(range(1,40),rate_of_error,color='blue', linestyle='dashed', marker='o',\n",
        "         markerfacecolor='red', markersize=10)\n",
        "plt.title('Error Rate vs. K Value')\n",
        "plt.xlabel('K')\n",
        "plt.ylabel('Rate of Error')"
      ],
      "metadata": {
        "colab": {
          "base_uri": "https://localhost:8080/",
          "height": 422
        },
        "id": "zNYPrCRMs0pJ",
        "outputId": "6b282ac4-47da-403b-97a8-70272232b185"
      },
      "execution_count": null,
      "outputs": [
        {
          "output_type": "execute_result",
          "data": {
            "text/plain": [
              "Text(0, 0.5, 'Rate of Error')"
            ]
          },
          "metadata": {},
          "execution_count": 47
        },
        {
          "output_type": "display_data",
          "data": {
            "text/plain": [
              "<Figure size 720x432 with 1 Axes>"
            ],
            "image/png": "[encoded data removed]"
          },
          "metadata": {
            "needs_background": "light"
          }
        }
      ]
    },
    {
      "cell_type": "code",
      "source": [
        "# NOW WITH K=36\n",
        "knn = KNeighborsClassifier(n_neighbors=36)\n",
        "\n",
        "knn.fit(X_train,y_train)\n",
        "pred = knn.predict(X_test)\n",
        "#probabilities\n",
        "probs =knn.predict_proba(X_test)\n",
        "\n",
        "print('WITH K=36')\n",
        "print('\\n')\n",
        "print_metrics_4(y_test,pred)\n",
        "print('\\n')\n",
        "print(classification_report(y_test,pred))"
      ],
      "metadata": {
        "colab": {
          "base_uri": "https://localhost:8080/"
        },
        "id": "XZ_cC9OSs0t4",
        "outputId": "b7ea5b16-4852-4a9f-c7de-2d987cab7c86"
      },
      "execution_count": null,
      "outputs": [
        {
          "output_type": "stream",
          "name": "stdout",
          "text": [
            "WITH K=36\n",
            "\n",
            "\n",
            "                 Confusion matrix\n",
            "                 AnswerValue 1   AnswerValue 2    AnswerValue 3    AnswerValue 4\n",
            "AnswerValue 1     10284              797                 1                 0\n",
            "AnswerValue 2       791             9955               980                 4\n",
            "AnswerValue 3        16             1308              9770               676\n",
            "AnswerValue 4         0               25               903              9505\n",
            "\n",
            "Accuracy        0.88\n",
            "F1 Score        0.88\n",
            "AUC             0.98\n",
            "Macro precision 0.88\n",
            "Macro recall    0.89\n",
            " \n",
            "         AnswerValue 1  AnswerValue 2  AnswerValue 3  AnswerValue 4\n",
            "Num case   11082.00         11730.00         11770.00        10433.00\n",
            "Precision   0.93          0.82            0.84        0.93\n",
            "Recall      0.93          0.85            0.83        0.91\n",
            "F1          0.93          0.84            0.83        0.92\n",
            "\n",
            "\n",
            "              precision    recall  f1-score   support\n",
            "\n",
            "         1.0       0.93      0.93      0.93     11082\n",
            "         2.0       0.82      0.85      0.84     11730\n",
            "         3.0       0.84      0.83      0.83     11770\n",
            "         4.0       0.93      0.91      0.92     10433\n",
            "\n",
            "    accuracy                           0.88     45015\n",
            "   macro avg       0.88      0.88      0.88     45015\n",
            "weighted avg       0.88      0.88      0.88     45015\n",
            "\n"
          ]
        }
      ]
    },
    {
      "cell_type": "code",
      "source": [
        "# print_metrics_4(y_test, pred)"
      ],
      "metadata": {
        "id": "kvdoAp7I03Ng"
      },
      "execution_count": null,
      "outputs": []
    },
    {
      "cell_type": "code",
      "source": [
        "# The choice of K has a drastic effect on the KNN classifier obtained. I considered a method of picking an optimal K value, the optimal  k valueas we can see have the  lowest error rate at K=36. Error rate seems to reach a stable minimum at K=36 and that gave us a perfect accuracy of 88%\n",
        "\n",
        "# so after I retrain and re-evaluate our model with K=36 i obtain optimal accuracy of 88%"
      ],
      "metadata": {
        "id": "JY5GSPZS05bb"
      },
      "execution_count": null,
      "outputs": []
    },
    {
      "cell_type": "markdown",
      "source": [
        "# ENSEMBLING TECHNIQUES"
      ],
      "metadata": {
        "id": "HmI9FVU9APj8"
      }
    },
    {
      "cell_type": "code",
      "source": [
        "x_new= scaler.fit_transform(new_fea)\n",
        "X_train, X_test, y_train, y_test = train_test_split(x_new, y, test_size=0.45, random_state = 1000)"
      ],
      "metadata": {
        "id": "yB1qHjQYESsL"
      },
      "execution_count": null,
      "outputs": []
    },
    {
      "cell_type": "code",
      "source": [
        "from sklearn.pipeline import make_pipeline\n",
        "from sklearn.ensemble import StackingClassifier, VotingClassifier\n",
        "from sklearn.neural_network import MLPClassifier\n",
        "from sklearn.neighbors import KNeighborsClassifier\n",
        "from sklearn.discriminant_analysis import QuadraticDiscriminantAnalysis \n"
      ],
      "metadata": {
        "id": "aVyUqahNHMk6"
      },
      "execution_count": null,
      "outputs": []
    },
    {
      "cell_type": "code",
      "source": [
        "scaler = StandardScaler()\n",
        "#ann = make_pipeline(scaler, MLPClassifier(solver='lbfgs',max_iter=4))\n",
        "# lr = make_pipeline(scaler, LogisticRegression())\n",
        "kNN = make_pipeline(scaler, KNeighborsClassifier(n_neighbors=3))\n",
        "dtree = DecisionTreeClassifier(criterion='entropy')\n",
        "gnb = make_pipeline(scaler, GaussianNB())\n",
        "# svc = make_pipeline(scaler, SVC())\n",
        "# qda = make_pipeline(scaler, QuadraticDiscriminantAnalysis())\n",
        "\n",
        "# format required for sklearn stacking\n",
        "estimator_tups = [('kNN',kNN),('dtree', dtree),('gnb',gnb)]"
      ],
      "metadata": {
        "id": "UF6BHZxWAUkz"
      },
      "execution_count": null,
      "outputs": []
    },
    {
      "cell_type": "code",
      "source": [
        "Ensemble = VotingClassifier(estimators=estimator_tups)"
      ],
      "metadata": {
        "id": "P4Mu6WyaJOYR"
      },
      "execution_count": null,
      "outputs": []
    },
    {
      "cell_type": "code",
      "source": [],
      "metadata": {
        "id": "4itPPGvlMLAU"
      },
      "execution_count": null,
      "outputs": []
    },
    {
      "cell_type": "code",
      "source": [
        "for clf, label in zip([kNN, dtree,gnb], ['kNN', 'dtree', 'gnb','Ensemble']):\n",
        "  scores = cross_val_score(clf, x_new, y, scoring='accuracy', cv=2)\n",
        "  print(\"Accuracy: %0.2f (+/- %0.2f) [%s]\" % (scores.mean(), scores.std(), label))\n"
      ],
      "metadata": {
        "id": "xgty1q51KXjy",
        "colab": {
          "base_uri": "https://localhost:8080/"
        },
        "outputId": "45b11994-82db-4855-c9ae-914fd76fe7c0"
      },
      "execution_count": null,
      "outputs": [
        {
          "output_type": "stream",
          "name": "stdout",
          "text": [
            "Accuracy: 0.70 (+/- 0.00) [kNN]\n",
            "Accuracy: 0.71 (+/- 0.00) [dtree]\n",
            "Accuracy: 0.63 (+/- 0.00) [gnb]\n"
          ]
        }
      ]
    },
    {
      "cell_type": "code",
      "source": [],
      "metadata": {
        "id": "PS9WIgyOBQZf"
      },
      "execution_count": null,
      "outputs": []
    },
    {
      "cell_type": "code",
      "source": [
        "Ensemble.fit(x_new, y)"
      ],
      "metadata": {
        "id": "zydVQDghMNoG",
        "colab": {
          "base_uri": "https://localhost:8080/"
        },
        "outputId": "985c5c23-1d73-408c-a63d-81fd8257c86d"
      },
      "execution_count": null,
      "outputs": [
        {
          "output_type": "execute_result",
          "data": {
            "text/plain": [
              "VotingClassifier(estimators=[('kNN',\n",
              "                              Pipeline(steps=[('standardscaler',\n",
              "                                               StandardScaler()),\n",
              "                                              ('kneighborsclassifier',\n",
              "                                               KNeighborsClassifier(n_neighbors=3))])),\n",
              "                             ('dtree',\n",
              "                              DecisionTreeClassifier(criterion='entropy')),\n",
              "                             ('gnb',\n",
              "                              Pipeline(steps=[('standardscaler',\n",
              "                                               StandardScaler()),\n",
              "                                              ('gaussiannb', GaussianNB())]))])"
            ]
          },
          "metadata": {},
          "execution_count": 170
        }
      ]
    },
    {
      "cell_type": "code",
      "source": [
        "preds=Ensemble.predict(X_test)"
      ],
      "metadata": {
        "id": "_ZKaQdb4MoZn"
      },
      "execution_count": null,
      "outputs": []
    },
    {
      "cell_type": "code",
      "source": [
        "# #probabilities\n",
        "# probs =Ensemble.predict_proba(X_test)"
      ],
      "metadata": {
        "id": "MjC-v-DVAUmn"
      },
      "execution_count": null,
      "outputs": []
    },
    {
      "cell_type": "code",
      "source": [
        "    print_metrics_4(y_test, preds)"
      ],
      "metadata": {
        "id": "XzezRQ8sAUpX",
        "colab": {
          "base_uri": "https://localhost:8080/"
        },
        "outputId": "124367ff-22c2-462c-a9b0-13ee261b5fde"
      },
      "execution_count": null,
      "outputs": [
        {
          "output_type": "stream",
          "name": "stdout",
          "text": [
            "                 Confusion matrix\n",
            "                 AnswerValue 1   AnswerValue 2    AnswerValue 3    AnswerValue 4\n",
            "AnswerValue 1     10751              204                 0                 0\n",
            "AnswerValue 2       973            10840                 0                 0\n",
            "AnswerValue 3      1956              204              9650                 0\n",
            "AnswerValue 4      1978              211                 0              8248\n",
            "\n",
            "Accuracy        0.88\n",
            "F1 Score        0.88\n",
            "AUC             0.94\n",
            "Macro precision 0.82\n",
            "Macro recall    0.95\n",
            " \n",
            "         AnswerValue 1  AnswerValue 2  AnswerValue 3  AnswerValue 4\n",
            "Num case   10955.00         11813.00         11810.00        10437.00\n",
            "Precision   0.69          0.95            1.00        1.00\n",
            "Recall      0.98          0.92            0.82        0.79\n",
            "F1          0.81          0.93            0.90        0.88\n"
          ]
        }
      ]
    },
    {
      "cell_type": "code",
      "source": [
        "# Ensembling Method seems to perform well by reducing model possibilities of bias with an acuuracy of 88% with auc score of 0.94 "
      ],
      "metadata": {
        "id": "YpiSAWdcAUul"
      },
      "execution_count": null,
      "outputs": []
    },
    {
      "cell_type": "code",
      "source": [],
      "metadata": {
        "id": "wptT4NdaAU2Y"
      },
      "execution_count": null,
      "outputs": []
    },
    {
      "cell_type": "markdown",
      "source": [
        "# COMPARING MODELS METRICS"
      ],
      "metadata": {
        "id": "FzIuPOCJJ9EB"
      }
    },
    {
      "cell_type": "code",
      "source": [],
      "metadata": {
        "id": "nRhjqPc8B85J"
      },
      "execution_count": null,
      "outputs": []
    },
    {
      "cell_type": "code",
      "source": [
        "models_metrics = {'Liner SVM': [0.75, 0.75, 0.77, 0.75,0.92],\n",
        "                'RBF SVM': [0.70, 0.69, 0.71, 0.70,0.92],\n",
        "                 'Poly SVM': [0.68, 0.64, 0.66, 0.68,0.87],\n",
        "                 'Logistic Reg': [0.56, 0.56, 0.56, 0.55,0.58],\n",
        "                 'Gaussian NB': [0.64, 0.61, 0.71, 0.64,0.79],\n",
        "                 'Bernoulli NB': [0.54, 0.74, 0.63, 0.51,0.78],\n",
        "                 'Decision Tree': [0.72, 0.81, 0.71, 0.72,0.92],\n",
        "                 'Random Forest': [0.72, 0.75, 0.74, 0.72,0.94],\n",
        "                 'Gradient Boosting': [0.71, 0.79, 0.73, 0.72,0.94],\n",
        "                 'Bagging Classifier Dtree': [0.71, 0.69, 0.72, 0.71,0.93],\n",
        "                 'Bagging Classifier NB': [0.63, 0.61, 0.70, 0.64,0.78],\n",
        "                 'AdaBoosting': [0.83, 0.83, 0.83, 0.83,0.98],\n",
        "                 'K-Neareat Neighbor' : [0.88, 0.88, 0.89, 0.88,0.98],\n",
        "                 'Ensemble' : [0.88, 0.82, 0.95, 0.88,0.94]\n",
        "                }\n",
        "df = pd.DataFrame(data = models_metrics)\n",
        "df.rename(index={0:'Accuracy',1:'Precision', 2: 'Recall', 3: 'F1-Score', 4: 'ROC'}, \n",
        "                 inplace=True)\n",
        "print(df)\n",
        "df.plot(kind='barh', figsize = (12,12), ylim = (0.94, 1), \n",
        "        color = ['gold', 'lightgreen', 'coral', 'lightskyblue','maroon','lime', 'green','black','purple','pink','indigo','blue','red','magenta'],\n",
        "        rot = 0, title ='Models performance (cross val mean)',\n",
        "        edgecolor = 'grey', alpha = 0.5)\n",
        "#for p in ax.patches:\n",
        "    #ax.annotate(str(p.get_height()), (p.get_x() * 1.01, p.get_height() * 1.0005))\n",
        "plt.show()"
      ],
      "metadata": {
        "colab": {
          "base_uri": "https://localhost:8080/",
          "height": 1000
        },
        "id": "ORuLGRiG10BW",
        "outputId": "1fdf29bc-c3a5-4b68-99a1-8b122bfed718"
      },
      "execution_count": null,
      "outputs": [
        {
          "output_type": "stream",
          "name": "stdout",
          "text": [
            "           Liner SVM  RBF SVM  Poly SVM  Logistic Reg  Gaussian NB  \\\n",
            "Accuracy        0.75     0.70      0.68          0.56         0.64   \n",
            "Precision       0.75     0.69      0.64          0.56         0.61   \n",
            "Recall          0.77     0.71      0.66          0.56         0.71   \n",
            "F1-Score        0.75     0.70      0.68          0.55         0.64   \n",
            "ROC             0.92     0.92      0.87          0.58         0.79   \n",
            "\n",
            "           Bernoulli NB  Decision Tree  Random Forest  Gradient Boosting  \\\n",
            "Accuracy           0.54           0.72           0.72               0.71   \n",
            "Precision          0.74           0.81           0.75               0.79   \n",
            "Recall             0.63           0.71           0.74               0.73   \n",
            "F1-Score           0.51           0.72           0.72               0.72   \n",
            "ROC                0.78           0.92           0.94               0.94   \n",
            "\n",
            "           Bagging Classifier Dtree  Bagging Classifier NB  AdaBoosting  \\\n",
            "Accuracy                       0.71                   0.63         0.83   \n",
            "Precision                      0.69                   0.61         0.83   \n",
            "Recall                         0.72                   0.70         0.83   \n",
            "F1-Score                       0.71                   0.64         0.83   \n",
            "ROC                            0.93                   0.78         0.98   \n",
            "\n",
            "           K-Neareat Neighbor  Ensemble  \n",
            "Accuracy                 0.88      0.88  \n",
            "Precision                0.88      0.82  \n",
            "Recall                   0.89      0.95  \n",
            "F1-Score                 0.88      0.88  \n",
            "ROC                      0.98      0.94  \n"
          ]
        },
        {
          "output_type": "display_data",
          "data": {
            "text/plain": [
              "<Figure size 864x864 with 1 Axes>"
            ],
            "image/png": "[encoded data removed]"
          },
          "metadata": {
            "needs_background": "light"
          }
        }
      ]
    },
    {
      "cell_type": "code",
      "source": [],
      "metadata": {
        "id": "fYWVBEHZ10C0"
      },
      "execution_count": null,
      "outputs": []
    },
    {
      "cell_type": "markdown",
      "source": [
        "*italicized text*"
      ],
      "metadata": {
        "id": "RtUvN6HL8usk"
      }
    },
    {
      "cell_type": "markdown",
      "source": [
        "So In terms of Accuracy and other metrics performances, ENSEMBLE METHOD  Perform greatly well than any other modelwith an accuracy of 88% though KNN was able to classify accurately as Ensemble method with  same accuracy but different AUC. Then ADABOOSTING classifiernbehave perfectly well with an accuracy of 83%.\n",
        "\n",
        "Therefore either Ensemble methode classifier and KNN will give us best predictions for our AnswerValue. "
      ],
      "metadata": {
        "id": "4jF6ZpFRmzs5"
      }
    },
    {
      "cell_type": "markdown",
      "source": [
        "# Best Model\n",
        "Two Model gave the best Model: which are\n",
        "a.ENSEMBLE METHOD\n",
        "b. KNN CLASSIFIER \n",
        "\n",
        "Ensembling Techniques gave the best Results:\n",
        "Three differents classifier was passed as an estimators into the ensemble method. The three estimator used are;\n",
        "Before  i achived these 3 best estimators, i have used different numbers of estimators such as logisticRegression, svm, Adaboost, gradient Boosting but yest they were notgiving an optimum accuracy suitable for me.\n",
        "\n",
        "After so much tunning and i was able to get the 3 best estimators that gave the best accuracy. These 3 estimators are;\n",
        "1. KNN with a n_neighbors parameter of 3\n",
        "2. Decision tree with a criterion parameterof entropy\n",
        "3. Naives Bayes\n",
        "\n",
        "After thatm i performed cross validation on the 3 estimators thereby helping my model to behave very. This cross validation behave well with CV of 2 .\n",
        "\n",
        "The type of ensemble technique used was VotingClassifier. These estimator was then passed into VotingClassifier.\n",
        "\n",
        "Then the VotingClassifier helped to get an accurcy of 88% which was far better than every other classifier asides KNN and far better than KNN because it takes a lesser time to learn as compared to KNN\n",
        "\n",
        "2. KNN\n",
        "KNN gave a good result f 88% accuracy_score\n",
        "KNN has n_neighbors parameters that can be tuned to get the best results. I initially started with n_neighbiors of 5 which gave a very good performance of 83% accuracy_score\n",
        "Then i have to plot the error rate so as to minimize the error rate using different values of n_neighbors parameter ranges frm 1-40.\n",
        "During this process of iteration and learning at different n_neighbors. The error was very mininimized at n_neighbors of k = 36.\n",
        "Then using K of 36 gave us the best accuracy of 88%\n",
        "\n",
        "\n",
        "\n"
      ],
      "metadata": {
        "id": "aHZHhHyZ8vyH"
      }
    },
    {
      "cell_type": "markdown",
      "source": [
        "Architecture OF KNN MODEL\n",
        "\n",
        "K-Nearest Neighbour is one of the simplest Machine Learning algorithms based on Supervised Learning technique.\n",
        "K-NN algorithm assumes the similarity between the new case/data and available cases and put the new case into the category that is most similar to the available categories.\n",
        "K-NN algorithm stores all the available data and classifies a new data point based on the similarity. This means when new data appears then it can be easily classified into a well suite category by using K- NN algorithm.\n",
        "K-NN algorithm can be used for Regression as well as for Classification but mostly it is used for the Classification problems. Reasons it is most suitbale for out AnswerValue Task\n",
        "K-NN is a non-parametric algorithm, which means it does not make any assumption on underlying data.\n",
        "It is also called a lazy learner algorithm because it does not learn from the training set immediately instead it stores the dataset and at the time of classification, it performs an action on the dataset.\n",
        "KNN algorithm at the training phase just stores the dataset and when it gets new data, then it classifies that data into a category that is much similar to the new data.\n",
        "Example: in our task 2, we have an AnswerValue similar t a multi class of 4 classes 1,2,3,4, and we want to know either the AnswerValue Selected by the student is 1,2,3,4. So for this identification, we can use the KNN algorithm, as it works on a similarity measure. Our KNN model will find the similar features of the new data set to either the 1,2,3,4 values and based on the most similar features it will put it in either 1,2,3,4 category.\n",
        "\n",
        "HOW KNN WORKS.\n",
        "\n",
        "The K-NN working can be explained on the basis of the below algorithm:\n",
        "Step-1: Select the number K of the neighbors\n",
        "Step-2: Calculate the Euclidean distance of K number of neighbors\n",
        "Step-3: Take the K nearest neighbors as per the calculated Euclidean distance.\n",
        "Step-4: Among these k neighbors, count the number of the data points in each category.\n",
        "Step-5: Assign the new data points to that category for which the number of the neighbor is maximum.\n",
        "Step-6: Our model is ready\n",
        "\n",
        "e.g \n",
        "Suppose we have a new data point from a students and we need to put it in the required category.\n",
        "Firstly, we will choose the number of neighbors, which i chose the k=5.\n",
        "Next, I calculated the Euclidean distance between the data points. The Euclidean distance is the distance between two points.\n",
        "By calculating the Euclidean distance we got the nearest neighbors, i.e certain nearest neighbors in category 1,certain nearest neighbors in category 2,certain nearest neighbors in category 3 and certain nearest neighbors in category 4. \n",
        "\n",
        "so the new data point must belong to either of the 4 categories.\n",
        "\n",
        "SELECTING BEST VALUYE OF K\n",
        "There is no particular way to determine the best value for \"K\", so we need to try some values to find the best out of them. The most preferred value for K is 5 and that was what gave me 83% at first. before trying different value of K.\n",
        "A very low value for K such as K=1 or K=2, can be noisy and lead to the effects of outliers in the model.\n",
        "Large values for K are good, but it may find some difficulties. But in my model K value of 36 gave me thje best accuracy which in turne improve my ,model performances.\n",
        "\n",
        "Advantages of KNN Algorithm:\n",
        "It is simple to implement.\n",
        "It is robust to the noisy training data\n",
        "It can be more effective if the training data is large.\n",
        "Disadvantages of KNN Algorithm:\n",
        "Always needs to determine the value of K which may be complex some time.\n",
        "The computation cost is high because of calculating the distance between the data points for all the training samples.\n",
        "\n"
      ],
      "metadata": {
        "id": "Spy9mB8lEF6y"
      }
    }
  ]
}