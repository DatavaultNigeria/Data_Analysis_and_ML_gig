{
  "nbformat": 4,
  "nbformat_minor": 0,
  "metadata": {
    "colab": {
      "provenance": [],
      "collapsed_sections": []
    },
    "kernelspec": {
      "name": "python3",
      "display_name": "Python 3"
    },
    "language_info": {
      "name": "python"
    },
    "gpuClass": "standard"
  },
  "cells": [
    {
      "cell_type": "code",
      "execution_count": null,
      "metadata": {
        "id": "iobW1nU3YW7i"
      },
      "outputs": [],
      "source": [
        "from google.colab import drive"
      ]
    },
    {
      "cell_type": "code",
      "source": [],
      "metadata": {
        "id": "Aw5VWaqYyMTX"
      },
      "execution_count": null,
      "outputs": []
    },
    {
      "cell_type": "code",
      "source": [
        "drive.mount('/content/drive')"
      ],
      "metadata": {
        "colab": {
          "base_uri": "https://localhost:8080/"
        },
        "id": "UebO4KjHYkoU",
        "outputId": "ebb7711a-8e60-4208-d1c5-3e5e8e695895"
      },
      "execution_count": null,
      "outputs": [
        {
          "output_type": "stream",
          "name": "stdout",
          "text": [
            "Mounted at /content/drive\n"
          ]
        }
      ]
    },
    {
      "cell_type": "code",
      "source": [
        "path = '/content/drive/My Drive/processed_data.csv'"
      ],
      "metadata": {
        "id": "csdI2BCnYzKK"
      },
      "execution_count": null,
      "outputs": []
    },
    {
      "cell_type": "code",
      "source": [
        "import tensorflow as tf\n",
        "dn = tf.test.gpu_device_name()\n",
        "if dn != '/device:GPU:0':\n",
        "  raise SystemError ('gpu not found')\n",
        "print('gpu found ar : {}'.format(dn))"
      ],
      "metadata": {
        "id": "-25lJvNCZKyc",
        "colab": {
          "base_uri": "https://localhost:8080/"
        },
        "outputId": "7ccae2b2-860f-4328-eb31-bb94a3e87487"
      },
      "execution_count": null,
      "outputs": [
        {
          "output_type": "stream",
          "name": "stdout",
          "text": [
            "gpu found ar : /device:GPU:0\n"
          ]
        }
      ]
    },
    {
      "cell_type": "code",
      "source": [
        "import pandas as pd\n",
        "from sklearn import preprocessing\n",
        "import sklearn.model_selection as ms\n",
        "from sklearn import linear_model\n",
        "import sklearn.metrics as sklm\n",
        "import numpy as np\n",
        "import numpy.random as nr\n",
        "import matplotlib.pyplot as plt\n",
        "import seaborn as sns\n",
        "import scipy.stats as ss\n",
        "import math\n",
        "from tabulate import tabulate\n",
        "import random\n",
        "\n",
        "%matplotlib inline"
      ],
      "metadata": {
        "id": "WEcxO-bEZLnQ"
      },
      "execution_count": null,
      "outputs": []
    },
    {
      "cell_type": "code",
      "source": [
        "new_data = pd.read_csv(path)"
      ],
      "metadata": {
        "id": "jGbp2uh6ZPdz"
      },
      "execution_count": null,
      "outputs": []
    },
    {
      "cell_type": "code",
      "source": [
        "new_data.head()"
      ],
      "metadata": {
        "colab": {
          "base_uri": "https://localhost:8080/",
          "height": 317
        },
        "id": "IhgS2qcIZUay",
        "outputId": "3d1b8efb-6699-4d03-b921-6b0dde7a9e56"
      },
      "execution_count": null,
      "outputs": [
        {
          "output_type": "execute_result",
          "data": {
            "text/plain": [
              "   Unnamed: 0   UserId  IsCorrect  CorrectAnswer  AnswerValue  Gender  \\\n",
              "0           0  65967.0        0.0            4.0          2.0     1.0   \n",
              "1           1  50013.0        0.0            3.0          1.0     1.0   \n",
              "2           2  87935.0        1.0            4.0          4.0     1.0   \n",
              "3           3  77530.0        0.0            2.0          3.0     1.0   \n",
              "4           4  99529.0        0.0            3.0          4.0     2.0   \n",
              "\n",
              "   PremiumPupil  HourAnswered  MonthAnswered  YearAnswered  ...  \\\n",
              "0           0.0          13.0            4.0        2019.0  ...   \n",
              "1           1.0          18.0           11.0        2018.0  ...   \n",
              "2           1.0          22.0            5.0        2019.0  ...   \n",
              "3           1.0          21.0           11.0        2018.0  ...   \n",
              "4           0.0          21.0           12.0        2018.0  ...   \n",
              "\n",
              "   Age_mean_on_yr_mth  Age_std_on_yr_mth  Age_max_on_yr_mth  \\\n",
              "0           14.470042           1.991865               18.0   \n",
              "1           13.680786           1.605366               36.0   \n",
              "2           14.327149           2.099209               37.0   \n",
              "3           13.680786           1.605366               36.0   \n",
              "4           13.608579           1.793765               36.0   \n",
              "\n",
              "   Age_min_on_yr_mth  Year_Month_int  l_QuestionId  l_AnswerId  l_GroupId  \\\n",
              "0                6.0             0.0      9.740792   16.337489   8.522380   \n",
              "1                5.0             1.0      9.674766   16.425492   8.512181   \n",
              "2                6.0             2.0      9.978966   16.677026   8.296547   \n",
              "3                5.0             1.0      9.677966   16.252204   9.006141   \n",
              "4                5.0             3.0      9.934986   16.318109   8.115521   \n",
              "\n",
              "   l_QiuzId  l_SchemeOfWorkId  \n",
              "0  9.641538          9.036939  \n",
              "1  9.754175         10.248070  \n",
              "2  8.607948         10.248070  \n",
              "3  9.216521          9.037533  \n",
              "4  6.369901          9.038959  \n",
              "\n",
              "[5 rows x 35 columns]"
            ],
            "text/html": [
              "\n",
              "  <div id=\"df-454f6393-12dd-4586-8ccf-44be2bbe397f\">\n",
              "    <div class=\"colab-df-container\">\n",
              "      <div>\n",
              "<style scoped>\n",
              "    .dataframe tbody tr th:only-of-type {\n",
              "        vertical-align: middle;\n",
              "    }\n",
              "\n",
              "    .dataframe tbody tr th {\n",
              "        vertical-align: top;\n",
              "    }\n",
              "\n",
              "    .dataframe thead th {\n",
              "        text-align: right;\n",
              "    }\n",
              "</style>\n",
              "<table border=\"1\" class=\"dataframe\">\n",
              "  <thead>\n",
              "    <tr style=\"text-align: right;\">\n",
              "      <th></th>\n",
              "      <th>Unnamed: 0</th>\n",
              "      <th>UserId</th>\n",
              "      <th>IsCorrect</th>\n",
              "      <th>CorrectAnswer</th>\n",
              "      <th>AnswerValue</th>\n",
              "      <th>Gender</th>\n",
              "      <th>PremiumPupil</th>\n",
              "      <th>HourAnswered</th>\n",
              "      <th>MonthAnswered</th>\n",
              "      <th>YearAnswered</th>\n",
              "      <th>...</th>\n",
              "      <th>Age_mean_on_yr_mth</th>\n",
              "      <th>Age_std_on_yr_mth</th>\n",
              "      <th>Age_max_on_yr_mth</th>\n",
              "      <th>Age_min_on_yr_mth</th>\n",
              "      <th>Year_Month_int</th>\n",
              "      <th>l_QuestionId</th>\n",
              "      <th>l_AnswerId</th>\n",
              "      <th>l_GroupId</th>\n",
              "      <th>l_QiuzId</th>\n",
              "      <th>l_SchemeOfWorkId</th>\n",
              "    </tr>\n",
              "  </thead>\n",
              "  <tbody>\n",
              "    <tr>\n",
              "      <th>0</th>\n",
              "      <td>0</td>\n",
              "      <td>65967.0</td>\n",
              "      <td>0.0</td>\n",
              "      <td>4.0</td>\n",
              "      <td>2.0</td>\n",
              "      <td>1.0</td>\n",
              "      <td>0.0</td>\n",
              "      <td>13.0</td>\n",
              "      <td>4.0</td>\n",
              "      <td>2019.0</td>\n",
              "      <td>...</td>\n",
              "      <td>14.470042</td>\n",
              "      <td>1.991865</td>\n",
              "      <td>18.0</td>\n",
              "      <td>6.0</td>\n",
              "      <td>0.0</td>\n",
              "      <td>9.740792</td>\n",
              "      <td>16.337489</td>\n",
              "      <td>8.522380</td>\n",
              "      <td>9.641538</td>\n",
              "      <td>9.036939</td>\n",
              "    </tr>\n",
              "    <tr>\n",
              "      <th>1</th>\n",
              "      <td>1</td>\n",
              "      <td>50013.0</td>\n",
              "      <td>0.0</td>\n",
              "      <td>3.0</td>\n",
              "      <td>1.0</td>\n",
              "      <td>1.0</td>\n",
              "      <td>1.0</td>\n",
              "      <td>18.0</td>\n",
              "      <td>11.0</td>\n",
              "      <td>2018.0</td>\n",
              "      <td>...</td>\n",
              "      <td>13.680786</td>\n",
              "      <td>1.605366</td>\n",
              "      <td>36.0</td>\n",
              "      <td>5.0</td>\n",
              "      <td>1.0</td>\n",
              "      <td>9.674766</td>\n",
              "      <td>16.425492</td>\n",
              "      <td>8.512181</td>\n",
              "      <td>9.754175</td>\n",
              "      <td>10.248070</td>\n",
              "    </tr>\n",
              "    <tr>\n",
              "      <th>2</th>\n",
              "      <td>2</td>\n",
              "      <td>87935.0</td>\n",
              "      <td>1.0</td>\n",
              "      <td>4.0</td>\n",
              "      <td>4.0</td>\n",
              "      <td>1.0</td>\n",
              "      <td>1.0</td>\n",
              "      <td>22.0</td>\n",
              "      <td>5.0</td>\n",
              "      <td>2019.0</td>\n",
              "      <td>...</td>\n",
              "      <td>14.327149</td>\n",
              "      <td>2.099209</td>\n",
              "      <td>37.0</td>\n",
              "      <td>6.0</td>\n",
              "      <td>2.0</td>\n",
              "      <td>9.978966</td>\n",
              "      <td>16.677026</td>\n",
              "      <td>8.296547</td>\n",
              "      <td>8.607948</td>\n",
              "      <td>10.248070</td>\n",
              "    </tr>\n",
              "    <tr>\n",
              "      <th>3</th>\n",
              "      <td>3</td>\n",
              "      <td>77530.0</td>\n",
              "      <td>0.0</td>\n",
              "      <td>2.0</td>\n",
              "      <td>3.0</td>\n",
              "      <td>1.0</td>\n",
              "      <td>1.0</td>\n",
              "      <td>21.0</td>\n",
              "      <td>11.0</td>\n",
              "      <td>2018.0</td>\n",
              "      <td>...</td>\n",
              "      <td>13.680786</td>\n",
              "      <td>1.605366</td>\n",
              "      <td>36.0</td>\n",
              "      <td>5.0</td>\n",
              "      <td>1.0</td>\n",
              "      <td>9.677966</td>\n",
              "      <td>16.252204</td>\n",
              "      <td>9.006141</td>\n",
              "      <td>9.216521</td>\n",
              "      <td>9.037533</td>\n",
              "    </tr>\n",
              "    <tr>\n",
              "      <th>4</th>\n",
              "      <td>4</td>\n",
              "      <td>99529.0</td>\n",
              "      <td>0.0</td>\n",
              "      <td>3.0</td>\n",
              "      <td>4.0</td>\n",
              "      <td>2.0</td>\n",
              "      <td>0.0</td>\n",
              "      <td>21.0</td>\n",
              "      <td>12.0</td>\n",
              "      <td>2018.0</td>\n",
              "      <td>...</td>\n",
              "      <td>13.608579</td>\n",
              "      <td>1.793765</td>\n",
              "      <td>36.0</td>\n",
              "      <td>5.0</td>\n",
              "      <td>3.0</td>\n",
              "      <td>9.934986</td>\n",
              "      <td>16.318109</td>\n",
              "      <td>8.115521</td>\n",
              "      <td>6.369901</td>\n",
              "      <td>9.038959</td>\n",
              "    </tr>\n",
              "  </tbody>\n",
              "</table>\n",
              "<p>5 rows × 35 columns</p>\n",
              "</div>\n",
              "      <button class=\"colab-df-convert\" onclick=\"convertToInteractive('df-454f6393-12dd-4586-8ccf-44be2bbe397f')\"\n",
              "              title=\"Convert this dataframe to an interactive table.\"\n",
              "              style=\"display:none;\">\n",
              "        \n",
              "  <svg xmlns=\"http://www.w3.org/2000/svg\" height=\"24px\"viewBox=\"0 0 24 24\"\n",
              "       width=\"24px\">\n",
              "    <path d=\"M0 0h24v24H0V0z\" fill=\"none\"/>\n",
              "    <path d=\"M18.56 5.44l.94 2.06.94-2.06 2.06-.94-2.06-.94-.94-2.06-.94 2.06-2.06.94zm-11 1L8.5 8.5l.94-2.06 2.06-.94-2.06-.94L8.5 2.5l-.94 2.06-2.06.94zm10 10l.94 2.06.94-2.06 2.06-.94-2.06-.94-.94-2.06-.94 2.06-2.06.94z\"/><path d=\"M17.41 7.96l-1.37-1.37c-.4-.4-.92-.59-1.43-.59-.52 0-1.04.2-1.43.59L10.3 9.45l-7.72 7.72c-.78.78-.78 2.05 0 2.83L4 21.41c.39.39.9.59 1.41.59.51 0 1.02-.2 1.41-.59l7.78-7.78 2.81-2.81c.8-.78.8-2.07 0-2.86zM5.41 20L4 18.59l7.72-7.72 1.47 1.35L5.41 20z\"/>\n",
              "  </svg>\n",
              "      </button>\n",
              "      \n",
              "  <style>\n",
              "    .colab-df-container {\n",
              "      display:flex;\n",
              "      flex-wrap:wrap;\n",
              "      gap: 12px;\n",
              "    }\n",
              "\n",
              "    .colab-df-convert {\n",
              "      background-color: #E8F0FE;\n",
              "      border: none;\n",
              "      border-radius: 50%;\n",
              "      cursor: pointer;\n",
              "      display: none;\n",
              "      fill: #1967D2;\n",
              "      height: 32px;\n",
              "      padding: 0 0 0 0;\n",
              "      width: 32px;\n",
              "    }\n",
              "\n",
              "    .colab-df-convert:hover {\n",
              "      background-color: #E2EBFA;\n",
              "      box-shadow: 0px 1px 2px rgba(60, 64, 67, 0.3), 0px 1px 3px 1px rgba(60, 64, 67, 0.15);\n",
              "      fill: #174EA6;\n",
              "    }\n",
              "\n",
              "    [theme=dark] .colab-df-convert {\n",
              "      background-color: #3B4455;\n",
              "      fill: #D2E3FC;\n",
              "    }\n",
              "\n",
              "    [theme=dark] .colab-df-convert:hover {\n",
              "      background-color: #434B5C;\n",
              "      box-shadow: 0px 1px 3px 1px rgba(0, 0, 0, 0.15);\n",
              "      filter: drop-shadow(0px 1px 2px rgba(0, 0, 0, 0.3));\n",
              "      fill: #FFFFFF;\n",
              "    }\n",
              "  </style>\n",
              "\n",
              "      <script>\n",
              "        const buttonEl =\n",
              "          document.querySelector('#df-454f6393-12dd-4586-8ccf-44be2bbe397f button.colab-df-convert');\n",
              "        buttonEl.style.display =\n",
              "          google.colab.kernel.accessAllowed ? 'block' : 'none';\n",
              "\n",
              "        async function convertToInteractive(key) {\n",
              "          const element = document.querySelector('#df-454f6393-12dd-4586-8ccf-44be2bbe397f');\n",
              "          const dataTable =\n",
              "            await google.colab.kernel.invokeFunction('convertToInteractive',\n",
              "                                                     [key], {});\n",
              "          if (!dataTable) return;\n",
              "\n",
              "          const docLinkHtml = 'Like what you see? Visit the ' +\n",
              "            '<a target=\"_blank\" href=https://colab.research.google.com/notebooks/data_table.ipynb>data table notebook</a>'\n",
              "            + ' to learn more about interactive tables.';\n",
              "          element.innerHTML = '';\n",
              "          dataTable['output_type'] = 'display_data';\n",
              "          await google.colab.output.renderOutput(dataTable, element);\n",
              "          const docLink = document.createElement('div');\n",
              "          docLink.innerHTML = docLinkHtml;\n",
              "          element.appendChild(docLink);\n",
              "        }\n",
              "      </script>\n",
              "    </div>\n",
              "  </div>\n",
              "  "
            ]
          },
          "metadata": {},
          "execution_count": 8
        }
      ]
    },
    {
      "cell_type": "code",
      "source": [
        "new_data.drop('Unnamed: 0', axis = 1, inplace= True)"
      ],
      "metadata": {
        "id": "niPjr82Bax0V"
      },
      "execution_count": null,
      "outputs": []
    },
    {
      "cell_type": "markdown",
      "source": [
        "Selecting 100k i.e 24% of the data sets\n",
        "\n",
        "```\n",
        "\n",
        "```\n",
        "\n"
      ],
      "metadata": {
        "id": "Xb1GW2Sna2Ys"
      }
    },
    {
      "cell_type": "code",
      "source": [
        "def frac(dataframe, fraction, other_info=None):\n",
        "  \"\"\"Returns Fractions of the Data\"\"\"\n",
        "  return dataframe.sample(frac = fraction)"
      ],
      "metadata": {
        "id": "Brtvtpmza6HU"
      },
      "execution_count": null,
      "outputs": []
    },
    {
      "cell_type": "code",
      "source": [
        "random.seed(1000)\n",
        "df = frac(new_data, 0.02392)"
      ],
      "metadata": {
        "id": "IzDnVT0KbDOB"
      },
      "execution_count": null,
      "outputs": []
    },
    {
      "cell_type": "code",
      "source": [
        "df.shape"
      ],
      "metadata": {
        "colab": {
          "base_uri": "https://localhost:8080/"
        },
        "id": "c106XN3zbEZF",
        "outputId": "35388dff-8536-4432-b2cc-6d25f21f5eda"
      },
      "execution_count": null,
      "outputs": [
        {
          "output_type": "execute_result",
          "data": {
            "text/plain": [
              "(100032, 34)"
            ]
          },
          "metadata": {},
          "execution_count": 14
        }
      ]
    },
    {
      "cell_type": "code",
      "source": [
        "\n",
        "df.info()"
      ],
      "metadata": {
        "colab": {
          "base_uri": "https://localhost:8080/"
        },
        "id": "TLbxDt1zbIl9",
        "outputId": "7f5c3ebc-e644-447a-8d8f-fba6725c6ff5"
      },
      "execution_count": null,
      "outputs": [
        {
          "output_type": "stream",
          "name": "stdout",
          "text": [
            "<class 'pandas.core.frame.DataFrame'>\n",
            "Int64Index: 100032 entries, 1265942 to 2368804\n",
            "Data columns (total 34 columns):\n",
            " #   Column                Non-Null Count   Dtype  \n",
            "---  ------                --------------   -----  \n",
            " 0   UserId                100032 non-null  float64\n",
            " 1   IsCorrect             100032 non-null  float64\n",
            " 2   CorrectAnswer         100032 non-null  float64\n",
            " 3   AnswerValue           100032 non-null  float64\n",
            " 4   Gender                100032 non-null  float64\n",
            " 5   PremiumPupil          100032 non-null  float64\n",
            " 6   HourAnswered          100032 non-null  float64\n",
            " 7   MonthAnswered         100032 non-null  float64\n",
            " 8   YearAnswered          100032 non-null  float64\n",
            " 9   Day of Week Answered  100032 non-null  float64\n",
            " 10  YearBirth             100032 non-null  float64\n",
            " 11  Age                   100032 non-null  float64\n",
            " 12  poly1_0               100032 non-null  float64\n",
            " 13  poly1_1               100032 non-null  float64\n",
            " 14  poly1_2               100032 non-null  float64\n",
            " 15  poly2_0               100032 non-null  float64\n",
            " 16  poly2_1               100032 non-null  float64\n",
            " 17  poly2_2               100032 non-null  float64\n",
            " 18  poly2_3               100032 non-null  float64\n",
            " 19  poly2_4               100032 non-null  float64\n",
            " 20  poly2_5               100032 non-null  float64\n",
            " 21  Perfect_Correct       100032 non-null  float64\n",
            " 22  Perfect_Date          100032 non-null  float64\n",
            " 23  Age_bin               100032 non-null  float64\n",
            " 24  Age_mean_on_yr_mth    100032 non-null  float64\n",
            " 25  Age_std_on_yr_mth     100032 non-null  float64\n",
            " 26  Age_max_on_yr_mth     100032 non-null  float64\n",
            " 27  Age_min_on_yr_mth     100032 non-null  float64\n",
            " 28  Year_Month_int        100032 non-null  float64\n",
            " 29  l_QuestionId          100032 non-null  float64\n",
            " 30  l_AnswerId            100032 non-null  float64\n",
            " 31  l_GroupId             100032 non-null  float64\n",
            " 32  l_QiuzId              100032 non-null  float64\n",
            " 33  l_SchemeOfWorkId      100032 non-null  float64\n",
            "dtypes: float64(34)\n",
            "memory usage: 26.7 MB\n"
          ]
        }
      ]
    },
    {
      "cell_type": "code",
      "source": [
        "df['IsCorrect'].value_counts()"
      ],
      "metadata": {
        "colab": {
          "base_uri": "https://localhost:8080/"
        },
        "id": "JhVtV8XFbLyR",
        "outputId": "112a8930-f744-4e96-d2de-e69853352145"
      },
      "execution_count": null,
      "outputs": [
        {
          "output_type": "execute_result",
          "data": {
            "text/plain": [
              "1.0    55679\n",
              "0.0    44353\n",
              "Name: IsCorrect, dtype: int64"
            ]
          },
          "metadata": {},
          "execution_count": 13
        }
      ]
    },
    {
      "cell_type": "code",
      "source": [],
      "metadata": {
        "id": "x9oC51CtbPHD"
      },
      "execution_count": null,
      "outputs": []
    },
    {
      "cell_type": "markdown",
      "source": [
        "# Splitting Datasets And Performing Standard Scaler"
      ],
      "metadata": {
        "id": "2RVQEWoCbUEA"
      }
    },
    {
      "cell_type": "code",
      "source": [
        "X = df.drop(['UserId','IsCorrect'], axis=1)\n",
        "y = df['IsCorrect']"
      ],
      "metadata": {
        "id": "d3ixojpqbU2E"
      },
      "execution_count": null,
      "outputs": []
    },
    {
      "cell_type": "code",
      "source": [
        "from sklearn.preprocessing import StandardScaler\n",
        "scaler = StandardScaler()"
      ],
      "metadata": {
        "id": "_bFNvR2ybYn5"
      },
      "execution_count": null,
      "outputs": []
    },
    {
      "cell_type": "code",
      "source": [
        "x_scaled= scaler.fit_transform(X)\n",
        "from sklearn.model_selection import train_test_split,cross_val_score\n",
        "X_train, X_test, y_train, y_test = train_test_split(x_scaled, y, test_size=0.45, random_state = 10)"
      ],
      "metadata": {
        "id": "k6hGT-OQbbKc"
      },
      "execution_count": null,
      "outputs": []
    },
    {
      "cell_type": "code",
      "source": [],
      "metadata": {
        "id": "LDZJMAXWbdm-"
      },
      "execution_count": null,
      "outputs": []
    },
    {
      "cell_type": "markdown",
      "source": [
        " ## MODELLING"
      ],
      "metadata": {
        "id": "nhWAuoO9bjwY"
      }
    },
    {
      "cell_type": "code",
      "source": [
        "from sklearn.model_selection import StratifiedKFold\n",
        "from sklearn.metrics import log_loss, f1_score\n",
        "from sklearn.metrics import classification_report,confusion_matrix, accuracy_score,f1_score\n",
        "from sklearn.svm import SVC\n",
        "from sklearn import svm\n",
        "from sklearn.linear_model import LogisticRegression\n",
        "from sklearn.tree import DecisionTreeClassifier\n",
        "from sklearn.ensemble import GradientBoostingClassifier\n",
        "from sklearn.ensemble import BaggingClassifier\n",
        "from sklearn.ensemble import AdaBoostClassifier\n",
        "from sklearn.naive_bayes import GaussianNB\n",
        "from sklearn.naive_bayes import BernoulliNB\n",
        "from sklearn.metrics import roc_curve\n",
        "from sklearn.metrics import auc\n",
        "\n",
        "# from sklearn.grid_search import GridSearchCV\n",
        "\n",
        "NB_mod = GaussianNB() #for continuous or numerical features.\n",
        "NB_mod = BernoulliNB() #for features with binary values\n",
        "dt= DecisionTreeClassifier()\n",
        "# logreg = LogisticRegression()"
      ],
      "metadata": {
        "id": "Ejwl_Im1bkQq"
      },
      "execution_count": null,
      "outputs": []
    },
    {
      "cell_type": "code",
      "source": [],
      "metadata": {
        "id": "KS3QlgkZbnI6"
      },
      "execution_count": null,
      "outputs": []
    },
    {
      "cell_type": "markdown",
      "source": [
        "### 1. LINEAR SVM"
      ],
      "metadata": {
        "id": "gosuXxKwC8L5"
      }
    },
    {
      "cell_type": "code",
      "source": [
        "svm_lin_mod = svm.LinearSVC(class_weight = {0:0.70, 1:0.30}, C = 10) \n",
        "svm_lin_mod.fit(X_train, y_train)"
      ],
      "metadata": {
        "id": "1e5BoGkgC9DR",
        "outputId": "38b09271-ff2e-474b-87be-3b2f21900d3b",
        "colab": {
          "base_uri": "https://localhost:8080/"
        }
      },
      "execution_count": null,
      "outputs": [
        {
          "output_type": "stream",
          "name": "stderr",
          "text": [
            "/usr/local/lib/python3.7/dist-packages/sklearn/svm/_base.py:1208: ConvergenceWarning: Liblinear failed to converge, increase the number of iterations.\n",
            "  ConvergenceWarning,\n"
          ]
        },
        {
          "output_type": "execute_result",
          "data": {
            "text/plain": [
              "LinearSVC(C=10, class_weight={0: 0.7, 1: 0.3})"
            ]
          },
          "metadata": {},
          "execution_count": 18
        }
      ]
    },
    {
      "cell_type": "code",
      "source": [
        "y_pred_lin = svm_lin_mod.predict(X_test)"
      ],
      "metadata": {
        "id": "plyKhKAUC9Ey"
      },
      "execution_count": null,
      "outputs": []
    },
    {
      "cell_type": "code",
      "source": [
        "print(accuracy_score(y_test, y_pred_lin))\n",
        "print('Total accuracy: %.5f' % accuracy_score(y_test, y_pred_lin))\n",
        "print(classification_report(y_test, y_pred_lin))\n",
        "print(confusion_matrix(y_test, y_pred_lin))"
      ],
      "metadata": {
        "id": "idQWwVOCC9IV",
        "outputId": "7222985c-956a-496d-84f9-fc1880b7b3e0",
        "colab": {
          "base_uri": "https://localhost:8080/"
        }
      },
      "execution_count": null,
      "outputs": [
        {
          "output_type": "stream",
          "name": "stdout",
          "text": [
            "0.6734644007553038\n",
            "Total accuracy: 0.67346\n",
            "              precision    recall  f1-score   support\n",
            "\n",
            "         0.0       0.59      0.91      0.71     19998\n",
            "         1.0       0.87      0.49      0.62     25017\n",
            "\n",
            "    accuracy                           0.67     45015\n",
            "   macro avg       0.73      0.70      0.67     45015\n",
            "weighted avg       0.74      0.67      0.66     45015\n",
            "\n",
            "[[18123  1875]\n",
            " [12824 12193]]\n"
          ]
        }
      ]
    },
    {
      "cell_type": "code",
      "source": [
        "#We would define a function to print out the confusion matrix and other metric with the necessary formatting\n",
        "\n",
        "def print_metrics(labels, predictions):\n",
        "    metrics = sklm.precision_recall_fscore_support(labels, predictions)\n",
        "    conf = sklm.confusion_matrix(labels, predictions)\n",
        "    print('                 Confusion matrix')\n",
        "    print('                 Actual positive    Actual negative')\n",
        "    print('Score positive    %6d' % conf[0,0] + '             %5d' % conf[0,1])\n",
        "    print('Score negative    %6d' % conf[1,0] + '             %5d' % conf[1,1])\n",
        "    print('')\n",
        "    print('Accuracy        %0.2f' % sklm.accuracy_score(labels, scores))\n",
        "    print('F1 Score        %0.2f' % sklm.f1_score(labels, scores))\n",
        "    print('AUC             %0.2f' % sklm.roc_auc_score(labels, probs[:,1]))\n",
        "    print('Macro precision %0.2f' % float((float(metrics[0][0]) + float(metrics[0][1]))/2.0))\n",
        "    print('Macro recall    %0.2f' % float((float(metrics[1][0]) + float(metrics[1][1]))/2.0))\n",
        "    print(' ')\n",
        "    print('           Positive      Negative')\n",
        "    print('Num case   %6d' % metrics[3][0] + '        %6d' % metrics[3][1])\n",
        "    print('Precision  %6.2f' % metrics[0][0] + '        %6.2f' % metrics[0][1])\n",
        "    print('Recall     %6.2f' % metrics[1][0] + '        %6.2f' % metrics[1][1])\n",
        "    print('F1         %6.2f' % metrics[2][0] + '        %6.2f' % metrics[2][1])\n",
        "\n",
        "\n",
        "    \n",
        "print_metrics(y_test, y_pred_lin)"
      ],
      "metadata": {
        "id": "Mut136JAC9Jy",
        "outputId": "5eb9777f-f86b-4eec-fe45-9f9b38038819",
        "colab": {
          "base_uri": "https://localhost:8080/"
        }
      },
      "execution_count": null,
      "outputs": [
        {
          "output_type": "stream",
          "name": "stdout",
          "text": [
            "                 Confusion matrix\n",
            "                 Actual positive    Actual negative\n",
            "Score positive     18123              1875\n",
            "Score negative     12824             12193\n",
            "\n",
            "Accuracy  0.67\n",
            " \n",
            "           Positive      Negative\n",
            "Num case    19998         25017\n",
            "Precision    0.59          0.87\n",
            "Recall       0.91          0.49\n",
            "F1           0.71          0.62\n"
          ]
        }
      ]
    },
    {
      "cell_type": "code",
      "source": [
        "prob_lin = svm_lin_mod._predict_proba_lr(X_test)\n",
        "print(prob_lin[:5,:])"
      ],
      "metadata": {
        "id": "l7JVp6ezDNGR",
        "outputId": "9da1b491-dd8f-443f-d094-d8ba09339d53",
        "colab": {
          "base_uri": "https://localhost:8080/"
        }
      },
      "execution_count": null,
      "outputs": [
        {
          "output_type": "stream",
          "name": "stdout",
          "text": [
            "[[0.30667468 0.69332532]\n",
            " [0.65667302 0.34332698]\n",
            " [0.31506503 0.68493497]\n",
            " [0.7191255  0.2808745 ]\n",
            " [0.69779313 0.30220687]]\n"
          ]
        }
      ]
    },
    {
      "cell_type": "code",
      "source": [],
      "metadata": {
        "id": "bCBA8eU6d0ch"
      },
      "execution_count": null,
      "outputs": []
    },
    {
      "cell_type": "code",
      "source": [
        "def plot_auc(labels, probs):\n",
        "    ## Compute the false positive rate, true positive rate\n",
        "    ## and threshold along with the AUC\n",
        "    fpr, tpr, threshold = sklm.roc_curve(labels, probs[:,1])\n",
        "    auc = sklm.auc(fpr, tpr)\n",
        "    \n",
        "    ## Plot the result\n",
        "    plt.title('Receiver Operating Characteristic')\n",
        "    plt.plot(fpr, tpr, color = 'orange', label = 'AUC = %0.2f' % auc)\n",
        "    plt.legend(loc = 'lower right')\n",
        "    plt.plot([0, 1], [0, 1],'r--')\n",
        "    plt.xlim([0, 1])\n",
        "    plt.ylim([0, 1])\n",
        "    plt.ylabel('True Positive Rate')\n",
        "    plt.xlabel('False Positive Rate')\n",
        "    plt.show()\n",
        "    \n",
        "plot_auc(y_test, prob_lin)"
      ],
      "metadata": {
        "id": "5bJU31TFDNHz",
        "outputId": "776597b0-9e7a-448f-91d4-06b144ea9842",
        "colab": {
          "base_uri": "https://localhost:8080/",
          "height": 295
        }
      },
      "execution_count": null,
      "outputs": [
        {
          "output_type": "display_data",
          "data": {
            "text/plain": [
              "<Figure size 432x288 with 1 Axes>"
            ],
            "image/png": "[encoded data removed]"
          },
          "metadata": {
            "needs_background": "light"
          }
        }
      ]
    },
    {
      "cell_type": "markdown",
      "source": [
        "2. RBF KERNEL SVM"
      ],
      "metadata": {
        "id": "Ni86-3x8bplr"
      }
    },
    {
      "cell_type": "code",
      "source": [
        "nr.seed(3456)\n",
        "## Define the dictionary for the grid search and the model object to search on\n",
        "param_grid = {\"C\": [0.1, 1], \"gamma\":[1.0/50.0]}\n",
        "## Define the SVM model\n",
        "svc_clf = svm.SVC(class_weight = {0:0.55, 1:0.45}) \n",
        "\n",
        "## Perform the grid search over the parameters\n",
        "clf = ms.GridSearchCV(estimator = svc_clf, param_grid = param_grid, \n",
        "                      scoring = 'roc_auc',\n",
        "                      return_train_score = True)\n",
        "clf.fit(x_scaled, y)\n",
        "print(clf.best_estimator_.C)\n",
        "print(clf.best_estimator_.gamma)"
      ],
      "metadata": {
        "id": "QNcG46XmbqBW",
        "outputId": "155720ff-fc3b-4843-e3ee-e47157227d88",
        "colab": {
          "base_uri": "https://localhost:8080/"
        }
      },
      "execution_count": null,
      "outputs": [
        {
          "output_type": "stream",
          "name": "stdout",
          "text": [
            "1\n",
            "0.02\n"
          ]
        }
      ]
    },
    {
      "cell_type": "code",
      "source": [
        "# nr.seed(1115)\n",
        "svm_mod = svm.SVC(C = clf.best_estimator_.C,\n",
        "                  gamma = clf.best_estimator_.gamma,\n",
        "                  class_weight = {0:0.55, 1:0.45},\n",
        "                  probability=True) \n",
        "svm_mod.fit(X_train, y_train)"
      ],
      "metadata": {
        "id": "0rBLgxd-b3d7",
        "outputId": "c3cb7127-6a2c-4bb7-876b-9c77d972e006",
        "colab": {
          "base_uri": "https://localhost:8080/"
        }
      },
      "execution_count": null,
      "outputs": [
        {
          "output_type": "execute_result",
          "data": {
            "text/plain": [
              "SVC(C=1, class_weight={0: 0.55, 1: 0.45}, gamma=0.02, probability=True)"
            ]
          },
          "metadata": {},
          "execution_count": 16
        }
      ]
    },
    {
      "cell_type": "code",
      "source": [
        "y_pred_rbf = svm_mod.predict(X_test)"
      ],
      "metadata": {
        "id": "RX0bHEnSfpD0"
      },
      "execution_count": null,
      "outputs": []
    },
    {
      "cell_type": "code",
      "source": [
        "#Printing the metrics\n",
        "def score_model(probs, threshold):\n",
        "    return np.array([1 if x > threshold else 0 for x in probs[:,1]])\n",
        "\n",
        "def print_metrics(labels, probs, threshold):\n",
        "    scores = score_model(probs, threshold)\n",
        "    metrics = sklm.precision_recall_fscore_support(labels, scores)\n",
        "    conf = sklm.confusion_matrix(labels, scores)\n",
        "    print('                 Confusion matrix')\n",
        "    print('                 Score positive    Score negative')\n",
        "    print('Actual positive    %6d' % conf[0,0] + '             %5d' % conf[0,1])\n",
        "    print('Actual negative    %6d' % conf[1,0] + '             %5d' % conf[1,1])\n",
        "    print('')\n",
        "    print('Accuracy        %0.2f' % sklm.accuracy_score(labels, scores))\n",
        "    print('F1 Score        %0.2f' % sklm.f1_score(labels, scores))\n",
        "    print('AUC             %0.2f' % sklm.roc_auc_score(labels, probs[:,1]))\n",
        "    print('Macro precision %0.2f' % float((float(metrics[0][0]) + float(metrics[0][1]))/2.0))\n",
        "    print('Macro recall    %0.2f' % float((float(metrics[1][0]) + float(metrics[1][1]))/2.0))\n",
        "    print(' ')\n",
        "    print('           Positive      Negative')\n",
        "    print('Num case   %6d' % metrics[3][0] + '        %6d' % metrics[3][1])\n",
        "    print('Precision  %6.2f' % metrics[0][0] + '        %6.2f' % metrics[0][1])\n",
        "    print('Recall     %6.2f' % metrics[1][0] + '        %6.2f' % metrics[1][1])\n",
        "    print('F1         %6.2f' % metrics[2][0] + '        %6.2f' % metrics[2][1])\n",
        "    \n",
        "probabilities = svm_mod.predict_proba(X_test)\n",
        "print_metrics(y_test, probabilities, 0.5)"
      ],
      "metadata": {
        "id": "d7qimAD9b7lH",
        "outputId": "ef0a46d3-0d10-435b-e10f-c0474520d3b2",
        "colab": {
          "base_uri": "https://localhost:8080/"
        }
      },
      "execution_count": null,
      "outputs": [
        {
          "output_type": "stream",
          "name": "stdout",
          "text": [
            "                 Confusion matrix\n",
            "                 Score positive    Score negative\n",
            "Actual positive     19923                 0\n",
            "Actual negative        20             25072\n",
            "\n",
            "Accuracy        1.00\n",
            "F1 Score        1.00\n",
            "AUC             1.00\n",
            "Macro precision 1.00\n",
            "Macro recall    1.00\n",
            " \n",
            "           Positive      Negative\n",
            "Num case    19923         25092\n",
            "Precision    1.00          1.00\n",
            "Recall       1.00          1.00\n",
            "F1           1.00          1.00\n"
          ]
        }
      ]
    },
    {
      "cell_type": "code",
      "source": [
        "#Printing AUC \n",
        "def plot_auc(labels, probs):\n",
        "    ## Compute the false positive rate, true positive rate\n",
        "    ## and threshold along with the AUC\n",
        "    fpr, tpr, threshold = sklm.roc_curve(labels, probs[:,1])\n",
        "    auc = sklm.auc(fpr, tpr)\n",
        "    \n",
        "    ## Plot the result\n",
        "    plt.title('Receiver Operating Characteristic')\n",
        "    plt.plot(fpr, tpr, color = 'orange', label = 'AUC = %0.2f' % auc)\n",
        "    plt.legend(loc = 'lower right')\n",
        "    plt.plot([0, 1], [0, 1],'r--')\n",
        "    plt.xlim([0, 1])\n",
        "    plt.ylim([0, 1])\n",
        "    plt.ylabel('True Positive Rate')\n",
        "    plt.xlabel('False Positive Rate')\n",
        "    plt.show()\n",
        "    \n",
        "plot_auc(y_test, probabilities)"
      ],
      "metadata": {
        "id": "uEe7F0V9cBr3",
        "outputId": "72c15a60-3628-4133-f45a-e86a101d9336",
        "colab": {
          "base_uri": "https://localhost:8080/",
          "height": 295
        }
      },
      "execution_count": null,
      "outputs": [
        {
          "output_type": "display_data",
          "data": {
            "text/plain": [
              "<Figure size 432x288 with 1 Axes>"
            ],
            "image/png": "[encoded data removed]"
          },
          "metadata": {
            "needs_background": "light"
          }
        }
      ]
    },
    {
      "cell_type": "markdown",
      "source": [
        "# 3 USING POLY KERNEL SVM"
      ],
      "metadata": {
        "id": "10IgGopTcI5M"
      }
    },
    {
      "cell_type": "code",
      "source": [
        "X_train, X_test, y_train, y_test = train_test_split(x_scaled, y, test_size=0.45, random_state = 10)"
      ],
      "metadata": {
        "id": "GwmwavdNcL-z"
      },
      "execution_count": null,
      "outputs": []
    },
    {
      "cell_type": "code",
      "source": [
        "svm_poly_mod = svm.SVC(kernel='poly',class_weight = {0:0.55, 1:0.45}, C=2,probability=True)\n",
        "svm_poly_mod.fit(X_train, y_train)"
      ],
      "metadata": {
        "id": "VNqpSI5pcaIi",
        "outputId": "aefdade0-0cfa-4c39-d156-3b10d30a9703",
        "colab": {
          "base_uri": "https://localhost:8080/"
        }
      },
      "execution_count": null,
      "outputs": [
        {
          "output_type": "execute_result",
          "data": {
            "text/plain": [
              "SVC(C=2, class_weight={0: 0.55, 1: 0.45}, kernel='poly', probability=True)"
            ]
          },
          "metadata": {},
          "execution_count": 27
        }
      ]
    },
    {
      "cell_type": "code",
      "source": [
        "y_pred_poly = svm_poly_mod.predict(X_test)"
      ],
      "metadata": {
        "id": "PX3iWzZpcdI5"
      },
      "execution_count": null,
      "outputs": []
    },
    {
      "cell_type": "code",
      "source": [
        "print(accuracy_score(y_test, y_pred_poly))\n",
        "print('Total accuracy: %.5f' % accuracy_score(y_test, y_pred_poly))\n",
        "print(classification_report(y_test, y_pred_poly))\n",
        "print(confusion_matrix(y_test, y_pred_poly))"
      ],
      "metadata": {
        "id": "QLUwV7hlcfx5",
        "outputId": "263f9cc8-3513-4ce7-a27d-3f5d80d213cf",
        "colab": {
          "base_uri": "https://localhost:8080/"
        }
      },
      "execution_count": null,
      "outputs": [
        {
          "output_type": "stream",
          "name": "stdout",
          "text": [
            "0.7341774963900922\n",
            "Total accuracy: 0.73418\n",
            "              precision    recall  f1-score   support\n",
            "\n",
            "         0.0       0.64      0.92      0.75     19923\n",
            "         1.0       0.90      0.59      0.71     25092\n",
            "\n",
            "    accuracy                           0.73     45015\n",
            "   macro avg       0.77      0.75      0.73     45015\n",
            "weighted avg       0.79      0.73      0.73     45015\n",
            "\n",
            "[[18318  1605]\n",
            " [10361 14731]]\n"
          ]
        }
      ]
    },
    {
      "cell_type": "code",
      "source": [
        "#We would define a function to print out the confusion matrix and other metric with the necessary formatting\n",
        "\n",
        "def print_metrics(labels, predictions):\n",
        "    metrics = sklm.precision_recall_fscore_support(labels, predictions)\n",
        "    conf = sklm.confusion_matrix(labels, predictions)\n",
        "    print('                 Confusion matrix')\n",
        "    print('                 Actual positive    Actual negative')\n",
        "    print('Score positive    %6d' % conf[0,0] + '             %5d' % conf[0,1])\n",
        "    print('Score negative    %6d' % conf[1,0] + '             %5d' % conf[1,1])\n",
        "    print('')\n",
        "    print('Accuracy        %0.2f' % sklm.accuracy_score(labels, predictions))\n",
        "    print('F1 Score        %0.2f' % sklm.f1_score(labels, predictions))\n",
        "    print('AUC             %0.2f' % sklm.roc_auc_score(labels, probs[:,1]))\n",
        "    print('Macro precision %0.2f' % float((float(metrics[0][0]) + float(metrics[0][1]))/2.0))\n",
        "    print('Macro recall    %0.2f' % float((float(metrics[1][0]) + float(metrics[1][1]))/2.0))\n",
        "    print(' ')\n",
        "    print('           Positive      Negative')\n",
        "    print('Num case   %6d' % metrics[3][0] + '        %6d' % metrics[3][1])\n",
        "    print('Precision  %6.2f' % metrics[0][0] + '        %6.2f' % metrics[0][1])\n",
        "    print('Recall     %6.2f' % metrics[1][0] + '        %6.2f' % metrics[1][1])\n",
        "    print('F1         %6.2f' % metrics[2][0] + '        %6.2f' % metrics[2][1])\n",
        "\n",
        "\n",
        "    \n",
        "print_metrics(y_test, y_pred_poly)"
      ],
      "metadata": {
        "id": "vFNUniydcimS",
        "outputId": "629acc23-bb41-4332-83ca-cbc19756cbf2",
        "colab": {
          "base_uri": "https://localhost:8080/"
        }
      },
      "execution_count": null,
      "outputs": [
        {
          "output_type": "stream",
          "name": "stdout",
          "text": [
            "                 Confusion matrix\n",
            "                 Actual positive    Actual negative\n",
            "Score positive     18318              1605\n",
            "Score negative     10361             14731\n",
            "\n",
            "Accuracy  0.73\n",
            " \n",
            "           Positive      Negative\n",
            "Num case    19923         25092\n",
            "Precision    0.64          0.90\n",
            "Recall       0.92          0.59\n",
            "F1           0.75          0.71\n"
          ]
        }
      ]
    },
    {
      "cell_type": "code",
      "source": [
        "prob_poly = svm_poly_mod.predict_proba(X_test)\n",
        "print(prob_poly[:5,:])"
      ],
      "metadata": {
        "id": "urjEiT1Qcr7J",
        "outputId": "76d0febf-9de0-420c-917c-cf99378f2056",
        "colab": {
          "base_uri": "https://localhost:8080/"
        }
      },
      "execution_count": null,
      "outputs": [
        {
          "output_type": "stream",
          "name": "stdout",
          "text": [
            "[[0.38652298 0.61347702]\n",
            " [0.10860607 0.89139393]\n",
            " [0.60816403 0.39183597]\n",
            " [0.69421234 0.30578766]\n",
            " [0.055161   0.944839  ]]\n"
          ]
        }
      ]
    },
    {
      "cell_type": "code",
      "source": [
        "def plot_auc(labels, probs):\n",
        "    ## Compute the false positive rate, true positive rate\n",
        "    ## and threshold along with the AUC\n",
        "    fpr, tpr, threshold = sklm.roc_curve(labels, probs[:,1])\n",
        "    auc = sklm.auc(fpr, tpr)\n",
        "    \n",
        "    ## Plot the result\n",
        "    plt.title('Receiver Operating Characteristic')\n",
        "    plt.plot(fpr, tpr, color = 'orange', label = 'AUC = %0.2f' % auc)\n",
        "    plt.legend(loc = 'lower right')\n",
        "    plt.plot([0, 1], [0, 1],'r--')\n",
        "    plt.xlim([0, 1])\n",
        "    plt.ylim([0, 1])\n",
        "    plt.ylabel('True Positive Rate')\n",
        "    plt.xlabel('False Positive Rate')\n",
        "    plt.show()\n",
        "    \n",
        "plot_auc(y_test, prob_poly)"
      ],
      "metadata": {
        "id": "rE4gNULBcsrh",
        "outputId": "e5498c94-edda-462d-8449-a2b430774392",
        "colab": {
          "base_uri": "https://localhost:8080/",
          "height": 295
        }
      },
      "execution_count": null,
      "outputs": [
        {
          "output_type": "display_data",
          "data": {
            "text/plain": [
              "<Figure size 432x288 with 1 Axes>"
            ],
            "image/png": "[encoded data removed]"
          },
          "metadata": {
            "needs_background": "light"
          }
        }
      ]
    },
    {
      "cell_type": "markdown",
      "source": [
        "SVM with Linear Kernel SEEMS to outperform RBF an accuracy of 67%. This tells that our datasets contains two different classes that can be sepearted with a hyperplane. However Poly Kernel recorded accuracy of 73% which out permform both linear and rbf. \n",
        "The overfitting of rbf would have been as a result of the paiwise distance between the samples.\n"
      ],
      "metadata": {
        "id": "NWbqGhsGoCeY"
      }
    },
    {
      "cell_type": "markdown",
      "source": [
        "WITHOUT USING FEATURES SELECTION SVM with RBF KERNEL OVERFITTED, Hence we can do fearture selection or importance to help us improve the model"
      ],
      "metadata": {
        "id": "sYXMOUGkbTOR"
      }
    },
    {
      "cell_type": "code",
      "source": [
        "# SVM WITH FEATURE SELECTION USING CORRELATION \n",
        "correlations = df.corr().unstack().sort_values(ascending=False) # Build correlation matrix\n",
        "correlations = pd.DataFrame(correlations).reset_index() # Convert to dataframe\n",
        "correlations.columns = ['col1', 'col2', 'correlation'] # Label it\n",
        "correlations.query(\"col1 == 'IsCorrect' & col2 != 'IsCorrect'\") # Filter by variable\n",
        "# output of this code will give correlation of column v2 with all the other columns"
      ],
      "metadata": {
        "colab": {
          "base_uri": "https://localhost:8080/",
          "height": 1000
        },
        "id": "MscD2YvQufRM",
        "outputId": "49b290db-ee0a-42bc-8268-f1796ba9f472"
      },
      "execution_count": null,
      "outputs": [
        {
          "output_type": "execute_result",
          "data": {
            "text/plain": [
              "           col1                  col2  correlation\n",
              "164   IsCorrect               poly1_2     0.155684\n",
              "182   IsCorrect      l_SchemeOfWorkId     0.059547\n",
              "224   IsCorrect          Perfect_Date     0.033986\n",
              "226   IsCorrect             YearBirth     0.032493\n",
              "228   IsCorrect               poly2_5     0.029141\n",
              "237   IsCorrect               poly2_3     0.026818\n",
              "256   IsCorrect               poly2_0     0.022517\n",
              "258   IsCorrect          HourAnswered     0.022517\n",
              "265   IsCorrect         MonthAnswered     0.020884\n",
              "267   IsCorrect               poly2_1     0.020884\n",
              "280   IsCorrect               poly2_4     0.018257\n",
              "294   IsCorrect  Day of Week Answered     0.017685\n",
              "295   IsCorrect               poly2_2     0.017685\n",
              "320   IsCorrect     Age_max_on_yr_mth     0.014420\n",
              "418   IsCorrect        Year_Month_int     0.007309\n",
              "454   IsCorrect          l_QuestionId     0.004143\n",
              "458   IsCorrect              l_QiuzId     0.003970\n",
              "461   IsCorrect                UserId     0.003855\n",
              "695   IsCorrect            l_AnswerId    -0.001771\n",
              "830   IsCorrect               poly1_1    -0.007274\n",
              "832   IsCorrect           AnswerValue    -0.007274\n",
              "841   IsCorrect             l_GroupId    -0.007567\n",
              "869   IsCorrect               poly1_0    -0.008489\n",
              "870   IsCorrect         CorrectAnswer    -0.008489\n",
              "885   IsCorrect       Perfect_Correct    -0.009373\n",
              "890   IsCorrect     Age_min_on_yr_mth    -0.010192\n",
              "936   IsCorrect          YearAnswered    -0.016174\n",
              "985   IsCorrect     Age_std_on_yr_mth    -0.020915\n",
              "988   IsCorrect    Age_mean_on_yr_mth    -0.021952\n",
              "992   IsCorrect               Age_bin    -0.024632\n",
              "994   IsCorrect                Gender    -0.025201\n",
              "1032  IsCorrect                   Age    -0.039623\n",
              "1048  IsCorrect          PremiumPupil    -0.060132"
            ],
            "text/html": [
              "\n",
              "  <div id=\"df-661ff2bd-9b36-41e6-bb04-3567bba679b2\">\n",
              "    <div class=\"colab-df-container\">\n",
              "      <div>\n",
              "<style scoped>\n",
              "    .dataframe tbody tr th:only-of-type {\n",
              "        vertical-align: middle;\n",
              "    }\n",
              "\n",
              "    .dataframe tbody tr th {\n",
              "        vertical-align: top;\n",
              "    }\n",
              "\n",
              "    .dataframe thead th {\n",
              "        text-align: right;\n",
              "    }\n",
              "</style>\n",
              "<table border=\"1\" class=\"dataframe\">\n",
              "  <thead>\n",
              "    <tr style=\"text-align: right;\">\n",
              "      <th></th>\n",
              "      <th>col1</th>\n",
              "      <th>col2</th>\n",
              "      <th>correlation</th>\n",
              "    </tr>\n",
              "  </thead>\n",
              "  <tbody>\n",
              "    <tr>\n",
              "      <th>164</th>\n",
              "      <td>IsCorrect</td>\n",
              "      <td>poly1_2</td>\n",
              "      <td>0.155684</td>\n",
              "    </tr>\n",
              "    <tr>\n",
              "      <th>182</th>\n",
              "      <td>IsCorrect</td>\n",
              "      <td>l_SchemeOfWorkId</td>\n",
              "      <td>0.059547</td>\n",
              "    </tr>\n",
              "    <tr>\n",
              "      <th>224</th>\n",
              "      <td>IsCorrect</td>\n",
              "      <td>Perfect_Date</td>\n",
              "      <td>0.033986</td>\n",
              "    </tr>\n",
              "    <tr>\n",
              "      <th>226</th>\n",
              "      <td>IsCorrect</td>\n",
              "      <td>YearBirth</td>\n",
              "      <td>0.032493</td>\n",
              "    </tr>\n",
              "    <tr>\n",
              "      <th>228</th>\n",
              "      <td>IsCorrect</td>\n",
              "      <td>poly2_5</td>\n",
              "      <td>0.029141</td>\n",
              "    </tr>\n",
              "    <tr>\n",
              "      <th>237</th>\n",
              "      <td>IsCorrect</td>\n",
              "      <td>poly2_3</td>\n",
              "      <td>0.026818</td>\n",
              "    </tr>\n",
              "    <tr>\n",
              "      <th>256</th>\n",
              "      <td>IsCorrect</td>\n",
              "      <td>poly2_0</td>\n",
              "      <td>0.022517</td>\n",
              "    </tr>\n",
              "    <tr>\n",
              "      <th>258</th>\n",
              "      <td>IsCorrect</td>\n",
              "      <td>HourAnswered</td>\n",
              "      <td>0.022517</td>\n",
              "    </tr>\n",
              "    <tr>\n",
              "      <th>265</th>\n",
              "      <td>IsCorrect</td>\n",
              "      <td>MonthAnswered</td>\n",
              "      <td>0.020884</td>\n",
              "    </tr>\n",
              "    <tr>\n",
              "      <th>267</th>\n",
              "      <td>IsCorrect</td>\n",
              "      <td>poly2_1</td>\n",
              "      <td>0.020884</td>\n",
              "    </tr>\n",
              "    <tr>\n",
              "      <th>280</th>\n",
              "      <td>IsCorrect</td>\n",
              "      <td>poly2_4</td>\n",
              "      <td>0.018257</td>\n",
              "    </tr>\n",
              "    <tr>\n",
              "      <th>294</th>\n",
              "      <td>IsCorrect</td>\n",
              "      <td>Day of Week Answered</td>\n",
              "      <td>0.017685</td>\n",
              "    </tr>\n",
              "    <tr>\n",
              "      <th>295</th>\n",
              "      <td>IsCorrect</td>\n",
              "      <td>poly2_2</td>\n",
              "      <td>0.017685</td>\n",
              "    </tr>\n",
              "    <tr>\n",
              "      <th>320</th>\n",
              "      <td>IsCorrect</td>\n",
              "      <td>Age_max_on_yr_mth</td>\n",
              "      <td>0.014420</td>\n",
              "    </tr>\n",
              "    <tr>\n",
              "      <th>418</th>\n",
              "      <td>IsCorrect</td>\n",
              "      <td>Year_Month_int</td>\n",
              "      <td>0.007309</td>\n",
              "    </tr>\n",
              "    <tr>\n",
              "      <th>454</th>\n",
              "      <td>IsCorrect</td>\n",
              "      <td>l_QuestionId</td>\n",
              "      <td>0.004143</td>\n",
              "    </tr>\n",
              "    <tr>\n",
              "      <th>458</th>\n",
              "      <td>IsCorrect</td>\n",
              "      <td>l_QiuzId</td>\n",
              "      <td>0.003970</td>\n",
              "    </tr>\n",
              "    <tr>\n",
              "      <th>461</th>\n",
              "      <td>IsCorrect</td>\n",
              "      <td>UserId</td>\n",
              "      <td>0.003855</td>\n",
              "    </tr>\n",
              "    <tr>\n",
              "      <th>695</th>\n",
              "      <td>IsCorrect</td>\n",
              "      <td>l_AnswerId</td>\n",
              "      <td>-0.001771</td>\n",
              "    </tr>\n",
              "    <tr>\n",
              "      <th>830</th>\n",
              "      <td>IsCorrect</td>\n",
              "      <td>poly1_1</td>\n",
              "      <td>-0.007274</td>\n",
              "    </tr>\n",
              "    <tr>\n",
              "      <th>832</th>\n",
              "      <td>IsCorrect</td>\n",
              "      <td>AnswerValue</td>\n",
              "      <td>-0.007274</td>\n",
              "    </tr>\n",
              "    <tr>\n",
              "      <th>841</th>\n",
              "      <td>IsCorrect</td>\n",
              "      <td>l_GroupId</td>\n",
              "      <td>-0.007567</td>\n",
              "    </tr>\n",
              "    <tr>\n",
              "      <th>869</th>\n",
              "      <td>IsCorrect</td>\n",
              "      <td>poly1_0</td>\n",
              "      <td>-0.008489</td>\n",
              "    </tr>\n",
              "    <tr>\n",
              "      <th>870</th>\n",
              "      <td>IsCorrect</td>\n",
              "      <td>CorrectAnswer</td>\n",
              "      <td>-0.008489</td>\n",
              "    </tr>\n",
              "    <tr>\n",
              "      <th>885</th>\n",
              "      <td>IsCorrect</td>\n",
              "      <td>Perfect_Correct</td>\n",
              "      <td>-0.009373</td>\n",
              "    </tr>\n",
              "    <tr>\n",
              "      <th>890</th>\n",
              "      <td>IsCorrect</td>\n",
              "      <td>Age_min_on_yr_mth</td>\n",
              "      <td>-0.010192</td>\n",
              "    </tr>\n",
              "    <tr>\n",
              "      <th>936</th>\n",
              "      <td>IsCorrect</td>\n",
              "      <td>YearAnswered</td>\n",
              "      <td>-0.016174</td>\n",
              "    </tr>\n",
              "    <tr>\n",
              "      <th>985</th>\n",
              "      <td>IsCorrect</td>\n",
              "      <td>Age_std_on_yr_mth</td>\n",
              "      <td>-0.020915</td>\n",
              "    </tr>\n",
              "    <tr>\n",
              "      <th>988</th>\n",
              "      <td>IsCorrect</td>\n",
              "      <td>Age_mean_on_yr_mth</td>\n",
              "      <td>-0.021952</td>\n",
              "    </tr>\n",
              "    <tr>\n",
              "      <th>992</th>\n",
              "      <td>IsCorrect</td>\n",
              "      <td>Age_bin</td>\n",
              "      <td>-0.024632</td>\n",
              "    </tr>\n",
              "    <tr>\n",
              "      <th>994</th>\n",
              "      <td>IsCorrect</td>\n",
              "      <td>Gender</td>\n",
              "      <td>-0.025201</td>\n",
              "    </tr>\n",
              "    <tr>\n",
              "      <th>1032</th>\n",
              "      <td>IsCorrect</td>\n",
              "      <td>Age</td>\n",
              "      <td>-0.039623</td>\n",
              "    </tr>\n",
              "    <tr>\n",
              "      <th>1048</th>\n",
              "      <td>IsCorrect</td>\n",
              "      <td>PremiumPupil</td>\n",
              "      <td>-0.060132</td>\n",
              "    </tr>\n",
              "  </tbody>\n",
              "</table>\n",
              "</div>\n",
              "      <button class=\"colab-df-convert\" onclick=\"convertToInteractive('df-661ff2bd-9b36-41e6-bb04-3567bba679b2')\"\n",
              "              title=\"Convert this dataframe to an interactive table.\"\n",
              "              style=\"display:none;\">\n",
              "        \n",
              "  <svg xmlns=\"http://www.w3.org/2000/svg\" height=\"24px\"viewBox=\"0 0 24 24\"\n",
              "       width=\"24px\">\n",
              "    <path d=\"M0 0h24v24H0V0z\" fill=\"none\"/>\n",
              "    <path d=\"M18.56 5.44l.94 2.06.94-2.06 2.06-.94-2.06-.94-.94-2.06-.94 2.06-2.06.94zm-11 1L8.5 8.5l.94-2.06 2.06-.94-2.06-.94L8.5 2.5l-.94 2.06-2.06.94zm10 10l.94 2.06.94-2.06 2.06-.94-2.06-.94-.94-2.06-.94 2.06-2.06.94z\"/><path d=\"M17.41 7.96l-1.37-1.37c-.4-.4-.92-.59-1.43-.59-.52 0-1.04.2-1.43.59L10.3 9.45l-7.72 7.72c-.78.78-.78 2.05 0 2.83L4 21.41c.39.39.9.59 1.41.59.51 0 1.02-.2 1.41-.59l7.78-7.78 2.81-2.81c.8-.78.8-2.07 0-2.86zM5.41 20L4 18.59l7.72-7.72 1.47 1.35L5.41 20z\"/>\n",
              "  </svg>\n",
              "      </button>\n",
              "      \n",
              "  <style>\n",
              "    .colab-df-container {\n",
              "      display:flex;\n",
              "      flex-wrap:wrap;\n",
              "      gap: 12px;\n",
              "    }\n",
              "\n",
              "    .colab-df-convert {\n",
              "      background-color: #E8F0FE;\n",
              "      border: none;\n",
              "      border-radius: 50%;\n",
              "      cursor: pointer;\n",
              "      display: none;\n",
              "      fill: #1967D2;\n",
              "      height: 32px;\n",
              "      padding: 0 0 0 0;\n",
              "      width: 32px;\n",
              "    }\n",
              "\n",
              "    .colab-df-convert:hover {\n",
              "      background-color: #E2EBFA;\n",
              "      box-shadow: 0px 1px 2px rgba(60, 64, 67, 0.3), 0px 1px 3px 1px rgba(60, 64, 67, 0.15);\n",
              "      fill: #174EA6;\n",
              "    }\n",
              "\n",
              "    [theme=dark] .colab-df-convert {\n",
              "      background-color: #3B4455;\n",
              "      fill: #D2E3FC;\n",
              "    }\n",
              "\n",
              "    [theme=dark] .colab-df-convert:hover {\n",
              "      background-color: #434B5C;\n",
              "      box-shadow: 0px 1px 3px 1px rgba(0, 0, 0, 0.15);\n",
              "      filter: drop-shadow(0px 1px 2px rgba(0, 0, 0, 0.3));\n",
              "      fill: #FFFFFF;\n",
              "    }\n",
              "  </style>\n",
              "\n",
              "      <script>\n",
              "        const buttonEl =\n",
              "          document.querySelector('#df-661ff2bd-9b36-41e6-bb04-3567bba679b2 button.colab-df-convert');\n",
              "        buttonEl.style.display =\n",
              "          google.colab.kernel.accessAllowed ? 'block' : 'none';\n",
              "\n",
              "        async function convertToInteractive(key) {\n",
              "          const element = document.querySelector('#df-661ff2bd-9b36-41e6-bb04-3567bba679b2');\n",
              "          const dataTable =\n",
              "            await google.colab.kernel.invokeFunction('convertToInteractive',\n",
              "                                                     [key], {});\n",
              "          if (!dataTable) return;\n",
              "\n",
              "          const docLinkHtml = 'Like what you see? Visit the ' +\n",
              "            '<a target=\"_blank\" href=https://colab.research.google.com/notebooks/data_table.ipynb>data table notebook</a>'\n",
              "            + ' to learn more about interactive tables.';\n",
              "          element.innerHTML = '';\n",
              "          dataTable['output_type'] = 'display_data';\n",
              "          await google.colab.output.renderOutput(dataTable, element);\n",
              "          const docLink = document.createElement('div');\n",
              "          docLink.innerHTML = docLinkHtml;\n",
              "          element.appendChild(docLink);\n",
              "        }\n",
              "      </script>\n",
              "    </div>\n",
              "  </div>\n",
              "  "
            ]
          },
          "metadata": {},
          "execution_count": 14
        }
      ]
    },
    {
      "cell_type": "markdown",
      "source": [
        "Most Correlated Features with IsCorrect"
      ],
      "metadata": {
        "id": "yysmM1xautxS"
      }
    },
    {
      "cell_type": "code",
      "source": [
        "new_fea = df[['poly1_2','l_SchemeOfWorkId', 'Perfect_Date', 'YearBirth', 'poly2_3',\n",
        "             'poly2_0', 'HourAnswered', 'poly2_5', 'poly2_1', 'MonthAnswered',\n",
        "             'poly2_4','Day of Week Answered', 'poly2_2', 'Age_max_on_yr_mth',\n",
        "             'Year_Month_int', 'l_QiuzId', 'l_QuestionId']]"
      ],
      "metadata": {
        "id": "kNAa9tj3ushH"
      },
      "execution_count": null,
      "outputs": []
    },
    {
      "cell_type": "code",
      "source": [
        "x_new= scaler.fit_transform(new_fea)"
      ],
      "metadata": {
        "id": "c4MT6rvounbx"
      },
      "execution_count": null,
      "outputs": []
    },
    {
      "cell_type": "code",
      "source": [
        "X_train, X_test, y_train, y_test = train_test_split(x_new, y, test_size=0.45, random_state = 10)"
      ],
      "metadata": {
        "id": "7RAIMoafuoFQ"
      },
      "execution_count": null,
      "outputs": []
    },
    {
      "cell_type": "code",
      "source": [
        "import random as nr"
      ],
      "metadata": {
        "id": "5FZuDyX19Nj4"
      },
      "execution_count": null,
      "outputs": []
    },
    {
      "cell_type": "code",
      "source": [
        "nr.seed(3456)\n",
        "## Define the dictionary for the grid search and the model object to search on\n",
        "param_grid = {\"C\": [0.1, 1], \"gamma\":[1.0/50.0]}\n",
        "## Define the SVM model\n",
        "svc_clf = svm.SVC(class_weight = {0:0.55, 1:0.45}) \n",
        "\n",
        "## Perform the grid search over the parameters\n",
        "clf = ms.GridSearchCV(estimator = svc_clf, param_grid = param_grid, \n",
        "                      scoring = 'accuracy',\n",
        "                      return_train_score = True)\n",
        "clf.fit(x_new, y)\n",
        "print(clf.best_estimator_.C)\n",
        "print(clf.best_estimator_.gamma)"
      ],
      "metadata": {
        "id": "DIKbtrvruoHl",
        "colab": {
          "base_uri": "https://localhost:8080/"
        },
        "outputId": "fe2ef11b-e9a9-4be6-89f8-e22f58e6df1b"
      },
      "execution_count": null,
      "outputs": [
        {
          "output_type": "stream",
          "name": "stdout",
          "text": [
            "1\n",
            "0.02\n"
          ]
        }
      ]
    },
    {
      "cell_type": "code",
      "source": [
        "# nr.seed(1115)\n",
        "\n",
        "svm_mod = svm.SVC(C = clf.best_estimator_.C,\n",
        "                  class_weight = {0:0.55, 1:0.45},\n",
        "                  probability=True) \n",
        "svm_mod.fit(X_train, y_train)"
      ],
      "metadata": {
        "id": "fJf9k3ovvJuw",
        "colab": {
          "base_uri": "https://localhost:8080/"
        },
        "outputId": "ac01e4e2-09fc-4006-bc21-041939e9cedc"
      },
      "execution_count": null,
      "outputs": [
        {
          "output_type": "execute_result",
          "data": {
            "text/plain": [
              "SVC(C=1, class_weight={0: 0.55, 1: 0.45}, gamma=0.02, probability=True)"
            ]
          },
          "metadata": {},
          "execution_count": 17
        }
      ]
    },
    {
      "cell_type": "code",
      "source": [],
      "metadata": {
        "id": "dmdfEi_b97Ya"
      },
      "execution_count": null,
      "outputs": []
    },
    {
      "cell_type": "code",
      "source": [
        "def score_model(probs, threshold):\n",
        "    return np.array([1 if x > threshold else 0 for x in probs[:,1]])\n",
        "\n",
        "def print_metrics(labels, probs, threshold):\n",
        "    scores = score_model(probs, threshold)\n",
        "    metrics = sklm.precision_recall_fscore_support(labels, scores)\n",
        "    conf = sklm.confusion_matrix(labels, scores)\n",
        "    print('                 Confusion matrix')\n",
        "    print('                 Score positive    Score negative')\n",
        "    print('Actual positive    %6d' % conf[0,0] + '             %5d' % conf[0,1])\n",
        "    print('Actual negative    %6d' % conf[1,0] + '             %5d' % conf[1,1])\n",
        "    print('')\n",
        "    print('Accuracy        %0.2f' % sklm.accuracy_score(labels, scores))\n",
        "    print('F1 Score        %0.2f' % sklm.f1_score(labels, scores))\n",
        "    print('AUC             %0.2f' % sklm.roc_auc_score(labels, probs[:,1]))\n",
        "    print('Macro precision %0.2f' % float((float(metrics[0][0]) + float(metrics[0][1]))/2.0))\n",
        "    print('Macro recall    %0.2f' % float((float(metrics[1][0]) + float(metrics[1][1]))/2.0))\n",
        "    print(' ')\n",
        "    print('           Positive      Negative')\n",
        "    print('Num case   %6d' % metrics[3][0] + '        %6d' % metrics[3][1])\n",
        "    print('Precision  %6.2f' % metrics[0][0] + '        %6.2f' % metrics[0][1])\n",
        "    print('Recall     %6.2f' % metrics[1][0] + '        %6.2f' % metrics[1][1])\n",
        "    print('F1         %6.2f' % metrics[2][0] + '        %6.2f' % metrics[2][1])\n",
        "    \n",
        "probabilities = svm_mod.predict_proba(X_test)\n",
        "print_metrics(y_test, probabilities, 0.5)"
      ],
      "metadata": {
        "id": "e6QBpiAavKAM",
        "colab": {
          "base_uri": "https://localhost:8080/"
        },
        "outputId": "770d5478-9d7e-4fc6-ff66-8335759964ca"
      },
      "execution_count": null,
      "outputs": [
        {
          "output_type": "stream",
          "name": "stdout",
          "text": [
            "                 Confusion matrix\n",
            "                 Score positive    Score negative\n",
            "Actual positive     11424              8405\n",
            "Actual negative      9910             15276\n",
            "\n",
            "Accuracy        0.59\n",
            "F1 Score        0.63\n",
            "AUC             0.66\n",
            "Macro precision 0.59\n",
            "Macro recall    0.59\n",
            " \n",
            "           Positive      Negative\n",
            "Num case    19829         25186\n",
            "Precision    0.54          0.65\n",
            "Recall       0.58          0.61\n",
            "F1           0.56          0.63\n"
          ]
        }
      ]
    },
    {
      "cell_type": "code",
      "source": [
        "def plot_auc(labels, probs):\n",
        "    ## Compute the false positive rate, true positive rate\n",
        "    ## and threshold along with the AUC\n",
        "    fpr, tpr, threshold = sklm.roc_curve(labels, probs[:,1])\n",
        "    auc = sklm.auc(fpr, tpr)\n",
        "    \n",
        "    ## Plot the result\n",
        "    plt.title('Receiver Operating Characteristic')\n",
        "    plt.plot(fpr, tpr, color = 'orange', label = 'AUC = %0.2f' % auc)\n",
        "    plt.legend(loc = 'lower right')\n",
        "    plt.plot([0, 1], [0, 1],'r--')\n",
        "    plt.xlim([0, 1])\n",
        "    plt.ylim([0, 1])\n",
        "    plt.ylabel('True Positive Rate')\n",
        "    plt.xlabel('False Positive Rate')\n",
        "    plt.show()\n",
        "    \n",
        "plot_auc(y_test, probabilities)"
      ],
      "metadata": {
        "id": "6ZGy_OSLuoND",
        "colab": {
          "base_uri": "https://localhost:8080/",
          "height": 295
        },
        "outputId": "86d919d9-b7bb-40ae-aa7e-3a59c3a3c747"
      },
      "execution_count": null,
      "outputs": [
        {
          "output_type": "display_data",
          "data": {
            "text/plain": [
              "<Figure size 432x288 with 1 Axes>"
            ],
            "image/png": "[encoded data removed]"
          },
          "metadata": {
            "needs_background": "light"
          }
        }
      ]
    },
    {
      "cell_type": "code",
      "source": [
        "# Using selected features with rbf kernel gave us a poor perfomance of accuracy of 59% which still under perform compare to poly and linear kernel svm"
      ],
      "metadata": {
        "id": "eBT3KovDuoPA"
      },
      "execution_count": null,
      "outputs": []
    },
    {
      "cell_type": "markdown",
      "source": [
        "# LOGISTIC REGRESSION with Feature slection"
      ],
      "metadata": {
        "id": "gQeAvSESd4RA"
      }
    },
    {
      "cell_type": "code",
      "source": [
        "correlations = df.corr().unstack().sort_values(ascending=False) # Build correlation matrix\n",
        "correlations = pd.DataFrame(correlations).reset_index() # Convert to dataframe\n",
        "correlations.columns = ['col1', 'col2', 'correlation'] # Label it\n",
        "correlations.query(\"col1 == 'IsCorrect' & col2 != 'IsCorrect'\") # Filter by variable\n",
        "# output of this code will give correlation of column v2 with all the other columns"
      ],
      "metadata": {
        "colab": {
          "base_uri": "https://localhost:8080/",
          "height": 1000
        },
        "id": "Vcpy1_fIKFli",
        "outputId": "c8af2315-54d7-44d4-d39b-2651a3ca9a1c"
      },
      "execution_count": null,
      "outputs": [
        {
          "output_type": "execute_result",
          "data": {
            "text/plain": [
              "           col1                  col2  correlation\n",
              "165   IsCorrect               poly1_2     0.160933\n",
              "185   IsCorrect      l_SchemeOfWorkId     0.061216\n",
              "211   IsCorrect          Perfect_Date     0.039351\n",
              "226   IsCorrect               poly2_3     0.031779\n",
              "230   IsCorrect               poly2_5     0.028682\n",
              "232   IsCorrect               poly2_0     0.028345\n",
              "233   IsCorrect          HourAnswered     0.028345\n",
              "242   IsCorrect             YearBirth     0.026438\n",
              "260   IsCorrect               poly2_1     0.022953\n",
              "263   IsCorrect         MonthAnswered     0.022953\n",
              "267   IsCorrect               poly2_4     0.021063\n",
              "271   IsCorrect        Year_Month_int     0.020122\n",
              "273   IsCorrect     Age_max_on_yr_mth     0.019030\n",
              "290   IsCorrect  Day of Week Answered     0.017799\n",
              "291   IsCorrect               poly2_2     0.017799\n",
              "362   IsCorrect              l_QiuzId     0.009666\n",
              "528   IsCorrect          l_QuestionId     0.001860\n",
              "533   IsCorrect                UserId     0.001733\n",
              "562   IsCorrect            l_AnswerId     0.000712\n",
              "644   IsCorrect           AnswerValue    -0.000478\n",
              "647   IsCorrect               poly1_1    -0.000478\n",
              "780   IsCorrect       Perfect_Correct    -0.003941\n",
              "840   IsCorrect               poly1_0    -0.006119\n",
              "841   IsCorrect         CorrectAnswer    -0.006119\n",
              "876   IsCorrect             l_GroupId    -0.008913\n",
              "932   IsCorrect     Age_min_on_yr_mth    -0.015101\n",
              "956   IsCorrect          YearAnswered    -0.018578\n",
              "970   IsCorrect               Age_bin    -0.021137\n",
              "976   IsCorrect     Age_std_on_yr_mth    -0.022053\n",
              "1004  IsCorrect                Gender    -0.028834\n",
              "1009  IsCorrect    Age_mean_on_yr_mth    -0.029186\n",
              "1020  IsCorrect                   Age    -0.034175\n",
              "1047  IsCorrect          PremiumPupil    -0.062592"
            ],
            "text/html": [
              "\n",
              "  <div id=\"df-0e2f1790-86e1-4158-9c2b-2c43c080ed7b\">\n",
              "    <div class=\"colab-df-container\">\n",
              "      <div>\n",
              "<style scoped>\n",
              "    .dataframe tbody tr th:only-of-type {\n",
              "        vertical-align: middle;\n",
              "    }\n",
              "\n",
              "    .dataframe tbody tr th {\n",
              "        vertical-align: top;\n",
              "    }\n",
              "\n",
              "    .dataframe thead th {\n",
              "        text-align: right;\n",
              "    }\n",
              "</style>\n",
              "<table border=\"1\" class=\"dataframe\">\n",
              "  <thead>\n",
              "    <tr style=\"text-align: right;\">\n",
              "      <th></th>\n",
              "      <th>col1</th>\n",
              "      <th>col2</th>\n",
              "      <th>correlation</th>\n",
              "    </tr>\n",
              "  </thead>\n",
              "  <tbody>\n",
              "    <tr>\n",
              "      <th>165</th>\n",
              "      <td>IsCorrect</td>\n",
              "      <td>poly1_2</td>\n",
              "      <td>0.160933</td>\n",
              "    </tr>\n",
              "    <tr>\n",
              "      <th>185</th>\n",
              "      <td>IsCorrect</td>\n",
              "      <td>l_SchemeOfWorkId</td>\n",
              "      <td>0.061216</td>\n",
              "    </tr>\n",
              "    <tr>\n",
              "      <th>211</th>\n",
              "      <td>IsCorrect</td>\n",
              "      <td>Perfect_Date</td>\n",
              "      <td>0.039351</td>\n",
              "    </tr>\n",
              "    <tr>\n",
              "      <th>226</th>\n",
              "      <td>IsCorrect</td>\n",
              "      <td>poly2_3</td>\n",
              "      <td>0.031779</td>\n",
              "    </tr>\n",
              "    <tr>\n",
              "      <th>230</th>\n",
              "      <td>IsCorrect</td>\n",
              "      <td>poly2_5</td>\n",
              "      <td>0.028682</td>\n",
              "    </tr>\n",
              "    <tr>\n",
              "      <th>232</th>\n",
              "      <td>IsCorrect</td>\n",
              "      <td>poly2_0</td>\n",
              "      <td>0.028345</td>\n",
              "    </tr>\n",
              "    <tr>\n",
              "      <th>233</th>\n",
              "      <td>IsCorrect</td>\n",
              "      <td>HourAnswered</td>\n",
              "      <td>0.028345</td>\n",
              "    </tr>\n",
              "    <tr>\n",
              "      <th>242</th>\n",
              "      <td>IsCorrect</td>\n",
              "      <td>YearBirth</td>\n",
              "      <td>0.026438</td>\n",
              "    </tr>\n",
              "    <tr>\n",
              "      <th>260</th>\n",
              "      <td>IsCorrect</td>\n",
              "      <td>poly2_1</td>\n",
              "      <td>0.022953</td>\n",
              "    </tr>\n",
              "    <tr>\n",
              "      <th>263</th>\n",
              "      <td>IsCorrect</td>\n",
              "      <td>MonthAnswered</td>\n",
              "      <td>0.022953</td>\n",
              "    </tr>\n",
              "    <tr>\n",
              "      <th>267</th>\n",
              "      <td>IsCorrect</td>\n",
              "      <td>poly2_4</td>\n",
              "      <td>0.021063</td>\n",
              "    </tr>\n",
              "    <tr>\n",
              "      <th>271</th>\n",
              "      <td>IsCorrect</td>\n",
              "      <td>Year_Month_int</td>\n",
              "      <td>0.020122</td>\n",
              "    </tr>\n",
              "    <tr>\n",
              "      <th>273</th>\n",
              "      <td>IsCorrect</td>\n",
              "      <td>Age_max_on_yr_mth</td>\n",
              "      <td>0.019030</td>\n",
              "    </tr>\n",
              "    <tr>\n",
              "      <th>290</th>\n",
              "      <td>IsCorrect</td>\n",
              "      <td>Day of Week Answered</td>\n",
              "      <td>0.017799</td>\n",
              "    </tr>\n",
              "    <tr>\n",
              "      <th>291</th>\n",
              "      <td>IsCorrect</td>\n",
              "      <td>poly2_2</td>\n",
              "      <td>0.017799</td>\n",
              "    </tr>\n",
              "    <tr>\n",
              "      <th>362</th>\n",
              "      <td>IsCorrect</td>\n",
              "      <td>l_QiuzId</td>\n",
              "      <td>0.009666</td>\n",
              "    </tr>\n",
              "    <tr>\n",
              "      <th>528</th>\n",
              "      <td>IsCorrect</td>\n",
              "      <td>l_QuestionId</td>\n",
              "      <td>0.001860</td>\n",
              "    </tr>\n",
              "    <tr>\n",
              "      <th>533</th>\n",
              "      <td>IsCorrect</td>\n",
              "      <td>UserId</td>\n",
              "      <td>0.001733</td>\n",
              "    </tr>\n",
              "    <tr>\n",
              "      <th>562</th>\n",
              "      <td>IsCorrect</td>\n",
              "      <td>l_AnswerId</td>\n",
              "      <td>0.000712</td>\n",
              "    </tr>\n",
              "    <tr>\n",
              "      <th>644</th>\n",
              "      <td>IsCorrect</td>\n",
              "      <td>AnswerValue</td>\n",
              "      <td>-0.000478</td>\n",
              "    </tr>\n",
              "    <tr>\n",
              "      <th>647</th>\n",
              "      <td>IsCorrect</td>\n",
              "      <td>poly1_1</td>\n",
              "      <td>-0.000478</td>\n",
              "    </tr>\n",
              "    <tr>\n",
              "      <th>780</th>\n",
              "      <td>IsCorrect</td>\n",
              "      <td>Perfect_Correct</td>\n",
              "      <td>-0.003941</td>\n",
              "    </tr>\n",
              "    <tr>\n",
              "      <th>840</th>\n",
              "      <td>IsCorrect</td>\n",
              "      <td>poly1_0</td>\n",
              "      <td>-0.006119</td>\n",
              "    </tr>\n",
              "    <tr>\n",
              "      <th>841</th>\n",
              "      <td>IsCorrect</td>\n",
              "      <td>CorrectAnswer</td>\n",
              "      <td>-0.006119</td>\n",
              "    </tr>\n",
              "    <tr>\n",
              "      <th>876</th>\n",
              "      <td>IsCorrect</td>\n",
              "      <td>l_GroupId</td>\n",
              "      <td>-0.008913</td>\n",
              "    </tr>\n",
              "    <tr>\n",
              "      <th>932</th>\n",
              "      <td>IsCorrect</td>\n",
              "      <td>Age_min_on_yr_mth</td>\n",
              "      <td>-0.015101</td>\n",
              "    </tr>\n",
              "    <tr>\n",
              "      <th>956</th>\n",
              "      <td>IsCorrect</td>\n",
              "      <td>YearAnswered</td>\n",
              "      <td>-0.018578</td>\n",
              "    </tr>\n",
              "    <tr>\n",
              "      <th>970</th>\n",
              "      <td>IsCorrect</td>\n",
              "      <td>Age_bin</td>\n",
              "      <td>-0.021137</td>\n",
              "    </tr>\n",
              "    <tr>\n",
              "      <th>976</th>\n",
              "      <td>IsCorrect</td>\n",
              "      <td>Age_std_on_yr_mth</td>\n",
              "      <td>-0.022053</td>\n",
              "    </tr>\n",
              "    <tr>\n",
              "      <th>1004</th>\n",
              "      <td>IsCorrect</td>\n",
              "      <td>Gender</td>\n",
              "      <td>-0.028834</td>\n",
              "    </tr>\n",
              "    <tr>\n",
              "      <th>1009</th>\n",
              "      <td>IsCorrect</td>\n",
              "      <td>Age_mean_on_yr_mth</td>\n",
              "      <td>-0.029186</td>\n",
              "    </tr>\n",
              "    <tr>\n",
              "      <th>1020</th>\n",
              "      <td>IsCorrect</td>\n",
              "      <td>Age</td>\n",
              "      <td>-0.034175</td>\n",
              "    </tr>\n",
              "    <tr>\n",
              "      <th>1047</th>\n",
              "      <td>IsCorrect</td>\n",
              "      <td>PremiumPupil</td>\n",
              "      <td>-0.062592</td>\n",
              "    </tr>\n",
              "  </tbody>\n",
              "</table>\n",
              "</div>\n",
              "      <button class=\"colab-df-convert\" onclick=\"convertToInteractive('df-0e2f1790-86e1-4158-9c2b-2c43c080ed7b')\"\n",
              "              title=\"Convert this dataframe to an interactive table.\"\n",
              "              style=\"display:none;\">\n",
              "        \n",
              "  <svg xmlns=\"http://www.w3.org/2000/svg\" height=\"24px\"viewBox=\"0 0 24 24\"\n",
              "       width=\"24px\">\n",
              "    <path d=\"M0 0h24v24H0V0z\" fill=\"none\"/>\n",
              "    <path d=\"M18.56 5.44l.94 2.06.94-2.06 2.06-.94-2.06-.94-.94-2.06-.94 2.06-2.06.94zm-11 1L8.5 8.5l.94-2.06 2.06-.94-2.06-.94L8.5 2.5l-.94 2.06-2.06.94zm10 10l.94 2.06.94-2.06 2.06-.94-2.06-.94-.94-2.06-.94 2.06-2.06.94z\"/><path d=\"M17.41 7.96l-1.37-1.37c-.4-.4-.92-.59-1.43-.59-.52 0-1.04.2-1.43.59L10.3 9.45l-7.72 7.72c-.78.78-.78 2.05 0 2.83L4 21.41c.39.39.9.59 1.41.59.51 0 1.02-.2 1.41-.59l7.78-7.78 2.81-2.81c.8-.78.8-2.07 0-2.86zM5.41 20L4 18.59l7.72-7.72 1.47 1.35L5.41 20z\"/>\n",
              "  </svg>\n",
              "      </button>\n",
              "      \n",
              "  <style>\n",
              "    .colab-df-container {\n",
              "      display:flex;\n",
              "      flex-wrap:wrap;\n",
              "      gap: 12px;\n",
              "    }\n",
              "\n",
              "    .colab-df-convert {\n",
              "      background-color: #E8F0FE;\n",
              "      border: none;\n",
              "      border-radius: 50%;\n",
              "      cursor: pointer;\n",
              "      display: none;\n",
              "      fill: #1967D2;\n",
              "      height: 32px;\n",
              "      padding: 0 0 0 0;\n",
              "      width: 32px;\n",
              "    }\n",
              "\n",
              "    .colab-df-convert:hover {\n",
              "      background-color: #E2EBFA;\n",
              "      box-shadow: 0px 1px 2px rgba(60, 64, 67, 0.3), 0px 1px 3px 1px rgba(60, 64, 67, 0.15);\n",
              "      fill: #174EA6;\n",
              "    }\n",
              "\n",
              "    [theme=dark] .colab-df-convert {\n",
              "      background-color: #3B4455;\n",
              "      fill: #D2E3FC;\n",
              "    }\n",
              "\n",
              "    [theme=dark] .colab-df-convert:hover {\n",
              "      background-color: #434B5C;\n",
              "      box-shadow: 0px 1px 3px 1px rgba(0, 0, 0, 0.15);\n",
              "      filter: drop-shadow(0px 1px 2px rgba(0, 0, 0, 0.3));\n",
              "      fill: #FFFFFF;\n",
              "    }\n",
              "  </style>\n",
              "\n",
              "      <script>\n",
              "        const buttonEl =\n",
              "          document.querySelector('#df-0e2f1790-86e1-4158-9c2b-2c43c080ed7b button.colab-df-convert');\n",
              "        buttonEl.style.display =\n",
              "          google.colab.kernel.accessAllowed ? 'block' : 'none';\n",
              "\n",
              "        async function convertToInteractive(key) {\n",
              "          const element = document.querySelector('#df-0e2f1790-86e1-4158-9c2b-2c43c080ed7b');\n",
              "          const dataTable =\n",
              "            await google.colab.kernel.invokeFunction('convertToInteractive',\n",
              "                                                     [key], {});\n",
              "          if (!dataTable) return;\n",
              "\n",
              "          const docLinkHtml = 'Like what you see? Visit the ' +\n",
              "            '<a target=\"_blank\" href=https://colab.research.google.com/notebooks/data_table.ipynb>data table notebook</a>'\n",
              "            + ' to learn more about interactive tables.';\n",
              "          element.innerHTML = '';\n",
              "          dataTable['output_type'] = 'display_data';\n",
              "          await google.colab.output.renderOutput(dataTable, element);\n",
              "          const docLink = document.createElement('div');\n",
              "          docLink.innerHTML = docLinkHtml;\n",
              "          element.appendChild(docLink);\n",
              "        }\n",
              "      </script>\n",
              "    </div>\n",
              "  </div>\n",
              "  "
            ]
          },
          "metadata": {},
          "execution_count": 16
        }
      ]
    },
    {
      "cell_type": "code",
      "source": [],
      "metadata": {
        "id": "qT3DQfjrKZcq"
      },
      "execution_count": null,
      "outputs": []
    },
    {
      "cell_type": "code",
      "source": [],
      "metadata": {
        "id": "0C2NiH0lQfmu"
      },
      "execution_count": null,
      "outputs": []
    },
    {
      "cell_type": "markdown",
      "source": [],
      "metadata": {
        "id": "hS6ge9k-TrvA"
      }
    },
    {
      "cell_type": "code",
      "source": [
        "new_fea = df[['poly1_2','l_SchemeOfWorkId', 'Perfect_Date', 'YearBirth', 'poly2_3',\n",
        "             'poly2_0', 'HourAnswered', 'poly2_5', 'poly2_1', 'MonthAnswered',\n",
        "             'poly2_4','Day of Week Answered', 'poly2_2', 'Age_max_on_yr_mth',\n",
        "             'Year_Month_int', 'l_QiuzId', 'l_QuestionId']]"
      ],
      "metadata": {
        "id": "ndGYcg-fM04I"
      },
      "execution_count": null,
      "outputs": []
    },
    {
      "cell_type": "code",
      "source": [
        "\n",
        "x_new= scaler.fit_transform(new_fea)"
      ],
      "metadata": {
        "id": "eXvicDV7ONiS"
      },
      "execution_count": null,
      "outputs": []
    },
    {
      "cell_type": "code",
      "source": [],
      "metadata": {
        "id": "MagiU2OY-jD_"
      },
      "execution_count": null,
      "outputs": []
    },
    {
      "cell_type": "code",
      "source": [
        "X_train, X_test, y_train, y_test = train_test_split(x_new, y, test_size=0.45, random_state = 10)"
      ],
      "metadata": {
        "id": "wVbV-TTed4yy"
      },
      "execution_count": null,
      "outputs": []
    },
    {
      "cell_type": "code",
      "source": [
        "logistic_model = linear_model.LogisticRegression(class_weight = {0:0.55, 1:0.45}) \n",
        "logistic_model.fit(X_train, y_train)"
      ],
      "metadata": {
        "id": "jER2pDHId7m8",
        "colab": {
          "base_uri": "https://localhost:8080/"
        },
        "outputId": "a43a9f30-35d7-4a69-87cf-15e774e5501a"
      },
      "execution_count": null,
      "outputs": [
        {
          "output_type": "execute_result",
          "data": {
            "text/plain": [
              "LogisticRegression(class_weight={0: 0.55, 1: 0.45})"
            ]
          },
          "metadata": {},
          "execution_count": 20
        }
      ]
    },
    {
      "cell_type": "code",
      "source": [
        "print(logistic_model.intercept_)\n",
        "print(logistic_model.coef_)"
      ],
      "metadata": {
        "id": "tVfhefyNd92J",
        "colab": {
          "base_uri": "https://localhost:8080/"
        },
        "outputId": "b15b84d7-1b99-41d5-ccf0-3c9ee79b2a43"
      },
      "execution_count": null,
      "outputs": [
        {
          "output_type": "stream",
          "name": "stdout",
          "text": [
            "[0.05486063]\n",
            "[[ 0.35804143  0.14665884  0.05242458  0.08733631  0.00385343  0.03632767\n",
            "   0.03632767  0.01059099  0.0040845   0.0040845  -0.15595323  0.07268267\n",
            "   0.07268267  0.0373459   0.03192623  0.01909054  0.00560948]]\n"
          ]
        }
      ]
    },
    {
      "cell_type": "code",
      "source": [],
      "metadata": {
        "id": "_nh3CKVoeAjB"
      },
      "execution_count": null,
      "outputs": []
    },
    {
      "cell_type": "markdown",
      "source": [
        "\n",
        "We can notice that model coefficients look just as they would for an regression model. Also,all the coefficients have the different magnitude indicating this model is likely to no overfit, given the number of features.\n",
        "\n",
        "Since the logistic regression model outputs probabilities for each class. The class with the highest probability is taken as the score (prediction). The code in the cell below computes and displays a sample of these class probabilities for the test feature set"
      ],
      "metadata": {
        "id": "YHpTFBnAeDUz"
      }
    },
    {
      "cell_type": "code",
      "source": [
        "probabilities = logistic_model.predict_proba(X_test)\n",
        "print(probabilities[:15,:])"
      ],
      "metadata": {
        "id": "uDkK8TT6eJ0Z",
        "colab": {
          "base_uri": "https://localhost:8080/"
        },
        "outputId": "9406e0ea-8ed9-4e1c-c8db-a6db79596676"
      },
      "execution_count": null,
      "outputs": [
        {
          "output_type": "stream",
          "name": "stdout",
          "text": [
            "[[0.4824963  0.5175037 ]\n",
            " [0.36303417 0.63696583]\n",
            " [0.46823193 0.53176807]\n",
            " [0.38530742 0.61469258]\n",
            " [0.49060237 0.50939763]\n",
            " [0.44734381 0.55265619]\n",
            " [0.57048349 0.42951651]\n",
            " [0.44226116 0.55773884]\n",
            " [0.45162789 0.54837211]\n",
            " [0.52904878 0.47095122]\n",
            " [0.57582196 0.42417804]\n",
            " [0.33907328 0.66092672]\n",
            " [0.37668301 0.62331699]\n",
            " [0.32626247 0.67373753]\n",
            " [0.47917927 0.52082073]]\n"
          ]
        }
      ]
    },
    {
      "cell_type": "code",
      "source": [],
      "metadata": {
        "id": "rpiP-MEysryy"
      },
      "execution_count": null,
      "outputs": []
    },
    {
      "cell_type": "markdown",
      "source": [
        "# LOGISTIC REGRESSION MODEL EVALUATION¶\n",
        "Now that the class probabilities have been computed these values must be transformed into actual class scores. We can recall that the log likelihoods for two-class logistic regression are computed by applying the sigmoid or logistic transformation to the output of the linear model. The simple choice is to set the threshold between the two likelihoods at  0.5 . The code in the cell below applies this initial threshold to the probability of a score of  0  for the test data. A few examples along with the known labels are then displayed."
      ],
      "metadata": {
        "id": "kpgHiYR9eRKM"
      }
    },
    {
      "cell_type": "code",
      "source": [
        "def score_model(probs, threshold):\n",
        "    return np.array([1 if x > threshold else 0 for x in probs[:,1]])\n",
        "scores = score_model(probabilities, 0.5)\n",
        "print(np.array(scores[:15])) #printing the top 15 heads\n",
        "print(y_test[:15])"
      ],
      "metadata": {
        "id": "HVajAT9BeNeC",
        "colab": {
          "base_uri": "https://localhost:8080/"
        },
        "outputId": "8e177344-8b34-497d-bc16-e55d0bab30fb"
      },
      "execution_count": null,
      "outputs": [
        {
          "output_type": "stream",
          "name": "stdout",
          "text": [
            "[1 1 1 1 1 1 0 1 1 0 0 1 1 1 1]\n",
            "3307019    1.0\n",
            "1441939    1.0\n",
            "831477     0.0\n",
            "3227063    1.0\n",
            "2919708    1.0\n",
            "1814465    1.0\n",
            "3464736    0.0\n",
            "1866968    1.0\n",
            "717294     1.0\n",
            "1144177    1.0\n",
            "1550228    1.0\n",
            "3109061    1.0\n",
            "3699736    0.0\n",
            "202316     1.0\n",
            "3110971    0.0\n",
            "Name: IsCorrect, dtype: float64\n"
          ]
        }
      ]
    },
    {
      "cell_type": "code",
      "source": [
        "y_pred_log = logistic_model.predict_proba(X_test)"
      ],
      "metadata": {
        "id": "hn72lWExU7x_"
      },
      "execution_count": null,
      "outputs": []
    },
    {
      "cell_type": "code",
      "source": [
        "#Printing and ploting the metrics result\n",
        "def score_model(probs, threshold):\n",
        "    return np.array([1 if x > threshold else 0 for x in probs[:,1]])\n",
        "\n",
        "def print_metrics(labels, probs, threshold):\n",
        "    scores = score_model(probs, threshold)\n",
        "    metrics = sklm.precision_recall_fscore_support(labels, scores)\n",
        "    conf = sklm.confusion_matrix(labels, scores)\n",
        "    print('                 Confusion matrix')\n",
        "    print('                 Score positive    Score negative')\n",
        "    print('Actual positive    %6d' % conf[0,0] + '             %5d' % conf[0,1])\n",
        "    print('Actual negative    %6d' % conf[1,0] + '             %5d' % conf[1,1])\n",
        "    print('')\n",
        "    print('Accuracy        %0.2f' % sklm.accuracy_score(labels, scores))\n",
        "    print('F1 Score        %0.2f' % sklm.f1_score(labels, scores))\n",
        "    print('AUC             %0.2f' % sklm.roc_auc_score(labels, probs[:,1]))\n",
        "    print('Macro precision %0.2f' % float((float(metrics[0][0]) + float(metrics[0][1]))/2.0))\n",
        "    print('Macro recall    %0.2f' % float((float(metrics[1][0]) + float(metrics[1][1]))/2.0))\n",
        "    print(' ')\n",
        "    print('           Positive      Negative')\n",
        "    print('Num case   %6d' % metrics[3][0] + '        %6d' % metrics[3][1])\n",
        "    print('Precision  %6.2f' % metrics[0][0] + '        %6.2f' % metrics[0][1])\n",
        "    print('Recall     %6.2f' % metrics[1][0] + '        %6.2f' % metrics[1][1])\n",
        "    print('F1         %6.2f' % metrics[2][0] + '        %6.2f' % metrics[2][1])\n",
        "    \n",
        "probabilities = logistic_model.predict_proba(X_test)\n",
        "print_metrics(y_test, probabilities, 0.5)"
      ],
      "metadata": {
        "id": "YN_hEyE2VzYx",
        "colab": {
          "base_uri": "https://localhost:8080/"
        },
        "outputId": "ac687cab-973c-4753-d381-7bc490666fb6"
      },
      "execution_count": null,
      "outputs": [
        {
          "output_type": "stream",
          "name": "stdout",
          "text": [
            "                 Confusion matrix\n",
            "                 Score positive    Score negative\n",
            "Actual positive     11496              8506\n",
            "Actual negative     11565             13448\n",
            "\n",
            "Accuracy        0.55\n",
            "F1 Score        0.57\n",
            "AUC             0.58\n",
            "Macro precision 0.56\n",
            "Macro recall    0.56\n",
            " \n",
            "           Positive      Negative\n",
            "Num case    20002         25013\n",
            "Precision    0.50          0.61\n",
            "Recall       0.57          0.54\n",
            "F1           0.53          0.57\n"
          ]
        }
      ]
    },
    {
      "cell_type": "code",
      "source": [
        "\n",
        "scores = score_model(probabilities, 0.5)\n",
        " "
      ],
      "metadata": {
        "id": "4GjsoHLseNfP"
      },
      "execution_count": null,
      "outputs": []
    },
    {
      "cell_type": "code",
      "source": [
        "def plot_auc(labels, probs):\n",
        "    ## Compute the false positive rate, true positive rate\n",
        "    ## and threshold along with the AUC\n",
        "    fpr, tpr, threshold = sklm.roc_curve(labels, probs[:,1])\n",
        "    auc = sklm.auc(fpr, tpr)\n",
        "    \n",
        "    ## Plot the result\n",
        "    plt.title('Receiver Operating Characteristic')\n",
        "    plt.plot(fpr, tpr, color = 'orange', label = 'AUC = %0.2f' % auc)\n",
        "    plt.legend(loc = 'lower right')\n",
        "    plt.plot([0, 1], [0, 1],'r--')\n",
        "    plt.xlim([0, 1])\n",
        "    plt.ylim([0, 1])\n",
        "    plt.ylabel('True Positive Rate')\n",
        "    plt.xlabel('False Positive Rate')\n",
        "    plt.show()\n",
        "    \n",
        "plot_auc(y_test, probabilities)"
      ],
      "metadata": {
        "colab": {
          "base_uri": "https://localhost:8080/",
          "height": 295
        },
        "id": "Gchys9SCvlMf",
        "outputId": "2a2e0dbb-6022-4a52-8a57-5f9425280732"
      },
      "execution_count": null,
      "outputs": [
        {
          "output_type": "display_data",
          "data": {
            "text/plain": [
              "<Figure size 432x288 with 1 Axes>"
            ],
            "image/png": "[encoded data removed]"
          },
          "metadata": {
            "needs_background": "light"
          }
        }
      ]
    },
    {
      "cell_type": "code",
      "source": [
        "#The Logistic model has a poor accuracy with a poor AUC since any AUC close to 0.5 isnt performing well. i.e Its performing poorly"
      ],
      "metadata": {
        "id": "Of1RWCiRcEVH"
      },
      "execution_count": null,
      "outputs": []
    },
    {
      "cell_type": "code",
      "source": [],
      "metadata": {
        "id": "YdZ9NfthlQBd"
      },
      "execution_count": null,
      "outputs": []
    },
    {
      "cell_type": "markdown",
      "source": [
        "# NAIVE BAYES CLASSIFIER with highly correlated features\n",
        "\n",
        "NB_mod = GaussianNB() #for continuous or numerical features.\n"
      ],
      "metadata": {
        "id": "3VmCDRd2ejNA"
      }
    },
    {
      "cell_type": "code",
      "source": [
        "X_train, X_test, y_train, y_test = train_test_split(x_new, y, test_size=0.45, random_state = 10)"
      ],
      "metadata": {
        "id": "iEMdgb0SekDY"
      },
      "execution_count": null,
      "outputs": []
    },
    {
      "cell_type": "code",
      "source": [
        "from sklearn.naive_bayes import GaussianNB"
      ],
      "metadata": {
        "id": "1IksxrKlWfGh"
      },
      "execution_count": null,
      "outputs": []
    },
    {
      "cell_type": "code",
      "source": [
        "NB_mod = GaussianNB(var_smoothing = 2e-9)\n",
        "NB_mod.fit(X_train, y_train)"
      ],
      "metadata": {
        "id": "kaY3aAvyekEm",
        "colab": {
          "base_uri": "https://localhost:8080/"
        },
        "outputId": "dd175cf8-3b5b-4257-eabb-b90ad6fec9e6"
      },
      "execution_count": null,
      "outputs": [
        {
          "output_type": "execute_result",
          "data": {
            "text/plain": [
              "GaussianNB(var_smoothing=2e-09)"
            ]
          },
          "metadata": {},
          "execution_count": 88
        }
      ]
    },
    {
      "cell_type": "markdown",
      "source": [
        "Notice that the Gaussian naive Bayes model object has only one hyperparameter."
      ],
      "metadata": {
        "id": "JsLEY0-GetEm"
      }
    },
    {
      "cell_type": "code",
      "source": [
        "scores = NB_mod.predict(X_test)"
      ],
      "metadata": {
        "id": "MMqdxj7kekH8"
      },
      "execution_count": null,
      "outputs": []
    },
    {
      "cell_type": "code",
      "source": [
        "probs = NB_mod.predict_proba(X_test)"
      ],
      "metadata": {
        "id": "bj9DSw-QekJc"
      },
      "execution_count": null,
      "outputs": []
    },
    {
      "cell_type": "code",
      "source": [],
      "metadata": {
        "id": "PjSbBShyekNX"
      },
      "execution_count": null,
      "outputs": []
    },
    {
      "cell_type": "code",
      "source": [
        "def print_metrics(labels, scores):\n",
        "    metrics = sklm.precision_recall_fscore_support(labels, scores)\n",
        "    conf = sklm.confusion_matrix(labels, scores)\n",
        "    print('                 Confusion matrix')\n",
        "    print('                 Score positive    Score negative')\n",
        "    print('Actual positive    %6d' % conf[0,0] + '             %5d' % conf[0,1])\n",
        "    print('Actual negative    %6d' % conf[1,0] + '             %5d' % conf[1,1])\n",
        "    print('')\n",
        "    print('Accuracy        %0.2f' % sklm.accuracy_score(labels, scores))\n",
        "    print('F1 Score        %0.2f' % sklm.f1_score(labels, scores))\n",
        "    print('AUC             %0.2f' % sklm.roc_auc_score(labels, probs[:,1]))\n",
        "    print('Macro precision %0.2f' % float((float(metrics[0][0]) + float(metrics[0][1]))/2.0))\n",
        "    print('Macro recall    %0.2f' % float((float(metrics[1][0]) + float(metrics[1][1]))/2.0))\n",
        "    print(' ')\n",
        "    print('           Positive      Negative')\n",
        "    print('Num case   %6d' % metrics[3][0] + '        %6d' % metrics[3][1])\n",
        "    print('Precision  %6.2f' % metrics[0][0] + '        %6.2f' % metrics[0][1])\n",
        "    print('Recall     %6.2f' % metrics[1][0] + '        %6.2f' % metrics[1][1])\n",
        "    print('F1         %6.2f' % metrics[2][0] + '        %6.2f' % metrics[2][1])\n",
        "\n",
        "\n",
        "    \n",
        "print_metrics(y_test, scores)"
      ],
      "metadata": {
        "id": "NBqw7pbjbayK",
        "colab": {
          "base_uri": "https://localhost:8080/"
        },
        "outputId": "9716301a-1af4-45e8-8967-5e19c46a679d"
      },
      "execution_count": null,
      "outputs": [
        {
          "output_type": "stream",
          "name": "stdout",
          "text": [
            "                 Confusion matrix\n",
            "                 Score positive    Score negative\n",
            "Actual positive     11962              7863\n",
            "Actual negative      9422             15768\n",
            "\n",
            "Accuracy        0.62\n",
            "AUC             0.66\n",
            "Macro precision 0.61\n",
            "Macro recall    0.61\n",
            " \n",
            "           Positive      Negative\n",
            "Num case    19825         25190\n",
            "Precision    0.56          0.67\n",
            "Recall       0.60          0.63\n",
            "F1           0.58          0.65\n"
          ]
        }
      ]
    },
    {
      "cell_type": "code",
      "source": [
        "def plot_auc(labels, probs):\n",
        "    ## Compute the false positive rate, true positive rate\n",
        "    ## and threshold along with the AUC\n",
        "    fpr, tpr, threshold = sklm.roc_curve(labels, probs[:,1])\n",
        "    auc = sklm.auc(fpr, tpr)\n",
        "    \n",
        "    ## Plot the result\n",
        "    plt.title('Receiver Operating Characteristic')\n",
        "    plt.plot(fpr, tpr, color = 'orange', label = 'AUC = %0.2f' % auc)\n",
        "    plt.legend(loc = 'lower right')\n",
        "    plt.plot([0, 1], [0, 1],'r--')\n",
        "    plt.xlim([0, 1])\n",
        "    plt.ylim([0, 1])\n",
        "    plt.ylabel('True Positive Rate')\n",
        "    plt.xlabel('False Positive Rate')\n",
        "    plt.show()\n",
        "    \n",
        "plot_auc(y_test, probs) "
      ],
      "metadata": {
        "id": "RZ6a1Zq7eNnv",
        "colab": {
          "base_uri": "https://localhost:8080/",
          "height": 295
        },
        "outputId": "85de12d5-637c-4089-ecdd-e4a8b389e62b"
      },
      "execution_count": null,
      "outputs": [
        {
          "output_type": "display_data",
          "data": {
            "text/plain": [
              "<Figure size 432x288 with 1 Axes>"
            ],
            "image/png": "[encoded data removed]"
          },
          "metadata": {
            "needs_background": "light"
          }
        }
      ]
    },
    {
      "cell_type": "code",
      "source": [
        "# The GaussianNB() outperform that of the logistic model with an accuracy of 62% and AUC of 0.66"
      ],
      "metadata": {
        "id": "dY_fJ4EPcnro"
      },
      "execution_count": null,
      "outputs": []
    },
    {
      "cell_type": "markdown",
      "source": [
        "# Bernoulli's NAIVE BAYES with correlated features\n",
        "NB_mod = BernoulliNB() #for features with binary values"
      ],
      "metadata": {
        "id": "Vawvy0uOe7WF"
      }
    },
    {
      "cell_type": "code",
      "source": [
        "X_train, X_test, y_train, y_test = train_test_split(x_new, y, test_size=0.45, random_state = 10)"
      ],
      "metadata": {
        "id": "4EVAngvze8EJ"
      },
      "execution_count": null,
      "outputs": []
    },
    {
      "cell_type": "code",
      "source": [
        "from sklearn.naive_bayes import BernoulliNB"
      ],
      "metadata": {
        "id": "bdJCwS1nYCaI"
      },
      "execution_count": null,
      "outputs": []
    },
    {
      "cell_type": "code",
      "source": [
        "NB_mod = BernoulliNB(binarize=0.0)"
      ],
      "metadata": {
        "id": "YpNBFEo_e8FU"
      },
      "execution_count": null,
      "outputs": []
    },
    {
      "cell_type": "code",
      "source": [
        "NB_mod.fit(X_train, y_train)"
      ],
      "metadata": {
        "id": "Pp9Eknxxe8JC",
        "colab": {
          "base_uri": "https://localhost:8080/"
        },
        "outputId": "759ecf5d-52cd-4c1e-d761-6a7b2aff8d03"
      },
      "execution_count": null,
      "outputs": [
        {
          "output_type": "execute_result",
          "data": {
            "text/plain": [
              "BernoulliNB()"
            ]
          },
          "metadata": {},
          "execution_count": 125
        }
      ]
    },
    {
      "cell_type": "code",
      "source": [
        "scores = NB_mod.predict(X_test)\n"
      ],
      "metadata": {
        "id": "tj5RznRye8Kg"
      },
      "execution_count": null,
      "outputs": []
    },
    {
      "cell_type": "code",
      "source": [
        "prob = NB_mod.predict_proba(X_test)"
      ],
      "metadata": {
        "id": "ZS6eQ6dwe8TA"
      },
      "execution_count": null,
      "outputs": []
    },
    {
      "cell_type": "code",
      "source": [
        "random.seed= 122\n",
        "def print_metrics(labels, scores):\n",
        "    metrics = sklm.precision_recall_fscore_support(labels, scores)\n",
        "    conf = sklm.confusion_matrix(labels, scores)\n",
        "    print('                 Confusion matrix')\n",
        "    print('                 Score positive    Score negative')\n",
        "    print('Actual positive    %6d' % conf[0,0] + '             %5d' % conf[0,1])\n",
        "    print('Actual negative    %6d' % conf[1,0] + '             %5d' % conf[1,1])\n",
        "    print('')\n",
        "    print('Accuracy        %0.2f' % sklm.accuracy_score(labels, scores))\n",
        "    print('F1 Score        %0.2f' % sklm.f1_score(labels, scores))\n",
        "    print('AUC             %0.2f' % sklm.roc_auc_score(labels, probs[:,1]))\n",
        "    print('Macro precision %0.2f' % float((float(metrics[0][0]) + float(metrics[0][1]))/2.0))\n",
        "    print('Macro recall    %0.2f' % float((float(metrics[1][0]) + float(metrics[1][1]))/2.0))\n",
        "    print(' ')\n",
        "    print('           Positive      Negative')\n",
        "    print('Num case   %6d' % metrics[3][0] + '        %6d' % metrics[3][1])\n",
        "    print('Precision  %6.2f' % metrics[0][0] + '        %6.2f' % metrics[0][1])\n",
        "    print('Recall     %6.2f' % metrics[1][0] + '        %6.2f' % metrics[1][1])\n",
        "    print('F1         %6.2f' % metrics[2][0] + '        %6.2f' % metrics[2][1])\n",
        "\n",
        "\n",
        "    \n",
        "print_metrics(y_test, scores)"
      ],
      "metadata": {
        "id": "hU5m4RFge8UZ",
        "colab": {
          "base_uri": "https://localhost:8080/"
        },
        "outputId": "a11aac50-94aa-45b2-c6da-d3e61d22f493"
      },
      "execution_count": null,
      "outputs": [
        {
          "output_type": "stream",
          "name": "stdout",
          "text": [
            "                 Confusion matrix\n",
            "                 Score positive    Score negative\n",
            "Actual positive      7666             12159\n",
            "Actual negative      6626             18564\n",
            "\n",
            "Accuracy        0.58\n",
            "AUC             0.66\n",
            "Macro precision 0.57\n",
            "Macro recall    0.56\n",
            " \n",
            "           Positive      Negative\n",
            "Num case    19825         25190\n",
            "Precision    0.54          0.60\n",
            "Recall       0.39          0.74\n",
            "F1           0.45          0.66\n"
          ]
        }
      ]
    },
    {
      "cell_type": "code",
      "source": [
        "def plot_auc(labels, probs):\n",
        "    ## Compute the false positive rate, true positive rate\n",
        "    ## and threshold along with the AUC\n",
        "    fpr, tpr, threshold = sklm.roc_curve(labels, probs[:,1])\n",
        "    auc = sklm.auc(fpr, tpr)\n",
        "    \n",
        "    ## Plot the result\n",
        "    plt.title('Receiver Operating Characteristic')\n",
        "    plt.plot(fpr, tpr, color = 'orange', label = 'AUC = %0.2f' % auc)\n",
        "    plt.legend(loc = 'lower right')\n",
        "    plt.plot([0, 1], [0, 1],'r--')\n",
        "    plt.xlim([0, 1])\n",
        "    plt.ylim([0, 1])\n",
        "    plt.ylabel('True Positive Rate')\n",
        "    plt.xlabel('False Positive Rate')\n",
        "    plt.show()\n",
        "    \n",
        "plot_auc(y_test, prob) "
      ],
      "metadata": {
        "id": "YKHU9T4Ge8Yx",
        "colab": {
          "base_uri": "https://localhost:8080/",
          "height": 295
        },
        "outputId": "2cf4ac3d-acf9-4485-caac-385f21565872"
      },
      "execution_count": null,
      "outputs": [
        {
          "output_type": "display_data",
          "data": {
            "text/plain": [
              "<Figure size 432x288 with 1 Axes>"
            ],
            "image/png": "[encoded data removed]"
          },
          "metadata": {
            "needs_background": "light"
          }
        }
      ]
    },
    {
      "cell_type": "code",
      "source": [
        "# The Bernoulli's() under perform that of the GaussianNB with an accuracy of 58% and AUC of 0.60"
      ],
      "metadata": {
        "id": "Gpi0gy8HeNpG"
      },
      "execution_count": null,
      "outputs": []
    },
    {
      "cell_type": "markdown",
      "source": [
        "# DECISION TREE"
      ],
      "metadata": {
        "id": "uWXuPoc9ui7q"
      }
    },
    {
      "cell_type": "code",
      "source": [
        "X_train, X_test, y_train, y_test = train_test_split(x_new, y, test_size=0.45, random_state = 10)"
      ],
      "metadata": {
        "id": "F29ORzjoeNs9"
      },
      "execution_count": null,
      "outputs": []
    },
    {
      "cell_type": "code",
      "source": [
        "from sklearn.tree import DecisionTreeClassifier\n",
        "from sklearn import tree, preprocessing"
      ],
      "metadata": {
        "id": "KJftv1K8ue71"
      },
      "execution_count": null,
      "outputs": []
    },
    {
      "cell_type": "code",
      "source": [
        "import sklearn.model_selection as ms\n",
        "inside = ms.KFold(n_splits=2, shuffle = True)\n",
        "# outside = ms.KFold(n_splits=2, shuffle = True)"
      ],
      "metadata": {
        "id": "loUwWlloz9hp"
      },
      "execution_count": null,
      "outputs": []
    },
    {
      "cell_type": "code",
      "source": [
        "\n",
        "dtree= DecisionTreeClassifier(class_weight = {0:0.55, 1:0.45})\n",
        "\n",
        "## Define the dictionary for the grid search and the model object to search on\n",
        "param_grid = [{\"max_depth\": [2,3,4,5,6], \"min_samples_leaf\": [3,4,5,6,7]}]\n",
        "## Define the DecisionTree model\n",
        "\n",
        "#clf = DecisionTreeClassifier(random_state=0)\n",
        "clf = ms.GridSearchCV(estimator = dtree, param_grid = param_grid, \n",
        "                      cv = inside, # Use the inside folds\n",
        "                      scoring = 'accuracy',\n",
        "                      return_train_score = True)\n",
        "\n",
        "clf.fit(x_new, y)"
      ],
      "metadata": {
        "id": "j2tQYVHjzfAg",
        "colab": {
          "base_uri": "https://localhost:8080/"
        },
        "outputId": "1f531960-f7a9-4ab6-85a1-7aa206d45a89"
      },
      "execution_count": null,
      "outputs": [
        {
          "output_type": "execute_result",
          "data": {
            "text/plain": [
              "GridSearchCV(cv=KFold(n_splits=2, random_state=None, shuffle=True),\n",
              "             estimator=DecisionTreeClassifier(class_weight={0: 0.55, 1: 0.45}),\n",
              "             param_grid=[{'max_depth': [2, 3, 4, 5, 6],\n",
              "                          'min_samples_leaf': [3, 4, 5, 6, 7]}],\n",
              "             return_train_score=True, scoring='accuracy')"
            ]
          },
          "metadata": {},
          "execution_count": 52
        }
      ]
    },
    {
      "cell_type": "markdown",
      "source": [
        "# Print Best Parameter"
      ],
      "metadata": {
        "id": "ogvynB230fel"
      }
    },
    {
      "cell_type": "code",
      "source": [
        "print(clf.best_estimator_.max_depth)\n",
        "#print(clf.best_estimator_.min_samples_split)\n",
        "print(clf.best_estimator_.min_samples_leaf)"
      ],
      "metadata": {
        "id": "QWJLoZKKzfB1",
        "colab": {
          "base_uri": "https://localhost:8080/"
        },
        "outputId": "e9d21548-c843-471a-f472-24fb725589db"
      },
      "execution_count": null,
      "outputs": [
        {
          "output_type": "stream",
          "name": "stdout",
          "text": [
            "4\n",
            "3\n"
          ]
        }
      ]
    },
    {
      "cell_type": "code",
      "source": [
        "print(clf.best_score_)"
      ],
      "metadata": {
        "id": "6GH8kakgzfFW",
        "colab": {
          "base_uri": "https://localhost:8080/"
        },
        "outputId": "23d1fea8-2e77-476f-87f7-5da238600d48"
      },
      "execution_count": null,
      "outputs": [
        {
          "output_type": "stream",
          "name": "stdout",
          "text": [
            "0.933871161228407\n"
          ]
        }
      ]
    },
    {
      "cell_type": "code",
      "source": [
        "cv_estimate = ms.cross_val_score(clf, x_new, y) \n",
        "\n",
        "print('Mean performance metric = %4.3f' % np.mean(cv_estimate))\n",
        "print('SDT of the metric       = %4.3f' % np.std(cv_estimate))\n",
        "print('Outcomes by cv fold')\n",
        "for i, x in enumerate(cv_estimate):\n",
        "    print('Fold %2d    %4.3f' % (i+1, x))"
      ],
      "metadata": {
        "id": "QCuuaIhEzfGd",
        "colab": {
          "base_uri": "https://localhost:8080/"
        },
        "outputId": "af2771b2-1317-446f-e267-3621a96c90ad"
      },
      "execution_count": null,
      "outputs": [
        {
          "output_type": "stream",
          "name": "stdout",
          "text": [
            "Mean performance metric = 0.934\n",
            "SDT of the metric       = 0.001\n",
            "Outcomes by cv fold\n",
            "Fold  1    0.935\n",
            "Fold  2    0.934\n",
            "Fold  3    0.936\n",
            "Fold  4    0.933\n",
            "Fold  5    0.932\n"
          ]
        }
      ]
    },
    {
      "cell_type": "markdown",
      "source": [
        "Use best estimator from grid search and calculate accuracy on the training set"
      ],
      "metadata": {
        "id": "0PliNcw61jsr"
      }
    },
    {
      "cell_type": "code",
      "source": [
        "dtree = tree.DecisionTreeClassifier(max_depth = clf.best_estimator_.max_depth,\n",
        "                  min_samples_leaf = clf.best_estimator_.min_samples_leaf,\n",
        "                  class_weight = {0:55, 1:0.45}) \n",
        "dtree.fit(X_train, y_train)"
      ],
      "metadata": {
        "id": "a73fmHk5zfKk",
        "colab": {
          "base_uri": "https://localhost:8080/"
        },
        "outputId": "50af619f-879d-4c48-d06e-c812699f61cb"
      },
      "execution_count": null,
      "outputs": [
        {
          "output_type": "execute_result",
          "data": {
            "text/plain": [
              "DecisionTreeClassifier(class_weight={0: 55, 1: 0.45}, max_depth=4,\n",
              "                       min_samples_leaf=3)"
            ]
          },
          "metadata": {},
          "execution_count": 56
        }
      ]
    },
    {
      "cell_type": "code",
      "source": [
        "pred =dtree.predict(X_test)"
      ],
      "metadata": {
        "id": "Cl_ESn4_eNuV"
      },
      "execution_count": null,
      "outputs": []
    },
    {
      "cell_type": "code",
      "source": [
        "probs = dtree.predict_proba(X_test)"
      ],
      "metadata": {
        "id": "6ZQH2148fpxL"
      },
      "execution_count": null,
      "outputs": []
    },
    {
      "cell_type": "code",
      "source": [
        "def print_metrics(labels, scores):\n",
        "    metrics = sklm.precision_recall_fscore_support(labels, scores)\n",
        "    conf = sklm.confusion_matrix(labels, scores)\n",
        "    print('                 Confusion matrix')\n",
        "    print('                 Score positive    Score negative')\n",
        "    print('Actual positive    %6d' % conf[0,0] + '             %5d' % conf[0,1])\n",
        "    print('Actual negative    %6d' % conf[1,0] + '             %5d' % conf[1,1])\n",
        "    print('')\n",
        "    print('Accuracy        %0.2f' % sklm.accuracy_score(labels, scores))\n",
        "    print('F1 Score        %0.2f' % sklm.f1_score(labels, scores))\n",
        "    print('AUC             %0.2f' % sklm.roc_auc_score(labels, probs[:,1]))\n",
        "    print('Macro precision %0.2f' % float((float(metrics[0][0]) + float(metrics[0][1]))/2.0))\n",
        "    print('Macro recall    %0.2f' % float((float(metrics[1][0]) + float(metrics[1][1]))/2.0))\n",
        "    print(' ')\n",
        "    print('           Positive      Negative')\n",
        "    print('Num case   %6d' % metrics[3][0] + '        %6d' % metrics[3][1])\n",
        "    print('Precision  %6.2f' % metrics[0][0] + '        %6.2f' % metrics[0][1])\n",
        "    print('Recall     %6.2f' % metrics[1][0] + '        %6.2f' % metrics[1][1])\n",
        "    print('F1         %6.2f' % metrics[2][0] + '        %6.2f' % metrics[2][1])\n",
        "\n",
        "\n",
        "    \n",
        "print_metrics(y_test, pred)"
      ],
      "metadata": {
        "id": "etsDGqrt1z1B",
        "colab": {
          "base_uri": "https://localhost:8080/"
        },
        "outputId": "1e993260-a962-4cdd-9904-853f3fae2b35"
      },
      "execution_count": null,
      "outputs": [
        {
          "output_type": "stream",
          "name": "stdout",
          "text": [
            "                 Confusion matrix\n",
            "                 Score positive    Score negative\n",
            "Actual positive     19861                 0\n",
            "Actual negative      6367             18787\n",
            "\n",
            "Accuracy        0.86\n",
            "AUC             0.94\n",
            "Macro precision 0.88\n",
            "Macro recall    0.87\n",
            " \n",
            "           Positive      Negative\n",
            "Num case    19861         25154\n",
            "Precision    0.76          1.00\n",
            "Recall       1.00          0.75\n",
            "F1           0.86          0.86\n"
          ]
        }
      ]
    },
    {
      "cell_type": "code",
      "source": [],
      "metadata": {
        "id": "yxjYg19BbrhI"
      },
      "execution_count": null,
      "outputs": []
    },
    {
      "cell_type": "code",
      "source": [
        "# #probabilities\n",
        "# probs = dtree.predict_proba(X_test)"
      ],
      "metadata": {
        "id": "Fz9COf0Z3ETG"
      },
      "execution_count": null,
      "outputs": []
    },
    {
      "cell_type": "code",
      "source": [
        "#Printing AUC\n",
        "def plot_auc(labels, probs):\n",
        "    ## Compute the false positive rate, true positive rate\n",
        "    ## and threshold along with the AUC\n",
        "    fpr, tpr, threshold = sklm.roc_curve(labels, probs[:,1])\n",
        "    auc = sklm.auc(fpr, tpr)\n",
        "    \n",
        "    ## Plot the result\n",
        "    plt.title('Receiver Operating Characteristic')\n",
        "    plt.plot(fpr, tpr, color = 'orange', label = 'AUC = %0.2f' % auc)\n",
        "    plt.legend(loc = 'lower right')\n",
        "    plt.plot([0, 1], [0, 1],'r--')\n",
        "    plt.xlim([0, 1])\n",
        "    plt.ylim([0, 1])\n",
        "    plt.ylabel('True Positive Rate')\n",
        "    plt.xlabel('False Positive Rate')\n",
        "    plt.show()\n",
        "    \n",
        "plot_auc(y_test, probs) "
      ],
      "metadata": {
        "id": "EYn7F5BQ1z8v",
        "colab": {
          "base_uri": "https://localhost:8080/",
          "height": 295
        },
        "outputId": "f5dd1ffb-bd1d-4f85-8c53-450da1b01a2f"
      },
      "execution_count": null,
      "outputs": [
        {
          "output_type": "display_data",
          "data": {
            "text/plain": [
              "<Figure size 432x288 with 1 Axes>"
            ],
            "image/png": "[encoded data removed]"
          },
          "metadata": {
            "needs_background": "light"
          }
        }
      ]
    },
    {
      "cell_type": "code",
      "source": [
        "# Let us examine these results. We should notice the following:\n",
        "\n",
        "# The confusion matrix has dimension 2X2 and most cases are correctly classified.\n",
        "# The overall accuracy is 0.86. Since the classes are roughly balanced, this metric indicates relatively good performance of the classifier, particularly since we use hyperparameter tunning and cross validation.\n",
        "# The precision, recall and F1 for each of the classes is relatively good.\n",
        "# THE AUC IS CLOSE TO 1 which indicate good results.This Our prform others previously model fairly"
      ],
      "metadata": {
        "id": "FdmCilst3Drl"
      },
      "execution_count": null,
      "outputs": []
    },
    {
      "cell_type": "markdown",
      "source": [
        "# RANDOM FOREST"
      ],
      "metadata": {
        "id": "mzegbmHoB9-v"
      }
    },
    {
      "cell_type": "code",
      "source": [
        "X_train, X_test, y_train, y_test = train_test_split(x_scaled, y, test_size=0.45, random_state = 10)"
      ],
      "metadata": {
        "id": "rX38GyI41z-M"
      },
      "execution_count": null,
      "outputs": []
    },
    {
      "cell_type": "code",
      "source": [
        "inside = ms.KFold(n_splits=2, shuffle = True)"
      ],
      "metadata": {
        "id": "jzOoRUVOCcCQ"
      },
      "execution_count": null,
      "outputs": []
    },
    {
      "cell_type": "code",
      "source": [
        "from sklearn.ensemble import RandomForestClassifier\n",
        "rf_clf = RandomForestClassifier(n_estimators=10)\n",
        "## Define the dictionary for the grid search and the model object to search on\n",
        "param_grid = {'n_estimators': [51,100,200,],\n",
        "          'max_features': ['auto', 'sqrt', 'log2'],\n",
        "          'max_depth' : ['None',4,5,6,7,8],\n",
        "          'criterion' : ['gini']}\n",
        "\n",
        "clf = ms.GridSearchCV(estimator = rf_clf, param_grid = param_grid, \n",
        "                      scoring = 'accuracy',\n",
        "                      return_train_score = True)\n",
        "\n",
        "clf.fit(x_scaled, y)"
      ],
      "metadata": {
        "id": "tpgQqAbkCcDl",
        "colab": {
          "base_uri": "https://localhost:8080/"
        },
        "outputId": "7e864936-7f35-4566-a83c-31f6912de132"
      },
      "execution_count": null,
      "outputs": [
        {
          "output_type": "stream",
          "name": "stderr",
          "text": [
            "/usr/local/lib/python3.7/dist-packages/sklearn/model_selection/_validation.py:372: FitFailedWarning: \n",
            "45 fits failed out of a total of 270.\n",
            "The score on these train-test partitions for these parameters will be set to nan.\n",
            "If these failures are not expected, you can try to debug them by setting error_score='raise'.\n",
            "\n",
            "Below are more details about the failures:\n",
            "--------------------------------------------------------------------------------\n",
            "45 fits failed with the following error:\n",
            "Traceback (most recent call last):\n",
            "  File \"/usr/local/lib/python3.7/dist-packages/sklearn/model_selection/_validation.py\", line 680, in _fit_and_score\n",
            "    estimator.fit(X_train, y_train, **fit_params)\n",
            "  File \"/usr/local/lib/python3.7/dist-packages/sklearn/ensemble/_forest.py\", line 467, in fit\n",
            "    for i, t in enumerate(trees)\n",
            "  File \"/usr/local/lib/python3.7/dist-packages/joblib/parallel.py\", line 1085, in __call__\n",
            "    if self.dispatch_one_batch(iterator):\n",
            "  File \"/usr/local/lib/python3.7/dist-packages/joblib/parallel.py\", line 901, in dispatch_one_batch\n",
            "    self._dispatch(tasks)\n",
            "  File \"/usr/local/lib/python3.7/dist-packages/joblib/parallel.py\", line 819, in _dispatch\n",
            "    job = self._backend.apply_async(batch, callback=cb)\n",
            "  File \"/usr/local/lib/python3.7/dist-packages/joblib/_parallel_backends.py\", line 208, in apply_async\n",
            "    result = ImmediateResult(func)\n",
            "  File \"/usr/local/lib/python3.7/dist-packages/joblib/_parallel_backends.py\", line 597, in __init__\n",
            "    self.results = batch()\n",
            "  File \"/usr/local/lib/python3.7/dist-packages/joblib/parallel.py\", line 289, in __call__\n",
            "    for func, args, kwargs in self.items]\n",
            "  File \"/usr/local/lib/python3.7/dist-packages/joblib/parallel.py\", line 289, in <listcomp>\n",
            "    for func, args, kwargs in self.items]\n",
            "  File \"/usr/local/lib/python3.7/dist-packages/sklearn/utils/fixes.py\", line 216, in __call__\n",
            "    return self.function(*args, **kwargs)\n",
            "  File \"/usr/local/lib/python3.7/dist-packages/sklearn/ensemble/_forest.py\", line 185, in _parallel_build_trees\n",
            "    tree.fit(X, y, sample_weight=curr_sample_weight, check_input=False)\n",
            "  File \"/usr/local/lib/python3.7/dist-packages/sklearn/tree/_classes.py\", line 942, in fit\n",
            "    X_idx_sorted=X_idx_sorted,\n",
            "  File \"/usr/local/lib/python3.7/dist-packages/sklearn/tree/_classes.py\", line 305, in fit\n",
            "    if max_depth <= 0:\n",
            "TypeError: '<=' not supported between instances of 'str' and 'int'\n",
            "\n",
            "  warnings.warn(some_fits_failed_message, FitFailedWarning)\n",
            "/usr/local/lib/python3.7/dist-packages/sklearn/model_selection/_search.py:972: UserWarning: One or more of the test scores are non-finite: [nan nan nan nan nan nan nan nan nan  1.  1.  1.  1.  1.  1.  1.  1.  1.\n",
            "  1.  1.  1.  1.  1.  1.  1.  1.  1.  1.  1.  1.  1.  1.  1.  1.  1.  1.\n",
            "  1.  1.  1.  1.  1.  1.  1.  1.  1.  1.  1.  1.  1.  1.  1.  1.  1.  1.]\n",
            "  category=UserWarning,\n",
            "/usr/local/lib/python3.7/dist-packages/sklearn/model_selection/_search.py:972: UserWarning: One or more of the train scores are non-finite: [nan nan nan nan nan nan nan nan nan  1.  1.  1.  1.  1.  1.  1.  1.  1.\n",
            "  1.  1.  1.  1.  1.  1.  1.  1.  1.  1.  1.  1.  1.  1.  1.  1.  1.  1.\n",
            "  1.  1.  1.  1.  1.  1.  1.  1.  1.  1.  1.  1.  1.  1.  1.  1.  1.  1.]\n",
            "  category=UserWarning,\n"
          ]
        },
        {
          "output_type": "execute_result",
          "data": {
            "text/plain": [
              "GridSearchCV(estimator=RandomForestClassifier(n_estimators=10),\n",
              "             param_grid={'criterion': ['gini'],\n",
              "                         'max_depth': ['None', 4, 5, 6, 7, 8],\n",
              "                         'max_features': ['auto', 'sqrt', 'log2'],\n",
              "                         'n_estimators': [51, 100, 200]},\n",
              "             return_train_score=True, scoring='accuracy')"
            ]
          },
          "metadata": {},
          "execution_count": 64
        }
      ]
    },
    {
      "cell_type": "markdown",
      "source": [
        "# Print Best Parameter"
      ],
      "metadata": {
        "id": "bGs4W6cYENiS"
      }
    },
    {
      "cell_type": "code",
      "source": [
        "print(clf.best_estimator_.n_estimators)\n",
        "print(clf.best_estimator_.max_features)\n",
        "print(clf.best_estimator_.max_depth)\n",
        "# print(clf.best_estimator_.criterion)"
      ],
      "metadata": {
        "id": "zlVUtMItEHo3",
        "colab": {
          "base_uri": "https://localhost:8080/"
        },
        "outputId": "8e91643b-17cd-4a4e-cc46-64153514f79e"
      },
      "execution_count": null,
      "outputs": [
        {
          "output_type": "stream",
          "name": "stdout",
          "text": [
            "51\n",
            "auto\n",
            "4\n"
          ]
        }
      ]
    },
    {
      "cell_type": "code",
      "source": [
        "print(clf.best_score_)"
      ],
      "metadata": {
        "id": "gqjQ1E1NEHyR",
        "colab": {
          "base_uri": "https://localhost:8080/"
        },
        "outputId": "7bb7be41-6d36-4775-d3fa-89b3383c52c7"
      },
      "execution_count": null,
      "outputs": [
        {
          "output_type": "stream",
          "name": "stdout",
          "text": [
            "1.0\n"
          ]
        }
      ]
    },
    {
      "cell_type": "code",
      "source": [
        "cv_estimate = ms.cross_val_score(clf, x_scaled, y) \n",
        "\n",
        "print('Mean performance metric = %4.3f' % np.mean(cv_estimate))\n",
        "print('SDT of the metric       = %4.3f' % np.std(cv_estimate))\n",
        "print('Outcomes by cv fold')\n",
        "for i, x in enumerate(cv_estimate):\n",
        "    print('Fold %2d    %4.3f' % (i+1, x))"
      ],
      "metadata": {
        "id": "6f0mBmQ_EHzv",
        "colab": {
          "base_uri": "https://localhost:8080/"
        },
        "outputId": "a68162d3-3ef9-4c42-9375-5bbb058e7371"
      },
      "execution_count": null,
      "outputs": [
        {
          "output_type": "stream",
          "name": "stderr",
          "text": [
            "/usr/local/lib/python3.7/dist-packages/sklearn/model_selection/_validation.py:372: FitFailedWarning: \n",
            "45 fits failed out of a total of 270.\n",
            "The score on these train-test partitions for these parameters will be set to nan.\n",
            "If these failures are not expected, you can try to debug them by setting error_score='raise'.\n",
            "\n",
            "Below are more details about the failures:\n",
            "--------------------------------------------------------------------------------\n",
            "45 fits failed with the following error:\n",
            "Traceback (most recent call last):\n",
            "  File \"/usr/local/lib/python3.7/dist-packages/sklearn/model_selection/_validation.py\", line 680, in _fit_and_score\n",
            "    estimator.fit(X_train, y_train, **fit_params)\n",
            "  File \"/usr/local/lib/python3.7/dist-packages/sklearn/ensemble/_forest.py\", line 467, in fit\n",
            "    for i, t in enumerate(trees)\n",
            "  File \"/usr/local/lib/python3.7/dist-packages/joblib/parallel.py\", line 1085, in __call__\n",
            "    if self.dispatch_one_batch(iterator):\n",
            "  File \"/usr/local/lib/python3.7/dist-packages/joblib/parallel.py\", line 901, in dispatch_one_batch\n",
            "    self._dispatch(tasks)\n",
            "  File \"/usr/local/lib/python3.7/dist-packages/joblib/parallel.py\", line 819, in _dispatch\n",
            "    job = self._backend.apply_async(batch, callback=cb)\n",
            "  File \"/usr/local/lib/python3.7/dist-packages/joblib/_parallel_backends.py\", line 208, in apply_async\n",
            "    result = ImmediateResult(func)\n",
            "  File \"/usr/local/lib/python3.7/dist-packages/joblib/_parallel_backends.py\", line 597, in __init__\n",
            "    self.results = batch()\n",
            "  File \"/usr/local/lib/python3.7/dist-packages/joblib/parallel.py\", line 289, in __call__\n",
            "    for func, args, kwargs in self.items]\n",
            "  File \"/usr/local/lib/python3.7/dist-packages/joblib/parallel.py\", line 289, in <listcomp>\n",
            "    for func, args, kwargs in self.items]\n",
            "  File \"/usr/local/lib/python3.7/dist-packages/sklearn/utils/fixes.py\", line 216, in __call__\n",
            "    return self.function(*args, **kwargs)\n",
            "  File \"/usr/local/lib/python3.7/dist-packages/sklearn/ensemble/_forest.py\", line 185, in _parallel_build_trees\n",
            "    tree.fit(X, y, sample_weight=curr_sample_weight, check_input=False)\n",
            "  File \"/usr/local/lib/python3.7/dist-packages/sklearn/tree/_classes.py\", line 942, in fit\n",
            "    X_idx_sorted=X_idx_sorted,\n",
            "  File \"/usr/local/lib/python3.7/dist-packages/sklearn/tree/_classes.py\", line 305, in fit\n",
            "    if max_depth <= 0:\n",
            "TypeError: '<=' not supported between instances of 'str' and 'int'\n",
            "\n",
            "  warnings.warn(some_fits_failed_message, FitFailedWarning)\n",
            "/usr/local/lib/python3.7/dist-packages/sklearn/model_selection/_search.py:972: UserWarning: One or more of the test scores are non-finite: [nan nan nan nan nan nan nan nan nan  1.  1.  1.  1.  1.  1.  1.  1.  1.\n",
            "  1.  1.  1.  1.  1.  1.  1.  1.  1.  1.  1.  1.  1.  1.  1.  1.  1.  1.\n",
            "  1.  1.  1.  1.  1.  1.  1.  1.  1.  1.  1.  1.  1.  1.  1.  1.  1.  1.]\n",
            "  category=UserWarning,\n",
            "/usr/local/lib/python3.7/dist-packages/sklearn/model_selection/_search.py:972: UserWarning: One or more of the train scores are non-finite: [nan nan nan nan nan nan nan nan nan  1.  1.  1.  1.  1.  1.  1.  1.  1.\n",
            "  1.  1.  1.  1.  1.  1.  1.  1.  1.  1.  1.  1.  1.  1.  1.  1.  1.  1.\n",
            "  1.  1.  1.  1.  1.  1.  1.  1.  1.  1.  1.  1.  1.  1.  1.  1.  1.  1.]\n",
            "  category=UserWarning,\n",
            "/usr/local/lib/python3.7/dist-packages/sklearn/model_selection/_validation.py:372: FitFailedWarning: \n",
            "45 fits failed out of a total of 270.\n",
            "The score on these train-test partitions for these parameters will be set to nan.\n",
            "If these failures are not expected, you can try to debug them by setting error_score='raise'.\n",
            "\n",
            "Below are more details about the failures:\n",
            "--------------------------------------------------------------------------------\n",
            "45 fits failed with the following error:\n",
            "Traceback (most recent call last):\n",
            "  File \"/usr/local/lib/python3.7/dist-packages/sklearn/model_selection/_validation.py\", line 680, in _fit_and_score\n",
            "    estimator.fit(X_train, y_train, **fit_params)\n",
            "  File \"/usr/local/lib/python3.7/dist-packages/sklearn/ensemble/_forest.py\", line 467, in fit\n",
            "    for i, t in enumerate(trees)\n",
            "  File \"/usr/local/lib/python3.7/dist-packages/joblib/parallel.py\", line 1085, in __call__\n",
            "    if self.dispatch_one_batch(iterator):\n",
            "  File \"/usr/local/lib/python3.7/dist-packages/joblib/parallel.py\", line 901, in dispatch_one_batch\n",
            "    self._dispatch(tasks)\n",
            "  File \"/usr/local/lib/python3.7/dist-packages/joblib/parallel.py\", line 819, in _dispatch\n",
            "    job = self._backend.apply_async(batch, callback=cb)\n",
            "  File \"/usr/local/lib/python3.7/dist-packages/joblib/_parallel_backends.py\", line 208, in apply_async\n",
            "    result = ImmediateResult(func)\n",
            "  File \"/usr/local/lib/python3.7/dist-packages/joblib/_parallel_backends.py\", line 597, in __init__\n",
            "    self.results = batch()\n",
            "  File \"/usr/local/lib/python3.7/dist-packages/joblib/parallel.py\", line 289, in __call__\n",
            "    for func, args, kwargs in self.items]\n",
            "  File \"/usr/local/lib/python3.7/dist-packages/joblib/parallel.py\", line 289, in <listcomp>\n",
            "    for func, args, kwargs in self.items]\n",
            "  File \"/usr/local/lib/python3.7/dist-packages/sklearn/utils/fixes.py\", line 216, in __call__\n",
            "    return self.function(*args, **kwargs)\n",
            "  File \"/usr/local/lib/python3.7/dist-packages/sklearn/ensemble/_forest.py\", line 185, in _parallel_build_trees\n",
            "    tree.fit(X, y, sample_weight=curr_sample_weight, check_input=False)\n",
            "  File \"/usr/local/lib/python3.7/dist-packages/sklearn/tree/_classes.py\", line 942, in fit\n",
            "    X_idx_sorted=X_idx_sorted,\n",
            "  File \"/usr/local/lib/python3.7/dist-packages/sklearn/tree/_classes.py\", line 305, in fit\n",
            "    if max_depth <= 0:\n",
            "TypeError: '<=' not supported between instances of 'str' and 'int'\n",
            "\n",
            "  warnings.warn(some_fits_failed_message, FitFailedWarning)\n",
            "/usr/local/lib/python3.7/dist-packages/sklearn/model_selection/_search.py:972: UserWarning: One or more of the test scores are non-finite: [nan nan nan nan nan nan nan nan nan  1.  1.  1.  1.  1.  1.  1.  1.  1.\n",
            "  1.  1.  1.  1.  1.  1.  1.  1.  1.  1.  1.  1.  1.  1.  1.  1.  1.  1.\n",
            "  1.  1.  1.  1.  1.  1.  1.  1.  1.  1.  1.  1.  1.  1.  1.  1.  1.  1.]\n",
            "  category=UserWarning,\n",
            "/usr/local/lib/python3.7/dist-packages/sklearn/model_selection/_search.py:972: UserWarning: One or more of the train scores are non-finite: [nan nan nan nan nan nan nan nan nan  1.  1.  1.  1.  1.  1.  1.  1.  1.\n",
            "  1.  1.  1.  1.  1.  1.  1.  1.  1.  1.  1.  1.  1.  1.  1.  1.  1.  1.\n",
            "  1.  1.  1.  1.  1.  1.  1.  1.  1.  1.  1.  1.  1.  1.  1.  1.  1.  1.]\n",
            "  category=UserWarning,\n",
            "/usr/local/lib/python3.7/dist-packages/sklearn/model_selection/_validation.py:372: FitFailedWarning: \n",
            "45 fits failed out of a total of 270.\n",
            "The score on these train-test partitions for these parameters will be set to nan.\n",
            "If these failures are not expected, you can try to debug them by setting error_score='raise'.\n",
            "\n",
            "Below are more details about the failures:\n",
            "--------------------------------------------------------------------------------\n",
            "45 fits failed with the following error:\n",
            "Traceback (most recent call last):\n",
            "  File \"/usr/local/lib/python3.7/dist-packages/sklearn/model_selection/_validation.py\", line 680, in _fit_and_score\n",
            "    estimator.fit(X_train, y_train, **fit_params)\n",
            "  File \"/usr/local/lib/python3.7/dist-packages/sklearn/ensemble/_forest.py\", line 467, in fit\n",
            "    for i, t in enumerate(trees)\n",
            "  File \"/usr/local/lib/python3.7/dist-packages/joblib/parallel.py\", line 1085, in __call__\n",
            "    if self.dispatch_one_batch(iterator):\n",
            "  File \"/usr/local/lib/python3.7/dist-packages/joblib/parallel.py\", line 901, in dispatch_one_batch\n",
            "    self._dispatch(tasks)\n",
            "  File \"/usr/local/lib/python3.7/dist-packages/joblib/parallel.py\", line 819, in _dispatch\n",
            "    job = self._backend.apply_async(batch, callback=cb)\n",
            "  File \"/usr/local/lib/python3.7/dist-packages/joblib/_parallel_backends.py\", line 208, in apply_async\n",
            "    result = ImmediateResult(func)\n",
            "  File \"/usr/local/lib/python3.7/dist-packages/joblib/_parallel_backends.py\", line 597, in __init__\n",
            "    self.results = batch()\n",
            "  File \"/usr/local/lib/python3.7/dist-packages/joblib/parallel.py\", line 289, in __call__\n",
            "    for func, args, kwargs in self.items]\n",
            "  File \"/usr/local/lib/python3.7/dist-packages/joblib/parallel.py\", line 289, in <listcomp>\n",
            "    for func, args, kwargs in self.items]\n",
            "  File \"/usr/local/lib/python3.7/dist-packages/sklearn/utils/fixes.py\", line 216, in __call__\n",
            "    return self.function(*args, **kwargs)\n",
            "  File \"/usr/local/lib/python3.7/dist-packages/sklearn/ensemble/_forest.py\", line 185, in _parallel_build_trees\n",
            "    tree.fit(X, y, sample_weight=curr_sample_weight, check_input=False)\n",
            "  File \"/usr/local/lib/python3.7/dist-packages/sklearn/tree/_classes.py\", line 942, in fit\n",
            "    X_idx_sorted=X_idx_sorted,\n",
            "  File \"/usr/local/lib/python3.7/dist-packages/sklearn/tree/_classes.py\", line 305, in fit\n",
            "    if max_depth <= 0:\n",
            "TypeError: '<=' not supported between instances of 'str' and 'int'\n",
            "\n",
            "  warnings.warn(some_fits_failed_message, FitFailedWarning)\n",
            "/usr/local/lib/python3.7/dist-packages/sklearn/model_selection/_search.py:972: UserWarning: One or more of the test scores are non-finite: [nan nan nan nan nan nan nan nan nan  1.  1.  1.  1.  1.  1.  1.  1.  1.\n",
            "  1.  1.  1.  1.  1.  1.  1.  1.  1.  1.  1.  1.  1.  1.  1.  1.  1.  1.\n",
            "  1.  1.  1.  1.  1.  1.  1.  1.  1.  1.  1.  1.  1.  1.  1.  1.  1.  1.]\n",
            "  category=UserWarning,\n",
            "/usr/local/lib/python3.7/dist-packages/sklearn/model_selection/_search.py:972: UserWarning: One or more of the train scores are non-finite: [nan nan nan nan nan nan nan nan nan  1.  1.  1.  1.  1.  1.  1.  1.  1.\n",
            "  1.  1.  1.  1.  1.  1.  1.  1.  1.  1.  1.  1.  1.  1.  1.  1.  1.  1.\n",
            "  1.  1.  1.  1.  1.  1.  1.  1.  1.  1.  1.  1.  1.  1.  1.  1.  1.  1.]\n",
            "  category=UserWarning,\n",
            "/usr/local/lib/python3.7/dist-packages/sklearn/model_selection/_validation.py:372: FitFailedWarning: \n",
            "45 fits failed out of a total of 270.\n",
            "The score on these train-test partitions for these parameters will be set to nan.\n",
            "If these failures are not expected, you can try to debug them by setting error_score='raise'.\n",
            "\n",
            "Below are more details about the failures:\n",
            "--------------------------------------------------------------------------------\n",
            "45 fits failed with the following error:\n",
            "Traceback (most recent call last):\n",
            "  File \"/usr/local/lib/python3.7/dist-packages/sklearn/model_selection/_validation.py\", line 680, in _fit_and_score\n",
            "    estimator.fit(X_train, y_train, **fit_params)\n",
            "  File \"/usr/local/lib/python3.7/dist-packages/sklearn/ensemble/_forest.py\", line 467, in fit\n",
            "    for i, t in enumerate(trees)\n",
            "  File \"/usr/local/lib/python3.7/dist-packages/joblib/parallel.py\", line 1085, in __call__\n",
            "    if self.dispatch_one_batch(iterator):\n",
            "  File \"/usr/local/lib/python3.7/dist-packages/joblib/parallel.py\", line 901, in dispatch_one_batch\n",
            "    self._dispatch(tasks)\n",
            "  File \"/usr/local/lib/python3.7/dist-packages/joblib/parallel.py\", line 819, in _dispatch\n",
            "    job = self._backend.apply_async(batch, callback=cb)\n",
            "  File \"/usr/local/lib/python3.7/dist-packages/joblib/_parallel_backends.py\", line 208, in apply_async\n",
            "    result = ImmediateResult(func)\n",
            "  File \"/usr/local/lib/python3.7/dist-packages/joblib/_parallel_backends.py\", line 597, in __init__\n",
            "    self.results = batch()\n",
            "  File \"/usr/local/lib/python3.7/dist-packages/joblib/parallel.py\", line 289, in __call__\n",
            "    for func, args, kwargs in self.items]\n",
            "  File \"/usr/local/lib/python3.7/dist-packages/joblib/parallel.py\", line 289, in <listcomp>\n",
            "    for func, args, kwargs in self.items]\n",
            "  File \"/usr/local/lib/python3.7/dist-packages/sklearn/utils/fixes.py\", line 216, in __call__\n",
            "    return self.function(*args, **kwargs)\n",
            "  File \"/usr/local/lib/python3.7/dist-packages/sklearn/ensemble/_forest.py\", line 185, in _parallel_build_trees\n",
            "    tree.fit(X, y, sample_weight=curr_sample_weight, check_input=False)\n",
            "  File \"/usr/local/lib/python3.7/dist-packages/sklearn/tree/_classes.py\", line 942, in fit\n",
            "    X_idx_sorted=X_idx_sorted,\n",
            "  File \"/usr/local/lib/python3.7/dist-packages/sklearn/tree/_classes.py\", line 305, in fit\n",
            "    if max_depth <= 0:\n",
            "TypeError: '<=' not supported between instances of 'str' and 'int'\n",
            "\n",
            "  warnings.warn(some_fits_failed_message, FitFailedWarning)\n",
            "/usr/local/lib/python3.7/dist-packages/sklearn/model_selection/_search.py:972: UserWarning: One or more of the test scores are non-finite: [nan nan nan nan nan nan nan nan nan  1.  1.  1.  1.  1.  1.  1.  1.  1.\n",
            "  1.  1.  1.  1.  1.  1.  1.  1.  1.  1.  1.  1.  1.  1.  1.  1.  1.  1.\n",
            "  1.  1.  1.  1.  1.  1.  1.  1.  1.  1.  1.  1.  1.  1.  1.  1.  1.  1.]\n",
            "  category=UserWarning,\n",
            "/usr/local/lib/python3.7/dist-packages/sklearn/model_selection/_search.py:972: UserWarning: One or more of the train scores are non-finite: [nan nan nan nan nan nan nan nan nan  1.  1.  1.  1.  1.  1.  1.  1.  1.\n",
            "  1.  1.  1.  1.  1.  1.  1.  1.  1.  1.  1.  1.  1.  1.  1.  1.  1.  1.\n",
            "  1.  1.  1.  1.  1.  1.  1.  1.  1.  1.  1.  1.  1.  1.  1.  1.  1.  1.]\n",
            "  category=UserWarning,\n",
            "/usr/local/lib/python3.7/dist-packages/sklearn/model_selection/_validation.py:372: FitFailedWarning: \n",
            "45 fits failed out of a total of 270.\n",
            "The score on these train-test partitions for these parameters will be set to nan.\n",
            "If these failures are not expected, you can try to debug them by setting error_score='raise'.\n",
            "\n",
            "Below are more details about the failures:\n",
            "--------------------------------------------------------------------------------\n",
            "45 fits failed with the following error:\n",
            "Traceback (most recent call last):\n",
            "  File \"/usr/local/lib/python3.7/dist-packages/sklearn/model_selection/_validation.py\", line 680, in _fit_and_score\n",
            "    estimator.fit(X_train, y_train, **fit_params)\n",
            "  File \"/usr/local/lib/python3.7/dist-packages/sklearn/ensemble/_forest.py\", line 467, in fit\n",
            "    for i, t in enumerate(trees)\n",
            "  File \"/usr/local/lib/python3.7/dist-packages/joblib/parallel.py\", line 1085, in __call__\n",
            "    if self.dispatch_one_batch(iterator):\n",
            "  File \"/usr/local/lib/python3.7/dist-packages/joblib/parallel.py\", line 901, in dispatch_one_batch\n",
            "    self._dispatch(tasks)\n",
            "  File \"/usr/local/lib/python3.7/dist-packages/joblib/parallel.py\", line 819, in _dispatch\n",
            "    job = self._backend.apply_async(batch, callback=cb)\n",
            "  File \"/usr/local/lib/python3.7/dist-packages/joblib/_parallel_backends.py\", line 208, in apply_async\n",
            "    result = ImmediateResult(func)\n",
            "  File \"/usr/local/lib/python3.7/dist-packages/joblib/_parallel_backends.py\", line 597, in __init__\n",
            "    self.results = batch()\n",
            "  File \"/usr/local/lib/python3.7/dist-packages/joblib/parallel.py\", line 289, in __call__\n",
            "    for func, args, kwargs in self.items]\n",
            "  File \"/usr/local/lib/python3.7/dist-packages/joblib/parallel.py\", line 289, in <listcomp>\n",
            "    for func, args, kwargs in self.items]\n",
            "  File \"/usr/local/lib/python3.7/dist-packages/sklearn/utils/fixes.py\", line 216, in __call__\n",
            "    return self.function(*args, **kwargs)\n",
            "  File \"/usr/local/lib/python3.7/dist-packages/sklearn/ensemble/_forest.py\", line 185, in _parallel_build_trees\n",
            "    tree.fit(X, y, sample_weight=curr_sample_weight, check_input=False)\n",
            "  File \"/usr/local/lib/python3.7/dist-packages/sklearn/tree/_classes.py\", line 942, in fit\n",
            "    X_idx_sorted=X_idx_sorted,\n",
            "  File \"/usr/local/lib/python3.7/dist-packages/sklearn/tree/_classes.py\", line 305, in fit\n",
            "    if max_depth <= 0:\n",
            "TypeError: '<=' not supported between instances of 'str' and 'int'\n",
            "\n",
            "  warnings.warn(some_fits_failed_message, FitFailedWarning)\n",
            "/usr/local/lib/python3.7/dist-packages/sklearn/model_selection/_search.py:972: UserWarning: One or more of the test scores are non-finite: [nan nan nan nan nan nan nan nan nan  1.  1.  1.  1.  1.  1.  1.  1.  1.\n",
            "  1.  1.  1.  1.  1.  1.  1.  1.  1.  1.  1.  1.  1.  1.  1.  1.  1.  1.\n",
            "  1.  1.  1.  1.  1.  1.  1.  1.  1.  1.  1.  1.  1.  1.  1.  1.  1.  1.]\n",
            "  category=UserWarning,\n",
            "/usr/local/lib/python3.7/dist-packages/sklearn/model_selection/_search.py:972: UserWarning: One or more of the train scores are non-finite: [nan nan nan nan nan nan nan nan nan  1.  1.  1.  1.  1.  1.  1.  1.  1.\n",
            "  1.  1.  1.  1.  1.  1.  1.  1.  1.  1.  1.  1.  1.  1.  1.  1.  1.  1.\n",
            "  1.  1.  1.  1.  1.  1.  1.  1.  1.  1.  1.  1.  1.  1.  1.  1.  1.  1.]\n",
            "  category=UserWarning,\n"
          ]
        },
        {
          "output_type": "stream",
          "name": "stdout",
          "text": [
            "Mean performance metric = 1.000\n",
            "SDT of the metric       = 0.000\n",
            "Outcomes by cv fold\n",
            "Fold  1    1.000\n",
            "Fold  2    1.000\n",
            "Fold  3    1.000\n",
            "Fold  4    1.000\n",
            "Fold  5    1.000\n"
          ]
        }
      ]
    },
    {
      "cell_type": "code",
      "source": [
        "rf_clf = RandomForestClassifier(max_features = clf.best_estimator_.max_features,\n",
        "                  max_depth = clf.best_estimator_.max_depth, criterion='gini',\n",
        "                  class_weight = {0:55, 1:0.45}) \n",
        "rf_clf.fit(X_train, y_train)"
      ],
      "metadata": {
        "id": "M0AwPrAIEzE2",
        "colab": {
          "base_uri": "https://localhost:8080/"
        },
        "outputId": "067b7ef9-872f-4e00-8f20-f14237d191ef"
      },
      "execution_count": null,
      "outputs": [
        {
          "output_type": "execute_result",
          "data": {
            "text/plain": [
              "RandomForestClassifier(class_weight={0: 55, 1: 0.45}, max_depth=4)"
            ]
          },
          "metadata": {},
          "execution_count": 70
        }
      ]
    },
    {
      "cell_type": "code",
      "source": [
        "pred =rf_clf.predict(X_test)"
      ],
      "metadata": {
        "id": "hkSh-_4iEzHp"
      },
      "execution_count": null,
      "outputs": []
    },
    {
      "cell_type": "code",
      "source": [
        "def print_metrics(labels, scores):\n",
        "    metrics = sklm.precision_recall_fscore_support(labels, scores)\n",
        "    conf = sklm.confusion_matrix(labels, scores)\n",
        "    print('                 Confusion matrix')\n",
        "    print('                 Score positive    Score negative')\n",
        "    print('Actual positive    %6d' % conf[0,0] + '             %5d' % conf[0,1])\n",
        "    print('Actual negative    %6d' % conf[1,0] + '             %5d' % conf[1,1])\n",
        "    print('')\n",
        "    print('Accuracy        %0.2f' % sklm.accuracy_score(labels, scores))\n",
        "    print('F1 Score        %0.2f' % sklm.f1_score(labels, scores))\n",
        "    print('AUC             %0.2f' % sklm.roc_auc_score(labels, probs[:,1]))\n",
        "    print('Macro precision %0.2f' % float((float(metrics[0][0]) + float(metrics[0][1]))/2.0))\n",
        "    print('Macro recall    %0.2f' % float((float(metrics[1][0]) + float(metrics[1][1]))/2.0))\n",
        "    print(' ')\n",
        "    print('           Positive      Negative')\n",
        "    print('Num case   %6d' % metrics[3][0] + '        %6d' % metrics[3][1])\n",
        "    print('Precision  %6.2f' % metrics[0][0] + '        %6.2f' % metrics[0][1])\n",
        "    print('Recall     %6.2f' % metrics[1][0] + '        %6.2f' % metrics[1][1])\n",
        "    print('F1         %6.2f' % metrics[2][0] + '        %6.2f' % metrics[2][1])\n",
        "\n",
        "\n",
        "    \n",
        "print_metrics(y_test, pred)"
      ],
      "metadata": {
        "id": "Mm0xkddfEzJQ",
        "colab": {
          "base_uri": "https://localhost:8080/"
        },
        "outputId": "2e5241c9-108e-4690-be6e-9a698fcc0cf6"
      },
      "execution_count": null,
      "outputs": [
        {
          "output_type": "stream",
          "name": "stdout",
          "text": [
            "                 Confusion matrix\n",
            "                 Score positive    Score negative\n",
            "Actual positive     19861                 0\n",
            "Actual negative     12790             12364\n",
            "\n",
            "Accuracy        0.72\n",
            "F1 Score        0.66\n",
            "AUC             0.94\n",
            "Macro precision 0.80\n",
            "Macro recall    0.75\n",
            " \n",
            "           Positive      Negative\n",
            "Num case    19861         25154\n",
            "Precision    0.61          1.00\n",
            "Recall       1.00          0.49\n",
            "F1           0.76          0.66\n"
          ]
        }
      ]
    },
    {
      "cell_type": "code",
      "source": [
        "#probabilities\n",
        "probs = rf_clf.predict_proba(X_test)"
      ],
      "metadata": {
        "id": "mnFxxR1QEzKw"
      },
      "execution_count": null,
      "outputs": []
    },
    {
      "cell_type": "code",
      "source": [
        "def plot_auc(labels, probs):\n",
        "    ## Compute the false positive rate, true positive rate\n",
        "    ## and threshold along with the AUC\n",
        "    fpr, tpr, threshold = sklm.roc_curve(labels, probs[:,1])\n",
        "    auc = sklm.auc(fpr, tpr)\n",
        "    \n",
        "    ## Plot the result\n",
        "    plt.title('Receiver Operating Characteristic')\n",
        "    plt.plot(fpr, tpr, color = 'orange', label = 'AUC = %0.2f' % auc)\n",
        "    plt.legend(loc = 'lower right')\n",
        "    plt.plot([0, 1], [0, 1],'r--')\n",
        "    plt.xlim([0, 1])\n",
        "    plt.ylim([0, 1])\n",
        "    plt.ylabel('True Positive Rate')\n",
        "    plt.xlabel('False Positive Rate')\n",
        "    plt.show()\n",
        "    \n",
        "plot_auc(y_test, probs)"
      ],
      "metadata": {
        "id": "0IT9TF_sEzNr",
        "colab": {
          "base_uri": "https://localhost:8080/",
          "height": 295
        },
        "outputId": "cf343141-50e8-4fa5-9f8f-d452c01bce14"
      },
      "execution_count": null,
      "outputs": [
        {
          "output_type": "display_data",
          "data": {
            "text/plain": [
              "<Figure size 432x288 with 1 Axes>"
            ],
            "image/png": "[encoded data removed]"
          },
          "metadata": {
            "needs_background": "light"
          }
        }
      ]
    },
    {
      "cell_type": "code",
      "source": [
        "# This Model behave quite very good than other model without using feature selection, though it didnt out perform Decision tree model, so we can therefore decides to proceeds to train a random forest with some feature impotance and that should give us a better results because without feature selection we got a mice accuracy of 72% with auc of 0.94"
      ],
      "metadata": {
        "id": "GAJTKm3tEzPP"
      },
      "execution_count": null,
      "outputs": []
    },
    {
      "cell_type": "markdown",
      "source": [
        "# Gradient Boosting Classifier"
      ],
      "metadata": {
        "id": "j2wBpEV5KO5V"
      }
    },
    {
      "cell_type": "code",
      "source": [
        "X_train, X_test, y_train, y_test = train_test_split(x_new, y, test_size=0.45, random_state = 10)"
      ],
      "metadata": {
        "id": "evlP6I7UKQbK"
      },
      "execution_count": null,
      "outputs": []
    },
    {
      "cell_type": "code",
      "source": [
        "from sklearn.model_selection import GridSearchCV"
      ],
      "metadata": {
        "id": "lYOOZJY4dQQr"
      },
      "execution_count": null,
      "outputs": []
    },
    {
      "cell_type": "code",
      "source": [
        "# nr.seed(3456)\n",
        "\n",
        "parameters = {\n",
        "    \"loss\":[\"deviance\"],\n",
        "    \"learning_rate\": [0.01],\n",
        "    \"max_depth\":[3,5],\n",
        "    # \"max_features\":[\"log2\",\"sqrt\"],\n",
        "    # \"criterion\": [\"friedman_mse\",  \"mae\"]\n",
        "    }\n",
        "#passing the scoring function in the GridSearchCV\n",
        "gb_clf = GridSearchCV(GradientBoostingClassifier(), parameters,scoring='accuracy',refit=False, n_jobs=-1)\n",
        "\n",
        "gb_clf.fit(x_new, y)\n",
        "\n"
      ],
      "metadata": {
        "id": "B2mEw73-CcH0",
        "colab": {
          "base_uri": "https://localhost:8080/"
        },
        "outputId": "3de00372-9cef-484c-cf25-7c4986171685"
      },
      "execution_count": null,
      "outputs": [
        {
          "output_type": "execute_result",
          "data": {
            "text/plain": [
              "GridSearchCV(estimator=GradientBoostingClassifier(), n_jobs=-1,\n",
              "             param_grid={'learning_rate': [0.01], 'loss': ['deviance'],\n",
              "                         'max_depth': [3, 5]},\n",
              "             refit=False, scoring='accuracy')"
            ]
          },
          "metadata": {},
          "execution_count": 35
        }
      ]
    },
    {
      "cell_type": "code",
      "source": [
        "gb_clf.best_params_ "
      ],
      "metadata": {
        "colab": {
          "base_uri": "https://localhost:8080/"
        },
        "id": "I9qCt7k12-Ei",
        "outputId": "0a5f0a71-e8e1-4166-9730-cc54cda2867f"
      },
      "execution_count": null,
      "outputs": [
        {
          "output_type": "execute_result",
          "data": {
            "text/plain": [
              "{'learning_rate': 0.01, 'loss': 'deviance', 'max_depth': 3}"
            ]
          },
          "metadata": {},
          "execution_count": 36
        }
      ]
    },
    {
      "cell_type": "code",
      "source": [
        "gb_clf.best_score_"
      ],
      "metadata": {
        "colab": {
          "base_uri": "https://localhost:8080/"
        },
        "id": "Lvg0yV4Z2-GO",
        "outputId": "7988c3e8-bc65-47bb-90e2-ce745246a238"
      },
      "execution_count": null,
      "outputs": [
        {
          "output_type": "execute_result",
          "data": {
            "text/plain": [
              "0.9337311946816815"
            ]
          },
          "metadata": {},
          "execution_count": 37
        }
      ]
    },
    {
      "cell_type": "code",
      "source": [
        "g_clf = GradientBoostingClassifier(**gb_clf.best_params_)\n",
        "                                  # , criterion = 'mae', max_features= 'sqrt') \n",
        "g_clf.fit(X_train, y_train)"
      ],
      "metadata": {
        "colab": {
          "base_uri": "https://localhost:8080/"
        },
        "id": "kEvrff0v2-TG",
        "outputId": "a8e0d9d4-304d-4dbe-c276-f8c1a736850b"
      },
      "execution_count": null,
      "outputs": [
        {
          "output_type": "execute_result",
          "data": {
            "text/plain": [
              "GradientBoostingClassifier(learning_rate=0.01)"
            ]
          },
          "metadata": {},
          "execution_count": 38
        }
      ]
    },
    {
      "cell_type": "code",
      "source": [
        "pred =g_clf.predict(X_test)"
      ],
      "metadata": {
        "id": "MxnEH2vmIuR3"
      },
      "execution_count": null,
      "outputs": []
    },
    {
      "cell_type": "code",
      "source": [
        "#probabilities\n",
        "probs = g_clf.predict_proba(X_test)"
      ],
      "metadata": {
        "id": "Ts5LO0gBIuTP"
      },
      "execution_count": null,
      "outputs": []
    },
    {
      "cell_type": "code",
      "source": [
        "def print_metrics(labels, scores):\n",
        "    metrics = sklm.precision_recall_fscore_support(labels, scores)\n",
        "    conf = sklm.confusion_matrix(labels, scores)\n",
        "    print('                 Confusion matrix')\n",
        "    print('                 Score positive    Score negative')\n",
        "    print('Actual positive    %6d' % conf[0,0] + '             %5d' % conf[0,1])\n",
        "    print('Actual negative    %6d' % conf[1,0] + '             %5d' % conf[1,1])\n",
        "    print('')\n",
        "    print('Accuracy        %0.2f' % sklm.accuracy_score(labels, scores))\n",
        "    print('F1 Score        %0.2f' % sklm.f1_score(labels, scores))\n",
        "    print('AUC             %0.2f' % sklm.roc_auc_score(labels, probs[:,1]))\n",
        "    print('Macro precision %0.2f' % float((float(metrics[0][0]) + float(metrics[0][1]))/2.0))\n",
        "    print('Macro recall    %0.2f' % float((float(metrics[1][0]) + float(metrics[1][1]))/2.0))\n",
        "    print(' ')\n",
        "    print('           Positive      Negative')\n",
        "    print('Num case   %6d' % metrics[3][0] + '        %6d' % metrics[3][1])\n",
        "    print('Precision  %6.2f' % metrics[0][0] + '        %6.2f' % metrics[0][1])\n",
        "    print('Recall     %6.2f' % metrics[1][0] + '        %6.2f' % metrics[1][1])\n",
        "    print('F1         %6.2f' % metrics[2][0] + '        %6.2f' % metrics[2][1])\n",
        "\n",
        "\n",
        "    \n",
        "print_metrics(y_test, pred)"
      ],
      "metadata": {
        "id": "1FHs-wN8IuWb",
        "colab": {
          "base_uri": "https://localhost:8080/"
        },
        "outputId": "09191d1f-951c-413d-fc8b-862d003d4d03"
      },
      "execution_count": null,
      "outputs": [
        {
          "output_type": "stream",
          "name": "stdout",
          "text": [
            "                 Confusion matrix\n",
            "                 Score positive    Score negative\n",
            "Actual positive     16941              3006\n",
            "Actual negative         0             25068\n",
            "\n",
            "Accuracy        0.93\n",
            "F1 Score        0.94\n",
            "AUC             0.98\n",
            "Macro precision 0.95\n",
            "Macro recall    0.92\n",
            " \n",
            "           Positive      Negative\n",
            "Num case    19947         25068\n",
            "Precision    1.00          0.89\n",
            "Recall       0.85          1.00\n",
            "F1           0.92          0.94\n"
          ]
        }
      ]
    },
    {
      "cell_type": "code",
      "source": [
        "def plot_auc(labels, probs):\n",
        "    ## Compute the false positive rate, true positive rate\n",
        "    ## and threshold along with the AUC\n",
        "    fpr, tpr, threshold = sklm.roc_curve(labels, probs[:,1])\n",
        "    auc = sklm.auc(fpr, tpr)\n",
        "    \n",
        "    ## Plot the result\n",
        "    plt.title('Receiver Operating Characteristic')\n",
        "    plt.plot(fpr, tpr, color = 'orange', label = 'AUC = %0.2f' % auc)\n",
        "    plt.legend(loc = 'lower right')\n",
        "    plt.plot([0, 1], [0, 1],'r--')\n",
        "    plt.xlim([0, 1])\n",
        "    plt.ylim([0, 1])\n",
        "    plt.ylabel('True Positive Rate')\n",
        "    plt.xlabel('False Positive Rate')\n",
        "    plt.show()\n",
        "    \n",
        "plot_auc(y_test, probs) "
      ],
      "metadata": {
        "id": "HlguAAFmIuYW"
      },
      "execution_count": null,
      "outputs": []
    },
    {
      "cell_type": "code",
      "source": [
        "# Gradient Boosting algorithm gave a good accuray probably cos it is a variants of ensemble method and it was able to minimize bias error of the model.Since our datset is large and Gradient Boosting  works well with large datasets. We can see that Gradient Boosting Classifier and Bagging method with Decision Tree classifier below gave the same results of 93% accuracy. we can then say this is cos Gradient Boosting classifier has a fixed base estimator i.e a fixed decision tree just the same way the bagging method with DT classifier has a fixed base estimator unlike the Bagging methpod with Naive bayes classifier that gave a very fairly accuracy performance.   "
      ],
      "metadata": {
        "id": "eNXREA3_B8ta"
      },
      "execution_count": null,
      "outputs": []
    },
    {
      "cell_type": "markdown",
      "source": [
        "# BAGGING CLASSIFIER WITH DECISION TREEE"
      ],
      "metadata": {
        "id": "rr-of4CD4yMh"
      }
    },
    {
      "cell_type": "code",
      "source": [
        "x_new= scaler.fit_transform(new_fea)#Using highly correlated featues gooten through correlation\n",
        "X_train, X_test, y_train, y_test = train_test_split(x_new, y, test_size=0.45, random_state = 1000)"
      ],
      "metadata": {
        "id": "Z7RC0Oxy5Zjg"
      },
      "execution_count": null,
      "outputs": []
    },
    {
      "cell_type": "code",
      "source": [
        "from sklearn.ensemble import BaggingClassifier\n",
        "from sklearn.tree import DecisionTreeClassifier\n",
        "from sklearn import tree"
      ],
      "metadata": {
        "id": "U5UBPaTC4xBo"
      },
      "execution_count": null,
      "outputs": []
    },
    {
      "cell_type": "code",
      "source": [
        "model = BaggingClassifier(tree.DecisionTreeClassifier(random_state=1))\n",
        "model.fit(X_train, y_train)\n"
      ],
      "metadata": {
        "id": "bGblQCjb4xDR",
        "colab": {
          "base_uri": "https://localhost:8080/"
        },
        "outputId": "aa4f534b-6ffc-43ed-f61c-28f8faa32b5f"
      },
      "execution_count": null,
      "outputs": [
        {
          "output_type": "execute_result",
          "data": {
            "text/plain": [
              "BaggingClassifier(base_estimator=DecisionTreeClassifier(random_state=1))"
            ]
          },
          "metadata": {},
          "execution_count": 33
        }
      ]
    },
    {
      "cell_type": "code",
      "source": [
        "pred =model.predict(X_test)"
      ],
      "metadata": {
        "id": "-4urlbYG4xGX"
      },
      "execution_count": null,
      "outputs": []
    },
    {
      "cell_type": "code",
      "source": [
        "#probabilities\n",
        "probs = model.predict_proba(X_test)"
      ],
      "metadata": {
        "id": "vAo71Jye4xH4"
      },
      "execution_count": null,
      "outputs": []
    },
    {
      "cell_type": "code",
      "source": [
        "def print_metrics(labels, scores):\n",
        "    metrics = sklm.precision_recall_fscore_support(labels, scores)\n",
        "    conf = sklm.confusion_matrix(labels, scores)\n",
        "    print('                 Confusion matrix')\n",
        "    print('                 Score positive    Score negative')\n",
        "    print('Actual positive    %6d' % conf[0,0] + '             %5d' % conf[0,1])\n",
        "    print('Actual negative    %6d' % conf[1,0] + '             %5d' % conf[1,1])\n",
        "    print('')\n",
        "    print('Accuracy        %0.2f' % sklm.accuracy_score(labels, scores))\n",
        "    print('F1 Score        %0.2f' % sklm.f1_score(labels, scores))\n",
        "    print('AUC             %0.2f' % sklm.roc_auc_score(labels, probs[:,1]))\n",
        "    print('Macro precision %0.2f' % float((float(metrics[0][0]) + float(metrics[0][1]))/2.0))\n",
        "    print('Macro recall    %0.2f' % float((float(metrics[1][0]) + float(metrics[1][1]))/2.0))\n",
        "    print(' ')\n",
        "    print('           Positive      Negative')\n",
        "    print('Num case   %6d' % metrics[3][0] + '        %6d' % metrics[3][1])\n",
        "    print('Precision  %6.2f' % metrics[0][0] + '        %6.2f' % metrics[0][1])\n",
        "    print('Recall     %6.2f' % metrics[1][0] + '        %6.2f' % metrics[1][1])\n",
        "    print('F1         %6.2f' % metrics[2][0] + '        %6.2f' % metrics[2][1])\n",
        "\n",
        "\n",
        "    \n",
        "print_metrics(y_test, pred)"
      ],
      "metadata": {
        "id": "L5mWFy9E7EfA",
        "colab": {
          "base_uri": "https://localhost:8080/"
        },
        "outputId": "caca646c-5f5c-4e1b-8b4f-536c075eb3da"
      },
      "execution_count": null,
      "outputs": [
        {
          "output_type": "stream",
          "name": "stdout",
          "text": [
            "                 Confusion matrix\n",
            "                 Score positive    Score negative\n",
            "Actual positive     17868              1935\n",
            "Actual negative      1216             23996\n",
            "\n",
            "Accuracy        0.93\n",
            "F1 Score        0.94\n",
            "AUC             0.98\n",
            "Macro precision 0.93\n",
            "Macro recall    0.93\n",
            " \n",
            "           Positive      Negative\n",
            "Num case    19803         25212\n",
            "Precision    0.94          0.93\n",
            "Recall       0.90          0.95\n",
            "F1           0.92          0.94\n"
          ]
        }
      ]
    },
    {
      "cell_type": "code",
      "source": [
        "def plot_auc(labels, probs):\n",
        "    ## Compute the false positive rate, true positive rate\n",
        "    ## and threshold along with the AUC\n",
        "    fpr, tpr, threshold = sklm.roc_curve(labels, probs[:,1])\n",
        "    auc = sklm.auc(fpr, tpr)\n",
        "    \n",
        "    ## Plot the result\n",
        "    plt.title('Receiver Operating Characteristic')\n",
        "    plt.plot(fpr, tpr, color = 'orange', label = 'AUC = %0.2f' % auc)\n",
        "    plt.legend(loc = 'lower right')\n",
        "    plt.plot([0, 1], [0, 1],'r--')\n",
        "    plt.xlim([0, 1])\n",
        "    plt.ylim([0, 1])\n",
        "    plt.ylabel('True Positive Rate')\n",
        "    plt.xlabel('False Positive Rate')\n",
        "    plt.show()\n",
        "    \n",
        "plot_auc(y_test, probs) "
      ],
      "metadata": {
        "id": "z3h7JN717EgY",
        "colab": {
          "base_uri": "https://localhost:8080/",
          "height": 295
        },
        "outputId": "1827e4e3-5f16-4854-8563-378f147f333a"
      },
      "execution_count": null,
      "outputs": [
        {
          "output_type": "display_data",
          "data": {
            "text/plain": [
              "<Figure size 432x288 with 1 Axes>"
            ],
            "image/png": "[encoded data removed]"
          },
          "metadata": {
            "needs_background": "light"
          }
        }
      ]
    },
    {
      "cell_type": "code",
      "source": [
        "# This Model perform very well than Decision tree model. This has an accuracy of 93% cpompare to decision tree that has 86%.\n",
        "#We can see that all other metrics in this model is very ok and good.\n",
        "# This could be cos of the working nature of bagging algorithm that works with an ensemble technique mechanism"
      ],
      "metadata": {
        "id": "smB3yM4RvMPd"
      },
      "execution_count": null,
      "outputs": []
    },
    {
      "cell_type": "code",
      "source": [],
      "metadata": {
        "id": "Ng83kAuqvM0E"
      },
      "execution_count": null,
      "outputs": []
    },
    {
      "cell_type": "markdown",
      "source": [
        "# BAGGING CLASSIFIER WITH NAIVE BAYES"
      ],
      "metadata": {
        "id": "FpJTx-K37Sbx"
      }
    },
    {
      "cell_type": "code",
      "source": [
        "x_new= scaler.fit_transform(new_fea)\n",
        "X_train, X_test, y_train, y_test = train_test_split(x_new, y, test_size=0.45, random_state = 1000)"
      ],
      "metadata": {
        "id": "j1BNquYA7Ejb"
      },
      "execution_count": null,
      "outputs": []
    },
    {
      "cell_type": "code",
      "source": [
        "from sklearn.naive_bayes import GaussianNB"
      ],
      "metadata": {
        "id": "YRC9eIaNy8Qx"
      },
      "execution_count": null,
      "outputs": []
    },
    {
      "cell_type": "code",
      "source": [
        "model = BaggingClassifier(GaussianNB(var_smoothing=8e-9))\n",
        "model.fit(X_train, y_train)"
      ],
      "metadata": {
        "id": "0mFnfxWC7Ekz",
        "colab": {
          "base_uri": "https://localhost:8080/"
        },
        "outputId": "5451a332-d2fd-422d-8828-2fe4861fa10f"
      },
      "execution_count": null,
      "outputs": [
        {
          "output_type": "execute_result",
          "data": {
            "text/plain": [
              "BaggingClassifier(base_estimator=GaussianNB(var_smoothing=8e-09))"
            ]
          },
          "metadata": {},
          "execution_count": 62
        }
      ]
    },
    {
      "cell_type": "code",
      "source": [
        "pred =model.predict(X_test)"
      ],
      "metadata": {
        "id": "_XXIV34X7EoT"
      },
      "execution_count": null,
      "outputs": []
    },
    {
      "cell_type": "code",
      "source": [
        "#probabilities\n",
        "probs = model.predict_proba(X_test)"
      ],
      "metadata": {
        "id": "SVXde34t7Ep6"
      },
      "execution_count": null,
      "outputs": []
    },
    {
      "cell_type": "code",
      "source": [
        "print_metrics(y_test, pred)"
      ],
      "metadata": {
        "id": "IdC9MwXw7EtV",
        "colab": {
          "base_uri": "https://localhost:8080/"
        },
        "outputId": "1bbcc751-faba-471b-b6d8-7bbd7cbcfc29"
      },
      "execution_count": null,
      "outputs": [
        {
          "output_type": "stream",
          "name": "stdout",
          "text": [
            "                 Confusion matrix\n",
            "                 Score positive    Score negative\n",
            "Actual positive     11597              8206\n",
            "Actual negative      9507             15705\n",
            "\n",
            "Accuracy        0.61\n",
            "F1 Score        0.64\n",
            "AUC             0.65\n",
            "Macro precision 0.60\n",
            "Macro recall    0.60\n",
            " \n",
            "           Positive      Negative\n",
            "Num case    19803         25212\n",
            "Precision    0.55          0.66\n",
            "Recall       0.59          0.62\n",
            "F1           0.57          0.64\n"
          ]
        }
      ]
    },
    {
      "cell_type": "code",
      "source": [
        "plot_auc(y_test, probs)"
      ],
      "metadata": {
        "id": "X7l9xUvi7Eux",
        "colab": {
          "base_uri": "https://localhost:8080/",
          "height": 295
        },
        "outputId": "bfc74089-9a21-4c14-d429-75bb53b9bb6a"
      },
      "execution_count": null,
      "outputs": [
        {
          "output_type": "display_data",
          "data": {
            "text/plain": [
              "<Figure size 432x288 with 1 Axes>"
            ],
            "image/png": "[encoded data removed]"
          },
          "metadata": {
            "needs_background": "light"
          }
        }
      ]
    },
    {
      "cell_type": "code",
      "source": [
        "# This didnt perform like the bagging alorith with decision tree. Obviously Decision tree actually improved the performance of the bagging algorithm"
      ],
      "metadata": {
        "id": "EHS2nYjh7xuS"
      },
      "execution_count": null,
      "outputs": []
    },
    {
      "cell_type": "markdown",
      "source": [
        "# ADABOOST"
      ],
      "metadata": {
        "id": "V69xczUt71NO"
      }
    },
    {
      "cell_type": "code",
      "source": [
        "from sklearn.tree import DecisionTreeClassifier\n",
        "from sklearn.ensemble import AdaBoostClassifier\n",
        "from sklearn.model_selection import GridSearchCV"
      ],
      "metadata": {
        "id": "zaSDPgL47xv6"
      },
      "execution_count": null,
      "outputs": []
    },
    {
      "cell_type": "code",
      "source": [
        "x_new= scaler.fit_transform(new_fea)\n",
        "X_train, X_test, y_train, y_test = train_test_split(x_new, y, test_size=0.45, random_state = 1000)"
      ],
      "metadata": {
        "id": "VWmmUo2C0nLU"
      },
      "execution_count": null,
      "outputs": []
    },
    {
      "cell_type": "code",
      "source": [
        "# X_train, X_test, y_train, y_test = train_test_split(x_scaled, y, test_size=0.45, random_state = 1000)"
      ],
      "metadata": {
        "id": "lfmBcUq60sel"
      },
      "execution_count": null,
      "outputs": []
    },
    {
      "cell_type": "code",
      "source": [
        "param_grid = {\"base_estimator__criterion\" : [\"gini\", \"entropy\"],\n",
        "              \"base_estimator__splitter\" :   [\"best\", \"random\"],\n",
        "              \"n_estimators\": [1, 2,3,5]\n",
        "             }"
      ],
      "metadata": {
        "id": "3AjKA7U08IDw"
      },
      "execution_count": null,
      "outputs": []
    },
    {
      "cell_type": "code",
      "source": [
        "DTC = DecisionTreeClassifier(random_state = 1000, max_features = 'auto', class_weight = {0:55, 1:0.45}, max_depth = 15)\n",
        "\n",
        "ABC = AdaBoostClassifier(base_estimator = DTC)\n",
        "\n",
        "# run grid search\n",
        "grid_search_ABC = GridSearchCV(ABC, param_grid=param_grid, scoring = 'accuracy')\n"
      ],
      "metadata": {
        "id": "pjJneGr28IFK"
      },
      "execution_count": null,
      "outputs": []
    },
    {
      "cell_type": "markdown",
      "source": [],
      "metadata": {
        "id": "piyT0BzbHqJ2"
      }
    },
    {
      "cell_type": "code",
      "source": [
        "grid_search_ABC.fit(x_new, y)"
      ],
      "metadata": {
        "id": "dadyCEvB8IIg",
        "colab": {
          "base_uri": "https://localhost:8080/"
        },
        "outputId": "06fe123d-be9f-47b4-9b55-6fad86e3b168"
      },
      "execution_count": null,
      "outputs": [
        {
          "output_type": "execute_result",
          "data": {
            "text/plain": [
              "GridSearchCV(estimator=AdaBoostClassifier(base_estimator=DecisionTreeClassifier(class_weight={0: 55,\n",
              "                                                                                              1: 0.45},\n",
              "                                                                                max_depth=15,\n",
              "                                                                                max_features='auto',\n",
              "                                                                                random_state=1000)),\n",
              "             param_grid={'base_estimator__criterion': ['gini', 'entropy'],\n",
              "                         'base_estimator__splitter': ['best', 'random'],\n",
              "                         'n_estimators': [1, 2, 3, 5]},\n",
              "             scoring='accuracy')"
            ]
          },
          "metadata": {},
          "execution_count": 230
        }
      ]
    },
    {
      "cell_type": "code",
      "source": [
        "pred =grid_search_ABC.predict(X_test)"
      ],
      "metadata": {
        "id": "paJmkny08IKC"
      },
      "execution_count": null,
      "outputs": []
    },
    {
      "cell_type": "code",
      "source": [
        "#probabilities\n",
        "probs =grid_search_ABC.predict_proba(X_test)"
      ],
      "metadata": {
        "id": "lHwN9x1B8INP"
      },
      "execution_count": null,
      "outputs": []
    },
    {
      "cell_type": "code",
      "source": [
        "print_metrics(y_test, pred)"
      ],
      "metadata": {
        "id": "bnOft3l18IOw",
        "colab": {
          "base_uri": "https://localhost:8080/"
        },
        "outputId": "9c13ee0e-83c4-4d90-b2c4-f89ce518ee8d"
      },
      "execution_count": null,
      "outputs": [
        {
          "output_type": "stream",
          "name": "stdout",
          "text": [
            "                 Confusion matrix\n",
            "                 Score positive    Score negative\n",
            "Actual positive     19803                 0\n",
            "Actual negative      2147             23065\n",
            "\n",
            "Accuracy        0.95\n",
            "F1 Score        0.96\n",
            "AUC             1.00\n",
            "Macro precision 0.95\n",
            "Macro recall    0.96\n",
            " \n",
            "           Positive      Negative\n",
            "Num case    19803         25212\n",
            "Precision    0.90          1.00\n",
            "Recall       1.00          0.91\n",
            "F1           0.95          0.96\n"
          ]
        }
      ]
    },
    {
      "cell_type": "code",
      "source": [
        "plot_auc(y_test, probs)"
      ],
      "metadata": {
        "id": "uVuLUC2c8ISO",
        "colab": {
          "base_uri": "https://localhost:8080/",
          "height": 295
        },
        "outputId": "d13ddaf5-1eee-4ad9-c089-9bc741a8e2d9"
      },
      "execution_count": null,
      "outputs": [
        {
          "output_type": "display_data",
          "data": {
            "text/plain": [
              "<Figure size 432x288 with 1 Axes>"
            ],
            "image/png": "[encoded data removed]"
          },
          "metadata": {
            "needs_background": "light"
          }
        }
      ]
    },
    {
      "cell_type": "code",
      "source": [
        "# Among these classifiers, Adaboost perform very well than any of the models by doing feature selection and also doing grid search hyper parameters"
      ],
      "metadata": {
        "id": "EYxIM4w_8ITn"
      },
      "execution_count": null,
      "outputs": []
    },
    {
      "cell_type": "code",
      "source": [],
      "metadata": {
        "id": "KDJOeA6v7xzr"
      },
      "execution_count": null,
      "outputs": []
    },
    {
      "cell_type": "markdown",
      "source": [
        "# MY CHOSEN MODEL CATBOOST CLASSIFIER"
      ],
      "metadata": {
        "id": "l795gvY99lMW"
      }
    },
    {
      "cell_type": "code",
      "source": [
        "x_new= scaler.fit_transform(new_fea)\n",
        "X_train, X_test, y_train, y_test = train_test_split(x_new, y, test_size=0.45, random_state = 1000)"
      ],
      "metadata": {
        "id": "kRJs2ZxE-lXF"
      },
      "execution_count": null,
      "outputs": []
    },
    {
      "cell_type": "code",
      "source": [
        "from xgboost import XGBClassifier"
      ],
      "metadata": {
        "id": "gLT-jCdG-5Kr"
      },
      "execution_count": null,
      "outputs": []
    },
    {
      "cell_type": "code",
      "source": [
        "#Testing XGBCLASSIFIER\n",
        "model = XGBClassifier(scale_pos_weight = 8,max_depth = 8, n_estimators = 500)\n",
        "model.fit(X_train, y_train)\n",
        "prediction = model.predict(X_test)\n",
        "\n",
        "print(f1_score(prediction, y_test))"
      ],
      "metadata": {
        "id": "aemwNWIPB8uv",
        "colab": {
          "base_uri": "https://localhost:8080/"
        },
        "outputId": "27de0333-1801-4cca-92fb-e460b46b6b3f"
      },
      "execution_count": null,
      "outputs": [
        {
          "output_type": "stream",
          "name": "stdout",
          "text": [
            "0.9511479567694432\n"
          ]
        }
      ]
    },
    {
      "cell_type": "code",
      "source": [
        "#probabilities\n",
        "probs =model.predict_proba(X_test)"
      ],
      "metadata": {
        "id": "kZHhXbUR_Mau"
      },
      "execution_count": null,
      "outputs": []
    },
    {
      "cell_type": "code",
      "source": [
        "print_metrics(y_test, prediction)"
      ],
      "metadata": {
        "colab": {
          "base_uri": "https://localhost:8080/"
        },
        "id": "cObsOTpC_Zoz",
        "outputId": "1c9825a7-33d0-40f4-a94c-9ebf17d3092c"
      },
      "execution_count": null,
      "outputs": [
        {
          "output_type": "stream",
          "name": "stdout",
          "text": [
            "                 Confusion matrix\n",
            "                 Score positive    Score negative\n",
            "Actual positive     17308              2495\n",
            "Actual negative        86             25126\n",
            "\n",
            "Accuracy        0.94\n",
            "F1 Score        0.95\n",
            "AUC             0.99\n",
            "Macro precision 0.95\n",
            "Macro recall    0.94\n",
            " \n",
            "           Positive      Negative\n",
            "Num case    19803         25212\n",
            "Precision    1.00          0.91\n",
            "Recall       0.87          1.00\n",
            "F1           0.93          0.95\n"
          ]
        }
      ]
    },
    {
      "cell_type": "code",
      "source": [
        "plot_auc(y_test, probs)"
      ],
      "metadata": {
        "colab": {
          "base_uri": "https://localhost:8080/",
          "height": 295
        },
        "id": "Wsu6AUIE_ZrA",
        "outputId": "61196f71-82a1-4f9c-b943-a623d34808f4"
      },
      "execution_count": null,
      "outputs": [
        {
          "output_type": "display_data",
          "data": {
            "text/plain": [
              "<Figure size 432x288 with 1 Axes>"
            ],
            "image/png": "[encoded data removed]"
          },
          "metadata": {
            "needs_background": "light"
          }
        }
      ]
    },
    {
      "cell_type": "code",
      "source": [
        "# XGBClassifier Perform relatively good as well with good metrics  "
      ],
      "metadata": {
        "id": "V89afKFC8u79"
      },
      "execution_count": null,
      "outputs": []
    },
    {
      "cell_type": "markdown",
      "source": [
        "# ENSEMBLING TECHNIQUES"
      ],
      "metadata": {
        "id": "HmI9FVU9APj8"
      }
    },
    {
      "cell_type": "code",
      "source": [
        "x_new= scaler.fit_transform(new_fea)\n",
        "X_train, X_test, y_train, y_test = train_test_split(x_new, y, test_size=0.45, random_state = 1000)"
      ],
      "metadata": {
        "id": "yB1qHjQYESsL"
      },
      "execution_count": null,
      "outputs": []
    },
    {
      "cell_type": "code",
      "source": [
        "from sklearn.pipeline import make_pipeline\n",
        "from sklearn.ensemble import StackingClassifier, VotingClassifier\n",
        "from sklearn.neural_network import MLPClassifier\n",
        "from sklearn.neighbors import KNeighborsClassifier\n",
        "from sklearn.discriminant_analysis import QuadraticDiscriminantAnalysis \n"
      ],
      "metadata": {
        "id": "aVyUqahNHMk6"
      },
      "execution_count": null,
      "outputs": []
    },
    {
      "cell_type": "code",
      "source": [
        "scaler = StandardScaler()\n",
        "#ann = make_pipeline(scaler, MLPClassifier(solver='lbfgs',max_iter=4))\n",
        "lr = make_pipeline(scaler, LogisticRegression())\n",
        "kNN = make_pipeline(scaler, KNeighborsClassifier(n_neighbors=3))\n",
        "dtree = DecisionTreeClassifier(criterion='entropy')\n",
        "gnb = make_pipeline(scaler, GaussianNB())\n",
        "svc = make_pipeline(scaler, SVC())\n",
        "qda = make_pipeline(scaler, QuadraticDiscriminantAnalysis())\n",
        "\n",
        "# format required for sklearn stacking\n",
        "estimator_tups = [('kNN',kNN),('dtree', dtree),('gnb',gnb),\n",
        "                  ('lr',lr), ('SVC', svc), ('QDA', qda)]"
      ],
      "metadata": {
        "id": "UF6BHZxWAUkz"
      },
      "execution_count": null,
      "outputs": []
    },
    {
      "cell_type": "code",
      "source": [
        "Ensemble = VotingClassifier(estimators=estimator_tups)"
      ],
      "metadata": {
        "id": "P4Mu6WyaJOYR"
      },
      "execution_count": null,
      "outputs": []
    },
    {
      "cell_type": "code",
      "source": [],
      "metadata": {
        "id": "4itPPGvlMLAU"
      },
      "execution_count": null,
      "outputs": []
    },
    {
      "cell_type": "code",
      "source": [
        "for clf, label in zip([lr, kNN, dtree,gnb,svc,qda], ['Logistic Regression', 'kNN', 'dtree', 'gnb','svc','qda','Ensemble']):\n",
        "  scores = cross_val_score(clf, x_new, y, scoring='accuracy', cv=2)\n",
        "  print(\"Accuracy: %0.2f (+/- %0.2f) [%s]\" % (scores.mean(), scores.std(), label))\n"
      ],
      "metadata": {
        "id": "xgty1q51KXjy",
        "colab": {
          "base_uri": "https://localhost:8080/"
        },
        "outputId": "700c6981-36bd-4de9-b09b-b97efb082289"
      },
      "execution_count": null,
      "outputs": [
        {
          "output_type": "stream",
          "name": "stdout",
          "text": [
            "Accuracy: 0.55 (+/- 0.00) [Logistic Regression]\n",
            "Accuracy: 0.61 (+/- 0.00) [kNN]\n",
            "Accuracy: 0.93 (+/- 0.00) [dtree]\n",
            "Accuracy: 0.61 (+/- 0.01) [gnb]\n",
            "Accuracy: 0.62 (+/- 0.00) [svc]\n"
          ]
        },
        {
          "output_type": "stream",
          "name": "stderr",
          "text": [
            "/usr/local/lib/python3.7/dist-packages/sklearn/discriminant_analysis.py:878: UserWarning: Variables are collinear\n",
            "  warnings.warn(\"Variables are collinear\")\n",
            "/usr/local/lib/python3.7/dist-packages/sklearn/discriminant_analysis.py:878: UserWarning: Variables are collinear\n",
            "  warnings.warn(\"Variables are collinear\")\n"
          ]
        },
        {
          "output_type": "stream",
          "name": "stdout",
          "text": [
            "Accuracy: 0.54 (+/- 0.01) [qda]\n"
          ]
        }
      ]
    },
    {
      "cell_type": "code",
      "source": [],
      "metadata": {
        "id": "PS9WIgyOBQZf"
      },
      "execution_count": null,
      "outputs": []
    },
    {
      "cell_type": "code",
      "source": [
        "Ensemble.fit(x_new, y)"
      ],
      "metadata": {
        "id": "zydVQDghMNoG",
        "colab": {
          "base_uri": "https://localhost:8080/"
        },
        "outputId": "74e9cf8c-2e5e-44e4-c41d-ff6466fa4281"
      },
      "execution_count": null,
      "outputs": [
        {
          "output_type": "stream",
          "name": "stderr",
          "text": [
            "/usr/local/lib/python3.7/dist-packages/sklearn/discriminant_analysis.py:878: UserWarning: Variables are collinear\n",
            "  warnings.warn(\"Variables are collinear\")\n"
          ]
        },
        {
          "output_type": "execute_result",
          "data": {
            "text/plain": [
              "VotingClassifier(estimators=[('kNN',\n",
              "                              Pipeline(steps=[('standardscaler',\n",
              "                                               StandardScaler()),\n",
              "                                              ('kneighborsclassifier',\n",
              "                                               KNeighborsClassifier(n_neighbors=3))])),\n",
              "                             ('dtree',\n",
              "                              DecisionTreeClassifier(criterion='entropy')),\n",
              "                             ('gnb',\n",
              "                              Pipeline(steps=[('standardscaler',\n",
              "                                               StandardScaler()),\n",
              "                                              ('gaussiannb', GaussianNB())])),\n",
              "                             ('lr',\n",
              "                              Pipeline(steps=[('standardscaler',\n",
              "                                               StandardScaler()),\n",
              "                                              ('logisticregression',\n",
              "                                               LogisticRegression())])),\n",
              "                             ('SVC',\n",
              "                              Pipeline(steps=[('standardscaler',\n",
              "                                               StandardScaler()),\n",
              "                                              ('svc', SVC())])),\n",
              "                             ('QDA',\n",
              "                              Pipeline(steps=[('standardscaler',\n",
              "                                               StandardScaler()),\n",
              "                                              ('quadraticdiscriminantanalysis',\n",
              "                                               QuadraticDiscriminantAnalysis())]))])"
            ]
          },
          "metadata": {},
          "execution_count": 26
        }
      ]
    },
    {
      "cell_type": "code",
      "source": [
        "preds=Ensemble.predict(X_test)"
      ],
      "metadata": {
        "id": "_ZKaQdb4MoZn"
      },
      "execution_count": null,
      "outputs": []
    },
    {
      "cell_type": "code",
      "source": [
        "# #probabilities\n",
        "# probs =Ensemble.predict_proba(X_test)"
      ],
      "metadata": {
        "id": "MjC-v-DVAUmn"
      },
      "execution_count": null,
      "outputs": []
    },
    {
      "cell_type": "code",
      "source": [
        "def print_metrics(labels, scores):\n",
        "    metrics = sklm.precision_recall_fscore_support(labels, scores)\n",
        "    conf = sklm.confusion_matrix(labels, scores)\n",
        "    print('                 Confusion matrix')\n",
        "    print('                 Score positive    Score negative')\n",
        "    print('Actual positive    %6d' % conf[0,0] + '             %5d' % conf[0,1])\n",
        "    print('Actual negative    %6d' % conf[1,0] + '             %5d' % conf[1,1])\n",
        "    print('')\n",
        "    print('Accuracy        %0.2f' % sklm.accuracy_score(labels, scores))\n",
        "    print('F1 Score        %0.2f' % sklm.f1_score(labels, scores))\n",
        "    # print('AUC             %0.2f' % sklm.roc_auc_score(labels, probs[:,1]))\n",
        "    print('Macro precision %0.2f' % float((float(metrics[0][0]) + float(metrics[0][1]))/2.0))\n",
        "    print('Macro recall    %0.2f' % float((float(metrics[1][0]) + float(metrics[1][1]))/2.0))\n",
        "    print(' ')\n",
        "    print('           Positive      Negative')\n",
        "    print('Num case   %6d' % metrics[3][0] + '        %6d' % metrics[3][1])\n",
        "    print('Precision  %6.2f' % metrics[0][0] + '        %6.2f' % metrics[0][1])\n",
        "    print('Recall     %6.2f' % metrics[1][0] + '        %6.2f' % metrics[1][1])\n",
        "    print('F1         %6.2f' % metrics[2][0] + '        %6.2f' % metrics[2][1])\n",
        "\n",
        "\n",
        "    \n",
        "print_metrics(y_test, preds)"
      ],
      "metadata": {
        "id": "XzezRQ8sAUpX",
        "colab": {
          "base_uri": "https://localhost:8080/"
        },
        "outputId": "33e227b0-8a32-4ef3-8565-8694cb1b38be"
      },
      "execution_count": null,
      "outputs": [
        {
          "output_type": "stream",
          "name": "stdout",
          "text": [
            "                 Confusion matrix\n",
            "                 Score positive    Score negative\n",
            "Actual positive     18740              1194\n",
            "Actual negative      9682             15399\n",
            "\n",
            "Accuracy        0.76\n",
            "F1 Score        0.74\n",
            "Macro precision 0.79\n",
            "Macro recall    0.78\n",
            " \n",
            "           Positive      Negative\n",
            "Num case    19934         25081\n",
            "Precision    0.66          0.93\n",
            "Recall       0.94          0.61\n",
            "F1           0.78          0.74\n"
          ]
        }
      ]
    },
    {
      "cell_type": "code",
      "source": [
        "plot_auc(y_test, probs)"
      ],
      "metadata": {
        "id": "PMHDzU6rAUrX"
      },
      "execution_count": null,
      "outputs": []
    },
    {
      "cell_type": "code",
      "source": [
        "# Ensembling Method seems to perform well by reducing model possibilities of bias with an acuuracy of 76% though the precision of 1 is quite low definietely there is a litle error in classification of 1"
      ],
      "metadata": {
        "id": "YpiSAWdcAUul"
      },
      "execution_count": null,
      "outputs": []
    },
    {
      "cell_type": "code",
      "source": [],
      "metadata": {
        "id": "wptT4NdaAU2Y"
      },
      "execution_count": null,
      "outputs": []
    },
    {
      "cell_type": "markdown",
      "source": [
        "# COMPARING MODELS METRICS"
      ],
      "metadata": {
        "id": "FzIuPOCJJ9EB"
      }
    },
    {
      "cell_type": "code",
      "source": [],
      "metadata": {
        "id": "nRhjqPc8B85J"
      },
      "execution_count": null,
      "outputs": []
    },
    {
      "cell_type": "code",
      "source": [
        "models_metrics = {'Liner SVM': [0.67, 0.73, 0.70,0.67,0.83],\n",
        "                'RBF SVM': [1.0, 1.0, 1.0, 1.0,1.0],\n",
        "                 'Poly SVM': [0.73, 0.77, 0.75, 0.73,0.84],\n",
        "                 'Logistic Reg': [0.55, 0.56, 0.56, 0.55,0.58],\n",
        "                 'Gaussian NB': [0.58, 0.57, 0.61, 0.61,0.66],\n",
        "                 'Bernoulli NB': [0.58, 0.57, 0.56, 0.55,0.60],\n",
        "                 'Decision Tree': [0.86, 0.88, 0.87, 0.86,0.94],\n",
        "                 'Random Forest': [0.72, 0.80, 0.75, 0.66,0.94],\n",
        "                 'Gradient Boosting': [0.93, 0.95, 0.92, 0.94,0.98],\n",
        "                 'Bagging Classifier Dtree': [0.93, 0.93, 0.93, 0.94,0.98],\n",
        "                 'Bagging Classifier NB': [0.61, 0.60, 0.60, 0.64,0.65],\n",
        "                 'AdaBoosting': [0.95, 0.95, 0.96, 0.96,1.0],\n",
        "                 'XGBClassifier' : [0.94, 0.95, 0.94, 0.95,0.99]\n",
        "                }\n",
        "df = pd.DataFrame(data = models_metrics)\n",
        "df.rename(index={0:'Accuracy',1:'Precision', 2: 'Recall', 3: 'F1-Score', 4: 'ROC'}, \n",
        "                 inplace=True)\n",
        "print(df)\n",
        "df.plot(kind='barh', figsize = (15,10), ylim = (0.94, 1), \n",
        "        color = ['gold', 'lightgreen', 'lightcoral', 'lightskyblue','yellow', 'green','black','purple','pink','orange','blue','violet','red'],\n",
        "        rot = 0, title ='Models performance (cross val mean)',\n",
        "        edgecolor = 'grey', alpha = 0.5)\n",
        "#for p in ax.patches:\n",
        "    #ax.annotate(str(p.get_height()), (p.get_x() * 1.01, p.get_height() * 1.0005))\n",
        "plt.show()"
      ],
      "metadata": {
        "colab": {
          "base_uri": "https://localhost:8080/",
          "height": 1000
        },
        "id": "ORuLGRiG10BW",
        "outputId": "4b27b7f8-894b-49b6-b523-7f7a84dda291"
      },
      "execution_count": null,
      "outputs": [
        {
          "output_type": "stream",
          "name": "stdout",
          "text": [
            "           Liner SVM  RBF SVM  Poly SVM  Logistic Reg  Gaussian NB  \\\n",
            "Accuracy        0.67      1.0      0.73          0.56         0.58   \n",
            "Precision       0.73      1.0      0.77          0.56         0.57   \n",
            "Recall          0.70      1.0      0.75          0.56         0.61   \n",
            "F1-Score        0.67      1.0      0.73          0.55         0.61   \n",
            "ROC             0.83      1.0      0.84          0.58         0.66   \n",
            "\n",
            "           Bernoulli NB  Decision Tree  Random Forest  Gradient Boosting  \\\n",
            "Accuracy           0.58           0.86           0.72               0.93   \n",
            "Precision          0.57           0.88           0.80               0.95   \n",
            "Recall             0.56           0.87           0.75               0.92   \n",
            "F1-Score           0.55           0.86           0.66               0.94   \n",
            "ROC                0.60           0.94           0.94               0.98   \n",
            "\n",
            "           Bagging Classifier Dtree  Bagging Classifier NB  AdaBoosting  \\\n",
            "Accuracy                       0.93                   0.61         0.95   \n",
            "Precision                      0.93                   0.60         0.95   \n",
            "Recall                         0.93                   0.60         0.96   \n",
            "F1-Score                       0.94                   0.64         0.96   \n",
            "ROC                            0.98                   0.65         1.00   \n",
            "\n",
            "           XGBClassifier  \n",
            "Accuracy            0.94  \n",
            "Precision           0.95  \n",
            "Recall              0.94  \n",
            "F1-Score            0.95  \n",
            "ROC                 0.99  \n"
          ]
        },
        {
          "output_type": "display_data",
          "data": {
            "text/plain": [
              "<Figure size 1080x720 with 1 Axes>"
            ],
            "image/png": "[encoded data removed]"
          },
          "metadata": {
            "needs_background": "light"
          }
        }
      ]
    },
    {
      "cell_type": "code",
      "source": [],
      "metadata": {
        "id": "fYWVBEHZ10C0"
      },
      "execution_count": null,
      "outputs": []
    },
    {
      "cell_type": "code",
      "source": [],
      "metadata": {
        "id": "E59XipMGnfdG"
      },
      "execution_count": null,
      "outputs": []
    },
    {
      "cell_type": "markdown",
      "source": [
        "So In terms of Accuracy and other metrics performances, Adaboosting Perform greatly well than any other model then followed by XGBCLASSIFIER and then Bagging classifier and then Decision tree classifer as seen in the graph above.\n",
        "\n",
        "So Adaboost classifier will help us classify IsCorrect perfectly with an accuracy of 95%"
      ],
      "metadata": {
        "id": "4jF6ZpFRmzs5"
      }
    },
    {
      "cell_type": "markdown",
      "source": [
        "# best model\n",
        "\n",
        "\n",
        "Adaboosting Classifier gave me the best model having an accuracy of 95%.\n",
        "This was done using feature selections. The Feature selection techniwue used was the pearson correlation which helps to get most correlated features with the target variable called IsCorrect.\n",
        "\n",
        "After selecting most correlated features, then i used decision tree estimators to get best model with hyperparameters tuning that help to optimize my model training and learning.\n",
        "those hyperparameters used are ;\n",
        "Criterion, splitter, n_estimators, max_features, class_weight, max_depth\n",
        "\n",
        "I then performed grid search on this hyperparameter to obtain optimal results. the parameter passes are ;\n",
        "\n",
        "parameter= {\"base_estimator__criterion\" : [\"gini\", \"entropy\"],\n",
        "              \"base_estimator__splitter\" :   [\"best\", \"random\"],\n",
        "              \"n_estimators\": [1, 2,3,5]}\n",
        "After performing this grid search, my accuracy result was very low (83%) with max_depth of 3  So i kept tuning the max_depth to a value of 15 which then gave me accuracy of 95%\n",
        "\n"
      ],
      "metadata": {
        "id": "bDIIoOrtHeKI"
      }
    },
    {
      "cell_type": "markdown",
      "source": [
        "# ADABOOSTING ARCHITECTURE\n",
        "AdaBoost also called Adaptive Boosting is a technique in Machine Learning used as an Ensemble Method. The most common algorithm used with AdaBoost is decision trees with one level that means with Decision trees with only 1 split. These trees are also called Decision Stumps.\n",
        "\n",
        "What this algorithm does is that it builds a model and gives equal weights to all the data points. It then assigns higher weights to points that are wrongly classified. Now all the points which have higher weights are given more importance in the next model. It will keep training models until and unless a lowe error is received.\n",
        "\n",
        "STEP1. First of all our data points will be assigned some weights. Initially, all the weights will be equal.\n",
        "\n",
        "SEP 2; We start by seeing how well each feature classifies the samples.\n",
        "Then we’ll create a decision stump for each of the features and then calculate the Gini Index of each tree. The tree with the lowest Gini Index will be our first stump.\n",
        "\n",
        "Step 3 Then it now calculate the “Amount of Say” or “Importance” or “Influence” for this classifier in classifying the datapoints using some formula:\n",
        "The total error is nothing, but the summation of all the sample weights of misclassified data points.\n",
        "\n",
        "Step 4 – Once the Total Error has been calculated as well as the  and performance of a stump. Then  it will start update the weights because if the same weights are applied to the next model, then the output received will be the same as what was received in the first model.\n",
        "\n",
        "The wrong predictions will be given more weight whereas the correct predictions weights will be decreased. So the next model will be  build after updating the weights, more preference will be given to the points with higher weights.\n",
        "Then it finds the importance of the classifier and total error needed to finally update the weights.\n",
        "\n",
        "Step 5 – It then make a new dataset to see if the errors decreased or not. In doing this it  will remove the “sample weights” and “new sample weights” column and then based on the “new sample weights” it will divide the data points into buckets.\n",
        "\n",
        "Step 6 – the algorithm does selects random numbers from 0-1. Since incorrectly classified records have higher sample weights, the probability to select those records is alway very high.\n",
        "Suppose the 5 random numbers our algorithm take is 0.38,0.26,0.98,0.40,0.55.\n",
        "These random numbers fall in the bucket and according to it, and will make a new dataset. This comes out to be our new dataset.\n",
        "\n",
        "Step 7 – Now this act as our new dataset and we need to repeat all the above steps i.e.\n",
        "\n",
        "1.Assign equal weights to all the datapoints\n",
        "2.Find the stump that does the best job classifying the new collection of samples by finding their Gini Index and selecting the one with the lowest Gini index\n",
        "3.Calculate the “Amount of Say” and “Total error” to update the previous sample weights.\n",
        "4.Normalize the new sample weights.\n",
        "The algorithm Iterate through these steps until and unless a low training error is achieved.\n",
        "\n",
        "Suppose with respect to our dataset we have constructed 3 decision trees (DT1, DT2, DT3) in a sequential manner. If we send our test data now it will pass through all the decision trees and finally, we will see which class has the majority, and based on that we will do predictions for our test dataset.\n"
      ],
      "metadata": {
        "id": "2nhe3mIsKwsx"
      }
    }
  ]
}